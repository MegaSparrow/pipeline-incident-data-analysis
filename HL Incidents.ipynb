{
 "cells": [
  {
   "cell_type": "code",
   "execution_count": 1,
   "metadata": {},
   "outputs": [],
   "source": [
    "import math\n",
    "import collections\n",
    "import os\n",
    "\n",
    "import numpy as np\n",
    "import pandas as pd\n",
    "import matplotlib.pyplot as plt\n",
    "\n",
    "%matplotlib inline"
   ]
  },
  {
   "cell_type": "code",
   "execution_count": 2,
   "metadata": {},
   "outputs": [],
   "source": [
    "pd.options.display.max_rows = 10"
   ]
  },
  {
   "cell_type": "code",
   "execution_count": 3,
   "metadata": {},
   "outputs": [
    {
     "data": {
      "text/plain": [
       "'C:\\\\Users\\\\Nasim\\\\Documents\\\\Heriot Watt Uni\\\\Dissertation\\\\Analysis'"
      ]
     },
     "execution_count": 3,
     "metadata": {},
     "output_type": "execute_result"
    }
   ],
   "source": [
    "path = os.getcwd()\n",
    "path"
   ]
  },
  {
   "cell_type": "code",
   "execution_count": 4,
   "metadata": {},
   "outputs": [],
   "source": [
    "incident_df_all = pd.read_excel('Incident Flagged Data\\\\hl2010toPresent.xlsx', sheet_name='hl2010toPresent')"
   ]
  },
  {
   "cell_type": "code",
   "execution_count": 5,
   "metadata": {},
   "outputs": [],
   "source": [
    "item_involved = ['PIPE']"
   ]
  },
  {
   "cell_type": "code",
   "execution_count": 7,
   "metadata": {},
   "outputs": [],
   "source": [
    "incident_df = incident_df_all.loc[(incident_df_all['IYEAR'] != 2021) & (incident_df_all['ON_OFF_SHORE'] == 'ONSHORE') & (incident_df_all['SYSTEM_PART_INVOLVED'] == 'ONSHORE PIPELINE, INCLUDING VALVE SITES') & (incident_df_all['ITEM_INVOLVED'].isin(item_involved))]"
   ]
  },
  {
   "cell_type": "code",
   "execution_count": null,
   "metadata": {},
   "outputs": [],
   "source": [
    "incident_df = incident_df.set_index('IYEAR')"
   ]
  },
  {
   "cell_type": "code",
   "execution_count": 179,
   "metadata": {},
   "outputs": [],
   "source": [
    "incident_df.to_csv('incident_df_hl.csv')"
   ]
  },
  {
   "cell_type": "code",
   "execution_count": 10,
   "metadata": {},
   "outputs": [
    {
     "data": {
      "text/plain": [
       "CORROSION                      326\n",
       "MATERIAL/WELD/EQUIP FAILURE    155\n",
       "EXCAVATION DAMAGE              134\n",
       "OTHER OUTSIDE FORCE DAMAGE      40\n",
       "INCORRECT OPERATION             25\n",
       "NATURAL FORCE DAMAGE            20\n",
       "ALL OTHER CAUSES                16\n",
       "Name: MAP_CAUSE, dtype: int64"
      ]
     },
     "execution_count": 10,
     "metadata": {},
     "output_type": "execute_result"
    }
   ],
   "source": [
    "incident_df['MAP_CAUSE'].value_counts(ascending=False)"
   ]
  },
  {
   "cell_type": "code",
   "execution_count": 11,
   "metadata": {},
   "outputs": [
    {
     "data": {
      "text/plain": [
       "count           716\n",
       "unique            7\n",
       "top       CORROSION\n",
       "freq            326\n",
       "Name: MAP_CAUSE, dtype: object"
      ]
     },
     "execution_count": 11,
     "metadata": {},
     "output_type": "execute_result"
    }
   ],
   "source": [
    "incident_df['MAP_CAUSE'].describe()"
   ]
  },
  {
   "cell_type": "code",
   "execution_count": 12,
   "metadata": {},
   "outputs": [
    {
     "data": {
      "text/plain": [
       "CORROSION                      45.530726\n",
       "MATERIAL/WELD/EQUIP FAILURE    21.648045\n",
       "EXCAVATION DAMAGE              18.715084\n",
       "OTHER OUTSIDE FORCE DAMAGE      5.586592\n",
       "INCORRECT OPERATION             3.491620\n",
       "NATURAL FORCE DAMAGE            2.793296\n",
       "ALL OTHER CAUSES                2.234637\n",
       "Name: MAP_CAUSE, dtype: float64"
      ]
     },
     "execution_count": 12,
     "metadata": {},
     "output_type": "execute_result"
    }
   ],
   "source": [
    "cause_percent = pd.DataFrame()\n",
    "cause_percent = incident_df['MAP_CAUSE'].value_counts(normalize=True)[:]*100\n",
    "cause_percent"
   ]
  },
  {
   "cell_type": "code",
   "execution_count": 14,
   "metadata": {},
   "outputs": [
    {
     "data": {
      "text/plain": [
       "EXTERNAL                                             29.608939\n",
       "INTERNAL                                             15.921788\n",
       "THIRD PARTY EXCAVATION DAMAGE                        12.709497\n",
       "MANUFACTURING-RELATED                                12.011173\n",
       "CONSTRUCTION, INSTALLATION OR FABRICATION-RELATED     5.865922\n",
       "                                                       ...    \n",
       "FISHING OR MARITIME ACTIVITY                          0.139665\n",
       "NON-THREADED CONNECTION FAILURE                       0.139665\n",
       "MALFUNCTION OF CONTROL/RELIEF EQUIPMENT               0.139665\n",
       "TEMPERATURE                                           0.139665\n",
       "INCORRECT EQUIPMENT                                   0.139665\n",
       "Name: MAP_SUBCAUSE, Length: 31, dtype: float64"
      ]
     },
     "execution_count": 14,
     "metadata": {},
     "output_type": "execute_result"
    }
   ],
   "source": [
    "incident_df['MAP_SUBCAUSE'].value_counts(normalize=True)[:]*100"
   ]
  },
  {
   "cell_type": "code",
   "execution_count": 15,
   "metadata": {},
   "outputs": [
    {
     "data": {
      "text/plain": [
       "EXTERNAL    65.030675\n",
       "INTERNAL    34.969325\n",
       "Name: MAP_SUBCAUSE, dtype: float64"
      ]
     },
     "execution_count": 15,
     "metadata": {},
     "output_type": "execute_result"
    }
   ],
   "source": [
    "corrosion_int_ext = incident_df.loc[incident_df['MAP_CAUSE'] == 'CORROSION']['MAP_SUBCAUSE'].value_counts(normalize=True)[:]*100\n",
    "corrosion_int_ext"
   ]
  },
  {
   "cell_type": "code",
   "execution_count": 16,
   "metadata": {},
   "outputs": [
    {
     "data": {
      "text/plain": [
       "THIRD PARTY EXCAVATION DAMAGE            67.910448\n",
       "OPERATOR/CONTRACTOR EXCAVATION DAMAGE    19.402985\n",
       "PREVIOUS DAMAGE DUE TO EXCAVATION        12.686567\n",
       "Name: MAP_SUBCAUSE, dtype: float64"
      ]
     },
     "execution_count": 16,
     "metadata": {},
     "output_type": "execute_result"
    }
   ],
   "source": [
    "incident_df.loc[incident_df['MAP_CAUSE'] == 'EXCAVATION DAMAGE']['MAP_SUBCAUSE'].value_counts(normalize=True)[:]*100"
   ]
  },
  {
   "cell_type": "code",
   "execution_count": 17,
   "metadata": {},
   "outputs": [
    {
     "data": {
      "text/plain": [
       "MANUFACTURING-RELATED                                55.483871\n",
       "CONSTRUCTION, INSTALLATION OR FABRICATION-RELATED    27.096774\n",
       "ENVIRONMENTAL CRACKING-RELATED                       14.838710\n",
       "OTHER EQUIPMENT FAILURE                               1.290323\n",
       "NON-THREADED CONNECTION FAILURE                       0.645161\n",
       "MALFUNCTION OF CONTROL/RELIEF EQUIPMENT               0.645161\n",
       "Name: MAP_SUBCAUSE, dtype: float64"
      ]
     },
     "execution_count": 17,
     "metadata": {},
     "output_type": "execute_result"
    }
   ],
   "source": [
    "incident_df.loc[incident_df['MAP_CAUSE'] == 'MATERIAL/WELD/EQUIP FAILURE']['MAP_SUBCAUSE'].value_counts(normalize=True)[:]*100"
   ]
  },
  {
   "cell_type": "code",
   "execution_count": 184,
   "metadata": {},
   "outputs": [],
   "source": [
    "cause_percent = cause_percent[['EXCAVATION DAMAGE', 'CORROSION', 'MATERIAL/WELD/EQUIP FAILURE', 'NATURAL FORCE DAMAGE',\n",
    "       'OTHER OUTSIDE FORCE DAMAGE', 'INCORRECT OPERATION', 'ALL OTHER CAUSES']]"
   ]
  },
  {
   "cell_type": "code",
   "execution_count": 185,
   "metadata": {},
   "outputs": [
    {
     "data": {
      "image/png": "[encoded data removed]",
      "text/plain": [
       "<Figure size 432x288 with 1 Axes>"
      ]
     },
     "metadata": {
      "needs_background": "light"
     },
     "output_type": "display_data"
    }
   ],
   "source": [
    "#Stacked bar graph\n",
    "#cause_percent.plot(kind = 'bar', stacked = True, mark_right = True)\n",
    "n = len(cause_percent.index)\n",
    "x = np.arange(n)\n",
    "labels = ['EXCAVATION DAMAGE', 'CORROSION', 'MATERIAL FAILURE', \n",
    "  'NATURAL FORCE', 'OTHER OUTSIDE FORCE', 'INCORRECT OPERATION', 'ALL OTHER CAUSES']\n",
    "\n",
    "windth = 10\n",
    "fig, ax = plt.subplots()\n",
    "\n",
    "a = ax.bar(x,cause_percent.values , align = 'center' ) \n",
    "\n",
    "#xticks \n",
    "plt.xticks(x, labels, rotation=90) \n",
    "\n",
    "#x-axis labels \n",
    "plt.xlabel('Failure Cause') \n",
    "\n",
    "\n",
    "#y-axis labels \n",
    "plt.ylabel('Percentage of Total Incidents') \n",
    "plt.ylim(top=100)\n",
    "\n",
    "#plot title \n",
    "#plt.title('Ditribution of Incidents by Cause') \n",
    "\n",
    "#Legend\n",
    "#plt.legend(['Cause'],bbox_to_anchor=(1.05, 1), loc='upper left')\n",
    "\n",
    "#adding Percentage values on the graph\n",
    "plt.xticks(rotation=90)  \n",
    "for n in a:\n",
    "   height = round(n.get_height())\n",
    "   plt.text(x=n.get_x() + n.get_width() / 2, y=height+.70, s=\"{}%\".format(height), ha='center')\n",
    "\n",
    "#save plot \n",
    "plot_path = os.getcwd() + '\\\\HL Incidents Plots\\\\Cause_percent'\n",
    "plt.savefig(plot_path, dpi=300,bbox_inches='tight')         \n",
    "        \n",
    "#display \n",
    "plt.show();"
   ]
  },
  {
   "cell_type": "code",
   "execution_count": 19,
   "metadata": {},
   "outputs": [
    {
     "data": {
      "image/png": "[encoded data removed]",
      "text/plain": [
       "<Figure size 432x288 with 1 Axes>"
      ]
     },
     "metadata": {
      "needs_background": "light"
     },
     "output_type": "display_data"
    }
   ],
   "source": [
    "#Stacked bar graph\n",
    "#corrosion_int_ext.plot(kind = 'bar', stacked = True, mark_right = True)\n",
    "\n",
    "windth = 10\n",
    "fig, ax = plt.subplots()\n",
    "\n",
    "a = ax.bar(corrosion_int_ext.index,corrosion_int_ext.values , align = 'center' ) \n",
    "\n",
    "#xticks \n",
    "plt.xticks(rotation=90) \n",
    "\n",
    "#x-axis labels \n",
    "plt.xlabel('Failure Cause') \n",
    "\n",
    "\n",
    "#y-axis labels \n",
    "plt.ylabel('Percentage of Total Incidents Due to Corrosion') \n",
    "plt.ylim(top=100)\n",
    "\n",
    "#plot title \n",
    "#plt.title('Ditribution of Incidents Due to Corrosion by Sub-Cause') \n",
    "\n",
    "#Legend\n",
    "#plt.legend(bbox_to_anchor=(1.05, 1), loc='upper left')\n",
    "\n",
    "#adding Percentage values on the graph\n",
    "plt.xticks(rotation=90)  \n",
    "for n in a:\n",
    "   height = round(n.get_height())\n",
    "   plt.text(x=n.get_x() + n.get_width() / 2, y=height+.70, s=\"{}%\".format(height), ha='center')\n",
    "\n",
    "#save plot \n",
    "plot_path = os.getcwd() + '\\\\HL Incidents Plots\\\\Corrosion_percent'\n",
    "plt.savefig(plot_path, dpi=300,bbox_inches='tight')         \n",
    "        \n",
    "#display \n",
    "plt.show();"
   ]
  },
  {
   "cell_type": "code",
   "execution_count": 21,
   "metadata": {},
   "outputs": [
    {
     "data": {
      "text/plain": [
       "CARBON STEEL                        99.84985\n",
       "MATERIAL OTHER THAN CARBON STEEL     0.15015\n",
       "Name: MATERIAL_INVOLVED, dtype: float64"
      ]
     },
     "execution_count": 21,
     "metadata": {},
     "output_type": "execute_result"
    }
   ],
   "source": [
    "incident_df['MATERIAL_INVOLVED'].value_counts(normalize=True)[:]*100"
   ]
  },
  {
   "cell_type": "code",
   "execution_count": 24,
   "metadata": {},
   "outputs": [
    {
     "data": {
      "text/plain": [
       "CRUDE OIL                                                                             49.162011\n",
       "REFINED AND/OR PETROLEUM PRODUCT (NON-HVL) WHICH IS A LIQUID AT AMBIENT CONDITIONS    27.793296\n",
       "HVL OR OTHER FLAMMABLE OR TOXIC FLUID WHICH IS A GAS AT AMBIENT CONDITIONS            21.229050\n",
       "CO2 (CARBON DIOXIDE)                                                                   1.815642\n",
       "Name: COMMODITY_RELEASED_TYPE, dtype: float64"
      ]
     },
     "execution_count": 24,
     "metadata": {},
     "output_type": "execute_result"
    }
   ],
   "source": [
    "commodity_percent = incident_df['COMMODITY_RELEASED_TYPE'].value_counts(normalize=True)[:]*100\n",
    "commodity_percent"
   ]
  },
  {
   "cell_type": "code",
   "execution_count": 28,
   "metadata": {},
   "outputs": [
    {
     "data": {
      "image/png": "[encoded data removed]",
      "text/plain": [
       "<Figure size 432x288 with 1 Axes>"
      ]
     },
     "metadata": {
      "needs_background": "light"
     },
     "output_type": "display_data"
    }
   ],
   "source": [
    "#Stacked bar graph\n",
    "#commodity_percent.plot(kind = 'bar', stacked = True, mark_right = True)\n",
    "\n",
    "windth = 10\n",
    "fig, ax = plt.subplots()\n",
    "\n",
    "a = ax.bar(['Crude Oil', 'Refined Products','HVL', 'CO2'],commodity_percent.values , align = 'center' ) \n",
    "\n",
    "#xticks \n",
    "plt.xticks(rotation=90) \n",
    "\n",
    "#x-axis labels \n",
    "plt.xlabel('Commodity') \n",
    "\n",
    "\n",
    "#y-axis labels \n",
    "plt.ylabel('Percentage of Total Incidents') \n",
    "plt.ylim(top=100)\n",
    "\n",
    "\n",
    "#plot title \n",
    "#plt.title('Ditribution of Incidents by Commodity') \n",
    "\n",
    "#Legend\n",
    "#plt.legend(bbox_to_anchor=(1.05, 1), loc='upper left')\n",
    "\n",
    "#adding Percentage values on the graph\n",
    "plt.xticks(rotation=90)  \n",
    "for n in a:\n",
    "   height = round(n.get_height())\n",
    "   plt.text(x=n.get_x() + n.get_width() / 2, y=height+.70, s=\"{}%\".format(height), ha='center')\n",
    "\n",
    "#save plot \n",
    "plot_path = os.getcwd() + '\\\\HL Incidents Plots\\\\Commodity_percent'\n",
    "plt.savefig(plot_path, dpi=300,bbox_inches='tight')         \n",
    "        \n",
    "#display \n",
    "plt.show();"
   ]
  },
  {
   "cell_type": "code",
   "execution_count": 61,
   "metadata": {},
   "outputs": [],
   "source": [
    "excavation_com_percent = incident_df.loc[incident_df['MAP_CAUSE']=='EXCAVATION DAMAGE']['COMMODITY_RELEASED_TYPE'].value_counts(normalize=True)[:]*100\n",
    "corrosion_com_percent = incident_df.loc[incident_df['MAP_CAUSE']=='CORROSION']['COMMODITY_RELEASED_TYPE'].value_counts(normalize=True)[:]*100\n",
    "material_com_percent = incident_df.loc[incident_df['MAP_CAUSE']=='MATERIAL/WELD/EQUIP FAILURE']['COMMODITY_RELEASED_TYPE'].value_counts(normalize=True)[:]*100\n",
    "\n",
    "excavation_com_percent['CO2 (CARBON DIOXIDE)'] = 0\n",
    "\n",
    "excavation_com_percent = excavation_com_percent[['CRUDE OIL', 'REFINED AND/OR PETROLEUM PRODUCT (NON-HVL) WHICH IS A LIQUID AT AMBIENT CONDITIONS','HVL OR OTHER FLAMMABLE OR TOXIC FLUID WHICH IS A GAS AT AMBIENT CONDITIONS', 'CO2 (CARBON DIOXIDE)']]\n",
    "corrosion_com_percent = corrosion_com_percent[['CRUDE OIL', 'REFINED AND/OR PETROLEUM PRODUCT (NON-HVL) WHICH IS A LIQUID AT AMBIENT CONDITIONS','HVL OR OTHER FLAMMABLE OR TOXIC FLUID WHICH IS A GAS AT AMBIENT CONDITIONS', 'CO2 (CARBON DIOXIDE)']]\n",
    "material_com_percent = material_com_percent[['CRUDE OIL', 'REFINED AND/OR PETROLEUM PRODUCT (NON-HVL) WHICH IS A LIQUID AT AMBIENT CONDITIONS','HVL OR OTHER FLAMMABLE OR TOXIC FLUID WHICH IS A GAS AT AMBIENT CONDITIONS', 'CO2 (CARBON DIOXIDE)']]\n"
   ]
  },
  {
   "cell_type": "code",
   "execution_count": 68,
   "metadata": {},
   "outputs": [
    {
     "data": {
      "text/plain": [
       "CRUDE OIL                                                                             29.677419\n",
       "REFINED AND/OR PETROLEUM PRODUCT (NON-HVL) WHICH IS A LIQUID AT AMBIENT CONDITIONS    33.548387\n",
       "HVL OR OTHER FLAMMABLE OR TOXIC FLUID WHICH IS A GAS AT AMBIENT CONDITIONS            32.258065\n",
       "CO2 (CARBON DIOXIDE)                                                                   4.516129\n",
       "Name: COMMODITY_RELEASED_TYPE, dtype: float64"
      ]
     },
     "execution_count": 68,
     "metadata": {},
     "output_type": "execute_result"
    }
   ],
   "source": [
    "material_com_percent"
   ]
  },
  {
   "cell_type": "code",
   "execution_count": 65,
   "metadata": {},
   "outputs": [
    {
     "data": {
      "image/png": "[encoded data removed]",
      "text/plain": [
       "<Figure size 432x288 with 1 Axes>"
      ]
     },
     "metadata": {
      "needs_background": "light"
     },
     "output_type": "display_data"
    }
   ],
   "source": [
    "#probably not useful\n",
    "n = len(list(excavation_com_percent.index))\n",
    "x = np.arange(n)  # the label locations\n",
    "width = 0.25  # the width of the bars\n",
    "\n",
    "x_axis = ['Crude Oil', 'Refined Products','HVL', 'CO2']\n",
    "\n",
    "fig, ax = plt.subplots()\n",
    "plt.bar(x , list(excavation_com_percent.values), width, color = 'r', label='Excavation Damage')\n",
    "plt.bar(x + width, list(corrosion_comm_percent.values), width, color = 'g', label='Corrosion Damage')\n",
    "plt.bar(x + width*2, list(material_com_percent.values), width, color = 'b', label='Material Damage')\n",
    "\n",
    "# Add some text for labels, title and custom x-axis tick labels, etc.\n",
    "ax.set_ylabel('Percentage of Incidents')\n",
    "ax.set_ylim(top=100)\n",
    "ax.set_title('')\n",
    "plt.xticks(x + width, x_axis, rotation = 90)\n",
    "plt.legend(bbox_to_anchor=(1.05, 1), loc='upper left')\n",
    "\n",
    "#save plot \n",
    "plot_path = os.getcwd() + '\\\\HL Incidents Plots\\\\cause_commodity_percent'\n",
    "plt.savefig(plot_path, dpi=300,bbox_inches='tight')  \n",
    "\n",
    "plt.show()"
   ]
  },
  {
   "cell_type": "code",
   "execution_count": 80,
   "metadata": {},
   "outputs": [],
   "source": [
    "corrosion_int_com_percent = incident_df.loc[(incident_df['MAP_CAUSE']=='CORROSION') & (incident_df['MAP_SUBCAUSE']=='INTERNAL')]['COMMODITY_RELEASED_TYPE'].value_counts(normalize=True)[:]*100\n",
    "corrosion_ext_com_percent = incident_df.loc[(incident_df['MAP_CAUSE']=='CORROSION') & (incident_df['MAP_SUBCAUSE']=='EXTERNAL')]['COMMODITY_RELEASED_TYPE'].value_counts(normalize=True)[:]*100"
   ]
  },
  {
   "cell_type": "code",
   "execution_count": 81,
   "metadata": {},
   "outputs": [],
   "source": [
    "corrosion_int_com_percent['CO2 (CARBON DIOXIDE)'] = 0\n",
    "corrosion_ext_com_percent = corrosion_ext_com_percent[['CRUDE OIL', 'REFINED AND/OR PETROLEUM PRODUCT (NON-HVL) WHICH IS A LIQUID AT AMBIENT CONDITIONS','HVL OR OTHER FLAMMABLE OR TOXIC FLUID WHICH IS A GAS AT AMBIENT CONDITIONS', 'CO2 (CARBON DIOXIDE)']]\n",
    "corrosion_int_com_percent = corrosion_int_com_percent[['CRUDE OIL', 'REFINED AND/OR PETROLEUM PRODUCT (NON-HVL) WHICH IS A LIQUID AT AMBIENT CONDITIONS','HVL OR OTHER FLAMMABLE OR TOXIC FLUID WHICH IS A GAS AT AMBIENT CONDITIONS', 'CO2 (CARBON DIOXIDE)']]"
   ]
  },
  {
   "cell_type": "code",
   "execution_count": 84,
   "metadata": {},
   "outputs": [
    {
     "data": {
      "text/plain": [
       "CRUDE OIL                                                                             95.614035\n",
       "REFINED AND/OR PETROLEUM PRODUCT (NON-HVL) WHICH IS A LIQUID AT AMBIENT CONDITIONS     2.631579\n",
       "HVL OR OTHER FLAMMABLE OR TOXIC FLUID WHICH IS A GAS AT AMBIENT CONDITIONS             1.754386\n",
       "CO2 (CARBON DIOXIDE)                                                                   0.000000\n",
       "Name: COMMODITY_RELEASED_TYPE, dtype: float64"
      ]
     },
     "execution_count": 84,
     "metadata": {},
     "output_type": "execute_result"
    }
   ],
   "source": [
    "corrosion_int_com_percent"
   ]
  },
  {
   "cell_type": "code",
   "execution_count": 83,
   "metadata": {},
   "outputs": [
    {
     "data": {
      "image/png": "[encoded data removed]",
      "text/plain": [
       "<Figure size 432x288 with 1 Axes>"
      ]
     },
     "metadata": {
      "needs_background": "light"
     },
     "output_type": "display_data"
    }
   ],
   "source": [
    "#probably not useful\n",
    "n = len(list(corrosion_int_com_percent.index))\n",
    "x = np.arange(n)  # the label locations\n",
    "width = 0.25  # the width of the bars\n",
    "\n",
    "x_axis = ['Crude Oil', 'Refined Products','HVL', 'CO2']\n",
    "\n",
    "fig, ax = plt.subplots()\n",
    "plt.bar(x , list(corrosion_int_com_percent.values), width, color = 'r', label='Internal Corrosion')\n",
    "plt.bar(x + width, list(corrosion_ext_com_percent.values), width, color = 'g', label='External Corrosion')\n",
    "\n",
    "# Add some text for labels, title and custom x-axis tick labels, etc.\n",
    "ax.set_ylabel('Percentage of Incidents Due to Corrosion')\n",
    "ax.set_ylim(top=100)\n",
    "ax.set_title('')\n",
    "plt.xticks(x + width, x_axis, rotation = 90)\n",
    "plt.legend(bbox_to_anchor=(1.05, 1), loc='upper left')\n",
    "\n",
    "#save plot \n",
    "plot_path = os.getcwd() + '\\\\HL Incidents Plots\\\\cause_commodity_corrosion_percent'\n",
    "plt.savefig(plot_path, dpi=300,bbox_inches='tight')  \n",
    "\n",
    "plt.show()"
   ]
  },
  {
   "cell_type": "code",
   "execution_count": 85,
   "metadata": {},
   "outputs": [],
   "source": [
    "#coating, adding a cp type column to integrate both coating and cp. This does not consider incidents where info is not provided\n",
    "incident_df['CP_Types'] = None\n",
    "incident_df.loc[(incident_df['PIPE_COATING_TYPE']== 'NONE')& (incident_df['UNDER_CATHODIC_PROTECTION_IND'] == 'YES'),'CP_Types'] = 'CPB'\n",
    "incident_df.loc[(incident_df['PIPE_COATING_TYPE']== 'NONE')& (incident_df['UNDER_CATHODIC_PROTECTION_IND'] == 'NO'), 'CP_Types'] = 'CUB'\n",
    "incident_df.loc[(incident_df['PIPE_COATING_TYPE'] != 'NONE')& (incident_df['UNDER_CATHODIC_PROTECTION_IND'] == 'YES'), 'CP_Types'] = 'CPC'\n",
    "incident_df.loc[(incident_df['PIPE_COATING_TYPE'] != 'NONE')& (incident_df['UNDER_CATHODIC_PROTECTION_IND'] == 'NO'), 'CP_Types'] = 'CUC'"
   ]
  },
  {
   "cell_type": "code",
   "execution_count": 86,
   "metadata": {},
   "outputs": [
    {
     "data": {
      "text/plain": [
       "CPC    85.474860\n",
       "CPB    10.614525\n",
       "CUC     2.793296\n",
       "CUB     1.117318\n",
       "Name: CP_Types, dtype: float64"
      ]
     },
     "execution_count": 86,
     "metadata": {},
     "output_type": "execute_result"
    }
   ],
   "source": [
    "cp_corrosion_ext_percent = incident_df.loc[(incident_df['MAP_CAUSE']=='CORROSION') & (incident_df['MAP_SUBCAUSE']=='EXTERNAL')]['CP_Types'].value_counts(normalize = True)[:]*100\n",
    "cp_corrosion_ext_percent"
   ]
  },
  {
   "cell_type": "code",
   "execution_count": 87,
   "metadata": {},
   "outputs": [
    {
     "data": {
      "image/png": "[encoded data removed]",
      "text/plain": [
       "<Figure size 432x288 with 1 Axes>"
      ]
     },
     "metadata": {
      "needs_background": "light"
     },
     "output_type": "display_data"
    }
   ],
   "source": [
    "#Stacked bar graph\n",
    "#cp_corrosion_ext_percent.plot(kind = 'bar', stacked = True, mark_right = True)\n",
    "\n",
    "windth = 10\n",
    "fig, ax = plt.subplots()\n",
    "\n",
    "a = ax.bar(cp_corrosion_ext_percent.index, cp_corrosion_ext_percent.values , align = 'center' ) \n",
    "\n",
    "#xticks \n",
    "plt.xticks(rotation=90) \n",
    "\n",
    "#x-axis labels \n",
    "plt.xlabel('Corrosion Prevention Measures') \n",
    "\n",
    "\n",
    "#y-axis labels \n",
    "plt.ylabel('Percentage of External Corrosion Failures') \n",
    "plt.ylim(top=100)\n",
    "\n",
    "\n",
    "#plot title \n",
    "#plt.title('Ditribution of External Corrosion Failures by Corrosion Prevention Measures') \n",
    "\n",
    "#Legend\n",
    "#plt.legend(bbox_to_anchor=(1.05, 1), loc='upper left')\n",
    "\n",
    "#adding Percentage values on the graph\n",
    "plt.xticks(rotation=90)  \n",
    "for n in a:\n",
    "   height = round(n.get_height())\n",
    "   plt.text(x=n.get_x() + n.get_width() / 2, y=height+.70, s=\"{}%\".format(height), ha='center')\n",
    "\n",
    "#save plot \n",
    "plot_path = os.getcwd() + '\\\\HL Incidents Plots\\\\cp_corrosion_ext_percent'\n",
    "plt.savefig(plot_path, dpi=300,bbox_inches='tight')         \n",
    "        \n",
    "#display \n",
    "plt.show();"
   ]
  },
  {
   "cell_type": "code",
   "execution_count": 88,
   "metadata": {},
   "outputs": [],
   "source": [
    "#Installation decade calculations\n",
    "incident_df['Installation_Decade'] = 'Unknown'\n",
    "\n",
    "#change installation year to float\n",
    "incident_df.loc[incident_df['INSTALLATION_YEAR'] == 'UNKNOWN'] = None\n",
    "pd.to_numeric(incident_df['INSTALLATION_YEAR'])\n",
    "\n",
    "#setting Installation Decade\n",
    "incident_df.loc[incident_df['INSTALLATION_YEAR'] < 1940, 'Installation_Decade'] = 'Pre 1940'\n",
    "incident_df.loc[(incident_df['INSTALLATION_YEAR'] >= 1940) & (incident_df['INSTALLATION_YEAR'] <1950), 'Installation_Decade'] = '1940s'\n",
    "incident_df.loc[(incident_df['INSTALLATION_YEAR'] >= 1950) & (incident_df['INSTALLATION_YEAR'] <1960), 'Installation_Decade'] = '1950s'\n",
    "incident_df.loc[(incident_df['INSTALLATION_YEAR'] >= 1960) & (incident_df['INSTALLATION_YEAR'] <1970), 'Installation_Decade'] = '1960s'\n",
    "incident_df.loc[(incident_df['INSTALLATION_YEAR'] >= 1970) & (incident_df['INSTALLATION_YEAR'] <1980), 'Installation_Decade'] = '1970s'\n",
    "incident_df.loc[(incident_df['INSTALLATION_YEAR'] >= 1980) & (incident_df['INSTALLATION_YEAR'] <1990), 'Installation_Decade'] = '1980s'\n",
    "incident_df.loc[(incident_df['INSTALLATION_YEAR'] >= 1990) & (incident_df['INSTALLATION_YEAR'] <2000), 'Installation_Decade'] = '1990s'\n",
    "incident_df.loc[(incident_df['INSTALLATION_YEAR'] >= 2000) & (incident_df['INSTALLATION_YEAR'] <2010), 'Installation_Decade'] = '2000s'\n",
    "incident_df.loc[(incident_df['INSTALLATION_YEAR'] >= 2010) & (incident_df['INSTALLATION_YEAR'] <2020), 'Installation_Decade'] = '2010s'\n",
    "incident_df.loc[(incident_df['INSTALLATION_YEAR'] >= 2020) , 'Installation_Decade'] = '2020s'"
   ]
  },
  {
   "cell_type": "code",
   "execution_count": 89,
   "metadata": {},
   "outputs": [
    {
     "data": {
      "text/plain": [
       "count       716\n",
       "unique       10\n",
       "top       1950s\n",
       "freq        153\n",
       "Name: Installation_Decade, dtype: object"
      ]
     },
     "execution_count": 89,
     "metadata": {},
     "output_type": "execute_result"
    }
   ],
   "source": [
    "incident_df['Installation_Decade'].describe()"
   ]
  },
  {
   "cell_type": "code",
   "execution_count": 91,
   "metadata": {},
   "outputs": [
    {
     "data": {
      "text/plain": [
       "Pre 1940     5.307263\n",
       "1940s        9.776536\n",
       "1950s       21.368715\n",
       "1960s       19.553073\n",
       "1970s       11.312849\n",
       "              ...    \n",
       "1990s        4.050279\n",
       "2000s        2.653631\n",
       "2010s        5.586592\n",
       "2020s        0.000000\n",
       "Unknown     16.340782\n",
       "Name: Installation_Decade, Length: 11, dtype: float64"
      ]
     },
     "execution_count": 91,
     "metadata": {},
     "output_type": "execute_result"
    }
   ],
   "source": [
    "# Calculating percentages and Rearrangin columns for a better looking graph\n",
    "installation_percent = incident_df['Installation_Decade'].value_counts(normalize=True)[:]*100\n",
    "installation_percent['2020s'] = 0\n",
    "installation_percent = installation_percent[['Pre 1940', '1940s', '1950s', '1960s', '1970s', '1980s', '1990s', '2000s', '2010s','2020s' ,'Unknown']]\n",
    "installation_percent"
   ]
  },
  {
   "cell_type": "code",
   "execution_count": 186,
   "metadata": {},
   "outputs": [
    {
     "data": {
      "image/png": "[encoded data removed]",
      "text/plain": [
       "<Figure size 432x288 with 1 Axes>"
      ]
     },
     "metadata": {
      "needs_background": "light"
     },
     "output_type": "display_data"
    }
   ],
   "source": [
    "#Stacked bar graph\n",
    "#installation_percent.plot(kind = 'bar', stacked = True, mark_right = True)\n",
    "\n",
    "windth = 10\n",
    "fig, ax = plt.subplots()\n",
    "\n",
    "a = ax.bar(installation_percent.index,installation_percent.values , align = 'center' ) \n",
    "\n",
    "\n",
    "#xticks \n",
    "plt.xticks(rotation=90) \n",
    "\n",
    "#x-axis labels \n",
    "plt.xlabel('Installation Decade') \n",
    "\n",
    "\n",
    "#y-axis labels \n",
    "plt.ylabel('Percentage of Total Incidents') \n",
    "plt.ylim(top=100)\n",
    "\n",
    "\n",
    "#plot title \n",
    "#plt.title('Ditribution of Incidents by Installation Year') \n",
    "\n",
    "#Legend\n",
    "#plt.legend(['Installation Decade'],bbox_to_anchor=(1.05, 1), loc='upper left')\n",
    "\n",
    "#adding Percentage values on the graph\n",
    "plt.xticks(rotation=90)  \n",
    "for n in a:\n",
    "   height = round(n.get_height())\n",
    "   plt.text(x=n.get_x() + n.get_width() / 2, y=height+.70, s=\"{}%\".format(height), ha='center')\n",
    "\n",
    "#save plot \n",
    "plot_path = os.getcwd() + '\\\\HL Incidents Plots\\\\Installation_percent'\n",
    "plt.savefig(plot_path, dpi=300,bbox_inches='tight')         \n",
    "        \n",
    "#display \n",
    "plt.show();"
   ]
  },
  {
   "cell_type": "code",
   "execution_count": 93,
   "metadata": {},
   "outputs": [],
   "source": [
    "excavation_inst_percent = incident_df.loc[incident_df['MAP_CAUSE']=='EXCAVATION DAMAGE']['Installation_Decade'].value_counts(normalize=True)[:]*100\n",
    "corrosion_inst_percent = incident_df.loc[incident_df['MAP_CAUSE']=='CORROSION']['Installation_Decade'].value_counts(normalize=True)[:]*100\n",
    "material_inst_percent = incident_df.loc[incident_df['MAP_CAUSE']=='MATERIAL/WELD/EQUIP FAILURE']['Installation_Decade'].value_counts(normalize=True)[:]*100\n"
   ]
  },
  {
   "cell_type": "code",
   "execution_count": 98,
   "metadata": {},
   "outputs": [],
   "source": [
    "#adding the missing decades, there should be a better way to do this\n",
    "excavation_inst_percent['2020s'] = 0\n",
    "corrosion_inst_percent['2020s'] = 0\n",
    "material_inst_percent['2020s'] = 0\n",
    "\n",
    "#correcting the order\n",
    "excavation_inst_percent = excavation_inst_percent[['Pre 1940', '1940s', '1950s', '1960s', '1970s', '1980s', '1990s', '2000s', '2010s','2020s' ,'Unknown']]\n",
    "corrosion_inst_percent = corrosion_inst_percent[['Pre 1940', '1940s', '1950s', '1960s', '1970s', '1980s', '1990s', '2000s', '2010s','2020s' ,'Unknown']]\n",
    "material_inst_percent = material_inst_percent[['Pre 1940', '1940s', '1950s', '1960s', '1970s', '1980s', '1990s', '2000s', '2010s','2020s' ,'Unknown']]"
   ]
  },
  {
   "cell_type": "code",
   "execution_count": 150,
   "metadata": {},
   "outputs": [
    {
     "data": {
      "text/plain": [
       "Pre 1940     1.935484\n",
       "1940s        5.806452\n",
       "1950s       21.935484\n",
       "1960s       30.967742\n",
       "1970s       16.129032\n",
       "              ...    \n",
       "1990s        2.580645\n",
       "2000s        3.225806\n",
       "2010s        3.870968\n",
       "2020s        0.000000\n",
       "Unknown      7.741935\n",
       "Name: Installation_Decade, Length: 11, dtype: float64"
      ]
     },
     "execution_count": 150,
     "metadata": {},
     "output_type": "execute_result"
    }
   ],
   "source": [
    "material_inst_percent"
   ]
  },
  {
   "cell_type": "code",
   "execution_count": 99,
   "metadata": {},
   "outputs": [
    {
     "data": {
      "image/png": "[encoded data removed]",
      "text/plain": [
       "<Figure size 432x288 with 1 Axes>"
      ]
     },
     "metadata": {
      "needs_background": "light"
     },
     "output_type": "display_data"
    }
   ],
   "source": [
    "n = len(list(installation_percent.index))\n",
    "x = np.arange(n)  # the label locations\n",
    "width = 0.25  # the width of the bars\n",
    "\n",
    "x_axis = list(installation_percent.index)\n",
    "\n",
    "fig, ax = plt.subplots()\n",
    "plt.bar(x , list(excavation_inst_percent.values), width, color = 'r', label='Excavation Damage')\n",
    "plt.bar(x + width, list(corrosion_inst_percent.values), width, color = 'g', label='Corrosion Damage')\n",
    "plt.bar(x + width*2, list(material_inst_percent.values), width, color = 'b', label='Material Damage')\n",
    "\n",
    "# Add some text for labels, title and custom x-axis tick labels, etc.\n",
    "ax.set_ylabel('Percentage of Incidents')\n",
    "ax.set_ylim(top=100)\n",
    "ax.set_title('')\n",
    "plt.xticks(x + width, x_axis, rotation = 90)\n",
    "plt.legend(bbox_to_anchor=(1.05, 1), loc='upper left')\n",
    "\n",
    "#save plot \n",
    "plot_path = os.getcwd() + '\\\\HL Incidents Plots\\\\cause_installation_percent'\n",
    "plt.savefig(plot_path, dpi=300,bbox_inches='tight')  \n",
    "\n",
    "plt.show()"
   ]
  },
  {
   "cell_type": "code",
   "execution_count": 100,
   "metadata": {},
   "outputs": [],
   "source": [
    "# Setting pipe diameter ranges\n",
    "incident_df['Diameter_Range'] = None\n",
    "\n",
    "#setting diameter categories\n",
    "incident_df.loc[incident_df['PIPE_DIAMETER'] <= 4, 'Diameter_Range'] = 'd<=4'\n",
    "incident_df.loc[(incident_df['PIPE_DIAMETER'] > 4) & (incident_df['PIPE_DIAMETER'] <=10), 'Diameter_Range'] = '4<d<=10'\n",
    "incident_df.loc[(incident_df['PIPE_DIAMETER'] > 10) & (incident_df['PIPE_DIAMETER'] <=20), 'Diameter_Range'] = '10<d<=20'\n",
    "incident_df.loc[(incident_df['PIPE_DIAMETER'] > 20) & (incident_df['PIPE_DIAMETER'] <=28), 'Diameter_Range'] = '20<d<=28'\n",
    "incident_df.loc[incident_df['PIPE_DIAMETER'] > 28, 'Diameter_Range'] = '28<d'"
   ]
  },
  {
   "cell_type": "code",
   "execution_count": 101,
   "metadata": {},
   "outputs": [
    {
     "data": {
      "text/plain": [
       "d<=4         3.458647\n",
       "4<d<=10     55.187970\n",
       "10<d<=20    33.533835\n",
       "20<d<=28     4.060150\n",
       "28<d         3.759398\n",
       "Name: Diameter_Range, dtype: float64"
      ]
     },
     "execution_count": 101,
     "metadata": {},
     "output_type": "execute_result"
    }
   ],
   "source": [
    "# Calculating percentages and Rearrangin columns for a better looking graph\n",
    "diameter_percent = incident_df['Diameter_Range'].value_counts(normalize=True)[:]*100\n",
    "diameter_percent = diameter_percent[['d<=4', '4<d<=10', '10<d<=20','20<d<=28', '28<d']]\n",
    "diameter_percent"
   ]
  },
  {
   "cell_type": "code",
   "execution_count": 102,
   "metadata": {},
   "outputs": [
    {
     "data": {
      "image/png": "[encoded data removed]",
      "text/plain": [
       "<Figure size 432x288 with 1 Axes>"
      ]
     },
     "metadata": {
      "needs_background": "light"
     },
     "output_type": "display_data"
    }
   ],
   "source": [
    "#Stacked bar graph\n",
    "#diameter_percent.plot(kind = 'bar', stacked = True, mark_right = True)\n",
    "\n",
    "windth = 10\n",
    "fig, ax = plt.subplots()\n",
    "\n",
    "a = ax.bar(diameter_percent.index,diameter_percent.values , align = 'center' ) \n",
    "\n",
    "#xticks \n",
    "plt.xticks(rotation=90) \n",
    "\n",
    "#x-axis labels \n",
    "plt.xlabel('Pipe Diameter') \n",
    "\n",
    "\n",
    "#y-axis labels \n",
    "plt.ylabel('Percentage of Total Incidents') \n",
    "plt.ylim(top=100)\n",
    "\n",
    "\n",
    "#plot title \n",
    "#plt.title('Ditribution of Incidents by Pipe Diameter') \n",
    "\n",
    "#Legend\n",
    "#plt.legend(['Pipe Diameter'],bbox_to_anchor=(1.05, 1), loc='upper left')\n",
    "\n",
    "#adding Percentage values on the graph\n",
    "plt.xticks(rotation=90)  \n",
    "for n in a:\n",
    "   height = round(n.get_height())\n",
    "   plt.text(x=n.get_x() + n.get_width() / 2, y=height+.70, s=\"{}%\".format(height), ha='center')\n",
    "\n",
    "#save plot \n",
    "plot_path = os.getcwd() + '\\\\HL Incidents Plots\\\\Diameter_percent'\n",
    "plt.savefig(plot_path, dpi=300,bbox_inches='tight')         \n",
    "        \n",
    "#display \n",
    "plt.show();"
   ]
  },
  {
   "cell_type": "code",
   "execution_count": 103,
   "metadata": {},
   "outputs": [],
   "source": [
    "excavation_d_percent = incident_df.loc[incident_df['MAP_CAUSE']=='EXCAVATION DAMAGE']['Diameter_Range'].value_counts(normalize=True)[:]*100\n",
    "corrosion_d_percent = incident_df.loc[incident_df['MAP_CAUSE']=='CORROSION']['Diameter_Range'].value_counts(normalize=True)[:]*100\n",
    "material_d_percent = incident_df.loc[incident_df['MAP_CAUSE']=='MATERIAL/WELD/EQUIP FAILURE']['Diameter_Range'].value_counts(normalize=True)[:]*100"
   ]
  },
  {
   "cell_type": "code",
   "execution_count": 107,
   "metadata": {},
   "outputs": [],
   "source": [
    "#ordering the columns so all data are in the same order\n",
    "excavation_d_percent = excavation_d_percent[['d<=4', '4<d<=10', '10<d<=20', '20<d<=28', '28<d']]\n",
    "corrosion_d_percent = corrosion_d_percent[['d<=4', '4<d<=10', '10<d<=20', '20<d<=28', '28<d']]\n",
    "material_d_percent = material_d_percent[['d<=4', '4<d<=10', '10<d<=20', '20<d<=28', '28<d']]"
   ]
  },
  {
   "cell_type": "code",
   "execution_count": 108,
   "metadata": {},
   "outputs": [
    {
     "data": {
      "text/plain": [
       "d<=4         6.25000\n",
       "4<d<=10     56.25000\n",
       "10<d<=20    33.59375\n",
       "20<d<=28     1.56250\n",
       "28<d         2.34375\n",
       "Name: Diameter_Range, dtype: float64"
      ]
     },
     "execution_count": 108,
     "metadata": {},
     "output_type": "execute_result"
    }
   ],
   "source": [
    "excavation_d_percent"
   ]
  },
  {
   "cell_type": "code",
   "execution_count": 110,
   "metadata": {},
   "outputs": [
    {
     "data": {
      "image/png": "[encoded data removed]",
      "text/plain": [
       "<Figure size 432x288 with 1 Axes>"
      ]
     },
     "metadata": {
      "needs_background": "light"
     },
     "output_type": "display_data"
    }
   ],
   "source": [
    "n = len(list(excavation_d_percent.index))\n",
    "x = np.arange(n)  # the label locations\n",
    "width = 0.25  # the width of the bars\n",
    "\n",
    "x_axis = list(excavation_d_percent.index)\n",
    "\n",
    "fig, ax = plt.subplots()\n",
    "plt.bar(x , list(excavation_d_percent.values), width, color = 'r', label='Excavation Damage')\n",
    "plt.bar(x + width, list(corrosion_d_percent.values), width, color = 'g', label='Corrosion Damage')\n",
    "plt.bar(x + width*2, list(material_d_percent.values), width, color = 'b', label='Material Damage')\n",
    "\n",
    "# Add some text for labels, title and custom x-axis tick labels, etc.\n",
    "ax.set_ylabel('Percentage of Incidents')\n",
    "ax.set_ylim(top=100)\n",
    "ax.set_title('')\n",
    "plt.xticks(x + width, x_axis, rotation = 90)\n",
    "plt.legend(bbox_to_anchor=(1.05, 1), loc='upper left')\n",
    "\n",
    "#save plot \n",
    "plot_path = os.getcwd() + '\\\\HL Incidents Plots\\\\cause_diameter_percent'\n",
    "plt.savefig(plot_path, dpi=300,bbox_inches='tight')  \n",
    "\n",
    "plt.show()"
   ]
  },
  {
   "cell_type": "code",
   "execution_count": 116,
   "metadata": {},
   "outputs": [
    {
     "data": {
      "text/plain": [
       "Greater than 20% SMYS    83.379888\n",
       "Less than 20% SMYS       16.620112\n",
       "dtype: float64"
      ]
     },
     "execution_count": 116,
     "metadata": {},
     "output_type": "execute_result"
    }
   ],
   "source": [
    "#Calculating SMYS percentages for plotting\n",
    "pipeline_function = incident_df['PIPELINE_FUNCTION'].value_counts(normalize=True)[:]*100\n",
    "\n",
    "smys_percent = pd.Series(dtype=float)\n",
    "smys_percent['Greater than 20% SMYS'] = pipeline_function['> 20% SMYS REGULATED TRUNKLINE/TRANSMISSION'] + pipeline_function['> 20% SMYS REGULATED GATHERING']\n",
    "smys_percent['Less than 20% SMYS'] = pipeline_function['=< 20% SMYS REGULATED TRUNKLINE/TRANSMISSION'] + pipeline_function['=< 20% SMYS REGULATED GATHERING']\n",
    "smys_percent"
   ]
  },
  {
   "cell_type": "code",
   "execution_count": 118,
   "metadata": {},
   "outputs": [
    {
     "data": {
      "text/plain": [
       "Greater than 20%    83.379888\n",
       "Less than 20%       16.620112\n",
       "Name: SMYS_Cat, dtype: float64"
      ]
     },
     "execution_count": 118,
     "metadata": {},
     "output_type": "execute_result"
    }
   ],
   "source": [
    "#Creating SMYS ranges, alternative way to above. easier for later on\n",
    "incident_df['SMYS_Cat'] = None\n",
    "\n",
    "incident_df.loc[(incident_df['PIPELINE_FUNCTION'] == '> 20% SMYS REGULATED TRUNKLINE/TRANSMISSION') | (incident_df['PIPELINE_FUNCTION'] == '> 20% SMYS REGULATED GATHERING'), 'SMYS_Cat'] = 'Greater than 20%'\n",
    "incident_df.loc[(incident_df['PIPELINE_FUNCTION'] == '=< 20% SMYS REGULATED TRUNKLINE/TRANSMISSION') | (incident_df['PIPELINE_FUNCTION'] == '=< 20% SMYS REGULATED GATHERING'), 'SMYS_Cat'] = 'Less than 20%'\n",
    "\n",
    "incident_df['SMYS_Cat'].value_counts(normalize=True)[:]*100"
   ]
  },
  {
   "cell_type": "code",
   "execution_count": 187,
   "metadata": {},
   "outputs": [
    {
     "data": {
      "image/png": "[encoded data removed]",
      "text/plain": [
       "<Figure size 432x288 with 1 Axes>"
      ]
     },
     "metadata": {
      "needs_background": "light"
     },
     "output_type": "display_data"
    }
   ],
   "source": [
    "#Stacked bar graph\n",
    "#smys_percent.plot(kind = 'bar', stacked = True, mark_right = True)\n",
    "\n",
    "windth = 10\n",
    "fig, ax = plt.subplots()\n",
    "\n",
    "a = ax.bar(smys_percent.index,smys_percent.values , align = 'center' ) \n",
    "\n",
    "#xticks \n",
    "plt.xticks(rotation=90) \n",
    "\n",
    "#x-axis labels \n",
    "plt.xlabel('Operating Stress') \n",
    "\n",
    "\n",
    "#y-axis labels \n",
    "plt.ylabel('Percentage of Total Incidents') \n",
    "plt.ylim(top=100)\n",
    "\n",
    "\n",
    "#plot title \n",
    "#plt.title('Ditribution of Incidents by Hoop Stress') \n",
    "\n",
    "#Legend\n",
    "#plt.legend(['Hoop Stress'],bbox_to_anchor=(1.05, 1), loc='upper left')\n",
    "\n",
    "#adding Percentage values on the graph\n",
    "plt.xticks(rotation=90)  \n",
    "for n in a:\n",
    "   height = round(n.get_height())\n",
    "   plt.text(x=n.get_x() + n.get_width() / 2, y=height+.70, s=\"{}%\".format(height), ha='center')\n",
    "\n",
    "#save plot \n",
    "plot_path = os.getcwd() + '\\\\HL Incidents Plots\\\\SMYS_percent'\n",
    "plt.savefig(plot_path, dpi=300,bbox_inches='tight')         \n",
    "        \n",
    "#display \n",
    "plt.show();"
   ]
  },
  {
   "cell_type": "code",
   "execution_count": 119,
   "metadata": {},
   "outputs": [],
   "source": [
    "excavation_smys_percent = incident_df.loc[incident_df['MAP_CAUSE']=='EXCAVATION DAMAGE']['SMYS_Cat'].value_counts(normalize=True)[:]*100\n",
    "corrosion_smys_percent = incident_df.loc[incident_df['MAP_CAUSE']=='CORROSION']['SMYS_Cat'].value_counts(normalize=True)[:]*100\n",
    "material_smys_percent = incident_df.loc[incident_df['MAP_CAUSE']=='MATERIAL/WELD/EQUIP FAILURE']['SMYS_Cat'].value_counts(normalize=True)[:]*100"
   ]
  },
  {
   "cell_type": "code",
   "execution_count": 123,
   "metadata": {},
   "outputs": [],
   "source": [
    "excavation_smys_percent= excavation_smys_percent[['Greater than 20%', 'Less than 20%']]\n",
    "corrosion_smys_percent = corrosion_smys_percent[['Greater than 20%', 'Less than 20%']]\n",
    "material_smys_percent = material_smys_percent[['Greater than 20%', 'Less than 20%']]"
   ]
  },
  {
   "cell_type": "code",
   "execution_count": 153,
   "metadata": {},
   "outputs": [
    {
     "data": {
      "text/plain": [
       "Greater than 20%    95.483871\n",
       "Less than 20%        4.516129\n",
       "Name: SMYS_Cat, dtype: float64"
      ]
     },
     "execution_count": 153,
     "metadata": {},
     "output_type": "execute_result"
    }
   ],
   "source": [
    "material_smys_percent"
   ]
  },
  {
   "cell_type": "code",
   "execution_count": 159,
   "metadata": {},
   "outputs": [
    {
     "data": {
      "text/plain": [
       "4<d<=10     52.951699\n",
       "10<d<=20    35.957066\n",
       "28<d         4.472272\n",
       "20<d<=28     4.293381\n",
       "d<=4         2.325581\n",
       "Name: Diameter_Range, dtype: float64"
      ]
     },
     "execution_count": 159,
     "metadata": {},
     "output_type": "execute_result"
    }
   ],
   "source": [
    "incident_df.loc[incident_df['SMYS_Cat'] == 'Greater than 20%']['Diameter_Range'].value_counts(normalize=True)[:]*100"
   ]
  },
  {
   "cell_type": "code",
   "execution_count": 158,
   "metadata": {},
   "outputs": [
    {
     "data": {
      "text/plain": [
       "4<d<=10     66.981132\n",
       "10<d<=20    20.754717\n",
       "d<=4         9.433962\n",
       "20<d<=28     2.830189\n",
       "Name: Diameter_Range, dtype: float64"
      ]
     },
     "execution_count": 158,
     "metadata": {},
     "output_type": "execute_result"
    }
   ],
   "source": [
    "incident_df.loc[incident_df['SMYS_Cat'] == 'Less than 20%']['Diameter_Range'].value_counts(normalize=True)[:]*100\n",
    "#Diameter_Range\n",
    "#COMMODITY_RELEASED_TYPE\n",
    "#PIPELINE_FUNCTION"
   ]
  },
  {
   "cell_type": "code",
   "execution_count": 188,
   "metadata": {},
   "outputs": [
    {
     "data": {
      "image/png": "[encoded data removed]",
      "text/plain": [
       "<Figure size 432x288 with 1 Axes>"
      ]
     },
     "metadata": {
      "needs_background": "light"
     },
     "output_type": "display_data"
    }
   ],
   "source": [
    "n = len(list(excavation_smys_percent.index))\n",
    "x = np.arange(n)  # the label locations\n",
    "width = 0.25  # the width of the bars\n",
    "\n",
    "x_axis = list(excavation_smys_percent.index)\n",
    "\n",
    "fig, ax = plt.subplots()\n",
    "plt.bar(x , list(excavation_smys_percent.values), width, color = 'r', label='Excavation Damage')\n",
    "plt.bar(x + width, list(corrosion_smys_percent.values), width, color = 'g', label='Corrosion Damage')\n",
    "plt.bar(x + width*2, list(material_smys_percent.values), width, color = 'b', label='Material Damage')\n",
    "\n",
    "# Add some text for labels, title and custom x-axis tick labels, etc.\n",
    "ax.set_ylabel('Percentage of Incidents')\n",
    "ax.set_ylim(top=100)\n",
    "ax.set_title('')\n",
    "plt.xticks(x + width, x_axis, rotation = 90)\n",
    "plt.legend(bbox_to_anchor=(1.05, 1), loc='upper left')\n",
    "\n",
    "plt.xlabel('Operating Stress')\n",
    "\n",
    "#save plot \n",
    "plot_path = os.getcwd() + '\\\\HL Incidents Plots\\\\cause_smys_percent'\n",
    "plt.savefig(plot_path, dpi=300,bbox_inches='tight')  \n",
    "\n",
    "plt.show()"
   ]
  },
  {
   "cell_type": "code",
   "execution_count": 125,
   "metadata": {},
   "outputs": [
    {
     "data": {
      "text/plain": [
       "LEAK                   500\n",
       "MECHANICAL PUNCTURE    123\n",
       "RUPTURE                 63\n",
       "OTHER                   30\n",
       "Name: RELEASE_TYPE, dtype: int64"
      ]
     },
     "execution_count": 125,
     "metadata": {},
     "output_type": "execute_result"
    }
   ],
   "source": [
    "#Consequences\n",
    "release_type = incident_df['RELEASE_TYPE'].value_counts()\n",
    "release_type"
   ]
  },
  {
   "cell_type": "code",
   "execution_count": 126,
   "metadata": {},
   "outputs": [
    {
     "data": {
      "text/plain": [
       "LEAK                   69.832402\n",
       "MECHANICAL PUNCTURE    17.178771\n",
       "RUPTURE                 8.798883\n",
       "OTHER                   4.189944\n",
       "Name: RELEASE_TYPE, dtype: float64"
      ]
     },
     "execution_count": 126,
     "metadata": {},
     "output_type": "execute_result"
    }
   ],
   "source": [
    "#Consequences\n",
    "release_type_percent = incident_df['RELEASE_TYPE'].value_counts(normalize=True)[:]*100\n",
    "release_type_percent"
   ]
  },
  {
   "cell_type": "code",
   "execution_count": null,
   "metadata": {},
   "outputs": [],
   "source": []
  },
  {
   "cell_type": "code",
   "execution_count": 189,
   "metadata": {},
   "outputs": [
    {
     "data": {
      "image/png": "[encoded data removed]",
      "text/plain": [
       "<Figure size 432x288 with 1 Axes>"
      ]
     },
     "metadata": {
      "needs_background": "light"
     },
     "output_type": "display_data"
    }
   ],
   "source": [
    "#Stacked bar graph\n",
    "#release_type.plot(kind = 'bar', stacked = True, mark_right = True)\n",
    "\n",
    "n=len(release_type.index)\n",
    "x = np.arange(n)\n",
    "labels = ['LEAK', 'RUPTURE', 'PUNCTURE', 'OTHER']\n",
    "windth = 10\n",
    "fig, ax = plt.subplots()\n",
    "\n",
    "a = ax.bar(x ,release_type.values , align = 'center' ) \n",
    "\n",
    "#xticks \n",
    "plt.xticks(x, labels, rotation=90) \n",
    "\n",
    "#x-axis labels \n",
    "plt.xlabel('Failure Type') \n",
    "\n",
    "\n",
    "#y-axis labels \n",
    "plt.ylabel('Number of Incidents') \n",
    "#plt.ylim(top=100)\n",
    "\n",
    "\n",
    "#plot title \n",
    "#plt.title('Number of Incidents by Release Type') \n",
    "\n",
    "#Legend\n",
    "#plt.legend(['Release Type'],bbox_to_anchor=(1.05, 1), loc='upper left')\n",
    "\n",
    "#adding Percentage values on the graph\n",
    "plt.xticks(rotation=90)  \n",
    "for n in a:\n",
    "   height = round(n.get_height())\n",
    "   plt.text(x=n.get_x() + n.get_width() / 2, y=height+.70, s=\"{}\".format(height), ha='center')\n",
    "\n",
    "#save plot \n",
    "plot_path = os.getcwd() + '\\\\HL Incidents Plots\\\\Release_type'\n",
    "plt.savefig(plot_path, dpi=300,bbox_inches='tight')         \n",
    "        \n",
    "#display \n",
    "plt.show();"
   ]
  },
  {
   "cell_type": "code",
   "execution_count": 190,
   "metadata": {},
   "outputs": [
    {
     "data": {
      "image/png": "[encoded data removed]",
      "text/plain": [
       "<Figure size 432x288 with 1 Axes>"
      ]
     },
     "metadata": {
      "needs_background": "light"
     },
     "output_type": "display_data"
    }
   ],
   "source": [
    "#Stacked bar graph\n",
    "#release_type.plot(kind = 'bar', stacked = True, mark_right = True)\n",
    "\n",
    "n=len(release_type_percent.index)\n",
    "x = np.arange(n)\n",
    "labels = ['LEAK', 'RUPTURE', 'PUNCTURE', 'OTHER']\n",
    "windth = 10\n",
    "fig, ax = plt.subplots()\n",
    "\n",
    "a = ax.bar(x,release_type_percent.values , align = 'center' ) \n",
    "\n",
    "#xticks \n",
    "plt.xticks(x, labels, rotation=90) \n",
    "\n",
    "#x-axis labels \n",
    "plt.xlabel('Failure Type') \n",
    "\n",
    "\n",
    "#y-axis labels \n",
    "plt.ylabel('Percentage of Incidents') \n",
    "#plt.ylim(top=100)\n",
    "\n",
    "\n",
    "#plot title \n",
    "#plt.title('Distribution of Incidents by Release Type') \n",
    "\n",
    "#Legend\n",
    "#plt.legend(['Release Type'],bbox_to_anchor=(1.05, 1), loc='upper left')\n",
    "\n",
    "#adding Percentage values on the graph\n",
    "plt.xticks(rotation=90)  \n",
    "for n in a:\n",
    "   height = round(n.get_height())\n",
    "   plt.text(x=n.get_x() + n.get_width() / 2, y=height+.70, s=\"{}%\".format(height), ha='center')\n",
    "\n",
    "#save plot \n",
    "plot_path = os.getcwd() + '\\\\HL Incidents Plots\\\\Release_type_percent'\n",
    "plt.savefig(plot_path, dpi=300,bbox_inches='tight')         \n",
    "        \n",
    "#display \n",
    "plt.show();"
   ]
  },
  {
   "cell_type": "code",
   "execution_count": 191,
   "metadata": {},
   "outputs": [],
   "source": [
    "cause_release_type = pd.DataFrame()\n",
    "\n",
    "cause_release_type['EXCAVATION DAMAGE'] = incident_df.loc[incident_df['MAP_CAUSE'] == 'EXCAVATION DAMAGE']['RELEASE_TYPE'].value_counts(normalize=True)[:]*100\n",
    "\n",
    "cause_release_type['NATURAL FORCE'] = incident_df.loc[incident_df['MAP_CAUSE'] == 'NATURAL FORCE DAMAGE']['RELEASE_TYPE'].value_counts(normalize=True)[:]*100\n",
    "cause_release_type['CORROSION'] = incident_df.loc[incident_df['MAP_CAUSE'] == 'CORROSION']['RELEASE_TYPE'].value_counts(normalize=True)[:]*100\n",
    "cause_release_type['MATERIAL FAILURE'] = incident_df.loc[incident_df['MAP_CAUSE'] == 'MATERIAL/WELD/EQUIP FAILURE']['RELEASE_TYPE'].value_counts(normalize=True)[:]*100\n",
    "cause_release_type['ALL OTHER CAUSES'] = incident_df.loc[incident_df['MAP_CAUSE'] == 'ALL OTHER CAUSES']['RELEASE_TYPE'].value_counts(normalize=True)[:]*100\n",
    "cause_release_type['OTHER OUTSIDE FORCE'] = incident_df.loc[incident_df['MAP_CAUSE'] == 'OTHER OUTSIDE FORCE DAMAGE']['RELEASE_TYPE'].value_counts(normalize=True)[:]*100\n",
    "\n",
    "cause_release_type['INCORRECT OPERATION'] = incident_df.loc[incident_df['MAP_CAUSE'] == 'INCORRECT OPERATION']['RELEASE_TYPE'].value_counts(normalize=True)[:]*100"
   ]
  },
  {
   "cell_type": "code",
   "execution_count": 192,
   "metadata": {},
   "outputs": [],
   "source": [
    "cause_release_type = cause_release_type[['EXCAVATION DAMAGE', 'CORROSION', 'MATERIAL FAILURE', 'NATURAL FORCE', 'OTHER OUTSIDE FORCE', 'INCORRECT OPERATION', 'ALL OTHER CAUSES']]"
   ]
  },
  {
   "cell_type": "code",
   "execution_count": 193,
   "metadata": {},
   "outputs": [
    {
     "data": {
      "text/html": [
       "<div>\n",
       "<style scoped>\n",
       "    .dataframe tbody tr th:only-of-type {\n",
       "        vertical-align: middle;\n",
       "    }\n",
       "\n",
       "    .dataframe tbody tr th {\n",
       "        vertical-align: top;\n",
       "    }\n",
       "\n",
       "    .dataframe thead th {\n",
       "        text-align: right;\n",
       "    }\n",
       "</style>\n",
       "<table border=\"1\" class=\"dataframe\">\n",
       "  <thead>\n",
       "    <tr style=\"text-align: right;\">\n",
       "      <th></th>\n",
       "      <th>MECHANICAL PUNCTURE</th>\n",
       "      <th>LEAK</th>\n",
       "      <th>RUPTURE</th>\n",
       "      <th>OTHER</th>\n",
       "    </tr>\n",
       "  </thead>\n",
       "  <tbody>\n",
       "    <tr>\n",
       "      <th>EXCAVATION DAMAGE</th>\n",
       "      <td>81.343284</td>\n",
       "      <td>8.955224</td>\n",
       "      <td>7.462687</td>\n",
       "      <td>2.238806</td>\n",
       "    </tr>\n",
       "    <tr>\n",
       "      <th>CORROSION</th>\n",
       "      <td>NaN</td>\n",
       "      <td>94.478528</td>\n",
       "      <td>4.294479</td>\n",
       "      <td>1.226994</td>\n",
       "    </tr>\n",
       "    <tr>\n",
       "      <th>MATERIAL FAILURE</th>\n",
       "      <td>NaN</td>\n",
       "      <td>77.419355</td>\n",
       "      <td>18.064516</td>\n",
       "      <td>4.516129</td>\n",
       "    </tr>\n",
       "    <tr>\n",
       "      <th>NATURAL FORCE</th>\n",
       "      <td>5.000000</td>\n",
       "      <td>75.000000</td>\n",
       "      <td>20.000000</td>\n",
       "      <td>NaN</td>\n",
       "    </tr>\n",
       "    <tr>\n",
       "      <th>OTHER OUTSIDE FORCE</th>\n",
       "      <td>30.000000</td>\n",
       "      <td>42.500000</td>\n",
       "      <td>5.000000</td>\n",
       "      <td>22.500000</td>\n",
       "    </tr>\n",
       "    <tr>\n",
       "      <th>INCORRECT OPERATION</th>\n",
       "      <td>NaN</td>\n",
       "      <td>64.000000</td>\n",
       "      <td>20.000000</td>\n",
       "      <td>16.000000</td>\n",
       "    </tr>\n",
       "    <tr>\n",
       "      <th>ALL OTHER CAUSES</th>\n",
       "      <td>6.250000</td>\n",
       "      <td>75.000000</td>\n",
       "      <td>NaN</td>\n",
       "      <td>18.750000</td>\n",
       "    </tr>\n",
       "  </tbody>\n",
       "</table>\n",
       "</div>"
      ],
      "text/plain": [
       "                     MECHANICAL PUNCTURE       LEAK    RUPTURE      OTHER\n",
       "EXCAVATION DAMAGE              81.343284   8.955224   7.462687   2.238806\n",
       "CORROSION                            NaN  94.478528   4.294479   1.226994\n",
       "MATERIAL FAILURE                     NaN  77.419355  18.064516   4.516129\n",
       "NATURAL FORCE                   5.000000  75.000000  20.000000        NaN\n",
       "OTHER OUTSIDE FORCE            30.000000  42.500000   5.000000  22.500000\n",
       "INCORRECT OPERATION                  NaN  64.000000  20.000000  16.000000\n",
       "ALL OTHER CAUSES                6.250000  75.000000        NaN  18.750000"
      ]
     },
     "execution_count": 193,
     "metadata": {},
     "output_type": "execute_result"
    }
   ],
   "source": [
    "cause_release_type.T"
   ]
  },
  {
   "cell_type": "code",
   "execution_count": 194,
   "metadata": {},
   "outputs": [
    {
     "data": {
      "image/png": "[encoded data removed]",
      "text/plain": [
       "<Figure size 432x288 with 1 Axes>"
      ]
     },
     "metadata": {
      "needs_background": "light"
     },
     "output_type": "display_data"
    }
   ],
   "source": [
    "#Stacked bar graph\n",
    "cause_release_type.T.plot(kind = 'bar', stacked = True, mark_right = True)\n",
    "\n",
    "#xticks \n",
    "plt.xticks(rotation=90) \n",
    "\n",
    "#x-axis labels \n",
    "plt.xlabel('Failure Cause') \n",
    "\n",
    "\n",
    "#y-axis labels \n",
    "plt.ylabel('Percentage of Total Failures') \n",
    "\n",
    "\n",
    "#plot title \n",
    "#plt.title('Ditribution of Incidents by Release Type') \n",
    "\n",
    "#Legend\n",
    "plt.legend(bbox_to_anchor=(1.05, 1), loc='upper left')\n",
    "\n",
    "#adding Percentage values on the graph\n",
    "#for n in df_diameter_short_percent:\n",
    "    #for i, (cs, ab, pc) in enumerate(zip(df_diameter_short_percent.cumsum(1)[n], df_diameter_short_percent[n], df_diameter_short_percent[n])):\n",
    "        #plt.text(i, cs - ab / 2, str(np.round(pc, 1)) + '%', \n",
    "                 #va = 'center', ha = 'center', rotation = 90, fontsize = 7)\n",
    "\n",
    "#save plot \n",
    "plot_path = os.getcwd() + '\\\\HL Incidents Plots\\\\cause_release_type_percent'\n",
    "plt.savefig(plot_path, dpi=300,bbox_inches='tight')         \n",
    "        \n",
    "#display \n",
    "plt.show();"
   ]
  },
  {
   "cell_type": "code",
   "execution_count": 138,
   "metadata": {},
   "outputs": [],
   "source": [
    "#Ignition Status\n",
    "incident_df['ign_expl'] = None\n",
    "incident_df.loc[(incident_df['IGNITE_IND'] == 'YES') & (incident_df['EXPLODE_IND'] == 'NO'),'ign_expl'] = 'Ignited Only'\n",
    "incident_df.loc[(incident_df['IGNITE_IND'] == 'YES') & (incident_df['EXPLODE_IND'] == 'YES'),'ign_expl'] = 'Explosion'\n",
    "incident_df.loc[(incident_df['IGNITE_IND'] == 'NO'),'ign_expl'] = 'Not Ignited'"
   ]
  },
  {
   "cell_type": "code",
   "execution_count": 139,
   "metadata": {},
   "outputs": [
    {
     "data": {
      "text/plain": [
       "array([95.94972067,  2.65363128,  1.39664804])"
      ]
     },
     "execution_count": 139,
     "metadata": {},
     "output_type": "execute_result"
    }
   ],
   "source": [
    "ign_expl_percent = incident_df['ign_expl'].value_counts(normalize=True)[:]*100\n",
    "ign_expl_percent.values"
   ]
  },
  {
   "cell_type": "code",
   "execution_count": 140,
   "metadata": {},
   "outputs": [
    {
     "data": {
      "image/png": "[encoded data removed]",
      "text/plain": [
       "<Figure size 432x288 with 1 Axes>"
      ]
     },
     "metadata": {
      "needs_background": "light"
     },
     "output_type": "display_data"
    }
   ],
   "source": [
    "#Stacked bar graph\n",
    "#ign_expl_percent.plot(kind = 'bar', stacked = True, mark_right = True)\n",
    "\n",
    "windth = 10\n",
    "fig, ax = plt.subplots()\n",
    "\n",
    "a = ax.bar(ign_expl_percent.index,ign_expl_percent.values , align = 'center' ) \n",
    "\n",
    "#xticks \n",
    "plt.xticks(rotation=90) \n",
    "\n",
    "#x-axis labels \n",
    "plt.xlabel('Ignition Status') \n",
    "\n",
    "\n",
    "#y-axis labels \n",
    "plt.ylabel('Percentage of Total Releases') \n",
    "#plt.ylim(top=100)\n",
    "\n",
    "\n",
    "#plot title \n",
    "plt.title('') \n",
    "\n",
    "#Legend\n",
    "#plt.legend(bbox_to_anchor=(1.05, 1), loc='upper left')\n",
    "\n",
    "#adding Percentage values on the graph\n",
    "plt.xticks(rotation=90)  \n",
    "for n in a:\n",
    "   height = round(n.get_height())\n",
    "   plt.text(x=n.get_x() + n.get_width() / 2, y=height+.70, s=\"{}%\".format(height), ha='center')\n",
    "\n",
    "#save plot \n",
    "plot_path = os.getcwd() + '\\\\HL Incidents Plots\\\\ignition_explosion_percent'\n",
    "plt.savefig(plot_path, dpi=300,bbox_inches='tight')         \n",
    "        \n",
    "#display \n",
    "plt.show();"
   ]
  },
  {
   "cell_type": "code",
   "execution_count": 195,
   "metadata": {},
   "outputs": [],
   "source": [
    "release_type_ignition = pd.DataFrame()\n",
    "\n",
    "release_type_ignition['LEAK'] = None\n",
    "release_type_ignition['RUPTURE'] = None\n",
    "release_type_ignition['MECHANICAL'] = None\n",
    "release_type_ignition['OTHER'] = None\n",
    "\n",
    "#need to make sure the first one includes all types (ignition results/rows)\n",
    "release_type_ignition['RUPTURE'] = incident_df.loc[incident_df['RELEASE_TYPE'] == 'RUPTURE']['ign_expl'].value_counts(normalize=True)[:]*100\n",
    "\n",
    "release_type_ignition['LEAK'] = incident_df.loc[incident_df['RELEASE_TYPE'] == 'LEAK']['ign_expl'].value_counts(normalize=True)[:]*100\n",
    "release_type_ignition['MECHANICAL'] = incident_df.loc[incident_df['RELEASE_TYPE'] == 'MECHANICAL PUNCTURE']['ign_expl'].value_counts(normalize=True)[:]*100\n",
    "release_type_ignition['OTHER'] = incident_df.loc[incident_df['RELEASE_TYPE'] == 'OTHER']['ign_expl'].value_counts(normalize=True)[:]*100\n"
   ]
  },
  {
   "cell_type": "code",
   "execution_count": 196,
   "metadata": {},
   "outputs": [
    {
     "data": {
      "text/html": [
       "<div>\n",
       "<style scoped>\n",
       "    .dataframe tbody tr th:only-of-type {\n",
       "        vertical-align: middle;\n",
       "    }\n",
       "\n",
       "    .dataframe tbody tr th {\n",
       "        vertical-align: top;\n",
       "    }\n",
       "\n",
       "    .dataframe thead th {\n",
       "        text-align: right;\n",
       "    }\n",
       "</style>\n",
       "<table border=\"1\" class=\"dataframe\">\n",
       "  <thead>\n",
       "    <tr style=\"text-align: right;\">\n",
       "      <th></th>\n",
       "      <th>Not Ignited</th>\n",
       "      <th>Explosion</th>\n",
       "      <th>Ignited Only</th>\n",
       "    </tr>\n",
       "  </thead>\n",
       "  <tbody>\n",
       "    <tr>\n",
       "      <th>LEAK</th>\n",
       "      <td>98.600000</td>\n",
       "      <td>NaN</td>\n",
       "      <td>1.400000</td>\n",
       "    </tr>\n",
       "    <tr>\n",
       "      <th>RUPTURE</th>\n",
       "      <td>85.714286</td>\n",
       "      <td>11.111111</td>\n",
       "      <td>3.174603</td>\n",
       "    </tr>\n",
       "    <tr>\n",
       "      <th>MECHANICAL</th>\n",
       "      <td>91.869919</td>\n",
       "      <td>2.439024</td>\n",
       "      <td>5.691057</td>\n",
       "    </tr>\n",
       "    <tr>\n",
       "      <th>OTHER</th>\n",
       "      <td>90.000000</td>\n",
       "      <td>NaN</td>\n",
       "      <td>10.000000</td>\n",
       "    </tr>\n",
       "  </tbody>\n",
       "</table>\n",
       "</div>"
      ],
      "text/plain": [
       "            Not Ignited  Explosion  Ignited Only\n",
       "LEAK          98.600000        NaN      1.400000\n",
       "RUPTURE       85.714286  11.111111      3.174603\n",
       "MECHANICAL    91.869919   2.439024      5.691057\n",
       "OTHER         90.000000        NaN     10.000000"
      ]
     },
     "execution_count": 196,
     "metadata": {},
     "output_type": "execute_result"
    }
   ],
   "source": [
    "release_type_ignition.T"
   ]
  },
  {
   "cell_type": "code",
   "execution_count": 161,
   "metadata": {},
   "outputs": [
    {
     "data": {
      "text/plain": [
       "MECHANICAL PUNCTURE    34.482759\n",
       "RUPTURE                31.034483\n",
       "LEAK                   24.137931\n",
       "OTHER                  10.344828\n",
       "Name: RELEASE_TYPE, dtype: float64"
      ]
     },
     "execution_count": 161,
     "metadata": {},
     "output_type": "execute_result"
    }
   ],
   "source": [
    "incident_df.loc[(incident_df['ign_expl'] == 'Ignited Only') | (incident_df['ign_expl'] == 'Explosion')]['RELEASE_TYPE'].value_counts(normalize=True)[:]*100"
   ]
  },
  {
   "cell_type": "code",
   "execution_count": 197,
   "metadata": {},
   "outputs": [
    {
     "data": {
      "image/png": "[encoded data removed]",
      "text/plain": [
       "<Figure size 432x288 with 1 Axes>"
      ]
     },
     "metadata": {
      "needs_background": "light"
     },
     "output_type": "display_data"
    }
   ],
   "source": [
    "#Stacked bar graph\n",
    "release_type_ignition.T.plot(kind = 'bar', stacked = True, mark_right = True)\n",
    "\n",
    "#xticks \n",
    "plt.xticks(rotation=90) \n",
    "\n",
    "#x-axis labels \n",
    "plt.xlabel('Failure Type') \n",
    "\n",
    "\n",
    "#y-axis labels \n",
    "plt.ylabel('Percentage of Total Releases') \n",
    "\n",
    "\n",
    "#plot title \n",
    "#plt.title('Ditribution of Releases by Ignition Status') \n",
    "\n",
    "#Legend\n",
    "plt.legend(bbox_to_anchor=(1.05, 1), loc='upper left')\n",
    "\n",
    "#adding Percentage values on the graph\n",
    "#for n in df_diameter_short_percent:\n",
    "    #for i, (cs, ab, pc) in enumerate(zip(df_diameter_short_percent.cumsum(1)[n], df_diameter_short_percent[n], df_diameter_short_percent[n])):\n",
    "        #plt.text(i, cs - ab / 2, str(np.round(pc, 1)) + '%', \n",
    "                 #va = 'center', ha = 'center', rotation = 90, fontsize = 7)\n",
    "\n",
    "#save plot \n",
    "plot_path = os.getcwd() + '\\\\HL Incidents Plots\\\\release_ignition_explosion_percent'\n",
    "plt.savefig(plot_path, dpi=300,bbox_inches='tight')         \n",
    "        \n",
    "#display \n",
    "plt.show();"
   ]
  },
  {
   "cell_type": "code",
   "execution_count": 198,
   "metadata": {},
   "outputs": [],
   "source": [
    "cause_ignition_status = pd.DataFrame()\n",
    "\n",
    "cause_ignition_status['NATURAL FORCE'] = incident_df.loc[incident_df['MAP_CAUSE'] == 'NATURAL FORCE DAMAGE']['ign_expl'].value_counts(normalize=True)[:]*100\n",
    "\n",
    "cause_ignition_status['CORROSION'] = incident_df.loc[incident_df['MAP_CAUSE'] == 'CORROSION']['ign_expl'].value_counts(normalize=True)[:]*100\n",
    "cause_ignition_status['MATERIAL FAILURE'] = incident_df.loc[incident_df['MAP_CAUSE'] == 'MATERIAL/WELD/EQUIP FAILURE']['ign_expl'].value_counts(normalize=True)[:]*100\n",
    "cause_ignition_status['ALL OTHER CAUSES'] = incident_df.loc[incident_df['MAP_CAUSE'] == 'ALL OTHER CAUSES']['ign_expl'].value_counts(normalize=True)[:]*100\n",
    "cause_ignition_status['OTHER OUTSIDE FORCE'] = incident_df.loc[incident_df['MAP_CAUSE'] == 'OTHER OUTSIDE FORCE DAMAGE']['ign_expl'].value_counts(normalize=True)[:]*100\n",
    "cause_ignition_status['EXCAVATION DAMAGE'] = incident_df.loc[incident_df['MAP_CAUSE'] == 'EXCAVATION DAMAGE']['ign_expl'].value_counts(normalize=True)[:]*100\n",
    "cause_ignition_status['INCORRECT OPERATION'] = incident_df.loc[incident_df['MAP_CAUSE'] == 'INCORRECT OPERATION']['ign_expl'].value_counts(normalize=True)[:]*100"
   ]
  },
  {
   "cell_type": "code",
   "execution_count": 199,
   "metadata": {},
   "outputs": [],
   "source": [
    "cause_ignition_status = cause_ignition_status[['EXCAVATION DAMAGE', 'CORROSION', 'MATERIAL FAILURE', 'NATURAL FORCE', 'OTHER OUTSIDE FORCE', 'INCORRECT OPERATION', 'ALL OTHER CAUSES']]"
   ]
  },
  {
   "cell_type": "code",
   "execution_count": 200,
   "metadata": {},
   "outputs": [
    {
     "data": {
      "text/html": [
       "<div>\n",
       "<style scoped>\n",
       "    .dataframe tbody tr th:only-of-type {\n",
       "        vertical-align: middle;\n",
       "    }\n",
       "\n",
       "    .dataframe tbody tr th {\n",
       "        vertical-align: top;\n",
       "    }\n",
       "\n",
       "    .dataframe thead th {\n",
       "        text-align: right;\n",
       "    }\n",
       "</style>\n",
       "<table border=\"1\" class=\"dataframe\">\n",
       "  <thead>\n",
       "    <tr style=\"text-align: right;\">\n",
       "      <th></th>\n",
       "      <th>Not Ignited</th>\n",
       "      <th>Ignited Only</th>\n",
       "      <th>Explosion</th>\n",
       "    </tr>\n",
       "  </thead>\n",
       "  <tbody>\n",
       "    <tr>\n",
       "      <th>EXCAVATION DAMAGE</th>\n",
       "      <td>93.283582</td>\n",
       "      <td>4.477612</td>\n",
       "      <td>2.238806</td>\n",
       "    </tr>\n",
       "    <tr>\n",
       "      <th>CORROSION</th>\n",
       "      <td>99.693252</td>\n",
       "      <td>0.306748</td>\n",
       "      <td>NaN</td>\n",
       "    </tr>\n",
       "    <tr>\n",
       "      <th>MATERIAL FAILURE</th>\n",
       "      <td>96.129032</td>\n",
       "      <td>0.645161</td>\n",
       "      <td>3.225806</td>\n",
       "    </tr>\n",
       "    <tr>\n",
       "      <th>NATURAL FORCE</th>\n",
       "      <td>80.000000</td>\n",
       "      <td>15.000000</td>\n",
       "      <td>5.000000</td>\n",
       "    </tr>\n",
       "    <tr>\n",
       "      <th>OTHER OUTSIDE FORCE</th>\n",
       "      <td>90.000000</td>\n",
       "      <td>7.500000</td>\n",
       "      <td>2.500000</td>\n",
       "    </tr>\n",
       "    <tr>\n",
       "      <th>INCORRECT OPERATION</th>\n",
       "      <td>80.000000</td>\n",
       "      <td>20.000000</td>\n",
       "      <td>NaN</td>\n",
       "    </tr>\n",
       "    <tr>\n",
       "      <th>ALL OTHER CAUSES</th>\n",
       "      <td>100.000000</td>\n",
       "      <td>NaN</td>\n",
       "      <td>NaN</td>\n",
       "    </tr>\n",
       "  </tbody>\n",
       "</table>\n",
       "</div>"
      ],
      "text/plain": [
       "                     Not Ignited  Ignited Only  Explosion\n",
       "EXCAVATION DAMAGE      93.283582      4.477612   2.238806\n",
       "CORROSION              99.693252      0.306748        NaN\n",
       "MATERIAL FAILURE       96.129032      0.645161   3.225806\n",
       "NATURAL FORCE          80.000000     15.000000   5.000000\n",
       "OTHER OUTSIDE FORCE    90.000000      7.500000   2.500000\n",
       "INCORRECT OPERATION    80.000000     20.000000        NaN\n",
       "ALL OTHER CAUSES      100.000000           NaN        NaN"
      ]
     },
     "execution_count": 200,
     "metadata": {},
     "output_type": "execute_result"
    }
   ],
   "source": [
    "cause_ignition_status.T"
   ]
  },
  {
   "cell_type": "code",
   "execution_count": null,
   "metadata": {},
   "outputs": [],
   "source": []
  },
  {
   "cell_type": "code",
   "execution_count": 201,
   "metadata": {},
   "outputs": [
    {
     "data": {
      "image/png": "[encoded data removed]",
      "text/plain": [
       "<Figure size 432x288 with 1 Axes>"
      ]
     },
     "metadata": {
      "needs_background": "light"
     },
     "output_type": "display_data"
    }
   ],
   "source": [
    "#Stacked bar graph\n",
    "cause_ignition_status.T.plot(kind = 'bar', stacked = True, mark_right = True)\n",
    "\n",
    "#xticks \n",
    "plt.xticks(rotation=90) \n",
    "\n",
    "#x-axis labels \n",
    "plt.xlabel('Failure Cause') \n",
    "\n",
    "\n",
    "#y-axis labels \n",
    "plt.ylabel('Percentage of Total Failures') \n",
    "\n",
    "\n",
    "#plot title \n",
    "#plt.title('Ditribution of Incidents by Ignition Status and Cause') \n",
    "\n",
    "#Legend\n",
    "plt.legend(bbox_to_anchor=(1.05, 1), loc='upper left')\n",
    "\n",
    "#adding Percentage values on the graph\n",
    "#for n in df_diameter_short_percent:\n",
    "    #for i, (cs, ab, pc) in enumerate(zip(df_diameter_short_percent.cumsum(1)[n], df_diameter_short_percent[n], df_diameter_short_percent[n])):\n",
    "        #plt.text(i, cs - ab / 2, str(np.round(pc, 1)) + '%', \n",
    "                 #va = 'center', ha = 'center', rotation = 90, fontsize = 7)\n",
    "\n",
    "#save plot \n",
    "plot_path = os.getcwd() + '\\\\HL Incidents Plots\\\\cause_ignition_status_percent'\n",
    "plt.savefig(plot_path, dpi=300,bbox_inches='tight')         \n",
    "        \n",
    "#display \n",
    "plt.show();"
   ]
  },
  {
   "cell_type": "code",
   "execution_count": null,
   "metadata": {},
   "outputs": [],
   "source": []
  }
 ],
 "metadata": {
  "kernelspec": {
   "display_name": "Python 3",
   "language": "python",
   "name": "python3"
  },
  "language_info": {
   "codemirror_mode": {
    "name": "ipython",
    "version": 3
   },
   "file_extension": ".py",
   "mimetype": "text/x-python",
   "name": "python",
   "nbconvert_exporter": "python",
   "pygments_lexer": "ipython3",
   "version": "3.8.5"
  }
 },
 "nbformat": 4,
 "nbformat_minor": 4
}
