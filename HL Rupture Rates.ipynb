{
 "cells": [
  {
   "cell_type": "code",
   "execution_count": 1,
   "metadata": {},
   "outputs": [],
   "source": [
    "import math\n",
    "import collections\n",
    "import os\n",
    "\n",
    "import numpy as np\n",
    "import pandas as pd\n",
    "import matplotlib.pyplot as plt\n",
    "\n",
    "%matplotlib inline"
   ]
  },
  {
   "cell_type": "code",
   "execution_count": 2,
   "metadata": {},
   "outputs": [],
   "source": [
    "pd.options.display.max_rows = 10"
   ]
  },
  {
   "cell_type": "code",
   "execution_count": 3,
   "metadata": {},
   "outputs": [
    {
     "data": {
      "text/plain": [
       "'C:\\\\Users\\\\Nasim\\\\Documents\\\\Heriot Watt Uni\\\\Dissertation\\\\Analysis'"
      ]
     },
     "execution_count": 3,
     "metadata": {},
     "output_type": "execute_result"
    }
   ],
   "source": [
    "path = os.getcwd()\n",
    "path"
   ]
  },
  {
   "cell_type": "code",
   "execution_count": 16,
   "metadata": {},
   "outputs": [],
   "source": [
    "incident_df = pd.read_csv('incident_df_hl.csv')"
   ]
  },
  {
   "cell_type": "code",
   "execution_count": 17,
   "metadata": {},
   "outputs": [],
   "source": [
    "incident_df = incident_df.loc[(incident_df['RELEASE_TYPE'] == 'RUPTURE')]"
   ]
  },
  {
   "cell_type": "code",
   "execution_count": 18,
   "metadata": {},
   "outputs": [
    {
     "data": {
      "text/html": [
       "<div>\n",
       "<style scoped>\n",
       "    .dataframe tbody tr th:only-of-type {\n",
       "        vertical-align: middle;\n",
       "    }\n",
       "\n",
       "    .dataframe tbody tr th {\n",
       "        vertical-align: top;\n",
       "    }\n",
       "\n",
       "    .dataframe thead th {\n",
       "        text-align: right;\n",
       "    }\n",
       "</style>\n",
       "<table border=\"1\" class=\"dataframe\">\n",
       "  <thead>\n",
       "    <tr style=\"text-align: right;\">\n",
       "      <th></th>\n",
       "      <th>IYEAR</th>\n",
       "      <th>DATAFILE_AS_OF</th>\n",
       "      <th>SIGNIFICANT</th>\n",
       "      <th>SERIOUS</th>\n",
       "      <th>IPE</th>\n",
       "      <th>IA_IPE</th>\n",
       "      <th>OM_IPE</th>\n",
       "      <th>REPORT_NUMBER</th>\n",
       "      <th>SUPPLEMENTAL_NUMBER</th>\n",
       "      <th>REPORT_RECEIVED_DATE</th>\n",
       "      <th>...</th>\n",
       "      <th>AUTHORIZER_NAME</th>\n",
       "      <th>AUTHORIZER_TITLE</th>\n",
       "      <th>AUTHORIZER_TELEPHONE</th>\n",
       "      <th>AUTHORIZER_EMAIL</th>\n",
       "      <th>NARRATIVE</th>\n",
       "      <th>CP_Types</th>\n",
       "      <th>Installation_Decade</th>\n",
       "      <th>Diameter_Range</th>\n",
       "      <th>SMYS_Cat</th>\n",
       "      <th>ign_expl</th>\n",
       "    </tr>\n",
       "  </thead>\n",
       "  <tbody>\n",
       "    <tr>\n",
       "      <th>0</th>\n",
       "      <td>2010</td>\n",
       "      <td>2021-11-30 10:26:05</td>\n",
       "      <td>YES</td>\n",
       "      <td>NO</td>\n",
       "      <td>NO</td>\n",
       "      <td>NO</td>\n",
       "      <td>NO</td>\n",
       "      <td>20100008.0</td>\n",
       "      <td>19253.0</td>\n",
       "      <td>2010-03-22 09:49:07</td>\n",
       "      <td>...</td>\n",
       "      <td>NEAL JONES</td>\n",
       "      <td>COMPLIANCE COORDINATOR</td>\n",
       "      <td>580-395-6304</td>\n",
       "      <td>neal.jones@oneok.com</td>\n",
       "      <td>OPERATOR WAS ISOLATING PIPELINE GATHERING SYST...</td>\n",
       "      <td>NaN</td>\n",
       "      <td>1970s</td>\n",
       "      <td>10&lt;d&lt;=20</td>\n",
       "      <td>Greater than 20%</td>\n",
       "      <td>Not Ignited</td>\n",
       "    </tr>\n",
       "    <tr>\n",
       "      <th>1</th>\n",
       "      <td>2010</td>\n",
       "      <td>2021-11-30 10:26:05</td>\n",
       "      <td>YES</td>\n",
       "      <td>NO</td>\n",
       "      <td>YES</td>\n",
       "      <td>YES</td>\n",
       "      <td>NO</td>\n",
       "      <td>20100021.0</td>\n",
       "      <td>17161.0</td>\n",
       "      <td>2010-04-02 10:25:27</td>\n",
       "      <td>...</td>\n",
       "      <td>DAVID STAFFORD</td>\n",
       "      <td>MANAGER PIPELINE COMPLIANCE</td>\n",
       "      <td>715-394-1567</td>\n",
       "      <td>david.stafford@enbridge.com</td>\n",
       "      <td>ON JANUARY 8, 2010 AT 23:38 LOCAL TIME, THE EN...</td>\n",
       "      <td>NaN</td>\n",
       "      <td>1950s</td>\n",
       "      <td>20&lt;d&lt;=28</td>\n",
       "      <td>Greater than 20%</td>\n",
       "      <td>Not Ignited</td>\n",
       "    </tr>\n",
       "    <tr>\n",
       "      <th>9</th>\n",
       "      <td>2010</td>\n",
       "      <td>2021-11-30 10:26:05</td>\n",
       "      <td>YES</td>\n",
       "      <td>NO</td>\n",
       "      <td>NO</td>\n",
       "      <td>NO</td>\n",
       "      <td>NO</td>\n",
       "      <td>20100083.0</td>\n",
       "      <td>16118.0</td>\n",
       "      <td>2010-05-18 11:42:54</td>\n",
       "      <td>...</td>\n",
       "      <td>JOHN S. STERRETT</td>\n",
       "      <td>STAFF ENGINEER</td>\n",
       "      <td>713-381-2493</td>\n",
       "      <td>jsterrett@eprod.com</td>\n",
       "      <td>SCADA LOW PRESSURE ALARM AT A PUMP STATION ALE...</td>\n",
       "      <td>NaN</td>\n",
       "      <td>1960s</td>\n",
       "      <td>4&lt;d&lt;=10</td>\n",
       "      <td>Greater than 20%</td>\n",
       "      <td>Not Ignited</td>\n",
       "    </tr>\n",
       "    <tr>\n",
       "      <th>20</th>\n",
       "      <td>2010</td>\n",
       "      <td>2021-11-30 10:26:05</td>\n",
       "      <td>YES</td>\n",
       "      <td>NO</td>\n",
       "      <td>YES</td>\n",
       "      <td>YES</td>\n",
       "      <td>NO</td>\n",
       "      <td>20100130.0</td>\n",
       "      <td>19913.0</td>\n",
       "      <td>2010-06-29 17:13:19</td>\n",
       "      <td>...</td>\n",
       "      <td>ROB KNANISHU</td>\n",
       "      <td>DOT COMPLIANCE ADVISOR TEAM LEADER</td>\n",
       "      <td>630-420-5519</td>\n",
       "      <td>rob.knanishu@bp.com</td>\n",
       "      <td>AN IN-SERVICE FAILURE OCCURRED ON THE WHITING ...</td>\n",
       "      <td>NaN</td>\n",
       "      <td>1950s</td>\n",
       "      <td>10&lt;d&lt;=20</td>\n",
       "      <td>Greater than 20%</td>\n",
       "      <td>Not Ignited</td>\n",
       "    </tr>\n",
       "    <tr>\n",
       "      <th>21</th>\n",
       "      <td>2010</td>\n",
       "      <td>2021-11-30 10:26:05</td>\n",
       "      <td>YES</td>\n",
       "      <td>NO</td>\n",
       "      <td>NO</td>\n",
       "      <td>NO</td>\n",
       "      <td>NO</td>\n",
       "      <td>20100133.0</td>\n",
       "      <td>18225.0</td>\n",
       "      <td>2010-06-30 09:56:47</td>\n",
       "      <td>...</td>\n",
       "      <td>TODD TULLIO</td>\n",
       "      <td>REGULATORY COMPLIANCE MANAGER</td>\n",
       "      <td>832-379-6255</td>\n",
       "      <td>todd.l.tullio@conocophillips.com</td>\n",
       "      <td>THE MX20 PIPELINE RUPTURED RELEASING NATURAL G...</td>\n",
       "      <td>CPC</td>\n",
       "      <td>1940s</td>\n",
       "      <td>4&lt;d&lt;=10</td>\n",
       "      <td>Greater than 20%</td>\n",
       "      <td>Not Ignited</td>\n",
       "    </tr>\n",
       "    <tr>\n",
       "      <th>...</th>\n",
       "      <td>...</td>\n",
       "      <td>...</td>\n",
       "      <td>...</td>\n",
       "      <td>...</td>\n",
       "      <td>...</td>\n",
       "      <td>...</td>\n",
       "      <td>...</td>\n",
       "      <td>...</td>\n",
       "      <td>...</td>\n",
       "      <td>...</td>\n",
       "      <td>...</td>\n",
       "      <td>...</td>\n",
       "      <td>...</td>\n",
       "      <td>...</td>\n",
       "      <td>...</td>\n",
       "      <td>...</td>\n",
       "      <td>...</td>\n",
       "      <td>...</td>\n",
       "      <td>...</td>\n",
       "      <td>...</td>\n",
       "      <td>...</td>\n",
       "    </tr>\n",
       "    <tr>\n",
       "      <th>659</th>\n",
       "      <td>2019</td>\n",
       "      <td>2021-11-30 10:26:05</td>\n",
       "      <td>YES</td>\n",
       "      <td>NO</td>\n",
       "      <td>YES</td>\n",
       "      <td>YES</td>\n",
       "      <td>NO</td>\n",
       "      <td>20190359.0</td>\n",
       "      <td>33676.0</td>\n",
       "      <td>2019-11-26 17:20:15</td>\n",
       "      <td>...</td>\n",
       "      <td>LEE ROMACK</td>\n",
       "      <td>DIRECTOR PIPELINES REGULATORY COMPLIANCE</td>\n",
       "      <td>832-320-5315</td>\n",
       "      <td>lee_romack@tcenergy.com</td>\n",
       "      <td>ON 29 OCTOBER, 2019, AT 21:52 HRS CDT, A PRESS...</td>\n",
       "      <td>NaN</td>\n",
       "      <td>2000s</td>\n",
       "      <td>28&lt;d</td>\n",
       "      <td>Greater than 20%</td>\n",
       "      <td>Not Ignited</td>\n",
       "    </tr>\n",
       "    <tr>\n",
       "      <th>668</th>\n",
       "      <td>2019</td>\n",
       "      <td>2021-11-30 10:26:05</td>\n",
       "      <td>NO</td>\n",
       "      <td>NO</td>\n",
       "      <td>YES</td>\n",
       "      <td>YES</td>\n",
       "      <td>NO</td>\n",
       "      <td>20190392.0</td>\n",
       "      <td>33325.0</td>\n",
       "      <td>2019-12-19 14:52:34</td>\n",
       "      <td>...</td>\n",
       "      <td>DEBOARH PRICE</td>\n",
       "      <td>INTEGRITY AND REGULATORY SERVICES MANAGER</td>\n",
       "      <td>832-762-2553</td>\n",
       "      <td>deborah.price@shell.com</td>\n",
       "      <td>LOPC 8M68 PURGING LINE LEAKS:CREWS WERE IN THE...</td>\n",
       "      <td>CUC</td>\n",
       "      <td>Pre 1940</td>\n",
       "      <td>4&lt;d&lt;=10</td>\n",
       "      <td>Less than 20%</td>\n",
       "      <td>Not Ignited</td>\n",
       "    </tr>\n",
       "    <tr>\n",
       "      <th>672</th>\n",
       "      <td>2020</td>\n",
       "      <td>2021-11-30 10:26:05</td>\n",
       "      <td>YES</td>\n",
       "      <td>NO</td>\n",
       "      <td>NO</td>\n",
       "      <td>NO</td>\n",
       "      <td>NO</td>\n",
       "      <td>20200051.0</td>\n",
       "      <td>33824.0</td>\n",
       "      <td>2020-02-20 10:16:53</td>\n",
       "      <td>...</td>\n",
       "      <td>HANS DEEB</td>\n",
       "      <td>SR. PIPELINE COMPLIANCE ENGINEER</td>\n",
       "      <td>713-381-4277</td>\n",
       "      <td>hdeeb@eprod.com</td>\n",
       "      <td>ON 01/26/2020 AT 18:24 CST PIPELINE CONTROL OB...</td>\n",
       "      <td>NaN</td>\n",
       "      <td>1960s</td>\n",
       "      <td>4&lt;d&lt;=10</td>\n",
       "      <td>Greater than 20%</td>\n",
       "      <td>Not Ignited</td>\n",
       "    </tr>\n",
       "    <tr>\n",
       "      <th>709</th>\n",
       "      <td>2020</td>\n",
       "      <td>2021-11-30 10:26:05</td>\n",
       "      <td>YES</td>\n",
       "      <td>NO</td>\n",
       "      <td>YES</td>\n",
       "      <td>YES</td>\n",
       "      <td>NO</td>\n",
       "      <td>20200340.0</td>\n",
       "      <td>35372.0</td>\n",
       "      <td>2020-12-29 14:15:26</td>\n",
       "      <td>...</td>\n",
       "      <td>GRACE RIESS</td>\n",
       "      <td>SUPERVISOR INTEGRITY MANAGEMENT</td>\n",
       "      <td>918-574-7165</td>\n",
       "      <td>grace.riess@magellanlp.com</td>\n",
       "      <td>AT 5:17 (RMT) ON DECEMBER 4, 2020 THE MAGELLAN...</td>\n",
       "      <td>CPC</td>\n",
       "      <td>1960s</td>\n",
       "      <td>4&lt;d&lt;=10</td>\n",
       "      <td>Greater than 20%</td>\n",
       "      <td>Not Ignited</td>\n",
       "    </tr>\n",
       "    <tr>\n",
       "      <th>711</th>\n",
       "      <td>2020</td>\n",
       "      <td>2021-11-30 10:26:05</td>\n",
       "      <td>YES</td>\n",
       "      <td>NO</td>\n",
       "      <td>YES</td>\n",
       "      <td>NO</td>\n",
       "      <td>NO</td>\n",
       "      <td>20210007.0</td>\n",
       "      <td>34782.0</td>\n",
       "      <td>2021-01-07 14:11:28</td>\n",
       "      <td>...</td>\n",
       "      <td>AARON MARTINEZ</td>\n",
       "      <td>ENVIRONMENTAL SAFETY AND SECURITY MANAGER</td>\n",
       "      <td>210-626-6343</td>\n",
       "      <td>awmartinez@marathonpetroleum.com</td>\n",
       "      <td>AN ACCIDENT OCCURRED ON MARATHON PIPE LINE'S R...</td>\n",
       "      <td>NaN</td>\n",
       "      <td>Pre 1940</td>\n",
       "      <td>4&lt;d&lt;=10</td>\n",
       "      <td>Greater than 20%</td>\n",
       "      <td>Not Ignited</td>\n",
       "    </tr>\n",
       "  </tbody>\n",
       "</table>\n",
       "<p>63 rows × 611 columns</p>\n",
       "</div>"
      ],
      "text/plain": [
       "     IYEAR       DATAFILE_AS_OF SIGNIFICANT SERIOUS  IPE IA_IPE OM_IPE  \\\n",
       "0     2010  2021-11-30 10:26:05         YES      NO   NO     NO     NO   \n",
       "1     2010  2021-11-30 10:26:05         YES      NO  YES    YES     NO   \n",
       "9     2010  2021-11-30 10:26:05         YES      NO   NO     NO     NO   \n",
       "20    2010  2021-11-30 10:26:05         YES      NO  YES    YES     NO   \n",
       "21    2010  2021-11-30 10:26:05         YES      NO   NO     NO     NO   \n",
       "..     ...                  ...         ...     ...  ...    ...    ...   \n",
       "659   2019  2021-11-30 10:26:05         YES      NO  YES    YES     NO   \n",
       "668   2019  2021-11-30 10:26:05          NO      NO  YES    YES     NO   \n",
       "672   2020  2021-11-30 10:26:05         YES      NO   NO     NO     NO   \n",
       "709   2020  2021-11-30 10:26:05         YES      NO  YES    YES     NO   \n",
       "711   2020  2021-11-30 10:26:05         YES      NO  YES     NO     NO   \n",
       "\n",
       "     REPORT_NUMBER  SUPPLEMENTAL_NUMBER REPORT_RECEIVED_DATE  ...  \\\n",
       "0       20100008.0              19253.0  2010-03-22 09:49:07  ...   \n",
       "1       20100021.0              17161.0  2010-04-02 10:25:27  ...   \n",
       "9       20100083.0              16118.0  2010-05-18 11:42:54  ...   \n",
       "20      20100130.0              19913.0  2010-06-29 17:13:19  ...   \n",
       "21      20100133.0              18225.0  2010-06-30 09:56:47  ...   \n",
       "..             ...                  ...                  ...  ...   \n",
       "659     20190359.0              33676.0  2019-11-26 17:20:15  ...   \n",
       "668     20190392.0              33325.0  2019-12-19 14:52:34  ...   \n",
       "672     20200051.0              33824.0  2020-02-20 10:16:53  ...   \n",
       "709     20200340.0              35372.0  2020-12-29 14:15:26  ...   \n",
       "711     20210007.0              34782.0  2021-01-07 14:11:28  ...   \n",
       "\n",
       "      AUTHORIZER_NAME                           AUTHORIZER_TITLE  \\\n",
       "0          NEAL JONES                     COMPLIANCE COORDINATOR   \n",
       "1      DAVID STAFFORD                MANAGER PIPELINE COMPLIANCE   \n",
       "9    JOHN S. STERRETT                             STAFF ENGINEER   \n",
       "20       ROB KNANISHU         DOT COMPLIANCE ADVISOR TEAM LEADER   \n",
       "21        TODD TULLIO              REGULATORY COMPLIANCE MANAGER   \n",
       "..                ...                                        ...   \n",
       "659        LEE ROMACK   DIRECTOR PIPELINES REGULATORY COMPLIANCE   \n",
       "668     DEBOARH PRICE  INTEGRITY AND REGULATORY SERVICES MANAGER   \n",
       "672         HANS DEEB           SR. PIPELINE COMPLIANCE ENGINEER   \n",
       "709       GRACE RIESS            SUPERVISOR INTEGRITY MANAGEMENT   \n",
       "711    AARON MARTINEZ  ENVIRONMENTAL SAFETY AND SECURITY MANAGER   \n",
       "\n",
       "    AUTHORIZER_TELEPHONE                  AUTHORIZER_EMAIL  \\\n",
       "0           580-395-6304              neal.jones@oneok.com   \n",
       "1           715-394-1567       david.stafford@enbridge.com   \n",
       "9           713-381-2493               jsterrett@eprod.com   \n",
       "20          630-420-5519               rob.knanishu@bp.com   \n",
       "21          832-379-6255  todd.l.tullio@conocophillips.com   \n",
       "..                   ...                               ...   \n",
       "659         832-320-5315           lee_romack@tcenergy.com   \n",
       "668        832-762-2553            deborah.price@shell.com   \n",
       "672         713-381-4277                   hdeeb@eprod.com   \n",
       "709         918-574-7165        grace.riess@magellanlp.com   \n",
       "711         210-626-6343  awmartinez@marathonpetroleum.com   \n",
       "\n",
       "                                             NARRATIVE CP_Types  \\\n",
       "0    OPERATOR WAS ISOLATING PIPELINE GATHERING SYST...      NaN   \n",
       "1    ON JANUARY 8, 2010 AT 23:38 LOCAL TIME, THE EN...      NaN   \n",
       "9    SCADA LOW PRESSURE ALARM AT A PUMP STATION ALE...      NaN   \n",
       "20   AN IN-SERVICE FAILURE OCCURRED ON THE WHITING ...      NaN   \n",
       "21   THE MX20 PIPELINE RUPTURED RELEASING NATURAL G...      CPC   \n",
       "..                                                 ...      ...   \n",
       "659  ON 29 OCTOBER, 2019, AT 21:52 HRS CDT, A PRESS...      NaN   \n",
       "668  LOPC 8M68 PURGING LINE LEAKS:CREWS WERE IN THE...      CUC   \n",
       "672  ON 01/26/2020 AT 18:24 CST PIPELINE CONTROL OB...      NaN   \n",
       "709  AT 5:17 (RMT) ON DECEMBER 4, 2020 THE MAGELLAN...      CPC   \n",
       "711  AN ACCIDENT OCCURRED ON MARATHON PIPE LINE'S R...      NaN   \n",
       "\n",
       "    Installation_Decade Diameter_Range          SMYS_Cat     ign_expl  \n",
       "0                 1970s       10<d<=20  Greater than 20%  Not Ignited  \n",
       "1                 1950s       20<d<=28  Greater than 20%  Not Ignited  \n",
       "9                 1960s        4<d<=10  Greater than 20%  Not Ignited  \n",
       "20                1950s       10<d<=20  Greater than 20%  Not Ignited  \n",
       "21                1940s        4<d<=10  Greater than 20%  Not Ignited  \n",
       "..                  ...            ...               ...          ...  \n",
       "659               2000s           28<d  Greater than 20%  Not Ignited  \n",
       "668            Pre 1940        4<d<=10     Less than 20%  Not Ignited  \n",
       "672               1960s        4<d<=10  Greater than 20%  Not Ignited  \n",
       "709               1960s        4<d<=10  Greater than 20%  Not Ignited  \n",
       "711            Pre 1940        4<d<=10  Greater than 20%  Not Ignited  \n",
       "\n",
       "[63 rows x 611 columns]"
      ]
     },
     "execution_count": 18,
     "metadata": {},
     "output_type": "execute_result"
    }
   ],
   "source": [
    "incident_df"
   ]
  },
  {
   "cell_type": "code",
   "execution_count": 9,
   "metadata": {},
   "outputs": [],
   "source": [
    "mileage_df = pd.read_csv('mileage_df_hl.csv')"
   ]
  },
  {
   "cell_type": "code",
   "execution_count": 10,
   "metadata": {},
   "outputs": [],
   "source": [
    "mileage_df = mileage_df.set_index('Year')"
   ]
  },
  {
   "cell_type": "code",
   "execution_count": 11,
   "metadata": {},
   "outputs": [
    {
     "data": {
      "text/plain": [
       "Int64Index([2010, 2011, 2012, 2013, 2014, 2015, 2016, 2017, 2018, 2019, 2020], dtype='int64', name='Year')"
      ]
     },
     "execution_count": 11,
     "metadata": {},
     "output_type": "execute_result"
    }
   ],
   "source": [
    "mileage_df.index"
   ]
  },
  {
   "cell_type": "code",
   "execution_count": 19,
   "metadata": {},
   "outputs": [],
   "source": [
    "#calculating rupture rates pipelines (no attributes)\n",
    "incident_total = pd.DataFrame()\n",
    "\n",
    "#Total incidents\n",
    "for n in range(0, 11):\n",
    "    incident_total = incident_total.append({'Year': int(2010+n), 'Total': len(incident_df.loc[incident_df['IYEAR'] == 2010+n]), \n",
    "                                            'Excavation Damage': len(incident_df.loc[(incident_df['MAP_CAUSE'] == 'EXCAVATION DAMAGE') & (incident_df['IYEAR'] == 2010+n)]), \n",
    "                                           'Corrosion': len(incident_df.loc[(incident_df['MAP_CAUSE'] == 'CORROSION') & (incident_df['IYEAR'] == 2010+n)]), \n",
    "                                           'Incorrect Operations': len(incident_df.loc[(incident_df['MAP_CAUSE'] == 'INCORRECT OPERATION') & (incident_df['IYEAR'] == 2010+n)]), \n",
    "                                           'All Other Causes': len(incident_df.loc[(incident_df['MAP_CAUSE'] == 'ALL OTHER CAUSES') & (incident_df['IYEAR'] == 2010+n)]), \n",
    "                                           'Material Failure': len(incident_df.loc[(incident_df['MAP_CAUSE'] == 'MATERIAL/WELD/EQUIP FAILURE') & (incident_df['IYEAR'] == 2010+n)]), \n",
    "                                            'Natural Force Damage': len(incident_df.loc[(incident_df['MAP_CAUSE'] == 'NATURAL FORCE DAMAGE') & (incident_df['IYEAR'] == 2010+n)]), \n",
    "                                           'Other Outside Forces': len(incident_df.loc[(incident_df['MAP_CAUSE'] == 'OTHER OUTSIDE FORCE DAMAGE') & (incident_df['IYEAR'] == 2010+n)]),}, ignore_index=True) \n"
   ]
  },
  {
   "cell_type": "code",
   "execution_count": 20,
   "metadata": {},
   "outputs": [],
   "source": [
    "incident_total = incident_total.set_index('Year')"
   ]
  },
  {
   "cell_type": "code",
   "execution_count": 21,
   "metadata": {},
   "outputs": [],
   "source": [
    "incident_total['Total_rate'] = incident_total['Total']/mileage_df['PARTDONTOTAL']\n",
    "incident_total['All Other Causes_rate'] = incident_total['All Other Causes']/mileage_df['PARTDONTOTAL']\n",
    "incident_total['Corrosion_rate'] = incident_total['Corrosion']/mileage_df['PARTDONTOTAL']\n",
    "incident_total['Excavation Damage_rate'] = incident_total['Excavation Damage']/mileage_df['PARTDONTOTAL']\n",
    "\n",
    "incident_total['Incorrect Operations_rate'] = incident_total['Incorrect Operations']/mileage_df['PARTDONTOTAL']\n",
    "incident_total['Material Failure_rate'] = incident_total['Material Failure']/mileage_df['PARTDONTOTAL']\n",
    "\n",
    "incident_total['Natural Force Damage_rate'] = incident_total['Natural Force Damage']/mileage_df['PARTDONTOTAL']\n",
    "incident_total['Other Outside Forces_rate'] = incident_total['Other Outside Forces']/mileage_df['PARTDONTOTAL']"
   ]
  },
  {
   "cell_type": "code",
   "execution_count": 22,
   "metadata": {},
   "outputs": [],
   "source": [
    "incident_total_average = incident_total.mean(0)"
   ]
  },
  {
   "cell_type": "code",
   "execution_count": 23,
   "metadata": {},
   "outputs": [
    {
     "data": {
      "text/plain": [
       "Index(['All Other Causes', 'Corrosion', 'Excavation Damage',\n",
       "       'Incorrect Operations', 'Material Failure', 'Natural Force Damage',\n",
       "       'Other Outside Forces', 'Total', 'Total_rate', 'All Other Causes_rate',\n",
       "       'Corrosion_rate', 'Excavation Damage_rate', 'Incorrect Operations_rate',\n",
       "       'Material Failure_rate', 'Natural Force Damage_rate',\n",
       "       'Other Outside Forces_rate'],\n",
       "      dtype='object')"
      ]
     },
     "execution_count": 23,
     "metadata": {},
     "output_type": "execute_result"
    }
   ],
   "source": [
    "incident_total_average.index"
   ]
  },
  {
   "cell_type": "code",
   "execution_count": 33,
   "metadata": {},
   "outputs": [
    {
     "data": {
      "text/html": [
       "<div>\n",
       "<style scoped>\n",
       "    .dataframe tbody tr th:only-of-type {\n",
       "        vertical-align: middle;\n",
       "    }\n",
       "\n",
       "    .dataframe tbody tr th {\n",
       "        vertical-align: top;\n",
       "    }\n",
       "\n",
       "    .dataframe thead th {\n",
       "        text-align: right;\n",
       "    }\n",
       "</style>\n",
       "<table border=\"1\" class=\"dataframe\">\n",
       "  <thead>\n",
       "    <tr style=\"text-align: right;\">\n",
       "      <th></th>\n",
       "      <th>All Other Causes_rate</th>\n",
       "      <th>Corrosion_rate</th>\n",
       "      <th>Excavation Damage_rate</th>\n",
       "      <th>Incorrect Operations_rate</th>\n",
       "      <th>Material Failure_rate</th>\n",
       "      <th>Natural Force Damage_rate</th>\n",
       "      <th>Other Outside Forces_rate</th>\n",
       "    </tr>\n",
       "    <tr>\n",
       "      <th>Year</th>\n",
       "      <th></th>\n",
       "      <th></th>\n",
       "      <th></th>\n",
       "      <th></th>\n",
       "      <th></th>\n",
       "      <th></th>\n",
       "      <th></th>\n",
       "    </tr>\n",
       "  </thead>\n",
       "  <tbody>\n",
       "    <tr>\n",
       "      <th>2010.0</th>\n",
       "      <td>0.0</td>\n",
       "      <td>0.000007</td>\n",
       "      <td>0.000004</td>\n",
       "      <td>0.000007</td>\n",
       "      <td>0.000011</td>\n",
       "      <td>0.000000</td>\n",
       "      <td>0.000000</td>\n",
       "    </tr>\n",
       "    <tr>\n",
       "      <th>2011.0</th>\n",
       "      <td>0.0</td>\n",
       "      <td>0.000000</td>\n",
       "      <td>0.000003</td>\n",
       "      <td>0.000000</td>\n",
       "      <td>0.000003</td>\n",
       "      <td>0.000003</td>\n",
       "      <td>0.000000</td>\n",
       "    </tr>\n",
       "    <tr>\n",
       "      <th>2012.0</th>\n",
       "      <td>0.0</td>\n",
       "      <td>0.000007</td>\n",
       "      <td>0.000003</td>\n",
       "      <td>0.000003</td>\n",
       "      <td>0.000017</td>\n",
       "      <td>0.000003</td>\n",
       "      <td>0.000000</td>\n",
       "    </tr>\n",
       "    <tr>\n",
       "      <th>2013.0</th>\n",
       "      <td>0.0</td>\n",
       "      <td>0.000007</td>\n",
       "      <td>0.000000</td>\n",
       "      <td>0.000000</td>\n",
       "      <td>0.000010</td>\n",
       "      <td>0.000003</td>\n",
       "      <td>0.000000</td>\n",
       "    </tr>\n",
       "    <tr>\n",
       "      <th>2014.0</th>\n",
       "      <td>0.0</td>\n",
       "      <td>0.000000</td>\n",
       "      <td>0.000000</td>\n",
       "      <td>0.000003</td>\n",
       "      <td>0.000006</td>\n",
       "      <td>0.000000</td>\n",
       "      <td>0.000003</td>\n",
       "    </tr>\n",
       "    <tr>\n",
       "      <th>...</th>\n",
       "      <td>...</td>\n",
       "      <td>...</td>\n",
       "      <td>...</td>\n",
       "      <td>...</td>\n",
       "      <td>...</td>\n",
       "      <td>...</td>\n",
       "      <td>...</td>\n",
       "    </tr>\n",
       "    <tr>\n",
       "      <th>2016.0</th>\n",
       "      <td>0.0</td>\n",
       "      <td>0.000000</td>\n",
       "      <td>0.000003</td>\n",
       "      <td>0.000000</td>\n",
       "      <td>0.000015</td>\n",
       "      <td>0.000000</td>\n",
       "      <td>0.000000</td>\n",
       "    </tr>\n",
       "    <tr>\n",
       "      <th>2017.0</th>\n",
       "      <td>0.0</td>\n",
       "      <td>0.000003</td>\n",
       "      <td>0.000003</td>\n",
       "      <td>0.000000</td>\n",
       "      <td>0.000003</td>\n",
       "      <td>0.000000</td>\n",
       "      <td>0.000000</td>\n",
       "    </tr>\n",
       "    <tr>\n",
       "      <th>2018.0</th>\n",
       "      <td>0.0</td>\n",
       "      <td>0.000006</td>\n",
       "      <td>0.000006</td>\n",
       "      <td>0.000003</td>\n",
       "      <td>0.000006</td>\n",
       "      <td>0.000003</td>\n",
       "      <td>0.000003</td>\n",
       "    </tr>\n",
       "    <tr>\n",
       "      <th>2019.0</th>\n",
       "      <td>0.0</td>\n",
       "      <td>0.000006</td>\n",
       "      <td>0.000003</td>\n",
       "      <td>0.000000</td>\n",
       "      <td>0.000003</td>\n",
       "      <td>0.000000</td>\n",
       "      <td>0.000000</td>\n",
       "    </tr>\n",
       "    <tr>\n",
       "      <th>2020.0</th>\n",
       "      <td>0.0</td>\n",
       "      <td>0.000003</td>\n",
       "      <td>0.000003</td>\n",
       "      <td>0.000000</td>\n",
       "      <td>0.000003</td>\n",
       "      <td>0.000000</td>\n",
       "      <td>0.000000</td>\n",
       "    </tr>\n",
       "  </tbody>\n",
       "</table>\n",
       "<p>11 rows × 7 columns</p>\n",
       "</div>"
      ],
      "text/plain": [
       "        All Other Causes_rate  Corrosion_rate  Excavation Damage_rate  \\\n",
       "Year                                                                    \n",
       "2010.0                    0.0        0.000007                0.000004   \n",
       "2011.0                    0.0        0.000000                0.000003   \n",
       "2012.0                    0.0        0.000007                0.000003   \n",
       "2013.0                    0.0        0.000007                0.000000   \n",
       "2014.0                    0.0        0.000000                0.000000   \n",
       "...                       ...             ...                     ...   \n",
       "2016.0                    0.0        0.000000                0.000003   \n",
       "2017.0                    0.0        0.000003                0.000003   \n",
       "2018.0                    0.0        0.000006                0.000006   \n",
       "2019.0                    0.0        0.000006                0.000003   \n",
       "2020.0                    0.0        0.000003                0.000003   \n",
       "\n",
       "        Incorrect Operations_rate  Material Failure_rate  \\\n",
       "Year                                                       \n",
       "2010.0                   0.000007               0.000011   \n",
       "2011.0                   0.000000               0.000003   \n",
       "2012.0                   0.000003               0.000017   \n",
       "2013.0                   0.000000               0.000010   \n",
       "2014.0                   0.000003               0.000006   \n",
       "...                           ...                    ...   \n",
       "2016.0                   0.000000               0.000015   \n",
       "2017.0                   0.000000               0.000003   \n",
       "2018.0                   0.000003               0.000006   \n",
       "2019.0                   0.000000               0.000003   \n",
       "2020.0                   0.000000               0.000003   \n",
       "\n",
       "        Natural Force Damage_rate  Other Outside Forces_rate  \n",
       "Year                                                          \n",
       "2010.0                   0.000000                   0.000000  \n",
       "2011.0                   0.000003                   0.000000  \n",
       "2012.0                   0.000003                   0.000000  \n",
       "2013.0                   0.000003                   0.000000  \n",
       "2014.0                   0.000000                   0.000003  \n",
       "...                           ...                        ...  \n",
       "2016.0                   0.000000                   0.000000  \n",
       "2017.0                   0.000000                   0.000000  \n",
       "2018.0                   0.000003                   0.000003  \n",
       "2019.0                   0.000000                   0.000000  \n",
       "2020.0                   0.000000                   0.000000  \n",
       "\n",
       "[11 rows x 7 columns]"
      ]
     },
     "execution_count": 33,
     "metadata": {},
     "output_type": "execute_result"
    }
   ],
   "source": [
    "incident_total[['All Other Causes_rate',\n",
    "       'Corrosion_rate', 'Excavation Damage_rate', 'Incorrect Operations_rate',\n",
    "       'Material Failure_rate', 'Natural Force Damage_rate',\n",
    "       'Other Outside Forces_rate']]"
   ]
  },
  {
   "cell_type": "code",
   "execution_count": 95,
   "metadata": {},
   "outputs": [
    {
     "data": {
      "text/plain": [
       "Excavation Damage_rate       2.802916e-06\n",
       "Corrosion_rate               3.982424e-06\n",
       "Material Failure_rate        8.097935e-06\n",
       "Natural Force Damage_rate    1.193279e-06\n",
       "Other Outside Forces_rate    5.540620e-07\n",
       "Incorrect Operations_rate    1.505333e-06\n",
       "All Other Causes_rate        0.000000e+00\n",
       "dtype: float64"
      ]
     },
     "execution_count": 95,
     "metadata": {},
     "output_type": "execute_result"
    }
   ],
   "source": [
    "incident_total_average[['Excavation Damage_rate', 'Corrosion_rate', 'Material Failure_rate', \n",
    "                        'Natural Force Damage_rate', 'Other Outside Forces_rate', 'Incorrect Operations_rate', \n",
    "                        'All Other Causes_rate']]"
   ]
  },
  {
   "cell_type": "code",
   "execution_count": 96,
   "metadata": {},
   "outputs": [
    {
     "data": {
      "image/png": "[encoded data removed]",
      "text/plain": [
       "<Figure size 432x288 with 1 Axes>"
      ]
     },
     "metadata": {
      "needs_background": "light"
     },
     "output_type": "display_data"
    }
   ],
   "source": [
    "#Stacked bar graph\n",
    "\n",
    "windth = 10\n",
    "fig, ax = plt.subplots()\n",
    "\n",
    "labels = ['Excavation Damage', 'Corrosion', 'Material Failure', \n",
    "                        'Natural Force', 'Other Outside Forces', 'Incorrect Operations', \n",
    "                        'All Other Causes']\n",
    "\n",
    "values = incident_total_average[['Excavation Damage_rate', 'Corrosion_rate', 'Material Failure_rate', \n",
    "                        'Natural Force Damage_rate', 'Other Outside Forces_rate', 'Incorrect Operations_rate', \n",
    "                        'All Other Causes_rate']]\n",
    "\n",
    "a = ax.bar(labels, values.values , align = 'center' ) \n",
    "b = ax.axhline(y=incident_total_average['Total_rate'] , color='b', linestyle='--')\n",
    "\n",
    "b.set_label('Overall Rupture Rate')\n",
    "\n",
    "#xticks \n",
    "plt.xticks(rotation=90) \n",
    "\n",
    "#x-axis labels \n",
    "plt.xlabel('Failure Causes') \n",
    "\n",
    "\n",
    "#y-axis labels \n",
    "plt.ylabel('Rupture Rates') \n",
    "plt.ylim(bottom = 0.0000001, top=0.00003)\n",
    "plt.ticklabel_format(axis= 'y', style = 'sci', scilimits=(0,0))\n",
    "\n",
    "\n",
    "#plot title \n",
    "#plt.title('Ditribution of Incidents by Installation Year') \n",
    "\n",
    "#Legend\n",
    "plt.legend(bbox_to_anchor=(1.05, 1), loc='upper left')\n",
    "\n",
    "#adding Percentage values on the graph\n",
    "#plt.xticks(rotation=90)  \n",
    "#for n in a:\n",
    "   #height = n.get_height()\n",
    "   #plt.text(x=n.get_x() + n.get_width() / 2, y=height, s=\"{}%\".format(height), ha='center')\n",
    "\n",
    "#save plot \n",
    "plot_path = os.getcwd() + '\\\\HL Rates Plots\\\\Total_rates'\n",
    "plt.savefig(plot_path, dpi=300,bbox_inches='tight')         \n",
    "        \n",
    "#display \n",
    "plt.show();"
   ]
  },
  {
   "cell_type": "code",
   "execution_count": 26,
   "metadata": {},
   "outputs": [
    {
     "data": {
      "text/plain": [
       "1.8135948130038746e-05"
      ]
     },
     "execution_count": 26,
     "metadata": {},
     "output_type": "execute_result"
    }
   ],
   "source": [
    "incident_total_average['Total_rate']"
   ]
  },
  {
   "cell_type": "code",
   "execution_count": 34,
   "metadata": {},
   "outputs": [],
   "source": [
    "#calculating rupture rates based on cp\n",
    "incident_cp = pd.DataFrame()\n",
    "\n",
    "#Total incidents\n",
    "for n in range(0, 11):\n",
    "    incident_cp= incident_cp.append({'Year': 2010+n, 'CPC': len(incident_df.loc[(incident_df['CP_Types'] == 'CPC') & (incident_df['IYEAR'] == 2010+n)]), \n",
    "                                            'CPB': len(incident_df.loc[(incident_df['CP_Types'] == 'CPB') & (incident_df['IYEAR'] == 2010+n)]), \n",
    "                                           'CUC': len(incident_df.loc[(incident_df['CP_Types'] == 'CUC') & (incident_df['IYEAR'] == 2010+n)]), \n",
    "                                           'CUB': len(incident_df.loc[(incident_df['CP_Types'] == 'CUB') & (incident_df['IYEAR'] == 2010+n)])}, ignore_index=True) \n"
   ]
  },
  {
   "cell_type": "code",
   "execution_count": 35,
   "metadata": {},
   "outputs": [],
   "source": [
    "incident_cp = incident_cp.set_index('Year')"
   ]
  },
  {
   "cell_type": "code",
   "execution_count": 37,
   "metadata": {},
   "outputs": [],
   "source": [
    "incident_cp['CPC_rate'] = incident_cp['CPC']/mileage_df['PARTDONCPC']\n",
    "incident_cp['CPB_rate'] = incident_cp['CPB']/mileage_df['PARTDONCPB']\n",
    "incident_cp['CUC_rate'] = incident_cp['CUC']/mileage_df['PARTDONCUC']\n",
    "incident_cp['CUB_rate'] = incident_cp['CUB']/mileage_df['PARTDONCUB']"
   ]
  },
  {
   "cell_type": "code",
   "execution_count": 38,
   "metadata": {},
   "outputs": [],
   "source": [
    "incident_cp_average = incident_cp.mean(0)"
   ]
  },
  {
   "cell_type": "code",
   "execution_count": 73,
   "metadata": {},
   "outputs": [
    {
     "data": {
      "text/plain": [
       "CPB         0.000000\n",
       "CPC         1.090909\n",
       "CUB         0.000000\n",
       "CUC         0.090909\n",
       "CPC_rate    0.000003\n",
       "CPB_rate    0.000000\n",
       "CUC_rate    0.000055\n",
       "CUB_rate    0.000000\n",
       "dtype: float64"
      ]
     },
     "execution_count": 73,
     "metadata": {},
     "output_type": "execute_result"
    }
   ],
   "source": [
    "incident_cp_average"
   ]
  },
  {
   "cell_type": "code",
   "execution_count": 39,
   "metadata": {},
   "outputs": [
    {
     "data": {
      "text/plain": [
       "Index(['CPB', 'CPC', 'CUB', 'CUC', 'CPC_rate', 'CPB_rate', 'CUC_rate',\n",
       "       'CUB_rate'],\n",
       "      dtype='object')"
      ]
     },
     "execution_count": 39,
     "metadata": {},
     "output_type": "execute_result"
    }
   ],
   "source": [
    "incident_cp_average[['CPC_rate', 'CPB_rate', 'CUC_rate','CUB_rate']]"
   ]
  },
  {
   "cell_type": "code",
   "execution_count": 97,
   "metadata": {},
   "outputs": [
    {
     "data": {
      "image/png": "[encoded data removed]",
      "text/plain": [
       "<Figure size 432x288 with 1 Axes>"
      ]
     },
     "metadata": {
      "needs_background": "light"
     },
     "output_type": "display_data"
    }
   ],
   "source": [
    "#Stacked bar graph\n",
    "\n",
    "windth = 10\n",
    "fig, ax = plt.subplots()\n",
    "\n",
    "labels = ['CPC', 'CPB', 'CUC','CUB']\n",
    "\n",
    "values = incident_cp_average[['CPC_rate', 'CPB_rate', 'CUC_rate','CUB_rate']]\n",
    "\n",
    "a = ax.bar(labels, values.values , align = 'center' ) \n",
    "b = ax.axhline(y=incident_total_average['Total_rate'] , color='b', linestyle='--')\n",
    "\n",
    "b.set_label('Overall Rupture Rate')\n",
    "\n",
    "#xticks \n",
    "plt.xticks(rotation=90) \n",
    "\n",
    "#x-axis labels \n",
    "plt.xlabel('Corrosion Prevention Measures') \n",
    "\n",
    "\n",
    "#y-axis labels \n",
    "plt.ylabel('Rupture Rates') \n",
    "plt.ylim(bottom = 0.0000001, top=0.0001)\n",
    "plt.ticklabel_format(axis= 'y', style = 'sci', scilimits=(0,0))\n",
    "\n",
    "\n",
    "#plot title \n",
    "#plt.title('Ditribution of Incidents by Installation Year') \n",
    "\n",
    "#Legend\n",
    "plt.legend(bbox_to_anchor=(1.05, 1), loc='upper left')\n",
    "\n",
    "#adding Percentage values on the graph\n",
    "#plt.xticks(rotation=90)  \n",
    "#for n in a:\n",
    "   #height = n.get_height()\n",
    "   #plt.text(x=n.get_x() + n.get_width() / 2, y=height+.70, s=\"{}%\".format(height), ha='center')\n",
    "\n",
    "#save plot \n",
    "plot_path = os.getcwd() + '\\\\HL Rates Plots\\\\cp_rates'\n",
    "plt.savefig(plot_path, dpi=300,bbox_inches='tight')         \n",
    "        \n",
    "#display \n",
    "plt.show();"
   ]
  },
  {
   "cell_type": "code",
   "execution_count": 43,
   "metadata": {},
   "outputs": [],
   "source": [
    "#calculating rupture rates based on installation decade\n",
    "incident_installation = pd.DataFrame()\n",
    "\n",
    "#Total incidents\n",
    "for n in range(0, 11):\n",
    "    incident_installation= incident_installation.append({'Year': 2010+n, 'Pre 1940': len(incident_df.loc[(incident_df['Installation_Decade'] == 'Pre 1940') & (incident_df['IYEAR'] == 2010+n)]), \n",
    "                                            '1940s': len(incident_df.loc[(incident_df['Installation_Decade'] == '1940s') & (incident_df['IYEAR'] == 2010+n)]), \n",
    "                                           '1950s': len(incident_df.loc[(incident_df['Installation_Decade'] == '1950s') & (incident_df['IYEAR'] == 2010+n)]), \n",
    "                                           '1960s': len(incident_df.loc[(incident_df['Installation_Decade'] == '1960s') & (incident_df['IYEAR'] == 2010+n)]), \n",
    "                                            '1970s': len(incident_df.loc[(incident_df['Installation_Decade'] == '1970s') & (incident_df['IYEAR'] == 2010+n)]), \n",
    "                                            '1980s': len(incident_df.loc[(incident_df['Installation_Decade'] == '1980s') & (incident_df['IYEAR'] == 2010+n)]), \n",
    "                                            '1990s': len(incident_df.loc[(incident_df['Installation_Decade'] == '1990s') & (incident_df['IYEAR'] == 2010+n)]), \n",
    "                                            '2000s': len(incident_df.loc[(incident_df['Installation_Decade'] == '2000s') & (incident_df['IYEAR'] == 2010+n)]), \n",
    "                                            '2010s': len(incident_df.loc[(incident_df['Installation_Decade'] == '2010s') & (incident_df['IYEAR'] == 2010+n)])}, ignore_index=True) \n"
   ]
  },
  {
   "cell_type": "code",
   "execution_count": 74,
   "metadata": {},
   "outputs": [],
   "source": [
    "#calculating rupture rates based on installation decade for corrosion and material causes only\n",
    "incident_installation_corr_mat = pd.DataFrame()\n",
    "\n",
    "#Total incidents\n",
    "for n in range(0, 11):\n",
    "    incident_installation_corr_mat= incident_installation_corr_mat.append({'Year': 2010+n, \n",
    "                                                                           'Pre 1940': len(incident_df.loc[(incident_df['Installation_Decade'] == 'Pre 1940') & ((incident_df['MAP_CAUSE'] == 'MATERIAL/WELD/EQUIP FAILURE') | (incident_df['MAP_CAUSE'] == 'CORROSION')) & (incident_df['IYEAR'] == 2010+n)]), \n",
    "                                            '1940s': len(incident_df.loc[(incident_df['Installation_Decade'] == '1940s') & ((incident_df['MAP_CAUSE'] == 'MATERIAL/WELD/EQUIP FAILURE') | (incident_df['MAP_CAUSE'] == 'CORROSION')) & (incident_df['IYEAR'] == 2010+n)]), \n",
    "                                           '1950s': len(incident_df.loc[(incident_df['Installation_Decade'] == '1950s') & ((incident_df['MAP_CAUSE'] == 'MATERIAL/WELD/EQUIP FAILURE') | (incident_df['MAP_CAUSE'] == 'CORROSION')) & (incident_df['IYEAR'] == 2010+n)]), \n",
    "                                           '1960s': len(incident_df.loc[(incident_df['Installation_Decade'] == '1960s') & ((incident_df['MAP_CAUSE'] == 'MATERIAL/WELD/EQUIP FAILURE') | (incident_df['MAP_CAUSE'] == 'CORROSION')) & (incident_df['IYEAR'] == 2010+n)]), \n",
    "                                            '1970s': len(incident_df.loc[(incident_df['Installation_Decade'] == '1970s') & ((incident_df['MAP_CAUSE'] == 'MATERIAL/WELD/EQUIP FAILURE') | (incident_df['MAP_CAUSE'] == 'CORROSION')) & (incident_df['IYEAR'] == 2010+n)]), \n",
    "                                            '1980s': len(incident_df.loc[(incident_df['Installation_Decade'] == '1980s') & ((incident_df['MAP_CAUSE'] == 'MATERIAL/WELD/EQUIP FAILURE') | (incident_df['MAP_CAUSE'] == 'CORROSION')) & (incident_df['IYEAR'] == 2010+n)]), \n",
    "                                            '1990s': len(incident_df.loc[(incident_df['Installation_Decade'] == '1990s') & ((incident_df['MAP_CAUSE'] == 'MATERIAL/WELD/EQUIP FAILURE') | (incident_df['MAP_CAUSE'] == 'CORROSION')) & (incident_df['IYEAR'] == 2010+n)]), \n",
    "                                            '2000s': len(incident_df.loc[(incident_df['Installation_Decade'] == '2000s') & ((incident_df['MAP_CAUSE'] == 'MATERIAL/WELD/EQUIP FAILURE') | (incident_df['MAP_CAUSE'] == 'CORROSION')) & (incident_df['IYEAR'] == 2010+n)]), \n",
    "                                            '2010s': len(incident_df.loc[(incident_df['Installation_Decade'] == '2010s') & ((incident_df['MAP_CAUSE'] == 'MATERIAL/WELD/EQUIP FAILURE') | (incident_df['MAP_CAUSE'] == 'CORROSION')) & (incident_df['IYEAR'] == 2010+n)])}, ignore_index=True) \n"
   ]
  },
  {
   "cell_type": "code",
   "execution_count": 44,
   "metadata": {},
   "outputs": [],
   "source": [
    "incident_installation = incident_installation.set_index('Year')"
   ]
  },
  {
   "cell_type": "code",
   "execution_count": 75,
   "metadata": {},
   "outputs": [],
   "source": [
    "incident_installation_corr_mat = incident_installation_corr_mat.set_index('Year')"
   ]
  },
  {
   "cell_type": "code",
   "execution_count": 58,
   "metadata": {},
   "outputs": [],
   "source": [
    "incident_installation['Pre 1940_rate'] = incident_installation['Pre 1940']/(mileage_df['PARTI192029']+mileage_df['PARTI193039']+mileage_df['PARTIPRE20'])\n",
    "incident_installation['1940s_rate'] = incident_installation['1940s']/mileage_df['PARTI194049']\n",
    "incident_installation['1950s_rate'] = incident_installation['1950s']/mileage_df['PARTI195059']\n",
    "incident_installation['1960s_rate'] = incident_installation['1960s']/mileage_df['PARTI196069']\n",
    "incident_installation['1970s_rate'] = incident_installation['1970s']/mileage_df['PARTI197079']\n",
    "incident_installation['1980s_rate'] = incident_installation['1980s']/mileage_df['PARTI198089']\n",
    "incident_installation['1990s_rate'] = incident_installation['1990s']/mileage_df['PARTI199099']\n",
    "incident_installation['2000s_rate'] = incident_installation['2000s']/mileage_df['PARTI200009']\n",
    "incident_installation['2010s_rate'] = incident_installation['2010s']/mileage_df['PARTI201019']"
   ]
  },
  {
   "cell_type": "code",
   "execution_count": 77,
   "metadata": {},
   "outputs": [],
   "source": [
    "incident_installation_corr_mat['Pre 1940_rate'] = incident_installation_corr_mat['Pre 1940']/(mileage_df['PARTI192029']+mileage_df['PARTI193039']+mileage_df['PARTIPRE20'])\n",
    "incident_installation_corr_mat['1940s_rate'] = incident_installation_corr_mat['1940s']/mileage_df['PARTI194049']\n",
    "incident_installation_corr_mat['1950s_rate'] = incident_installation_corr_mat['1950s']/mileage_df['PARTI195059']\n",
    "incident_installation_corr_mat['1960s_rate'] = incident_installation_corr_mat['1960s']/mileage_df['PARTI196069']\n",
    "incident_installation_corr_mat['1970s_rate'] = incident_installation_corr_mat['1970s']/mileage_df['PARTI197079']\n",
    "incident_installation_corr_mat['1980s_rate'] = incident_installation_corr_mat['1980s']/mileage_df['PARTI198089']\n",
    "incident_installation_corr_mat['1990s_rate'] = incident_installation_corr_mat['1990s']/mileage_df['PARTI199099']\n",
    "incident_installation_corr_mat['2000s_rate'] = incident_installation_corr_mat['2000s']/mileage_df['PARTI200009']\n",
    "incident_installation_corr_mat['2010s_rate'] = incident_installation_corr_mat['2010s']/mileage_df['PARTI201019']"
   ]
  },
  {
   "cell_type": "code",
   "execution_count": 59,
   "metadata": {},
   "outputs": [],
   "source": [
    "incident_installation_average = incident_installation.mean(0)"
   ]
  },
  {
   "cell_type": "code",
   "execution_count": 78,
   "metadata": {},
   "outputs": [],
   "source": [
    "incident_installation_corr_mat_average = incident_installation_corr_mat.mean(0)"
   ]
  },
  {
   "cell_type": "code",
   "execution_count": 60,
   "metadata": {},
   "outputs": [
    {
     "data": {
      "text/plain": [
       "Index(['1940s', '1950s', '1960s', '1970s', '1980s', '1990s', '2000s', '2010s',\n",
       "       'Pre 1940', 'Pre 1940_rate', '1940s_rate', '1950s_rate', '1960s_rate',\n",
       "       '1970s_rate', '1980s_rate', '1990s_rate', '2000s_rate', '2010s_rate'],\n",
       "      dtype='object')"
      ]
     },
     "execution_count": 60,
     "metadata": {},
     "output_type": "execute_result"
    }
   ],
   "source": [
    "incident_installation_average.index"
   ]
  },
  {
   "cell_type": "code",
   "execution_count": 98,
   "metadata": {},
   "outputs": [
    {
     "data": {
      "image/png": "[encoded data removed]",
      "text/plain": [
       "<Figure size 432x288 with 1 Axes>"
      ]
     },
     "metadata": {
      "needs_background": "light"
     },
     "output_type": "display_data"
    }
   ],
   "source": [
    "#Stacked bar graph\n",
    "\n",
    "n = len(['Pre 1940', '1940s', '1950s', '1960s',\n",
    "       '1970s', '1980s', '1990s', '2000s', '2010s'])\n",
    "x = np.arange(n)  # the label locations\n",
    "width = 0.35\n",
    "\n",
    "fig, ax = plt.subplots()\n",
    "\n",
    "labels = ['Pre 1940', '1940s', '1950s', '1960s',\n",
    "       '1970s', '1980s', '1990s', '2000s', '2010s']\n",
    "\n",
    "values = incident_installation_average[['Pre 1940_rate', '1940s_rate', '1950s_rate', '1960s_rate',\n",
    "       '1970s_rate', '1980s_rate', '1990s_rate', '2000s_rate', '2010s_rate']]\n",
    "values_corr_mat = incident_installation_corr_mat_average[['Pre 1940_rate', '1940s_rate', '1950s_rate', '1960s_rate',\n",
    "       '1970s_rate', '1980s_rate', '1990s_rate', '2000s_rate', '2010s_rate']]\n",
    "\n",
    "a = ax.bar(x, values.values , width ) \n",
    "b = ax.axhline(y=incident_total_average['Total_rate'] , color='b', linestyle='--')\n",
    "c = ax.bar(x + width, values_corr_mat.values , width ) \n",
    "\n",
    "b.set_label('Overall Rupture Rate\\n')\n",
    "a.set_label('Rupture Rates base \\non Installation Decade\\n')\n",
    "c.set_label('Rupture Rates for Corrosion \\n& Material Failures Only')\n",
    "\n",
    "#xticks \n",
    "#plt.xticks(rotation=90) \n",
    "plt.xticks(x + width/2, labels, rotation = 90)\n",
    "\n",
    "#x-axis labels \n",
    "plt.xlabel('Installation Decade') \n",
    "\n",
    "\n",
    "#y-axis labels \n",
    "plt.ylabel('Rupture Rates') \n",
    "plt.ylim(bottom = 0.0000001, top=0.0001)\n",
    "plt.ticklabel_format(axis= 'y', style = 'sci', scilimits=(0,0))\n",
    "\n",
    "\n",
    "#plot title \n",
    "#plt.title('Ditribution of Incidents by Installation Year') \n",
    "\n",
    "#Legend\n",
    "plt.legend(bbox_to_anchor=(1.05, 1), loc='upper left')\n",
    "\n",
    "#adding Percentage values on the graph\n",
    "#plt.xticks(rotation=90)  \n",
    "#for n in a:\n",
    "   #height = n.get_height()\n",
    "   #plt.text(x=n.get_x() + n.get_width() / 2, y=height+.70, s=\"{}%\".format(height), ha='center')\n",
    "\n",
    "#save plot \n",
    "plot_path = os.getcwd() + '\\\\HL Rates Plots\\\\installation_rates'\n",
    "plt.savefig(plot_path, dpi=300,bbox_inches='tight')         \n",
    "        \n",
    "#display \n",
    "plt.show();"
   ]
  },
  {
   "cell_type": "code",
   "execution_count": 92,
   "metadata": {},
   "outputs": [
    {
     "data": {
      "text/plain": [
       "Pre 1940_rate    0.000016\n",
       "1940s_rate       0.000015\n",
       "1950s_rate       0.000028\n",
       "1960s_rate       0.000033\n",
       "1970s_rate       0.000015\n",
       "1980s_rate       0.000013\n",
       "1990s_rate       0.000003\n",
       "2000s_rate       0.000007\n",
       "2010s_rate       0.000007\n",
       "dtype: float64"
      ]
     },
     "execution_count": 92,
     "metadata": {},
     "output_type": "execute_result"
    }
   ],
   "source": [
    "incident_installation_average[['Pre 1940_rate', '1940s_rate', '1950s_rate', '1960s_rate',\n",
    "       '1970s_rate', '1980s_rate', '1990s_rate', '2000s_rate', '2010s_rate']]"
   ]
  },
  {
   "cell_type": "code",
   "execution_count": 50,
   "metadata": {},
   "outputs": [],
   "source": [
    "#calculating rupture rates based on diameter\n",
    "incident_diameter = pd.DataFrame()\n",
    "\n",
    "#Total incidents\n",
    "for n in range(0, 11):\n",
    "    incident_diameter= incident_diameter.append({'Year': 2010+n, 'd<=4': len(incident_df.loc[(incident_df['Diameter_Range'] == 'd<=4') & (incident_df['IYEAR'] == 2010+n)]), \n",
    "                                            '4<d<=10': len(incident_df.loc[(incident_df['Diameter_Range'] == '4<d<=10') & (incident_df['IYEAR'] == 2010+n)]), \n",
    "                                           '10<d<=20': len(incident_df.loc[(incident_df['Diameter_Range'] == '10<d<=20') & (incident_df['IYEAR'] == 2010+n)]), \n",
    "                                           '20<d<=28': len(incident_df.loc[(incident_df['Diameter_Range'] == '20<d<=28') & (incident_df['IYEAR'] == 2010+n)]), \n",
    "                                                '28<d': len(incident_df.loc[(incident_df['Diameter_Range'] == '28<d') & (incident_df['IYEAR'] == 2010+n)])}, ignore_index=True) \n"
   ]
  },
  {
   "cell_type": "code",
   "execution_count": 51,
   "metadata": {},
   "outputs": [],
   "source": [
    "incident_diameter = incident_diameter.set_index('Year')"
   ]
  },
  {
   "cell_type": "code",
   "execution_count": 52,
   "metadata": {},
   "outputs": [],
   "source": [
    "incident_diameter['d<=4_rate'] = incident_diameter['d<=4']/mileage_df['d<=4']\n",
    "incident_diameter['4<d<=10_rate'] = incident_diameter['4<d<=10']/mileage_df['4<d<=10']\n",
    "incident_diameter['10<d<=20_rate'] = incident_diameter['10<d<=20']/mileage_df['10<d<=20']\n",
    "incident_diameter['20<d<=28_rate'] = incident_diameter['20<d<=28']/mileage_df['20<d<=28']\n",
    "incident_diameter['28<d_rate'] = incident_diameter['28<d']/mileage_df['28<d']"
   ]
  },
  {
   "cell_type": "code",
   "execution_count": 53,
   "metadata": {},
   "outputs": [],
   "source": [
    "incident_diameter_average = incident_diameter.mean(0)"
   ]
  },
  {
   "cell_type": "code",
   "execution_count": 54,
   "metadata": {},
   "outputs": [
    {
     "data": {
      "text/plain": [
       "Index(['10<d<=20', '20<d<=28', '28<d', '4<d<=10', 'd<=4', 'd<=4_rate',\n",
       "       '4<d<=10_rate', '10<d<=20_rate', '20<d<=28_rate', '28<d_rate'],\n",
       "      dtype='object')"
      ]
     },
     "execution_count": 54,
     "metadata": {},
     "output_type": "execute_result"
    }
   ],
   "source": [
    "incident_diameter_average.index"
   ]
  },
  {
   "cell_type": "code",
   "execution_count": 99,
   "metadata": {},
   "outputs": [
    {
     "data": {
      "image/png": "[encoded data removed]",
      "text/plain": [
       "<Figure size 432x288 with 1 Axes>"
      ]
     },
     "metadata": {
      "needs_background": "light"
     },
     "output_type": "display_data"
    }
   ],
   "source": [
    "#Stacked bar graph\n",
    "\n",
    "windth = 10\n",
    "fig, ax = plt.subplots()\n",
    "\n",
    "labels = ['d<=4',\n",
    "       '4<d<=10', '10<d<=20', '20<d<=28', '28<d']\n",
    "\n",
    "values = incident_diameter_average[['d<=4_rate',\n",
    "       '4<d<=10_rate', '10<d<=20_rate', '20<d<=28_rate', '28<d_rate']]\n",
    "\n",
    "a = ax.bar(labels, values.values , align = 'center' ) \n",
    "b = ax.axhline(y=incident_total_average['Total_rate'] , color='b', linestyle='--')\n",
    "\n",
    "b.set_label('Overall Rupture Rate')\n",
    "\n",
    "#xticks \n",
    "plt.xticks(rotation=90) \n",
    "\n",
    "#x-axis labels \n",
    "plt.xlabel('Pipe Diameter') \n",
    "\n",
    "\n",
    "#y-axis labels \n",
    "plt.ylabel('Rupture Rates') \n",
    "plt.ylim(bottom = 0.0000001, top=0.00005)\n",
    "plt.ticklabel_format(axis= 'y', style = 'sci', scilimits=(0,0))\n",
    "\n",
    "\n",
    "#plot title \n",
    "#plt.title('Ditribution of Incidents by Installation Year') \n",
    "\n",
    "#Legend\n",
    "plt.legend(bbox_to_anchor=(1.05, 1), loc='upper left')\n",
    "\n",
    "#adding Percentage values on the graph\n",
    "#plt.xticks(rotation=90)  \n",
    "#for n in a:\n",
    "   #height = n.get_height()\n",
    "   #plt.text(x=n.get_x() + n.get_width() / 2, y=height+.70, s=\"{}%\".format(height), ha='center')\n",
    "\n",
    "#save plot \n",
    "plot_path = os.getcwd() + '\\\\HL Rates Plots\\\\diameter_rates'\n",
    "plt.savefig(plot_path, dpi=300,bbox_inches='tight')         \n",
    "        \n",
    "#display \n",
    "plt.show();"
   ]
  },
  {
   "cell_type": "code",
   "execution_count": 93,
   "metadata": {},
   "outputs": [
    {
     "data": {
      "text/plain": [
       "d<=4_rate        0.000007\n",
       "4<d<=10_rate     0.000019\n",
       "10<d<=20_rate    0.000015\n",
       "20<d<=28_rate    0.000035\n",
       "28<d_rate        0.000022\n",
       "dtype: float64"
      ]
     },
     "execution_count": 93,
     "metadata": {},
     "output_type": "execute_result"
    }
   ],
   "source": [
    "incident_diameter_average[['d<=4_rate',\n",
    "       '4<d<=10_rate', '10<d<=20_rate', '20<d<=28_rate', '28<d_rate']]"
   ]
  },
  {
   "cell_type": "code",
   "execution_count": 56,
   "metadata": {},
   "outputs": [],
   "source": [
    "#calculating rupture rates based on smys\n",
    "incident_smys = pd.DataFrame()\n",
    "\n",
    "#Total incidents\n",
    "for n in range(0, 11):\n",
    "    incident_smys= incident_smys.append({'Year': 2010+n, 'Less than 20%': len(incident_df.loc[(incident_df['SMYS_Cat'] == 'Less than 20%') & (incident_df['IYEAR'] == 2010+n)]), \n",
    "                                            'Greater than 20%': len(incident_df.loc[(incident_df['SMYS_Cat'] == 'Greater than 20%') & (incident_df['IYEAR'] == 2010+n)])}, ignore_index=True) \n"
   ]
  },
  {
   "cell_type": "code",
   "execution_count": 80,
   "metadata": {},
   "outputs": [],
   "source": [
    "#calculating rupture rates based on smys for corrosion and material causes only\n",
    "incident_smys_corr_mat = pd.DataFrame()\n",
    "\n",
    "#Total incidents\n",
    "for n in range(0, 11):\n",
    "    incident_smys_corr_mat= incident_smys_corr_mat.append({'Year': 2010+n, \n",
    "                                                           'Less than 20%': len(incident_df.loc[(incident_df['SMYS_Cat'] == 'Less than 20%') & ((incident_df['MAP_CAUSE'] == 'MATERIAL/WELD/EQUIP FAILURE') | (incident_df['MAP_CAUSE'] == 'CORROSION')) & (incident_df['IYEAR'] == 2010+n)]), \n",
    "                                            'Greater than 20%': len(incident_df.loc[(incident_df['SMYS_Cat'] == 'Greater than 20%') & ((incident_df['MAP_CAUSE'] == 'MATERIAL/WELD/EQUIP FAILURE') | (incident_df['MAP_CAUSE'] == 'CORROSION')) & (incident_df['IYEAR'] == 2010+n)])}, ignore_index=True) \n"
   ]
  },
  {
   "cell_type": "code",
   "execution_count": 57,
   "metadata": {},
   "outputs": [],
   "source": [
    "incident_smys = incident_smys.set_index('Year')"
   ]
  },
  {
   "cell_type": "code",
   "execution_count": 81,
   "metadata": {},
   "outputs": [],
   "source": [
    "incident_smys_corr_mat = incident_smys_corr_mat.set_index('Year')"
   ]
  },
  {
   "cell_type": "code",
   "execution_count": 62,
   "metadata": {},
   "outputs": [],
   "source": [
    "incident_smys['Less than 20%_rate'] = incident_smys['Less than 20%']/mileage_df['LessThan20OnTotal']\n",
    "incident_smys['Greater than 20%_rate'] = incident_smys['Greater than 20%']/mileage_df['PARTJST20MOREON']"
   ]
  },
  {
   "cell_type": "code",
   "execution_count": 86,
   "metadata": {},
   "outputs": [
    {
     "data": {
      "text/plain": [
       "9767.350733818183"
      ]
     },
     "execution_count": 86,
     "metadata": {},
     "output_type": "execute_result"
    }
   ],
   "source": [
    "mileage_df['LessThan20OnTotal'].mean(0)"
   ]
  },
  {
   "cell_type": "code",
   "execution_count": 87,
   "metadata": {},
   "outputs": [
    {
     "data": {
      "text/plain": [
       "309627.6677636364"
      ]
     },
     "execution_count": 87,
     "metadata": {},
     "output_type": "execute_result"
    }
   ],
   "source": [
    "mileage_df['PARTJST20MOREON'].mean(0)"
   ]
  },
  {
   "cell_type": "code",
   "execution_count": 82,
   "metadata": {},
   "outputs": [],
   "source": [
    "incident_smys_corr_mat['Less than 20%_rate'] = incident_smys_corr_mat['Less than 20%']/mileage_df['LessThan20OnTotal']\n",
    "incident_smys_corr_mat['Greater than 20%_rate'] = incident_smys_corr_mat['Greater than 20%']/mileage_df['PARTJST20MOREON']"
   ]
  },
  {
   "cell_type": "code",
   "execution_count": 63,
   "metadata": {},
   "outputs": [],
   "source": [
    "incident_smys_average = incident_smys.mean(0)"
   ]
  },
  {
   "cell_type": "code",
   "execution_count": 83,
   "metadata": {},
   "outputs": [],
   "source": [
    "incident_smys_corr_mat_average = incident_smys_corr_mat.mean(0)"
   ]
  },
  {
   "cell_type": "code",
   "execution_count": 64,
   "metadata": {},
   "outputs": [
    {
     "data": {
      "text/plain": [
       "Index(['Greater than 20%', 'Less than 20%', 'Less than 20%_rate',\n",
       "       'Greater than 20%_rate'],\n",
       "      dtype='object')"
      ]
     },
     "execution_count": 64,
     "metadata": {},
     "output_type": "execute_result"
    }
   ],
   "source": [
    "incident_smys_average.index"
   ]
  },
  {
   "cell_type": "code",
   "execution_count": 100,
   "metadata": {},
   "outputs": [
    {
     "data": {
      "image/png": "[encoded data removed]",
      "text/plain": [
       "<Figure size 432x288 with 1 Axes>"
      ]
     },
     "metadata": {
      "needs_background": "light"
     },
     "output_type": "display_data"
    }
   ],
   "source": [
    "#Stacked bar graph\n",
    "\n",
    "n = len(['Less than 20%_rate','Greater than 20%_rate'])\n",
    "x = np.arange(n)  # the label locations\n",
    "width = 0.35\n",
    "fig, ax = plt.subplots()\n",
    "\n",
    "labels = ['Less than 20%', 'Greater than 20%']\n",
    "\n",
    "values = incident_smys_average[['Less than 20%_rate','Greater than 20%_rate']]\n",
    "values_corr_mat = incident_smys_corr_mat_average[['Less than 20%_rate','Greater than 20%_rate']]\n",
    "\n",
    "a = ax.bar(x, values.values , width ) \n",
    "b = ax.axhline(y=incident_total_average['Total_rate'] , color='b', linestyle='--')\n",
    "c = ax.bar(x +width , values_corr_mat.values , width ) \n",
    "\n",
    "b.set_label('Overall Rupture Rate\\n')\n",
    "a.set_label('Rupture Rate base\\non Operating Stress\\n')\n",
    "c.set_label('Rupture Rate for Corrosion\\n& Material Failures Only')\n",
    "\n",
    "#xticks \n",
    "#plt.xticks(rotation=90) \n",
    "plt.xticks(x + width/2, labels, rotation=90) \n",
    "\n",
    "#x-axis labels \n",
    "plt.xlabel('Operating Stress') \n",
    "\n",
    "\n",
    "#y-axis labels \n",
    "plt.ylabel('Rupture Rates') \n",
    "plt.ylim(bottom = 0.0000001, top=0.00005)\n",
    "plt.ticklabel_format(axis= 'y', style = 'sci', scilimits=(0,0))\n",
    "\n",
    "\n",
    "#plot title \n",
    "#plt.title('Ditribution of Incidents by Installation Year') \n",
    "\n",
    "#Legend\n",
    "plt.legend(bbox_to_anchor=(1.05, 1), loc='upper left')\n",
    "\n",
    "#adding Percentage values on the graph\n",
    "#plt.xticks(rotation=90)  \n",
    "#for n in a:\n",
    "   #height = n.get_height()\n",
    "   #plt.text(x=n.get_x() + n.get_width() / 2, y=height+.70, s=\"{}%\".format(height), ha='center')\n",
    "\n",
    "#save plot \n",
    "plot_path = os.getcwd() + '\\\\HL Rates Plots\\\\smys_rates'\n",
    "plt.savefig(plot_path, dpi=300,bbox_inches='tight')         \n",
    "        \n",
    "#display \n",
    "plt.show();"
   ]
  },
  {
   "cell_type": "code",
   "execution_count": 94,
   "metadata": {},
   "outputs": [
    {
     "data": {
      "text/plain": [
       "Less than 20%_rate       0.000042\n",
       "Greater than 20%_rate    0.000017\n",
       "dtype: float64"
      ]
     },
     "execution_count": 94,
     "metadata": {},
     "output_type": "execute_result"
    }
   ],
   "source": [
    "incident_smys_average[['Less than 20%_rate','Greater than 20%_rate']]"
   ]
  },
  {
   "cell_type": "code",
   "execution_count": 66,
   "metadata": {},
   "outputs": [],
   "source": [
    "#calculating rupture rates based on commodity\n",
    "incident_commodity = pd.DataFrame()\n",
    "\n",
    "#Total incidents\n",
    "for n in range(0, 11):\n",
    "    incident_commodity= incident_commodity.append({'Year': 2010+n, \n",
    "                                                   'Crude Oil': len(incident_df.loc[(incident_df['COMMODITY_RELEASED_TYPE'] == 'CRUDE OIL') & (incident_df['IYEAR'] == 2010+n)]),\n",
    "                                                   'HVL': len(incident_df.loc[(incident_df['COMMODITY_RELEASED_TYPE'] == 'HVL OR OTHER FLAMMABLE OR TOXIC FLUID WHICH IS A GAS AT AMBIENT CONDITIONS') & (incident_df['IYEAR'] == 2010+n)]), \n",
    "                                                   'CO2': len(incident_df.loc[(incident_df['COMMODITY_RELEASED_TYPE'] == 'CO2 (CARBON DIOXIDE)') & (incident_df['IYEAR'] == 2010+n)]), \n",
    "                                            'Refined Products': len(incident_df.loc[(incident_df['COMMODITY_RELEASED_TYPE'] == 'REFINED AND/OR PETROLEUM PRODUCT (NON-HVL) WHICH IS A LIQUID AT AMBIENT CONDITIONS') & (incident_df['IYEAR'] == 2010+n)])}, ignore_index=True) \n"
   ]
  },
  {
   "cell_type": "code",
   "execution_count": 67,
   "metadata": {},
   "outputs": [],
   "source": [
    "incident_commodity = incident_commodity.set_index('Year')"
   ]
  },
  {
   "cell_type": "code",
   "execution_count": 68,
   "metadata": {},
   "outputs": [],
   "source": [
    "incident_commodity['Crude Oil_rate'] = incident_commodity['Crude Oil']/mileage_df['Crude Oil']\n",
    "incident_commodity['Refined Products_rate'] = incident_commodity['Refined Products']/mileage_df['Refined and/or Petroleum Product (non-HVL)']\n",
    "incident_commodity['CO2_rate'] = incident_commodity['CO2']/mileage_df['CO2']\n",
    "incident_commodity['HVL_rate'] = incident_commodity['HVL']/mileage_df['HVL']"
   ]
  },
  {
   "cell_type": "code",
   "execution_count": 69,
   "metadata": {},
   "outputs": [
    {
     "data": {
      "text/plain": [
       "CO2                      0.090909\n",
       "Crude Oil                2.181818\n",
       "HVL                      1.909091\n",
       "Refined Products         1.545455\n",
       "Crude Oil_rate           0.000021\n",
       "Refined Products_rate    0.000015\n",
       "CO2_rate                 0.000011\n",
       "HVL_rate                 0.000018\n",
       "dtype: float64"
      ]
     },
     "execution_count": 69,
     "metadata": {},
     "output_type": "execute_result"
    }
   ],
   "source": [
    "incident_commodity_average = incident_commodity.mean(0)\n",
    "incident_commodity_average"
   ]
  },
  {
   "cell_type": "code",
   "execution_count": 70,
   "metadata": {},
   "outputs": [
    {
     "data": {
      "text/plain": [
       "Index(['CO2', 'Crude Oil', 'HVL', 'Refined Products', 'Crude Oil_rate',\n",
       "       'Refined Products_rate', 'CO2_rate', 'HVL_rate'],\n",
       "      dtype='object')"
      ]
     },
     "execution_count": 70,
     "metadata": {},
     "output_type": "execute_result"
    }
   ],
   "source": [
    "incident_commodity_average.index"
   ]
  },
  {
   "cell_type": "code",
   "execution_count": 101,
   "metadata": {},
   "outputs": [
    {
     "data": {
      "image/png": "[encoded data removed]",
      "text/plain": [
       "<Figure size 432x288 with 1 Axes>"
      ]
     },
     "metadata": {
      "needs_background": "light"
     },
     "output_type": "display_data"
    }
   ],
   "source": [
    "#Stacked bar graph\n",
    "\n",
    "windth = 10\n",
    "fig, ax = plt.subplots()\n",
    "\n",
    "labels = ['Crude Oil',\n",
    "       'Refined Products', 'CO2', 'HVL']\n",
    "\n",
    "values = incident_commodity_average[['Crude Oil_rate',\n",
    "       'Refined Products_rate', 'CO2_rate', 'HVL_rate']]\n",
    "\n",
    "incident_total_average_gt = 2.5321106046177225e-05\n",
    "\n",
    "a = ax.bar(labels, values.values , align = 'center' ) \n",
    "b = ax.axhline(y=incident_total_average['Total_rate'] , color='b', linestyle='--')\n",
    "c = ax.axhline(y=incident_total_average_gt , color='r', linestyle='--')\n",
    "\n",
    "b.set_label('Overall HL Rupture Rate')\n",
    "c.set_label('Overall GT Rupture Rate')\n",
    "\n",
    "#xticks \n",
    "plt.xticks(rotation=90) \n",
    "\n",
    "#x-axis labels \n",
    "plt.xlabel('Commodity') \n",
    "\n",
    "\n",
    "#y-axis labels \n",
    "plt.ylabel('Rupture Rates') \n",
    "plt.ylim(bottom = 0.0000001, top=0.00005)\n",
    "plt.ticklabel_format(axis= 'y', style = 'sci', scilimits=(0,0))\n",
    "\n",
    "\n",
    "#plot title \n",
    "#plt.title('Ditribution of Incidents by Installation Year') \n",
    "\n",
    "#Legend\n",
    "plt.legend(bbox_to_anchor=(1.05, 1), loc='upper left')\n",
    "\n",
    "#adding Percentage values on the graph\n",
    "#plt.xticks(rotation=90)  \n",
    "#for n in a:\n",
    "   #height = n.get_height()\n",
    "   #plt.text(x=n.get_x() + n.get_width() / 2, y=height+.70, s=\"{}%\".format(height), ha='center')\n",
    "\n",
    "#save plot \n",
    "plot_path = os.getcwd() + '\\\\HL Rates Plots\\\\commodity_rates'\n",
    "plt.savefig(plot_path, dpi=300,bbox_inches='tight')         \n",
    "        \n",
    "#display \n",
    "plt.show();"
   ]
  },
  {
   "cell_type": "code",
   "execution_count": 91,
   "metadata": {},
   "outputs": [
    {
     "data": {
      "text/plain": [
       "CO2                      0.090909\n",
       "Crude Oil                2.181818\n",
       "HVL                      1.909091\n",
       "Refined Products         1.545455\n",
       "Crude Oil_rate           0.000021\n",
       "Refined Products_rate    0.000015\n",
       "CO2_rate                 0.000011\n",
       "HVL_rate                 0.000018\n",
       "dtype: float64"
      ]
     },
     "execution_count": 91,
     "metadata": {},
     "output_type": "execute_result"
    }
   ],
   "source": [
    "incident_commodity_average"
   ]
  },
  {
   "cell_type": "code",
   "execution_count": null,
   "metadata": {},
   "outputs": [],
   "source": []
  }
 ],
 "metadata": {
  "kernelspec": {
   "display_name": "Python 3",
   "language": "python",
   "name": "python3"
  },
  "language_info": {
   "codemirror_mode": {
    "name": "ipython",
    "version": 3
   },
   "file_extension": ".py",
   "mimetype": "text/x-python",
   "name": "python",
   "nbconvert_exporter": "python",
   "pygments_lexer": "ipython3",
   "version": "3.8.5"
  }
 },
 "nbformat": 4,
 "nbformat_minor": 4
}
