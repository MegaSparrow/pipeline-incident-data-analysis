{
 "cells": [
  {
   "cell_type": "code",
   "execution_count": 1,
   "metadata": {},
   "outputs": [],
   "source": [
    "import math\n",
    "import collections\n",
    "import os\n",
    "\n",
    "import numpy as np\n",
    "import pandas as pd\n",
    "import matplotlib.pyplot as plt\n",
    "\n",
    "%matplotlib inline"
   ]
  },
  {
   "cell_type": "code",
   "execution_count": 2,
   "metadata": {},
   "outputs": [],
   "source": [
    "pd.options.display.max_rows = 10"
   ]
  },
  {
   "cell_type": "code",
   "execution_count": 3,
   "metadata": {},
   "outputs": [
    {
     "data": {
      "text/plain": [
       "'C:\\\\Users\\\\Nasim\\\\Documents\\\\Heriot Watt Uni\\\\Dissertation\\\\Analysis'"
      ]
     },
     "execution_count": 3,
     "metadata": {},
     "output_type": "execute_result"
    }
   ],
   "source": [
    "path = os.getcwd()\n",
    "path"
   ]
  },
  {
   "cell_type": "code",
   "execution_count": 218,
   "metadata": {},
   "outputs": [],
   "source": [
    "incident_df = pd.read_csv('incident_df_gt.csv')"
   ]
  },
  {
   "cell_type": "code",
   "execution_count": 219,
   "metadata": {},
   "outputs": [],
   "source": [
    "incident_df = incident_df.loc[(incident_df['RELEASE_TYPE'] == 'RUPTURE')]"
   ]
  },
  {
   "cell_type": "code",
   "execution_count": 40,
   "metadata": {},
   "outputs": [],
   "source": [
    "#incident_df = incident_df.set_index('IYEAR')"
   ]
  },
  {
   "cell_type": "code",
   "execution_count": 220,
   "metadata": {},
   "outputs": [
    {
     "data": {
      "text/html": [
       "<div>\n",
       "<style scoped>\n",
       "    .dataframe tbody tr th:only-of-type {\n",
       "        vertical-align: middle;\n",
       "    }\n",
       "\n",
       "    .dataframe tbody tr th {\n",
       "        vertical-align: top;\n",
       "    }\n",
       "\n",
       "    .dataframe thead th {\n",
       "        text-align: right;\n",
       "    }\n",
       "</style>\n",
       "<table border=\"1\" class=\"dataframe\">\n",
       "  <thead>\n",
       "    <tr style=\"text-align: right;\">\n",
       "      <th></th>\n",
       "      <th>IYEAR</th>\n",
       "      <th>DATAFILE_AS_OF</th>\n",
       "      <th>SIGNIFICANT</th>\n",
       "      <th>SERIOUS</th>\n",
       "      <th>SYSTEM_TYPE</th>\n",
       "      <th>REPORT_NUMBER</th>\n",
       "      <th>SUPPLEMENTAL_NUMBER</th>\n",
       "      <th>REPORT_RECEIVED_DATE</th>\n",
       "      <th>REPORT_TYPE</th>\n",
       "      <th>OPERATOR_ID</th>\n",
       "      <th>...</th>\n",
       "      <th>AUTHORIZER_EMAIL</th>\n",
       "      <th>NARRATIVE</th>\n",
       "      <th>Installation_Decade</th>\n",
       "      <th>Diameter_Range</th>\n",
       "      <th>SMYS_Range</th>\n",
       "      <th>Hoop_Stress</th>\n",
       "      <th>SMYS%</th>\n",
       "      <th>SMYS_Cat</th>\n",
       "      <th>CP_Types</th>\n",
       "      <th>ign_expl</th>\n",
       "    </tr>\n",
       "  </thead>\n",
       "  <tbody>\n",
       "    <tr>\n",
       "      <th>0</th>\n",
       "      <td>2010</td>\n",
       "      <td>2021-11-30 10:22:41</td>\n",
       "      <td>YES</td>\n",
       "      <td>NO</td>\n",
       "      <td>GT (Gas Transmission)</td>\n",
       "      <td>20100002</td>\n",
       "      <td>15077</td>\n",
       "      <td>2010-03-12 14:42:51</td>\n",
       "      <td>SUPPLEMENTAL FINAL</td>\n",
       "      <td>18516</td>\n",
       "      <td>...</td>\n",
       "      <td>ken.peters@elpaso.com</td>\n",
       "      <td>ON JANUARY 6 2010 SOUTHERN NATURAL GAS (SNG) C...</td>\n",
       "      <td>1950s</td>\n",
       "      <td>20&lt;d&lt;=28</td>\n",
       "      <td>NaN</td>\n",
       "      <td>36000.000000</td>\n",
       "      <td>0.692308</td>\n",
       "      <td>60%-72%</td>\n",
       "      <td>CPC</td>\n",
       "      <td>Not Ignited</td>\n",
       "    </tr>\n",
       "    <tr>\n",
       "      <th>2</th>\n",
       "      <td>2010</td>\n",
       "      <td>2021-11-30 10:22:41</td>\n",
       "      <td>NO</td>\n",
       "      <td>NO</td>\n",
       "      <td>GT (Gas Transmission)</td>\n",
       "      <td>20100012</td>\n",
       "      <td>15129</td>\n",
       "      <td>2010-04-07 11:27:09</td>\n",
       "      <td>SUPPLEMENTAL FINAL</td>\n",
       "      <td>1007</td>\n",
       "      <td>...</td>\n",
       "      <td>bruce_hancock@kindermorgan.com</td>\n",
       "      <td>A METALLURGICAL ANALYSIS OF THE FAILURE WAS CO...</td>\n",
       "      <td>1940s</td>\n",
       "      <td>10&lt;d&lt;=20</td>\n",
       "      <td>NaN</td>\n",
       "      <td>23040.000000</td>\n",
       "      <td>0.658286</td>\n",
       "      <td>60%-72%</td>\n",
       "      <td>NaN</td>\n",
       "      <td>Not Ignited</td>\n",
       "    </tr>\n",
       "    <tr>\n",
       "      <th>3</th>\n",
       "      <td>2010</td>\n",
       "      <td>2021-11-30 10:22:41</td>\n",
       "      <td>YES</td>\n",
       "      <td>NO</td>\n",
       "      <td>GT (Gas Transmission)</td>\n",
       "      <td>20100013</td>\n",
       "      <td>15036</td>\n",
       "      <td>2010-04-08 11:26:14</td>\n",
       "      <td>SUPPLEMENTAL FINAL</td>\n",
       "      <td>12696</td>\n",
       "      <td>...</td>\n",
       "      <td>ngray@eprod.com</td>\n",
       "      <td>ON MARCH 22, 2010, LOCAL OPERATING PERSONNEL W...</td>\n",
       "      <td>1950s</td>\n",
       "      <td>10&lt;d&lt;=20</td>\n",
       "      <td>NaN</td>\n",
       "      <td>21000.000000</td>\n",
       "      <td>0.500000</td>\n",
       "      <td>40%-50%</td>\n",
       "      <td>CPC</td>\n",
       "      <td>Not Ignited</td>\n",
       "    </tr>\n",
       "    <tr>\n",
       "      <th>4</th>\n",
       "      <td>2010</td>\n",
       "      <td>2021-11-30 10:22:41</td>\n",
       "      <td>YES</td>\n",
       "      <td>NO</td>\n",
       "      <td>GT (Gas Transmission)</td>\n",
       "      <td>20100014</td>\n",
       "      <td>17098</td>\n",
       "      <td>2010-04-09 17:54:38</td>\n",
       "      <td>SUPPLEMENTAL FINAL</td>\n",
       "      <td>31286</td>\n",
       "      <td>...</td>\n",
       "      <td>wesley.dunbar@oneok.com</td>\n",
       "      <td>ONEOK GAS TRANPORTATION A-26 26INCH PIPELINE R...</td>\n",
       "      <td>1950s</td>\n",
       "      <td>20&lt;d&lt;=28</td>\n",
       "      <td>NaN</td>\n",
       "      <td>31200.000000</td>\n",
       "      <td>0.600000</td>\n",
       "      <td>50%-60%</td>\n",
       "      <td>CPC</td>\n",
       "      <td>Ignited Only</td>\n",
       "    </tr>\n",
       "    <tr>\n",
       "      <th>15</th>\n",
       "      <td>2010</td>\n",
       "      <td>2021-11-30 10:22:41</td>\n",
       "      <td>YES</td>\n",
       "      <td>NO</td>\n",
       "      <td>GT (Gas Transmission)</td>\n",
       "      <td>20100050</td>\n",
       "      <td>16095</td>\n",
       "      <td>2010-08-27 11:41:45</td>\n",
       "      <td>SUPPLEMENTAL FINAL</td>\n",
       "      <td>32099</td>\n",
       "      <td>...</td>\n",
       "      <td>danny.nichols@energytransfer.com</td>\n",
       "      <td>ETC EXPERIENCED A RUPTURE ON THE 36\" OASIS PIP...</td>\n",
       "      <td>1970s</td>\n",
       "      <td>28&lt;d</td>\n",
       "      <td>NaN</td>\n",
       "      <td>43150.684932</td>\n",
       "      <td>0.719178</td>\n",
       "      <td>60%-72%</td>\n",
       "      <td>NaN</td>\n",
       "      <td>Not Ignited</td>\n",
       "    </tr>\n",
       "    <tr>\n",
       "      <th>...</th>\n",
       "      <td>...</td>\n",
       "      <td>...</td>\n",
       "      <td>...</td>\n",
       "      <td>...</td>\n",
       "      <td>...</td>\n",
       "      <td>...</td>\n",
       "      <td>...</td>\n",
       "      <td>...</td>\n",
       "      <td>...</td>\n",
       "      <td>...</td>\n",
       "      <td>...</td>\n",
       "      <td>...</td>\n",
       "      <td>...</td>\n",
       "      <td>...</td>\n",
       "      <td>...</td>\n",
       "      <td>...</td>\n",
       "      <td>...</td>\n",
       "      <td>...</td>\n",
       "      <td>...</td>\n",
       "      <td>...</td>\n",
       "      <td>...</td>\n",
       "    </tr>\n",
       "    <tr>\n",
       "      <th>418</th>\n",
       "      <td>2020</td>\n",
       "      <td>2021-11-30 10:22:41</td>\n",
       "      <td>YES</td>\n",
       "      <td>NO</td>\n",
       "      <td>GT (Gas Transmission)</td>\n",
       "      <td>20200110</td>\n",
       "      <td>35519</td>\n",
       "      <td>2020-10-22 17:52:40</td>\n",
       "      <td>SUPPLEMENTAL</td>\n",
       "      <td>13120</td>\n",
       "      <td>...</td>\n",
       "      <td>jaime_hernandez@kindermorga.com</td>\n",
       "      <td>ON SEPTEMBER 24, 2020 THE NATURAL GAS PIPELINE...</td>\n",
       "      <td>1960s</td>\n",
       "      <td>10&lt;d&lt;=20</td>\n",
       "      <td>NaN</td>\n",
       "      <td>42553.191489</td>\n",
       "      <td>0.709220</td>\n",
       "      <td>60%-72%</td>\n",
       "      <td>CPC</td>\n",
       "      <td>Not Ignited</td>\n",
       "    </tr>\n",
       "    <tr>\n",
       "      <th>419</th>\n",
       "      <td>2020</td>\n",
       "      <td>2021-11-30 10:22:41</td>\n",
       "      <td>YES</td>\n",
       "      <td>NO</td>\n",
       "      <td>GT (Gas Transmission)</td>\n",
       "      <td>20200112</td>\n",
       "      <td>35005</td>\n",
       "      <td>2020-10-23 22:42:25</td>\n",
       "      <td>SUPPLEMENTAL FINAL</td>\n",
       "      <td>5304</td>\n",
       "      <td>...</td>\n",
       "      <td>todd.nardozzi@energytransfer.com</td>\n",
       "      <td>AT ~9:48 EDT ON 9/24/2020, LOCAL OPERATIONS PE...</td>\n",
       "      <td>1950s</td>\n",
       "      <td>10&lt;d&lt;=20</td>\n",
       "      <td>NaN</td>\n",
       "      <td>31176.000000</td>\n",
       "      <td>0.599538</td>\n",
       "      <td>50%-60%</td>\n",
       "      <td>NaN</td>\n",
       "      <td>Not Ignited</td>\n",
       "    </tr>\n",
       "    <tr>\n",
       "      <th>420</th>\n",
       "      <td>2020</td>\n",
       "      <td>2021-11-30 10:22:41</td>\n",
       "      <td>YES</td>\n",
       "      <td>NO</td>\n",
       "      <td>GT (Gas Transmission)</td>\n",
       "      <td>20200116</td>\n",
       "      <td>35247</td>\n",
       "      <td>2020-11-02 17:57:45</td>\n",
       "      <td>SUPPLEMENTAL FINAL</td>\n",
       "      <td>31451</td>\n",
       "      <td>...</td>\n",
       "      <td>jaime_hernandez@kindermorgan.com</td>\n",
       "      <td>ON OCTOBER 4, 2020 THE KINDER MORGAN TEXAS PIP...</td>\n",
       "      <td>1980s</td>\n",
       "      <td>20&lt;d&lt;=28</td>\n",
       "      <td>NaN</td>\n",
       "      <td>25534.020619</td>\n",
       "      <td>0.425567</td>\n",
       "      <td>40%-50%</td>\n",
       "      <td>NaN</td>\n",
       "      <td>Not Ignited</td>\n",
       "    </tr>\n",
       "    <tr>\n",
       "      <th>424</th>\n",
       "      <td>2020</td>\n",
       "      <td>2021-11-30 10:22:41</td>\n",
       "      <td>YES</td>\n",
       "      <td>NO</td>\n",
       "      <td>GT (Gas Transmission)</td>\n",
       "      <td>20210006</td>\n",
       "      <td>34995</td>\n",
       "      <td>2021-01-14 07:59:35</td>\n",
       "      <td>SUPPLEMENTAL FINAL</td>\n",
       "      <td>602</td>\n",
       "      <td>...</td>\n",
       "      <td>casey.roberts@enablemidstream.com</td>\n",
       "      <td>ON DECEMBER 18TH, 2020 AT 15:22 ENABLE GAS TRA...</td>\n",
       "      <td>1940s</td>\n",
       "      <td>10&lt;d&lt;=20</td>\n",
       "      <td>NaN</td>\n",
       "      <td>7692.307692</td>\n",
       "      <td>0.167224</td>\n",
       "      <td>Less than 20%</td>\n",
       "      <td>NaN</td>\n",
       "      <td>Not Ignited</td>\n",
       "    </tr>\n",
       "    <tr>\n",
       "      <th>425</th>\n",
       "      <td>2020</td>\n",
       "      <td>2021-11-30 10:22:41</td>\n",
       "      <td>YES</td>\n",
       "      <td>NO</td>\n",
       "      <td>GT (Gas Transmission)</td>\n",
       "      <td>20210008</td>\n",
       "      <td>34864</td>\n",
       "      <td>2021-01-21 09:37:20</td>\n",
       "      <td>SUPPLEMENTAL FINAL</td>\n",
       "      <td>13750</td>\n",
       "      <td>...</td>\n",
       "      <td>thomas.correll@nngco.com</td>\n",
       "      <td>AT 15:19 ON DECEMBER 24, 2020, NORTHERN NATURA...</td>\n",
       "      <td>1960s</td>\n",
       "      <td>20&lt;d&lt;=28</td>\n",
       "      <td>NaN</td>\n",
       "      <td>30769.230769</td>\n",
       "      <td>0.591716</td>\n",
       "      <td>50%-60%</td>\n",
       "      <td>NaN</td>\n",
       "      <td>Explosion</td>\n",
       "    </tr>\n",
       "  </tbody>\n",
       "</table>\n",
       "<p>136 rows × 647 columns</p>\n",
       "</div>"
      ],
      "text/plain": [
       "     IYEAR       DATAFILE_AS_OF SIGNIFICANT SERIOUS            SYSTEM_TYPE  \\\n",
       "0     2010  2021-11-30 10:22:41         YES      NO  GT (Gas Transmission)   \n",
       "2     2010  2021-11-30 10:22:41          NO      NO  GT (Gas Transmission)   \n",
       "3     2010  2021-11-30 10:22:41         YES      NO  GT (Gas Transmission)   \n",
       "4     2010  2021-11-30 10:22:41         YES      NO  GT (Gas Transmission)   \n",
       "15    2010  2021-11-30 10:22:41         YES      NO  GT (Gas Transmission)   \n",
       "..     ...                  ...         ...     ...                    ...   \n",
       "418   2020  2021-11-30 10:22:41         YES      NO  GT (Gas Transmission)   \n",
       "419   2020  2021-11-30 10:22:41         YES      NO  GT (Gas Transmission)   \n",
       "420   2020  2021-11-30 10:22:41         YES      NO  GT (Gas Transmission)   \n",
       "424   2020  2021-11-30 10:22:41         YES      NO  GT (Gas Transmission)   \n",
       "425   2020  2021-11-30 10:22:41         YES      NO  GT (Gas Transmission)   \n",
       "\n",
       "     REPORT_NUMBER  SUPPLEMENTAL_NUMBER REPORT_RECEIVED_DATE  \\\n",
       "0         20100002                15077  2010-03-12 14:42:51   \n",
       "2         20100012                15129  2010-04-07 11:27:09   \n",
       "3         20100013                15036  2010-04-08 11:26:14   \n",
       "4         20100014                17098  2010-04-09 17:54:38   \n",
       "15        20100050                16095  2010-08-27 11:41:45   \n",
       "..             ...                  ...                  ...   \n",
       "418       20200110                35519  2020-10-22 17:52:40   \n",
       "419       20200112                35005  2020-10-23 22:42:25   \n",
       "420       20200116                35247  2020-11-02 17:57:45   \n",
       "424       20210006                34995  2021-01-14 07:59:35   \n",
       "425       20210008                34864  2021-01-21 09:37:20   \n",
       "\n",
       "            REPORT_TYPE  OPERATOR_ID  ...                   AUTHORIZER_EMAIL  \\\n",
       "0    SUPPLEMENTAL FINAL        18516  ...              ken.peters@elpaso.com   \n",
       "2    SUPPLEMENTAL FINAL         1007  ...     bruce_hancock@kindermorgan.com   \n",
       "3    SUPPLEMENTAL FINAL        12696  ...                    ngray@eprod.com   \n",
       "4    SUPPLEMENTAL FINAL        31286  ...            wesley.dunbar@oneok.com   \n",
       "15   SUPPLEMENTAL FINAL        32099  ...   danny.nichols@energytransfer.com   \n",
       "..                  ...          ...  ...                                ...   \n",
       "418        SUPPLEMENTAL        13120  ...    jaime_hernandez@kindermorga.com   \n",
       "419  SUPPLEMENTAL FINAL         5304  ...   todd.nardozzi@energytransfer.com   \n",
       "420  SUPPLEMENTAL FINAL        31451  ...   jaime_hernandez@kindermorgan.com   \n",
       "424  SUPPLEMENTAL FINAL          602  ...  casey.roberts@enablemidstream.com   \n",
       "425  SUPPLEMENTAL FINAL        13750  ...           thomas.correll@nngco.com   \n",
       "\n",
       "                                             NARRATIVE Installation_Decade  \\\n",
       "0    ON JANUARY 6 2010 SOUTHERN NATURAL GAS (SNG) C...               1950s   \n",
       "2    A METALLURGICAL ANALYSIS OF THE FAILURE WAS CO...               1940s   \n",
       "3    ON MARCH 22, 2010, LOCAL OPERATING PERSONNEL W...               1950s   \n",
       "4    ONEOK GAS TRANPORTATION A-26 26INCH PIPELINE R...               1950s   \n",
       "15   ETC EXPERIENCED A RUPTURE ON THE 36\" OASIS PIP...               1970s   \n",
       "..                                                 ...                 ...   \n",
       "418  ON SEPTEMBER 24, 2020 THE NATURAL GAS PIPELINE...               1960s   \n",
       "419  AT ~9:48 EDT ON 9/24/2020, LOCAL OPERATIONS PE...               1950s   \n",
       "420  ON OCTOBER 4, 2020 THE KINDER MORGAN TEXAS PIP...               1980s   \n",
       "424  ON DECEMBER 18TH, 2020 AT 15:22 ENABLE GAS TRA...               1940s   \n",
       "425  AT 15:19 ON DECEMBER 24, 2020, NORTHERN NATURA...               1960s   \n",
       "\n",
       "    Diameter_Range SMYS_Range   Hoop_Stress     SMYS%       SMYS_Cat  \\\n",
       "0         20<d<=28        NaN  36000.000000  0.692308        60%-72%   \n",
       "2         10<d<=20        NaN  23040.000000  0.658286        60%-72%   \n",
       "3         10<d<=20        NaN  21000.000000  0.500000        40%-50%   \n",
       "4         20<d<=28        NaN  31200.000000  0.600000        50%-60%   \n",
       "15            28<d        NaN  43150.684932  0.719178        60%-72%   \n",
       "..             ...        ...           ...       ...            ...   \n",
       "418       10<d<=20        NaN  42553.191489  0.709220        60%-72%   \n",
       "419       10<d<=20        NaN  31176.000000  0.599538        50%-60%   \n",
       "420       20<d<=28        NaN  25534.020619  0.425567        40%-50%   \n",
       "424       10<d<=20        NaN   7692.307692  0.167224  Less than 20%   \n",
       "425       20<d<=28        NaN  30769.230769  0.591716        50%-60%   \n",
       "\n",
       "     CP_Types      ign_expl  \n",
       "0         CPC   Not Ignited  \n",
       "2         NaN   Not Ignited  \n",
       "3         CPC   Not Ignited  \n",
       "4         CPC  Ignited Only  \n",
       "15        NaN   Not Ignited  \n",
       "..        ...           ...  \n",
       "418       CPC   Not Ignited  \n",
       "419       NaN   Not Ignited  \n",
       "420       NaN   Not Ignited  \n",
       "424       NaN   Not Ignited  \n",
       "425       NaN     Explosion  \n",
       "\n",
       "[136 rows x 647 columns]"
      ]
     },
     "execution_count": 220,
     "metadata": {},
     "output_type": "execute_result"
    }
   ],
   "source": [
    "incident_df"
   ]
  },
  {
   "cell_type": "code",
   "execution_count": null,
   "metadata": {},
   "outputs": [],
   "source": []
  },
  {
   "cell_type": "code",
   "execution_count": 35,
   "metadata": {},
   "outputs": [],
   "source": [
    "mileage_df = pd.read_csv('mileage_df_gt.csv')"
   ]
  },
  {
   "cell_type": "code",
   "execution_count": 57,
   "metadata": {},
   "outputs": [],
   "source": [
    "mileage_df = mileage_df.set_index('Year')"
   ]
  },
  {
   "cell_type": "code",
   "execution_count": 59,
   "metadata": {},
   "outputs": [
    {
     "data": {
      "text/plain": [
       "Int64Index([2010, 2011, 2012, 2013, 2014, 2015, 2016, 2017, 2018, 2019, 2020], dtype='int64', name='Year')"
      ]
     },
     "execution_count": 59,
     "metadata": {},
     "output_type": "execute_result"
    }
   ],
   "source": [
    "mileage_df.index"
   ]
  },
  {
   "cell_type": "code",
   "execution_count": 221,
   "metadata": {},
   "outputs": [],
   "source": [
    "#calculating rupture rates pipelines (no attributes)\n",
    "incident_total = pd.DataFrame()\n",
    "\n",
    "#Total incidents\n",
    "for n in range(0, 11):\n",
    "    incident_total = incident_total.append({'Year': int(2010+n), 'Total': len(incident_df.loc[incident_df['IYEAR'] == 2010+n]), \n",
    "                                            'Excavation Damage': len(incident_df.loc[(incident_df['MAP_CAUSE'] == 'EXCAVATION DAMAGE') & (incident_df['IYEAR'] == 2010+n)]), \n",
    "                                           'Corrosion': len(incident_df.loc[(incident_df['MAP_CAUSE'] == 'CORROSION') & (incident_df['IYEAR'] == 2010+n)]), \n",
    "                                           'Incorrect Operations': len(incident_df.loc[(incident_df['MAP_CAUSE'] == 'INCORRECT OPERATION') & (incident_df['IYEAR'] == 2010+n)]), \n",
    "                                           'All Other Causes': len(incident_df.loc[(incident_df['MAP_CAUSE'] == 'ALL OTHER CAUSES') & (incident_df['IYEAR'] == 2010+n)]), \n",
    "                                           'Material Failure': len(incident_df.loc[(incident_df['MAP_CAUSE'] == 'MATERIAL/WELD/EQUIP FAILURE') & (incident_df['IYEAR'] == 2010+n)]), \n",
    "                                            'Natural Force Damage': len(incident_df.loc[(incident_df['MAP_CAUSE'] == 'NATURAL FORCE DAMAGE') & (incident_df['IYEAR'] == 2010+n)]), \n",
    "                                           'Other Outside Forces': len(incident_df.loc[(incident_df['MAP_CAUSE'] == 'OTHER OUTSIDE FORCE DAMAGE') & (incident_df['IYEAR'] == 2010+n)]),}, ignore_index=True) \n"
   ]
  },
  {
   "cell_type": "code",
   "execution_count": null,
   "metadata": {},
   "outputs": [],
   "source": []
  },
  {
   "cell_type": "code",
   "execution_count": 222,
   "metadata": {},
   "outputs": [],
   "source": [
    "incident_total = incident_total.set_index('Year')"
   ]
  },
  {
   "cell_type": "code",
   "execution_count": 223,
   "metadata": {},
   "outputs": [],
   "source": [
    "incident_total['Total_rate'] = incident_total['Total']/mileage_df['Total_km']\n",
    "incident_total['All Other Causes_rate'] = incident_total['All Other Causes']/mileage_df['Total_km']\n",
    "incident_total['Corrosion_rate'] = incident_total['Corrosion']/mileage_df['Total_km']\n",
    "incident_total['Excavation Damage_rate'] = incident_total['Excavation Damage']/mileage_df['Total_km']\n",
    "\n",
    "incident_total['Incorrect Operations_rate'] = incident_total['Incorrect Operations']/mileage_df['Total_km']\n",
    "incident_total['Material Failure_rate'] = incident_total['Material Failure']/mileage_df['Total_km']\n",
    "\n",
    "incident_total['Natural Force Damage_rate'] = incident_total['Natural Force Damage']/mileage_df['Total_km']\n",
    "incident_total['Other Outside Forces_rate'] = incident_total['Other Outside Forces']/mileage_df['Total_km']"
   ]
  },
  {
   "cell_type": "code",
   "execution_count": 401,
   "metadata": {},
   "outputs": [],
   "source": [
    "incident_total_average = incident_total.mean(0)"
   ]
  },
  {
   "cell_type": "code",
   "execution_count": 285,
   "metadata": {},
   "outputs": [],
   "source": [
    "incident_total.to_csv('Results\\\\incident_total_gt.csv')"
   ]
  },
  {
   "cell_type": "code",
   "execution_count": 402,
   "metadata": {},
   "outputs": [
    {
     "data": {
      "text/plain": [
       "Excavation Damage_rate       3.038323e-06\n",
       "Corrosion_rate               8.747761e-06\n",
       "Material Failure_rate        9.500541e-06\n",
       "Natural Force Damage_rate    2.473213e-06\n",
       "Other Outside Forces_rate    1.329738e-06\n",
       "Incorrect Operations_rate    1.896207e-07\n",
       "All Other Causes_rate        5.757361e-07\n",
       "dtype: float64"
      ]
     },
     "execution_count": 402,
     "metadata": {},
     "output_type": "execute_result"
    }
   ],
   "source": [
    "incident_total_average[['Excavation Damage_rate', 'Corrosion_rate', 'Material Failure_rate', \n",
    "                        'Natural Force Damage_rate', 'Other Outside Forces_rate', 'Incorrect Operations_rate', \n",
    "                        'All Other Causes_rate']]\n"
   ]
  },
  {
   "cell_type": "code",
   "execution_count": 404,
   "metadata": {},
   "outputs": [
    {
     "data": {
      "image/png": "[encoded data removed]",
      "text/plain": [
       "<Figure size 432x288 with 1 Axes>"
      ]
     },
     "metadata": {
      "needs_background": "light"
     },
     "output_type": "display_data"
    }
   ],
   "source": [
    "#Stacked bar graph\n",
    "\n",
    "windth = 10\n",
    "fig, ax = plt.subplots()\n",
    "\n",
    "labels = ['Excavation Damage', 'Corrosion', 'Material Failure', \n",
    "                        'Natural Force', 'Other Outside Forces', 'Incorrect Operations', \n",
    "                        'All Other Causes']\n",
    "\n",
    "values = incident_total_average[['Excavation Damage_rate', 'Corrosion_rate', 'Material Failure_rate', \n",
    "                        'Natural Force Damage_rate', 'Other Outside Forces_rate', 'Incorrect Operations_rate', \n",
    "                        'All Other Causes_rate']]\n",
    "\n",
    "a = ax.bar(labels, values.values , align = 'center' ) \n",
    "b = ax.axhline(y=incident_total_average['Total_rate'] , color='b', linestyle='--')\n",
    "\n",
    "b.set_label('Overall Rupture Rate')\n",
    "\n",
    "#xticks \n",
    "plt.xticks(rotation=90) \n",
    "\n",
    "#x-axis labels \n",
    "plt.xlabel('Failure Causes') \n",
    "\n",
    "\n",
    "#y-axis labels \n",
    "plt.ylabel('Rupture Rates') \n",
    "plt.ylim(bottom = 0.0000001, top=0.00003)\n",
    "plt.ticklabel_format(axis= 'y', style = 'sci', scilimits=(0,0))\n",
    "\n",
    "\n",
    "#plot title \n",
    "#plt.title('Ditribution of Incidents by Installation Year') \n",
    "\n",
    "#Legend\n",
    "plt.legend(bbox_to_anchor=(1.05, 1), loc='upper left')\n",
    "\n",
    "#adding Percentage values on the graph\n",
    "#plt.xticks(rotation=90)  \n",
    "#for n in a:\n",
    "   #height = n.get_height()\n",
    "   #plt.text(x=n.get_x() + n.get_width() / 2, y=height+.70, s=\"{}%\".format(height), ha='center')\n",
    "\n",
    "#save plot \n",
    "plot_path = os.getcwd() + '\\\\GT Rates Plots\\\\Total_rates'\n",
    "plt.savefig(plot_path, dpi=300,bbox_inches='tight')         \n",
    "        \n",
    "#display \n",
    "plt.show();"
   ]
  },
  {
   "cell_type": "code",
   "execution_count": 108,
   "metadata": {},
   "outputs": [
    {
     "data": {
      "text/plain": [
       "2.5321106046177225e-05"
      ]
     },
     "execution_count": 108,
     "metadata": {},
     "output_type": "execute_result"
    }
   ],
   "source": [
    "incident_total_average['Total_rate']"
   ]
  },
  {
   "cell_type": "code",
   "execution_count": 227,
   "metadata": {},
   "outputs": [],
   "source": [
    "#calculating rupture rates based on cp\n",
    "incident_cp = pd.DataFrame()\n",
    "\n",
    "#Total incidents\n",
    "for n in range(0, 11):\n",
    "    incident_cp= incident_cp.append({'Year': 2010+n, 'CPC': len(incident_df.loc[(incident_df['CP_Types'] == 'CPC') & (incident_df['IYEAR'] == 2010+n)]), \n",
    "                                            'CPB': len(incident_df.loc[(incident_df['CP_Types'] == 'CPB') & (incident_df['IYEAR'] == 2010+n)]), \n",
    "                                           'CUC': len(incident_df.loc[(incident_df['CP_Types'] == 'CUC') & (incident_df['IYEAR'] == 2010+n)]), \n",
    "                                           'CUB': len(incident_df.loc[(incident_df['CP_Types'] == 'CUB') & (incident_df['IYEAR'] == 2010+n)])}, ignore_index=True) \n"
   ]
  },
  {
   "cell_type": "code",
   "execution_count": 287,
   "metadata": {},
   "outputs": [],
   "source": [
    "#calculating rupture rates based on cp\n",
    "incident_cp_ext = pd.DataFrame()\n",
    "\n",
    "#Total incidents\n",
    "for n in range(0, 11):\n",
    "    incident_cp_ext= incident_cp_ext.append({'Year': 2010+n, 'CPC': len(incident_df.loc[(incident_df['CP_Types'] == 'CPC') & (incident_df['MAP_SUBCAUSE'] == 'EXTERNAL') & (incident_df['IYEAR'] == 2010+n)]), \n",
    "                                            'CPB': len(incident_df.loc[(incident_df['CP_Types'] == 'CPB') & (incident_df['MAP_SUBCAUSE'] == 'EXTERNAL') & (incident_df['IYEAR'] == 2010+n)]), \n",
    "                                           'CUC': len(incident_df.loc[(incident_df['CP_Types'] == 'CUC') & (incident_df['MAP_SUBCAUSE'] == 'EXTERNAL') & (incident_df['IYEAR'] == 2010+n)]), \n",
    "                                           'CUB': len(incident_df.loc[(incident_df['CP_Types'] == 'CUB') & (incident_df['MAP_SUBCAUSE'] == 'EXTERNAL') & (incident_df['IYEAR'] == 2010+n)])}, ignore_index=True) \n"
   ]
  },
  {
   "cell_type": "code",
   "execution_count": 228,
   "metadata": {},
   "outputs": [],
   "source": [
    "incident_cp = incident_cp.set_index('Year')"
   ]
  },
  {
   "cell_type": "code",
   "execution_count": 289,
   "metadata": {},
   "outputs": [],
   "source": [
    "incident_cp_ext = incident_cp_ext.set_index('Year')"
   ]
  },
  {
   "cell_type": "code",
   "execution_count": 229,
   "metadata": {},
   "outputs": [],
   "source": [
    "incident_cp['CPC_rate'] = incident_cp['CPC']/mileage_df['cpc']\n",
    "incident_cp['CPB_rate'] = incident_cp['CPB']/mileage_df['cpb']\n",
    "incident_cp['CUC_rate'] = incident_cp['CUC']/mileage_df['cuc']\n",
    "incident_cp['CUB_rate'] = incident_cp['CUB']/mileage_df['cub']"
   ]
  },
  {
   "cell_type": "code",
   "execution_count": 290,
   "metadata": {},
   "outputs": [],
   "source": [
    "incident_cp_ext['CPC_rate'] = incident_cp_ext['CPC']/mileage_df['cpc']\n",
    "incident_cp_ext['CPB_rate'] = incident_cp_ext['CPB']/mileage_df['cpb']\n",
    "incident_cp_ext['CUC_rate'] = incident_cp_ext['CUC']/mileage_df['cuc']\n",
    "incident_cp_ext['CUB_rate'] = incident_cp_ext['CUB']/mileage_df['cub']"
   ]
  },
  {
   "cell_type": "code",
   "execution_count": 230,
   "metadata": {},
   "outputs": [],
   "source": [
    "incident_cp_average = incident_cp.mean(0)"
   ]
  },
  {
   "cell_type": "code",
   "execution_count": 291,
   "metadata": {},
   "outputs": [],
   "source": [
    "incident_cp_ext_average = incident_cp_ext.mean(0)"
   ]
  },
  {
   "cell_type": "code",
   "execution_count": 341,
   "metadata": {},
   "outputs": [
    {
     "data": {
      "text/plain": [
       "CPB         0.090909\n",
       "CPC         2.272727\n",
       "CUB         0.181818\n",
       "CUC         0.090909\n",
       "CPC_rate    0.000005\n",
       "CPB_rate    0.000013\n",
       "CUC_rate    0.000241\n",
       "CUB_rate    0.000127\n",
       "dtype: float64"
      ]
     },
     "execution_count": 341,
     "metadata": {},
     "output_type": "execute_result"
    }
   ],
   "source": [
    "incident_cp_average"
   ]
  },
  {
   "cell_type": "code",
   "execution_count": 405,
   "metadata": {},
   "outputs": [
    {
     "data": {
      "image/png": "[encoded data removed]",
      "text/plain": [
       "<Figure size 432x288 with 1 Axes>"
      ]
     },
     "metadata": {
      "needs_background": "light"
     },
     "output_type": "display_data"
    }
   ],
   "source": [
    "#Stacked bar graph\n",
    "\n",
    "n = len(['CPC', 'CPB', 'CUC','CUB'])\n",
    "x = np.arange(n)  # the label locations\n",
    "width = 0.35\n",
    "fig, ax = plt.subplots()\n",
    "\n",
    "labels = ['CPC', 'CPB', 'CUC','CUB']\n",
    "\n",
    "values = incident_cp_average[['CPC_rate', 'CPB_rate', 'CUC_rate','CUB_rate']]\n",
    "values_ext = incident_cp_ext_average[['CPC_rate', 'CPB_rate', 'CUC_rate','CUB_rate']]\n",
    "\n",
    "a = ax.bar(x, values.values) \n",
    "b = ax.axhline(y=incident_total_average['Total_rate'] , color='b', linestyle='--')\n",
    "#c = ax.bar(x + width, values_ext.values, width) \n",
    "\n",
    "\n",
    "b.set_label('Overall Rupture Rate')\n",
    "\n",
    "#xticks \n",
    "#plt.xticks(rotation=90) \n",
    "plt.xticks(x, labels, rotation = 90)\n",
    "\n",
    "#x-axis labels \n",
    "plt.xlabel('Corrosion Prevention Measures') \n",
    "\n",
    "\n",
    "#y-axis labels \n",
    "plt.ylabel('Rupture Rates') \n",
    "plt.ylim(bottom = 0.0000001, top=0.0005)\n",
    "plt.ticklabel_format(axis= 'y', style = 'sci', scilimits=(0,0))\n",
    "\n",
    "\n",
    "#plot title \n",
    "#plt.title('Ditribution of Incidents by Installation Year') \n",
    "\n",
    "#Legend\n",
    "plt.legend(bbox_to_anchor=(1.05, 1), loc='upper left')\n",
    "\n",
    "#adding Percentage values on the graph\n",
    "#plt.xticks(rotation=90)  \n",
    "#for n in a:\n",
    "   #height = n.get_height()\n",
    "   #plt.text(x=n.get_x() + n.get_width() / 2, y=height+.70, s=\"{}%\".format(height), ha='center')\n",
    "\n",
    "#save plot \n",
    "plot_path = os.getcwd() + '\\\\GT Rates Plots\\\\cp_rates'\n",
    "plt.savefig(plot_path, dpi=300,bbox_inches='tight')         \n",
    "        \n",
    "#display \n",
    "plt.show();"
   ]
  },
  {
   "cell_type": "code",
   "execution_count": 286,
   "metadata": {},
   "outputs": [
    {
     "data": {
      "text/plain": [
       "CPC_rate    0.000005\n",
       "CPB_rate    0.000013\n",
       "CUC_rate    0.000241\n",
       "CUB_rate    0.000127\n",
       "dtype: float64"
      ]
     },
     "execution_count": 286,
     "metadata": {},
     "output_type": "execute_result"
    }
   ],
   "source": [
    "incident_cp_average[['CPC_rate', 'CPB_rate', 'CUC_rate','CUB_rate']]"
   ]
  },
  {
   "cell_type": "code",
   "execution_count": 234,
   "metadata": {},
   "outputs": [],
   "source": [
    "#calculating rupture rates based on installation decade\n",
    "incident_installation = pd.DataFrame()\n",
    "\n",
    "#Total incidents\n",
    "for n in range(0, 11):\n",
    "    incident_installation= incident_installation.append({'Year': 2010+n, 'Pre 1940': len(incident_df.loc[(incident_df['Installation_Decade'] == 'Pre 1940') & (incident_df['IYEAR'] == 2010+n)]), \n",
    "                                            '1940s': len(incident_df.loc[(incident_df['Installation_Decade'] == '1940s') & (incident_df['IYEAR'] == 2010+n)]), \n",
    "                                           '1950s': len(incident_df.loc[(incident_df['Installation_Decade'] == '1950s') & (incident_df['IYEAR'] == 2010+n)]), \n",
    "                                           '1960s': len(incident_df.loc[(incident_df['Installation_Decade'] == '1960s') & (incident_df['IYEAR'] == 2010+n)]), \n",
    "                                            '1970s': len(incident_df.loc[(incident_df['Installation_Decade'] == '1970s') & (incident_df['IYEAR'] == 2010+n)]), \n",
    "                                            '1980s': len(incident_df.loc[(incident_df['Installation_Decade'] == '1980s') & (incident_df['IYEAR'] == 2010+n)]), \n",
    "                                            '1990s': len(incident_df.loc[(incident_df['Installation_Decade'] == '1990s') & (incident_df['IYEAR'] == 2010+n)]), \n",
    "                                            '2000s': len(incident_df.loc[(incident_df['Installation_Decade'] == '2000s') & (incident_df['IYEAR'] == 2010+n)]), \n",
    "                                            '2010s': len(incident_df.loc[(incident_df['Installation_Decade'] == '2010s') & (incident_df['IYEAR'] == 2010+n)])}, ignore_index=True) \n"
   ]
  },
  {
   "cell_type": "code",
   "execution_count": 305,
   "metadata": {},
   "outputs": [],
   "source": [
    "#calculating rupture rates based on installation decade for corrosion and material causes only\n",
    "incident_installation_corr_mat = pd.DataFrame()\n",
    "\n",
    "#Total incidents\n",
    "for n in range(0, 11):\n",
    "    incident_installation_corr_mat= incident_installation_corr_mat.append({'Year': 2010+n, \n",
    "                                                                           'Pre 1940': len(incident_df.loc[(incident_df['Installation_Decade'] == 'Pre 1940') & ((incident_df['MAP_CAUSE'] == 'MATERIAL/WELD/EQUIP FAILURE') | (incident_df['MAP_CAUSE'] == 'CORROSION')) & (incident_df['IYEAR'] == 2010+n)]), \n",
    "                                            '1940s': len(incident_df.loc[(incident_df['Installation_Decade'] == '1940s') & ((incident_df['MAP_CAUSE'] == 'MATERIAL/WELD/EQUIP FAILURE') | (incident_df['MAP_CAUSE'] == 'CORROSION')) & (incident_df['IYEAR'] == 2010+n)]), \n",
    "                                           '1950s': len(incident_df.loc[(incident_df['Installation_Decade'] == '1950s') & ((incident_df['MAP_CAUSE'] == 'MATERIAL/WELD/EQUIP FAILURE') | (incident_df['MAP_CAUSE'] == 'CORROSION')) & (incident_df['IYEAR'] == 2010+n)]), \n",
    "                                           '1960s': len(incident_df.loc[(incident_df['Installation_Decade'] == '1960s') & ((incident_df['MAP_CAUSE'] == 'MATERIAL/WELD/EQUIP FAILURE') | (incident_df['MAP_CAUSE'] == 'CORROSION')) & (incident_df['IYEAR'] == 2010+n)]), \n",
    "                                            '1970s': len(incident_df.loc[(incident_df['Installation_Decade'] == '1970s') & ((incident_df['MAP_CAUSE'] == 'MATERIAL/WELD/EQUIP FAILURE') | (incident_df['MAP_CAUSE'] == 'CORROSION')) & (incident_df['IYEAR'] == 2010+n)]), \n",
    "                                            '1980s': len(incident_df.loc[(incident_df['Installation_Decade'] == '1980s') & ((incident_df['MAP_CAUSE'] == 'MATERIAL/WELD/EQUIP FAILURE') | (incident_df['MAP_CAUSE'] == 'CORROSION')) & (incident_df['IYEAR'] == 2010+n)]), \n",
    "                                            '1990s': len(incident_df.loc[(incident_df['Installation_Decade'] == '1990s') & ((incident_df['MAP_CAUSE'] == 'MATERIAL/WELD/EQUIP FAILURE') | (incident_df['MAP_CAUSE'] == 'CORROSION')) & (incident_df['IYEAR'] == 2010+n)]), \n",
    "                                            '2000s': len(incident_df.loc[(incident_df['Installation_Decade'] == '2000s') & ((incident_df['MAP_CAUSE'] == 'MATERIAL/WELD/EQUIP FAILURE') | (incident_df['MAP_CAUSE'] == 'CORROSION')) & (incident_df['IYEAR'] == 2010+n)]), \n",
    "                                            '2010s': len(incident_df.loc[(incident_df['Installation_Decade'] == '2010s') & ((incident_df['MAP_CAUSE'] == 'MATERIAL/WELD/EQUIP FAILURE') | (incident_df['MAP_CAUSE'] == 'CORROSION')) & (incident_df['IYEAR'] == 2010+n)])}, ignore_index=True) \n"
   ]
  },
  {
   "cell_type": "code",
   "execution_count": 235,
   "metadata": {},
   "outputs": [],
   "source": [
    "incident_installation = incident_installation.set_index('Year')"
   ]
  },
  {
   "cell_type": "code",
   "execution_count": 306,
   "metadata": {},
   "outputs": [],
   "source": [
    "incident_installation_corr_mat = incident_installation_corr_mat.set_index('Year')"
   ]
  },
  {
   "cell_type": "code",
   "execution_count": 380,
   "metadata": {},
   "outputs": [],
   "source": [
    "#since no pre 1940 pipeline was reported in 2010 and 2011, the entries will be none (for calculation, otherwise deviding by zero)\n",
    "mileage_df.loc[2010, 'PARTJTONPRE1940'] = None\n",
    "mileage_df.loc[2011, 'PARTJTONPRE1940'] = None"
   ]
  },
  {
   "cell_type": "code",
   "execution_count": 381,
   "metadata": {},
   "outputs": [],
   "source": [
    "incident_installation['Pre 1940_rate'] = incident_installation['Pre 1940']/mileage_df['PARTJTONPRE1940']\n",
    "incident_installation['1940s_rate'] = incident_installation['1940s']/mileage_df['PARTJTON194049']\n",
    "incident_installation['1950s_rate'] = incident_installation['1950s']/mileage_df['PARTJTON195059']\n",
    "incident_installation['1960s_rate'] = incident_installation['1960s']/mileage_df['PARTJTON196069']\n",
    "incident_installation['1970s_rate'] = incident_installation['1970s']/mileage_df['PARTJTON197079']\n",
    "incident_installation['1980s_rate'] = incident_installation['1980s']/mileage_df['PARTJTON198089']\n",
    "incident_installation['1990s_rate'] = incident_installation['1990s']/mileage_df['PARTJTON199099']\n",
    "incident_installation['2000s_rate'] = incident_installation['2000s']/mileage_df['PARTJTON200009']\n",
    "incident_installation['2010s_rate'] = incident_installation['2010s']/mileage_df['PARTJTON201019']"
   ]
  },
  {
   "cell_type": "code",
   "execution_count": 382,
   "metadata": {},
   "outputs": [],
   "source": [
    "incident_installation_corr_mat['Pre 1940_rate'] = incident_installation_corr_mat['Pre 1940']/mileage_df['PARTJTONPRE1940']\n",
    "incident_installation_corr_mat['1940s_rate'] = incident_installation_corr_mat['1940s']/mileage_df['PARTJTON194049']\n",
    "incident_installation_corr_mat['1950s_rate'] = incident_installation_corr_mat['1950s']/mileage_df['PARTJTON195059']\n",
    "incident_installation_corr_mat['1960s_rate'] = incident_installation_corr_mat['1960s']/mileage_df['PARTJTON196069']\n",
    "incident_installation_corr_mat['1970s_rate'] = incident_installation_corr_mat['1970s']/mileage_df['PARTJTON197079']\n",
    "incident_installation_corr_mat['1980s_rate'] = incident_installation_corr_mat['1980s']/mileage_df['PARTJTON198089']\n",
    "incident_installation_corr_mat['1990s_rate'] = incident_installation_corr_mat['1990s']/mileage_df['PARTJTON199099']\n",
    "incident_installation_corr_mat['2000s_rate'] = incident_installation_corr_mat['2000s']/mileage_df['PARTJTON200009']\n",
    "incident_installation_corr_mat['2010s_rate'] = incident_installation_corr_mat['2010s']/mileage_df['PARTJTON201019']"
   ]
  },
  {
   "cell_type": "code",
   "execution_count": 387,
   "metadata": {},
   "outputs": [
    {
     "data": {
      "text/plain": [
       "Year\n",
       "2010.0         NaN\n",
       "2011.0         NaN\n",
       "2012.0    0.000061\n",
       "2013.0    0.000063\n",
       "2014.0    0.000000\n",
       "            ...   \n",
       "2016.0    0.000066\n",
       "2017.0    0.000000\n",
       "2018.0    0.000000\n",
       "2019.0    0.000073\n",
       "2020.0    0.000000\n",
       "Name: Pre 1940_rate, Length: 11, dtype: float64"
      ]
     },
     "execution_count": 387,
     "metadata": {},
     "output_type": "execute_result"
    }
   ],
   "source": []
  },
  {
   "cell_type": "code",
   "execution_count": 388,
   "metadata": {},
   "outputs": [],
   "source": [
    "incident_installation_average = incident_installation.mean(0)"
   ]
  },
  {
   "cell_type": "code",
   "execution_count": 389,
   "metadata": {},
   "outputs": [],
   "source": [
    "incident_installation_corr_mat_average = incident_installation_corr_mat.mean(0)"
   ]
  },
  {
   "cell_type": "code",
   "execution_count": 385,
   "metadata": {},
   "outputs": [
    {
     "data": {
      "text/plain": [
       "Year\n",
       "2010        NaN\n",
       "2011        NaN\n",
       "2012    16325.0\n",
       "2013    15829.0\n",
       "2014    15919.0\n",
       "         ...   \n",
       "2016    15050.0\n",
       "2017    14570.0\n",
       "2018    14125.0\n",
       "2019    13748.0\n",
       "2020    13639.0\n",
       "Name: PARTJTONPRE1940, Length: 11, dtype: float64"
      ]
     },
     "execution_count": 385,
     "metadata": {},
     "output_type": "execute_result"
    }
   ],
   "source": [
    "mileage_df['PARTJTONPRE1940']"
   ]
  },
  {
   "cell_type": "code",
   "execution_count": 390,
   "metadata": {},
   "outputs": [
    {
     "data": {
      "text/plain": [
       "Pre 1940_rate    0.000036\n",
       "1940s_rate       0.000050\n",
       "1950s_rate       0.000032\n",
       "1960s_rate       0.000031\n",
       "1970s_rate       0.000023\n",
       "1980s_rate       0.000027\n",
       "1990s_rate       0.000008\n",
       "2000s_rate       0.000004\n",
       "2010s_rate       0.000022\n",
       "dtype: float64"
      ]
     },
     "execution_count": 390,
     "metadata": {},
     "output_type": "execute_result"
    }
   ],
   "source": [
    "incident_installation_average[['Pre 1940_rate', '1940s_rate', '1950s_rate', '1960s_rate',\n",
    "       '1970s_rate', '1980s_rate', '1990s_rate', '2000s_rate', '2010s_rate']]"
   ]
  },
  {
   "cell_type": "code",
   "execution_count": 304,
   "metadata": {},
   "outputs": [],
   "source": [
    "incident_installation.to_csv('Results\\\\incident_installation_gt.csv')"
   ]
  },
  {
   "cell_type": "code",
   "execution_count": 413,
   "metadata": {},
   "outputs": [
    {
     "data": {
      "image/png": "[encoded data removed]",
      "text/plain": [
       "<Figure size 432x288 with 1 Axes>"
      ]
     },
     "metadata": {
      "needs_background": "light"
     },
     "output_type": "display_data"
    }
   ],
   "source": [
    "#Stacked bar graph\n",
    "\n",
    "n = len(['Pre 1940', '1940s', '1950s', '1960s',\n",
    "       '1970s', '1980s', '1990s', '2000s', '2010s'])\n",
    "x = np.arange(n)  # the label locations\n",
    "width = 0.35\n",
    "\n",
    "fig, ax = plt.subplots()\n",
    "\n",
    "labels = ['Pre 1940', '1940s', '1950s', '1960s',\n",
    "       '1970s', '1980s', '1990s', '2000s', '2010s']\n",
    "\n",
    "values = incident_installation_average[['Pre 1940_rate', '1940s_rate', '1950s_rate', '1960s_rate',\n",
    "       '1970s_rate', '1980s_rate', '1990s_rate', '2000s_rate', '2010s_rate']]\n",
    "values_corr_mat = incident_installation_corr_mat_average[['Pre 1940_rate', '1940s_rate', '1950s_rate', '1960s_rate',\n",
    "       '1970s_rate', '1980s_rate', '1990s_rate', '2000s_rate', '2010s_rate']]\n",
    "\n",
    "a = ax.bar(x, values.values , width ) \n",
    "b = ax.axhline(y=incident_total_average['Total_rate'] , color='b', linestyle='--')\n",
    "c = ax.bar(x + width, values_corr_mat.values , width ) \n",
    "\n",
    "b.set_label('Overall Rupture Rate\\n')\n",
    "a.set_label('Rupture Rates base on\\nInstallation Decade\\n')\n",
    "c.set_label('Rupture Rates for Corrosion \\n & Material Failures Only')\n",
    "\n",
    "#xticks \n",
    "#plt.xticks(rotation=90) \n",
    "plt.xticks(x + width/2, labels, rotation = 90)\n",
    "\n",
    "#x-axis labels \n",
    "plt.xlabel('Installation Decade') \n",
    "\n",
    "\n",
    "\n",
    "#y-axis labels \n",
    "plt.ylabel('Rupture Rates') \n",
    "plt.ylim(bottom = 0.0000001, top=0.00008)\n",
    "plt.ticklabel_format(axis= 'y', style = 'sci', scilimits=(0,0))\n",
    "\n",
    "\n",
    "#plot title \n",
    "#plt.title('Ditribution of Incidents by Installation Year') \n",
    "\n",
    "#Legend\n",
    "plt.legend(bbox_to_anchor=(1.05, 1), loc='upper left')\n",
    "\n",
    "#adding Percentage values on the graph\n",
    "#plt.xticks(rotation=90)  \n",
    "#for n in a:\n",
    "   #height = n.get_height()\n",
    "   #plt.text(x=n.get_x() + n.get_width() / 2, y=height+.70, s=\"{}%\".format(height), ha='center')\n",
    "\n",
    "#save plot \n",
    "plot_path = os.getcwd() + '\\\\GT Rates Plots\\\\installation_rates'\n",
    "plt.savefig(plot_path, dpi=300,bbox_inches='tight')         \n",
    "        \n",
    "#display \n",
    "plt.show();"
   ]
  },
  {
   "cell_type": "code",
   "execution_count": 246,
   "metadata": {},
   "outputs": [],
   "source": [
    "#calculating rupture rates based on class\n",
    "incident_class = pd.DataFrame()\n",
    "\n",
    "#Total incidents\n",
    "for n in range(0, 11):\n",
    "    incident_class= incident_class.append({'Year': 2010+n, 'Class 1': len(incident_df.loc[(incident_df['CLASS_LOCATION_TYPE'] == 'CLASS 1 LOCATION') & (incident_df['IYEAR'] == 2010+n)]), \n",
    "                                            'Class 2': len(incident_df.loc[(incident_df['CLASS_LOCATION_TYPE'] == 'CLASS 2 LOCATION') & (incident_df['IYEAR'] == 2010+n)]), \n",
    "                                           'Class 3': len(incident_df.loc[(incident_df['CLASS_LOCATION_TYPE'] == 'CLASS 3 LOCATION') & (incident_df['IYEAR'] == 2010+n)]), \n",
    "                                           'Class 4': len(incident_df.loc[(incident_df['CLASS_LOCATION_TYPE'] == 'CLASS 4 LOCATION') & (incident_df['IYEAR'] == 2010+n)])}, ignore_index=True) \n"
   ]
  },
  {
   "cell_type": "code",
   "execution_count": 313,
   "metadata": {},
   "outputs": [],
   "source": [
    "#calculating rupture rates based on class adn excavation\n",
    "incident_class_exc = pd.DataFrame()\n",
    "\n",
    "#Total incidents\n",
    "for n in range(0, 11):\n",
    "    incident_class_exc= incident_class_exc.append({'Year': 2010+n, \n",
    "                                                   'Class 1': len(incident_df.loc[(incident_df['CLASS_LOCATION_TYPE'] == 'CLASS 1 LOCATION') & (incident_df['MAP_CAUSE'] == 'EXCAVATION DAMAGE') & (incident_df['IYEAR'] == 2010+n)]), \n",
    "                                            'Class 2': len(incident_df.loc[(incident_df['CLASS_LOCATION_TYPE'] == 'CLASS 2 LOCATION') & (incident_df['MAP_CAUSE'] == 'EXCAVATION DAMAGE') & (incident_df['IYEAR'] == 2010+n)]), \n",
    "                                           'Class 3': len(incident_df.loc[(incident_df['CLASS_LOCATION_TYPE'] == 'CLASS 3 LOCATION') & (incident_df['MAP_CAUSE'] == 'EXCAVATION DAMAGE') & (incident_df['IYEAR'] == 2010+n)]), \n",
    "                                           'Class 4': len(incident_df.loc[(incident_df['CLASS_LOCATION_TYPE'] == 'CLASS 4 LOCATION') & (incident_df['MAP_CAUSE'] == 'EXCAVATION DAMAGE') & (incident_df['IYEAR'] == 2010+n)])}, ignore_index=True) \n"
   ]
  },
  {
   "cell_type": "code",
   "execution_count": 247,
   "metadata": {},
   "outputs": [],
   "source": [
    "incident_class = incident_class.set_index('Year')"
   ]
  },
  {
   "cell_type": "code",
   "execution_count": 314,
   "metadata": {},
   "outputs": [],
   "source": [
    "incident_class_exc = incident_class_exc.set_index('Year')"
   ]
  },
  {
   "cell_type": "code",
   "execution_count": 248,
   "metadata": {},
   "outputs": [],
   "source": [
    "incident_class['Class 1_rate'] = incident_class['Class 1']/mileage_df['PARTLTONC1']\n",
    "incident_class['Class 2_rate'] = incident_class['Class 2']/mileage_df['PARTLTONC2']\n",
    "incident_class['Class 3_rate'] = incident_class['Class 3']/mileage_df['PARTLTONC3']\n",
    "incident_class['Class 4_rate'] = incident_class['Class 4']/mileage_df['PARTLTONC4']"
   ]
  },
  {
   "cell_type": "code",
   "execution_count": 315,
   "metadata": {},
   "outputs": [],
   "source": [
    "incident_class_exc['Class 1_rate'] = incident_class_exc['Class 1']/mileage_df['PARTLTONC1']\n",
    "incident_class_exc['Class 2_rate'] = incident_class_exc['Class 2']/mileage_df['PARTLTONC2']\n",
    "incident_class_exc['Class 3_rate'] = incident_class_exc['Class 3']/mileage_df['PARTLTONC3']\n",
    "incident_class_exc['Class 4_rate'] = incident_class_exc['Class 4']/mileage_df['PARTLTONC4']"
   ]
  },
  {
   "cell_type": "code",
   "execution_count": 249,
   "metadata": {},
   "outputs": [],
   "source": [
    "incident_class_average = incident_class.mean(0)"
   ]
  },
  {
   "cell_type": "code",
   "execution_count": 316,
   "metadata": {},
   "outputs": [],
   "source": [
    "incident_class_exc_average = incident_class_exc.mean(0)"
   ]
  },
  {
   "cell_type": "code",
   "execution_count": 250,
   "metadata": {},
   "outputs": [
    {
     "data": {
      "text/plain": [
       "Index(['Class 1', 'Class 2', 'Class 3', 'Class 4', 'Class 1_rate',\n",
       "       'Class 2_rate', 'Class 3_rate', 'Class 4_rate'],\n",
       "      dtype='object')"
      ]
     },
     "execution_count": 250,
     "metadata": {},
     "output_type": "execute_result"
    }
   ],
   "source": [
    "incident_class_average.index"
   ]
  },
  {
   "cell_type": "code",
   "execution_count": 414,
   "metadata": {},
   "outputs": [
    {
     "data": {
      "image/png": "[encoded data removed]",
      "text/plain": [
       "<Figure size 432x288 with 1 Axes>"
      ]
     },
     "metadata": {
      "needs_background": "light"
     },
     "output_type": "display_data"
    }
   ],
   "source": [
    "#Stacked bar graph\n",
    "\n",
    "n = len(['Class 1_rate',\n",
    "       'Class 2_rate', 'Class 3_rate', 'Class 4_rate'])\n",
    "x = np.arange(n)  # the label locations\n",
    "width = 0.35\n",
    "\n",
    "fig, ax = plt.subplots()\n",
    "\n",
    "labels = ['Class 1',\n",
    "       'Class 2', 'Class 3', 'Class 4']\n",
    "\n",
    "values = incident_class_average[['Class 1_rate',\n",
    "       'Class 2_rate', 'Class 3_rate', 'Class 4_rate']]\n",
    "values_exc = incident_class_exc_average[['Class 1_rate',\n",
    "       'Class 2_rate', 'Class 3_rate', 'Class 4_rate']]\n",
    "\n",
    "a = ax.bar(x, values.values , width ) \n",
    "b = ax.axhline(y=incident_total_average['Total_rate'] , color='b', linestyle='--')\n",
    "c = ax.bar(x +width, values_exc.values , width ) \n",
    "\n",
    "b.set_label('Overall Rupture Rate\\n')\n",
    "a.set_label('Rupture Rate Base \\non Class Location\\n')\n",
    "c.set_label('Rupture Rate for \\nExcavation Damage Only')\n",
    "\n",
    "#xticks \n",
    "#plt.xticks(rotation=90) \n",
    "plt.xticks(x+width/2, labels, rotation=90) \n",
    "\n",
    "#x-axis labels \n",
    "plt.xlabel('Class Location') \n",
    "\n",
    "\n",
    "#y-axis labels \n",
    "plt.ylabel('Rupture Rates') \n",
    "plt.ylim(bottom = 0.0000001, top=0.00005)\n",
    "plt.ticklabel_format(axis= 'y', style = 'sci', scilimits=(0,0))\n",
    "\n",
    "\n",
    "#plot title \n",
    "#plt.title('Ditribution of Incidents by Installation Year') \n",
    "\n",
    "#Legend\n",
    "plt.legend(bbox_to_anchor=(1.05, 1), loc='upper left')\n",
    "\n",
    "#adding Percentage values on the graph\n",
    "#plt.xticks(rotation=90)  \n",
    "#for n in a:\n",
    "   #height = n.get_height()\n",
    "   #plt.text(x=n.get_x() + n.get_width() / 2, y=height+.70, s=\"{}%\".format(height), ha='center')\n",
    "\n",
    "#save plot \n",
    "plot_path = os.getcwd() + '\\\\GT Rates Plots\\\\class_rates'\n",
    "plt.savefig(plot_path, dpi=300,bbox_inches='tight')         \n",
    "        \n",
    "#display \n",
    "plt.show();"
   ]
  },
  {
   "cell_type": "code",
   "execution_count": 312,
   "metadata": {},
   "outputs": [
    {
     "data": {
      "text/plain": [
       "Class 1_rate    0.000027\n",
       "Class 2_rate    0.000020\n",
       "Class 3_rate    0.000024\n",
       "Class 4_rate    0.000000\n",
       "dtype: float64"
      ]
     },
     "execution_count": 312,
     "metadata": {},
     "output_type": "execute_result"
    }
   ],
   "source": [
    "incident_class_average[['Class 1_rate',\n",
    "       'Class 2_rate', 'Class 3_rate', 'Class 4_rate']]"
   ]
  },
  {
   "cell_type": "code",
   "execution_count": 240,
   "metadata": {},
   "outputs": [],
   "source": [
    "#calculating rupture rates based on diameter\n",
    "incident_diameter = pd.DataFrame()\n",
    "\n",
    "#Total incidents\n",
    "for n in range(0, 11):\n",
    "    incident_diameter= incident_diameter.append({'Year': 2010+n, 'd<=4': len(incident_df.loc[(incident_df['Diameter_Range'] == 'd<=4') & (incident_df['IYEAR'] == 2010+n)]), \n",
    "                                            '4<d<=10': len(incident_df.loc[(incident_df['Diameter_Range'] == '4<d<=10') & (incident_df['IYEAR'] == 2010+n)]), \n",
    "                                           '10<d<=20': len(incident_df.loc[(incident_df['Diameter_Range'] == '10<d<=20') & (incident_df['IYEAR'] == 2010+n)]), \n",
    "                                           '20<d<=28': len(incident_df.loc[(incident_df['Diameter_Range'] == '20<d<=28') & (incident_df['IYEAR'] == 2010+n)]), \n",
    "                                                '28<d': len(incident_df.loc[(incident_df['Diameter_Range'] == '28<d') & (incident_df['IYEAR'] == 2010+n)])}, ignore_index=True) \n"
   ]
  },
  {
   "cell_type": "code",
   "execution_count": 241,
   "metadata": {},
   "outputs": [],
   "source": [
    "incident_diameter = incident_diameter.set_index('Year')"
   ]
  },
  {
   "cell_type": "code",
   "execution_count": 242,
   "metadata": {},
   "outputs": [],
   "source": [
    "incident_diameter['d<=4_rate'] = incident_diameter['d<=4']/mileage_df['d<=4']\n",
    "incident_diameter['4<d<=10_rate'] = incident_diameter['4<d<=10']/mileage_df['4<d<=10']\n",
    "incident_diameter['10<d<=20_rate'] = incident_diameter['10<d<=20']/mileage_df['10<d<=20']\n",
    "incident_diameter['20<d<=28_rate'] = incident_diameter['20<d<=28']/mileage_df['20<d<=28']\n",
    "incident_diameter['28<d_rate'] = incident_diameter['28<d']/mileage_df['28<d']"
   ]
  },
  {
   "cell_type": "code",
   "execution_count": 243,
   "metadata": {},
   "outputs": [],
   "source": [
    "incident_diameter_average = incident_diameter.mean(0)"
   ]
  },
  {
   "cell_type": "code",
   "execution_count": 394,
   "metadata": {},
   "outputs": [
    {
     "data": {
      "text/plain": [
       "d<=4_rate        0.000016\n",
       "4<d<=10_rate     0.000023\n",
       "10<d<=20_rate    0.000042\n",
       "20<d<=28_rate    0.000021\n",
       "28<d_rate        0.000016\n",
       "dtype: float64"
      ]
     },
     "execution_count": 394,
     "metadata": {},
     "output_type": "execute_result"
    }
   ],
   "source": [
    "incident_diameter_average[['d<=4_rate',\n",
    "       '4<d<=10_rate', '10<d<=20_rate', '20<d<=28_rate', '28<d_rate']]"
   ]
  },
  {
   "cell_type": "code",
   "execution_count": 408,
   "metadata": {},
   "outputs": [
    {
     "data": {
      "image/png": "[encoded data removed]",
      "text/plain": [
       "<Figure size 432x288 with 1 Axes>"
      ]
     },
     "metadata": {
      "needs_background": "light"
     },
     "output_type": "display_data"
    }
   ],
   "source": [
    "#Stacked bar graph\n",
    "\n",
    "windth = 10\n",
    "fig, ax = plt.subplots()\n",
    "\n",
    "labels = ['d<=4',\n",
    "       '4<d<=10', '10<d<=20', '20<d<=28', '28<d']\n",
    "\n",
    "values = incident_diameter_average[['d<=4_rate',\n",
    "       '4<d<=10_rate', '10<d<=20_rate', '20<d<=28_rate', '28<d_rate']]\n",
    "\n",
    "a = ax.bar(labels, values.values , align = 'center' ) \n",
    "b = ax.axhline(y=incident_total_average['Total_rate'] , color='b', linestyle='--')\n",
    "\n",
    "b.set_label('Overall Rupture Rate')\n",
    "\n",
    "#xticks \n",
    "plt.xticks(rotation=90) \n",
    "\n",
    "#x-axis labels \n",
    "plt.xlabel('Pipe Diameter') \n",
    "\n",
    "\n",
    "#y-axis labels \n",
    "plt.ylabel('Rupture Rates') \n",
    "plt.ylim(bottom = 0.0000001, top=0.00005)\n",
    "plt.ticklabel_format(axis= 'y', style = 'sci', scilimits=(0,0))\n",
    "\n",
    "\n",
    "#plot title \n",
    "#plt.title('Ditribution of Incidents by Installation Year') \n",
    "\n",
    "#Legend\n",
    "plt.legend(bbox_to_anchor=(1.05, 1), loc='upper left')\n",
    "\n",
    "#adding Percentage values on the graph\n",
    "#plt.xticks(rotation=90)  \n",
    "#for n in a:\n",
    "   #height = n.get_height()\n",
    "   #plt.text(x=n.get_x() + n.get_width() / 2, y=height+.70, s=\"{}%\".format(height), ha='center')\n",
    "\n",
    "#save plot \n",
    "plot_path = os.getcwd() + '\\\\GT Rates Plots\\\\diameter_rates'\n",
    "plt.savefig(plot_path, dpi=300,bbox_inches='tight')         \n",
    "        \n",
    "#display \n",
    "plt.show();"
   ]
  },
  {
   "cell_type": "code",
   "execution_count": 252,
   "metadata": {},
   "outputs": [],
   "source": [
    "#calculating rupture rates based on smys\n",
    "incident_smys = pd.DataFrame()\n",
    "\n",
    "#Total incidents\n",
    "for n in range(0, 11):\n",
    "    incident_smys= incident_smys.append({'Year': 2010+n, 'Less than 20%': len(incident_df.loc[(incident_df['SMYS_Cat'] == 'Less than 20%') & (incident_df['IYEAR'] == 2010+n)]), \n",
    "                                            '20%-30%': len(incident_df.loc[(incident_df['SMYS_Cat'] == '20%-30%') & (incident_df['IYEAR'] == 2010+n)]), \n",
    "                                           '30%-40%': len(incident_df.loc[(incident_df['SMYS_Cat'] == '30%-40%') & (incident_df['IYEAR'] == 2010+n)]), \n",
    "                                           '40%-50%': len(incident_df.loc[(incident_df['SMYS_Cat'] == '40%-50%') & (incident_df['IYEAR'] == 2010+n)]), \n",
    "                                            '50%-60%': len(incident_df.loc[(incident_df['SMYS_Cat'] == '50%-60%') & (incident_df['IYEAR'] == 2010+n)]), \n",
    "                                            '60%-72%': len(incident_df.loc[(incident_df['SMYS_Cat'] == '60%-72%') & (incident_df['IYEAR'] == 2010+n)]), \n",
    "                                            '72%-80%': len(incident_df.loc[(incident_df['SMYS_Cat'] == '72%-80%') & (incident_df['IYEAR'] == 2010+n)]), \n",
    "                                            'Greater than 80%': len(incident_df.loc[(incident_df['SMYS_Cat'] == 'Greater than 80%') & (incident_df['IYEAR'] == 2010+n)])}, ignore_index=True) \n"
   ]
  },
  {
   "cell_type": "code",
   "execution_count": 320,
   "metadata": {},
   "outputs": [],
   "source": [
    "#calculating rupture rates based on smys\n",
    "incident_smys_corr_mat = pd.DataFrame()\n",
    "\n",
    "#Total incidents\n",
    "for n in range(0, 11):\n",
    "    incident_smys_corr_mat= incident_smys_corr_mat.append({'Year': 2010+n, \n",
    "                                                                 'Less than 20%': len(incident_df.loc[(incident_df['SMYS_Cat'] == 'Less than 20%') & ((incident_df['MAP_CAUSE'] == 'MATERIAL/WELD/EQUIP FAILURE') | (incident_df['MAP_CAUSE'] == 'CORROSION')) & (incident_df['IYEAR'] == 2010+n)]), \n",
    "                                            '20%-30%': len(incident_df.loc[(incident_df['SMYS_Cat'] == '20%-30%') & ((incident_df['MAP_CAUSE'] == 'MATERIAL/WELD/EQUIP FAILURE') | (incident_df['MAP_CAUSE'] == 'CORROSION')) & (incident_df['IYEAR'] == 2010+n)]), \n",
    "                                           '30%-40%': len(incident_df.loc[(incident_df['SMYS_Cat'] == '30%-40%') & ((incident_df['MAP_CAUSE'] == 'MATERIAL/WELD/EQUIP FAILURE') | (incident_df['MAP_CAUSE'] == 'CORROSION')) & (incident_df['IYEAR'] == 2010+n)]), \n",
    "                                           '40%-50%': len(incident_df.loc[(incident_df['SMYS_Cat'] == '40%-50%') & ((incident_df['MAP_CAUSE'] == 'MATERIAL/WELD/EQUIP FAILURE') | (incident_df['MAP_CAUSE'] == 'CORROSION')) & (incident_df['IYEAR'] == 2010+n)]), \n",
    "                                            '50%-60%': len(incident_df.loc[(incident_df['SMYS_Cat'] == '50%-60%') & ((incident_df['MAP_CAUSE'] == 'MATERIAL/WELD/EQUIP FAILURE') | (incident_df['MAP_CAUSE'] == 'CORROSION')) & (incident_df['IYEAR'] == 2010+n)]), \n",
    "                                            '60%-72%': len(incident_df.loc[(incident_df['SMYS_Cat'] == '60%-72%') & ((incident_df['MAP_CAUSE'] == 'MATERIAL/WELD/EQUIP FAILURE') | (incident_df['MAP_CAUSE'] == 'CORROSION')) & (incident_df['IYEAR'] == 2010+n)]), \n",
    "                                            '72%-80%': len(incident_df.loc[(incident_df['SMYS_Cat'] == '72%-80%') & ((incident_df['MAP_CAUSE'] == 'MATERIAL/WELD/EQUIP FAILURE') | (incident_df['MAP_CAUSE'] == 'CORROSION')) & (incident_df['IYEAR'] == 2010+n)]), \n",
    "                                            'Greater than 80%': len(incident_df.loc[(incident_df['SMYS_Cat'] == 'Greater than 80%') & ((incident_df['MAP_CAUSE'] == 'MATERIAL/WELD/EQUIP FAILURE') | (incident_df['MAP_CAUSE'] == 'CORROSION')) & (incident_df['IYEAR'] == 2010+n)])}, ignore_index=True) \n"
   ]
  },
  {
   "cell_type": "code",
   "execution_count": 330,
   "metadata": {},
   "outputs": [
    {
     "data": {
      "text/html": [
       "<div>\n",
       "<style scoped>\n",
       "    .dataframe tbody tr th:only-of-type {\n",
       "        vertical-align: middle;\n",
       "    }\n",
       "\n",
       "    .dataframe tbody tr th {\n",
       "        vertical-align: top;\n",
       "    }\n",
       "\n",
       "    .dataframe thead th {\n",
       "        text-align: right;\n",
       "    }\n",
       "</style>\n",
       "<table border=\"1\" class=\"dataframe\">\n",
       "  <thead>\n",
       "    <tr style=\"text-align: right;\">\n",
       "      <th></th>\n",
       "      <th>20%-30%</th>\n",
       "      <th>30%-40%</th>\n",
       "      <th>40%-50%</th>\n",
       "      <th>50%-60%</th>\n",
       "      <th>60%-72%</th>\n",
       "      <th>72%-80%</th>\n",
       "      <th>Greater than 80%</th>\n",
       "      <th>Less than 20%</th>\n",
       "      <th>Less than 20%_rate</th>\n",
       "      <th>20%-30%_rate</th>\n",
       "      <th>30%-40%_rate</th>\n",
       "      <th>40%-50%_rate</th>\n",
       "      <th>50%-60%_rate</th>\n",
       "      <th>60%-72%_rate</th>\n",
       "      <th>72%-80%_rate</th>\n",
       "      <th>Greater than 80%_rate</th>\n",
       "    </tr>\n",
       "    <tr>\n",
       "      <th>Year</th>\n",
       "      <th></th>\n",
       "      <th></th>\n",
       "      <th></th>\n",
       "      <th></th>\n",
       "      <th></th>\n",
       "      <th></th>\n",
       "      <th></th>\n",
       "      <th></th>\n",
       "      <th></th>\n",
       "      <th></th>\n",
       "      <th></th>\n",
       "      <th></th>\n",
       "      <th></th>\n",
       "      <th></th>\n",
       "      <th></th>\n",
       "      <th></th>\n",
       "    </tr>\n",
       "  </thead>\n",
       "  <tbody>\n",
       "    <tr>\n",
       "      <th>2010.0</th>\n",
       "      <td>0.0</td>\n",
       "      <td>1.0</td>\n",
       "      <td>6.0</td>\n",
       "      <td>2.0</td>\n",
       "      <td>4.0</td>\n",
       "      <td>0.0</td>\n",
       "      <td>0.0</td>\n",
       "      <td>0.0</td>\n",
       "      <td>0.000000</td>\n",
       "      <td>0.000000</td>\n",
       "      <td>0.000020</td>\n",
       "      <td>0.000084</td>\n",
       "      <td>0.000028</td>\n",
       "      <td>0.000023</td>\n",
       "      <td>0.000000</td>\n",
       "      <td>0.0</td>\n",
       "    </tr>\n",
       "    <tr>\n",
       "      <th>2011.0</th>\n",
       "      <td>2.0</td>\n",
       "      <td>1.0</td>\n",
       "      <td>1.0</td>\n",
       "      <td>2.0</td>\n",
       "      <td>6.0</td>\n",
       "      <td>0.0</td>\n",
       "      <td>0.0</td>\n",
       "      <td>1.0</td>\n",
       "      <td>0.000032</td>\n",
       "      <td>0.000045</td>\n",
       "      <td>0.000019</td>\n",
       "      <td>0.000014</td>\n",
       "      <td>0.000027</td>\n",
       "      <td>0.000033</td>\n",
       "      <td>0.000000</td>\n",
       "      <td>0.0</td>\n",
       "    </tr>\n",
       "    <tr>\n",
       "      <th>2012.0</th>\n",
       "      <td>1.0</td>\n",
       "      <td>3.0</td>\n",
       "      <td>3.0</td>\n",
       "      <td>2.0</td>\n",
       "      <td>7.0</td>\n",
       "      <td>1.0</td>\n",
       "      <td>0.0</td>\n",
       "      <td>0.0</td>\n",
       "      <td>0.000000</td>\n",
       "      <td>0.000022</td>\n",
       "      <td>0.000058</td>\n",
       "      <td>0.000040</td>\n",
       "      <td>0.000027</td>\n",
       "      <td>0.000042</td>\n",
       "      <td>0.000052</td>\n",
       "      <td>0.0</td>\n",
       "    </tr>\n",
       "    <tr>\n",
       "      <th>2013.0</th>\n",
       "      <td>1.0</td>\n",
       "      <td>1.0</td>\n",
       "      <td>3.0</td>\n",
       "      <td>3.0</td>\n",
       "      <td>3.0</td>\n",
       "      <td>2.0</td>\n",
       "      <td>0.0</td>\n",
       "      <td>2.0</td>\n",
       "      <td>0.000066</td>\n",
       "      <td>0.000022</td>\n",
       "      <td>0.000020</td>\n",
       "      <td>0.000040</td>\n",
       "      <td>0.000040</td>\n",
       "      <td>0.000018</td>\n",
       "      <td>0.000104</td>\n",
       "      <td>0.0</td>\n",
       "    </tr>\n",
       "    <tr>\n",
       "      <th>2014.0</th>\n",
       "      <td>2.0</td>\n",
       "      <td>1.0</td>\n",
       "      <td>3.0</td>\n",
       "      <td>3.0</td>\n",
       "      <td>3.0</td>\n",
       "      <td>1.0</td>\n",
       "      <td>0.0</td>\n",
       "      <td>0.0</td>\n",
       "      <td>0.000000</td>\n",
       "      <td>0.000044</td>\n",
       "      <td>0.000019</td>\n",
       "      <td>0.000040</td>\n",
       "      <td>0.000039</td>\n",
       "      <td>0.000018</td>\n",
       "      <td>0.000062</td>\n",
       "      <td>0.0</td>\n",
       "    </tr>\n",
       "    <tr>\n",
       "      <th>...</th>\n",
       "      <td>...</td>\n",
       "      <td>...</td>\n",
       "      <td>...</td>\n",
       "      <td>...</td>\n",
       "      <td>...</td>\n",
       "      <td>...</td>\n",
       "      <td>...</td>\n",
       "      <td>...</td>\n",
       "      <td>...</td>\n",
       "      <td>...</td>\n",
       "      <td>...</td>\n",
       "      <td>...</td>\n",
       "      <td>...</td>\n",
       "      <td>...</td>\n",
       "      <td>...</td>\n",
       "      <td>...</td>\n",
       "    </tr>\n",
       "    <tr>\n",
       "      <th>2016.0</th>\n",
       "      <td>1.0</td>\n",
       "      <td>0.0</td>\n",
       "      <td>1.0</td>\n",
       "      <td>4.0</td>\n",
       "      <td>2.0</td>\n",
       "      <td>0.0</td>\n",
       "      <td>0.0</td>\n",
       "      <td>0.0</td>\n",
       "      <td>0.000000</td>\n",
       "      <td>0.000023</td>\n",
       "      <td>0.000000</td>\n",
       "      <td>0.000013</td>\n",
       "      <td>0.000054</td>\n",
       "      <td>0.000011</td>\n",
       "      <td>0.000000</td>\n",
       "      <td>0.0</td>\n",
       "    </tr>\n",
       "    <tr>\n",
       "      <th>2017.0</th>\n",
       "      <td>1.0</td>\n",
       "      <td>0.0</td>\n",
       "      <td>1.0</td>\n",
       "      <td>1.0</td>\n",
       "      <td>4.0</td>\n",
       "      <td>0.0</td>\n",
       "      <td>0.0</td>\n",
       "      <td>0.0</td>\n",
       "      <td>0.000000</td>\n",
       "      <td>0.000023</td>\n",
       "      <td>0.000000</td>\n",
       "      <td>0.000013</td>\n",
       "      <td>0.000013</td>\n",
       "      <td>0.000023</td>\n",
       "      <td>0.000000</td>\n",
       "      <td>0.0</td>\n",
       "    </tr>\n",
       "    <tr>\n",
       "      <th>2018.0</th>\n",
       "      <td>0.0</td>\n",
       "      <td>0.0</td>\n",
       "      <td>1.0</td>\n",
       "      <td>3.0</td>\n",
       "      <td>4.0</td>\n",
       "      <td>2.0</td>\n",
       "      <td>0.0</td>\n",
       "      <td>1.0</td>\n",
       "      <td>0.000031</td>\n",
       "      <td>0.000000</td>\n",
       "      <td>0.000000</td>\n",
       "      <td>0.000013</td>\n",
       "      <td>0.000040</td>\n",
       "      <td>0.000023</td>\n",
       "      <td>0.000125</td>\n",
       "      <td>0.0</td>\n",
       "    </tr>\n",
       "    <tr>\n",
       "      <th>2019.0</th>\n",
       "      <td>2.0</td>\n",
       "      <td>0.0</td>\n",
       "      <td>0.0</td>\n",
       "      <td>1.0</td>\n",
       "      <td>4.0</td>\n",
       "      <td>1.0</td>\n",
       "      <td>0.0</td>\n",
       "      <td>0.0</td>\n",
       "      <td>0.000000</td>\n",
       "      <td>0.000046</td>\n",
       "      <td>0.000000</td>\n",
       "      <td>0.000000</td>\n",
       "      <td>0.000013</td>\n",
       "      <td>0.000023</td>\n",
       "      <td>0.000064</td>\n",
       "      <td>0.0</td>\n",
       "    </tr>\n",
       "    <tr>\n",
       "      <th>2020.0</th>\n",
       "      <td>1.0</td>\n",
       "      <td>2.0</td>\n",
       "      <td>2.0</td>\n",
       "      <td>4.0</td>\n",
       "      <td>3.0</td>\n",
       "      <td>0.0</td>\n",
       "      <td>0.0</td>\n",
       "      <td>3.0</td>\n",
       "      <td>0.000091</td>\n",
       "      <td>0.000023</td>\n",
       "      <td>0.000039</td>\n",
       "      <td>0.000025</td>\n",
       "      <td>0.000053</td>\n",
       "      <td>0.000017</td>\n",
       "      <td>0.000000</td>\n",
       "      <td>0.0</td>\n",
       "    </tr>\n",
       "  </tbody>\n",
       "</table>\n",
       "<p>11 rows × 16 columns</p>\n",
       "</div>"
      ],
      "text/plain": [
       "        20%-30%  30%-40%  40%-50%  50%-60%  60%-72%  72%-80%  \\\n",
       "Year                                                           \n",
       "2010.0      0.0      1.0      6.0      2.0      4.0      0.0   \n",
       "2011.0      2.0      1.0      1.0      2.0      6.0      0.0   \n",
       "2012.0      1.0      3.0      3.0      2.0      7.0      1.0   \n",
       "2013.0      1.0      1.0      3.0      3.0      3.0      2.0   \n",
       "2014.0      2.0      1.0      3.0      3.0      3.0      1.0   \n",
       "...         ...      ...      ...      ...      ...      ...   \n",
       "2016.0      1.0      0.0      1.0      4.0      2.0      0.0   \n",
       "2017.0      1.0      0.0      1.0      1.0      4.0      0.0   \n",
       "2018.0      0.0      0.0      1.0      3.0      4.0      2.0   \n",
       "2019.0      2.0      0.0      0.0      1.0      4.0      1.0   \n",
       "2020.0      1.0      2.0      2.0      4.0      3.0      0.0   \n",
       "\n",
       "        Greater than 80%  Less than 20%  Less than 20%_rate  20%-30%_rate  \\\n",
       "Year                                                                        \n",
       "2010.0               0.0            0.0            0.000000      0.000000   \n",
       "2011.0               0.0            1.0            0.000032      0.000045   \n",
       "2012.0               0.0            0.0            0.000000      0.000022   \n",
       "2013.0               0.0            2.0            0.000066      0.000022   \n",
       "2014.0               0.0            0.0            0.000000      0.000044   \n",
       "...                  ...            ...                 ...           ...   \n",
       "2016.0               0.0            0.0            0.000000      0.000023   \n",
       "2017.0               0.0            0.0            0.000000      0.000023   \n",
       "2018.0               0.0            1.0            0.000031      0.000000   \n",
       "2019.0               0.0            0.0            0.000000      0.000046   \n",
       "2020.0               0.0            3.0            0.000091      0.000023   \n",
       "\n",
       "        30%-40%_rate  40%-50%_rate  50%-60%_rate  60%-72%_rate  72%-80%_rate  \\\n",
       "Year                                                                           \n",
       "2010.0      0.000020      0.000084      0.000028      0.000023      0.000000   \n",
       "2011.0      0.000019      0.000014      0.000027      0.000033      0.000000   \n",
       "2012.0      0.000058      0.000040      0.000027      0.000042      0.000052   \n",
       "2013.0      0.000020      0.000040      0.000040      0.000018      0.000104   \n",
       "2014.0      0.000019      0.000040      0.000039      0.000018      0.000062   \n",
       "...              ...           ...           ...           ...           ...   \n",
       "2016.0      0.000000      0.000013      0.000054      0.000011      0.000000   \n",
       "2017.0      0.000000      0.000013      0.000013      0.000023      0.000000   \n",
       "2018.0      0.000000      0.000013      0.000040      0.000023      0.000125   \n",
       "2019.0      0.000000      0.000000      0.000013      0.000023      0.000064   \n",
       "2020.0      0.000039      0.000025      0.000053      0.000017      0.000000   \n",
       "\n",
       "        Greater than 80%_rate  \n",
       "Year                           \n",
       "2010.0                    0.0  \n",
       "2011.0                    0.0  \n",
       "2012.0                    0.0  \n",
       "2013.0                    0.0  \n",
       "2014.0                    0.0  \n",
       "...                       ...  \n",
       "2016.0                    0.0  \n",
       "2017.0                    0.0  \n",
       "2018.0                    0.0  \n",
       "2019.0                    0.0  \n",
       "2020.0                    0.0  \n",
       "\n",
       "[11 rows x 16 columns]"
      ]
     },
     "execution_count": 330,
     "metadata": {},
     "output_type": "execute_result"
    }
   ],
   "source": [
    "incident_smys = incident_smys.set_index('Year')\n",
    "incident_smys "
   ]
  },
  {
   "cell_type": "code",
   "execution_count": 326,
   "metadata": {},
   "outputs": [
    {
     "data": {
      "text/html": [
       "<div>\n",
       "<style scoped>\n",
       "    .dataframe tbody tr th:only-of-type {\n",
       "        vertical-align: middle;\n",
       "    }\n",
       "\n",
       "    .dataframe tbody tr th {\n",
       "        vertical-align: top;\n",
       "    }\n",
       "\n",
       "    .dataframe thead th {\n",
       "        text-align: right;\n",
       "    }\n",
       "</style>\n",
       "<table border=\"1\" class=\"dataframe\">\n",
       "  <thead>\n",
       "    <tr style=\"text-align: right;\">\n",
       "      <th></th>\n",
       "      <th>20%-30%</th>\n",
       "      <th>30%-40%</th>\n",
       "      <th>40%-50%</th>\n",
       "      <th>50%-60%</th>\n",
       "      <th>60%-72%</th>\n",
       "      <th>72%-80%</th>\n",
       "      <th>Greater than 80%</th>\n",
       "      <th>Less than 20%</th>\n",
       "      <th>Less than 20%_rate</th>\n",
       "      <th>20%-30%_rate</th>\n",
       "      <th>30%-40%_rate</th>\n",
       "      <th>40%-50%_rate</th>\n",
       "      <th>50%-60%_rate</th>\n",
       "      <th>60%-72%_rate</th>\n",
       "      <th>72%-80%_rate</th>\n",
       "      <th>Greater than 80%_rate</th>\n",
       "    </tr>\n",
       "    <tr>\n",
       "      <th>Year</th>\n",
       "      <th></th>\n",
       "      <th></th>\n",
       "      <th></th>\n",
       "      <th></th>\n",
       "      <th></th>\n",
       "      <th></th>\n",
       "      <th></th>\n",
       "      <th></th>\n",
       "      <th></th>\n",
       "      <th></th>\n",
       "      <th></th>\n",
       "      <th></th>\n",
       "      <th></th>\n",
       "      <th></th>\n",
       "      <th></th>\n",
       "      <th></th>\n",
       "    </tr>\n",
       "  </thead>\n",
       "  <tbody>\n",
       "    <tr>\n",
       "      <th>2010.0</th>\n",
       "      <td>0.0</td>\n",
       "      <td>0.0</td>\n",
       "      <td>6.0</td>\n",
       "      <td>2.0</td>\n",
       "      <td>3.0</td>\n",
       "      <td>0.0</td>\n",
       "      <td>0.0</td>\n",
       "      <td>0.0</td>\n",
       "      <td>0.00000</td>\n",
       "      <td>0.000000</td>\n",
       "      <td>0.000000</td>\n",
       "      <td>0.000084</td>\n",
       "      <td>0.000028</td>\n",
       "      <td>0.000017</td>\n",
       "      <td>0.000000</td>\n",
       "      <td>0.0</td>\n",
       "    </tr>\n",
       "    <tr>\n",
       "      <th>2011.0</th>\n",
       "      <td>0.0</td>\n",
       "      <td>0.0</td>\n",
       "      <td>1.0</td>\n",
       "      <td>2.0</td>\n",
       "      <td>4.0</td>\n",
       "      <td>0.0</td>\n",
       "      <td>0.0</td>\n",
       "      <td>0.0</td>\n",
       "      <td>0.00000</td>\n",
       "      <td>0.000000</td>\n",
       "      <td>0.000000</td>\n",
       "      <td>0.000014</td>\n",
       "      <td>0.000027</td>\n",
       "      <td>0.000022</td>\n",
       "      <td>0.000000</td>\n",
       "      <td>0.0</td>\n",
       "    </tr>\n",
       "    <tr>\n",
       "      <th>2012.0</th>\n",
       "      <td>1.0</td>\n",
       "      <td>2.0</td>\n",
       "      <td>3.0</td>\n",
       "      <td>1.0</td>\n",
       "      <td>7.0</td>\n",
       "      <td>0.0</td>\n",
       "      <td>0.0</td>\n",
       "      <td>0.0</td>\n",
       "      <td>0.00000</td>\n",
       "      <td>0.000022</td>\n",
       "      <td>0.000038</td>\n",
       "      <td>0.000040</td>\n",
       "      <td>0.000013</td>\n",
       "      <td>0.000042</td>\n",
       "      <td>0.000000</td>\n",
       "      <td>0.0</td>\n",
       "    </tr>\n",
       "    <tr>\n",
       "      <th>2013.0</th>\n",
       "      <td>1.0</td>\n",
       "      <td>1.0</td>\n",
       "      <td>2.0</td>\n",
       "      <td>3.0</td>\n",
       "      <td>2.0</td>\n",
       "      <td>2.0</td>\n",
       "      <td>0.0</td>\n",
       "      <td>0.0</td>\n",
       "      <td>0.00000</td>\n",
       "      <td>0.000022</td>\n",
       "      <td>0.000020</td>\n",
       "      <td>0.000026</td>\n",
       "      <td>0.000040</td>\n",
       "      <td>0.000012</td>\n",
       "      <td>0.000104</td>\n",
       "      <td>0.0</td>\n",
       "    </tr>\n",
       "    <tr>\n",
       "      <th>2014.0</th>\n",
       "      <td>0.0</td>\n",
       "      <td>1.0</td>\n",
       "      <td>1.0</td>\n",
       "      <td>3.0</td>\n",
       "      <td>3.0</td>\n",
       "      <td>1.0</td>\n",
       "      <td>0.0</td>\n",
       "      <td>0.0</td>\n",
       "      <td>0.00000</td>\n",
       "      <td>0.000000</td>\n",
       "      <td>0.000019</td>\n",
       "      <td>0.000013</td>\n",
       "      <td>0.000039</td>\n",
       "      <td>0.000018</td>\n",
       "      <td>0.000062</td>\n",
       "      <td>0.0</td>\n",
       "    </tr>\n",
       "    <tr>\n",
       "      <th>...</th>\n",
       "      <td>...</td>\n",
       "      <td>...</td>\n",
       "      <td>...</td>\n",
       "      <td>...</td>\n",
       "      <td>...</td>\n",
       "      <td>...</td>\n",
       "      <td>...</td>\n",
       "      <td>...</td>\n",
       "      <td>...</td>\n",
       "      <td>...</td>\n",
       "      <td>...</td>\n",
       "      <td>...</td>\n",
       "      <td>...</td>\n",
       "      <td>...</td>\n",
       "      <td>...</td>\n",
       "      <td>...</td>\n",
       "    </tr>\n",
       "    <tr>\n",
       "      <th>2016.0</th>\n",
       "      <td>0.0</td>\n",
       "      <td>0.0</td>\n",
       "      <td>1.0</td>\n",
       "      <td>3.0</td>\n",
       "      <td>1.0</td>\n",
       "      <td>0.0</td>\n",
       "      <td>0.0</td>\n",
       "      <td>0.0</td>\n",
       "      <td>0.00000</td>\n",
       "      <td>0.000000</td>\n",
       "      <td>0.000000</td>\n",
       "      <td>0.000013</td>\n",
       "      <td>0.000040</td>\n",
       "      <td>0.000006</td>\n",
       "      <td>0.000000</td>\n",
       "      <td>0.0</td>\n",
       "    </tr>\n",
       "    <tr>\n",
       "      <th>2017.0</th>\n",
       "      <td>1.0</td>\n",
       "      <td>0.0</td>\n",
       "      <td>1.0</td>\n",
       "      <td>1.0</td>\n",
       "      <td>4.0</td>\n",
       "      <td>0.0</td>\n",
       "      <td>0.0</td>\n",
       "      <td>0.0</td>\n",
       "      <td>0.00000</td>\n",
       "      <td>0.000023</td>\n",
       "      <td>0.000000</td>\n",
       "      <td>0.000013</td>\n",
       "      <td>0.000013</td>\n",
       "      <td>0.000023</td>\n",
       "      <td>0.000000</td>\n",
       "      <td>0.0</td>\n",
       "    </tr>\n",
       "    <tr>\n",
       "      <th>2018.0</th>\n",
       "      <td>0.0</td>\n",
       "      <td>0.0</td>\n",
       "      <td>0.0</td>\n",
       "      <td>1.0</td>\n",
       "      <td>3.0</td>\n",
       "      <td>2.0</td>\n",
       "      <td>0.0</td>\n",
       "      <td>0.0</td>\n",
       "      <td>0.00000</td>\n",
       "      <td>0.000000</td>\n",
       "      <td>0.000000</td>\n",
       "      <td>0.000000</td>\n",
       "      <td>0.000013</td>\n",
       "      <td>0.000017</td>\n",
       "      <td>0.000125</td>\n",
       "      <td>0.0</td>\n",
       "    </tr>\n",
       "    <tr>\n",
       "      <th>2019.0</th>\n",
       "      <td>2.0</td>\n",
       "      <td>0.0</td>\n",
       "      <td>0.0</td>\n",
       "      <td>1.0</td>\n",
       "      <td>2.0</td>\n",
       "      <td>1.0</td>\n",
       "      <td>0.0</td>\n",
       "      <td>0.0</td>\n",
       "      <td>0.00000</td>\n",
       "      <td>0.000046</td>\n",
       "      <td>0.000000</td>\n",
       "      <td>0.000000</td>\n",
       "      <td>0.000013</td>\n",
       "      <td>0.000011</td>\n",
       "      <td>0.000064</td>\n",
       "      <td>0.0</td>\n",
       "    </tr>\n",
       "    <tr>\n",
       "      <th>2020.0</th>\n",
       "      <td>1.0</td>\n",
       "      <td>2.0</td>\n",
       "      <td>1.0</td>\n",
       "      <td>3.0</td>\n",
       "      <td>1.0</td>\n",
       "      <td>0.0</td>\n",
       "      <td>0.0</td>\n",
       "      <td>2.0</td>\n",
       "      <td>0.00006</td>\n",
       "      <td>0.000023</td>\n",
       "      <td>0.000039</td>\n",
       "      <td>0.000013</td>\n",
       "      <td>0.000039</td>\n",
       "      <td>0.000006</td>\n",
       "      <td>0.000000</td>\n",
       "      <td>0.0</td>\n",
       "    </tr>\n",
       "  </tbody>\n",
       "</table>\n",
       "<p>11 rows × 16 columns</p>\n",
       "</div>"
      ],
      "text/plain": [
       "        20%-30%  30%-40%  40%-50%  50%-60%  60%-72%  72%-80%  \\\n",
       "Year                                                           \n",
       "2010.0      0.0      0.0      6.0      2.0      3.0      0.0   \n",
       "2011.0      0.0      0.0      1.0      2.0      4.0      0.0   \n",
       "2012.0      1.0      2.0      3.0      1.0      7.0      0.0   \n",
       "2013.0      1.0      1.0      2.0      3.0      2.0      2.0   \n",
       "2014.0      0.0      1.0      1.0      3.0      3.0      1.0   \n",
       "...         ...      ...      ...      ...      ...      ...   \n",
       "2016.0      0.0      0.0      1.0      3.0      1.0      0.0   \n",
       "2017.0      1.0      0.0      1.0      1.0      4.0      0.0   \n",
       "2018.0      0.0      0.0      0.0      1.0      3.0      2.0   \n",
       "2019.0      2.0      0.0      0.0      1.0      2.0      1.0   \n",
       "2020.0      1.0      2.0      1.0      3.0      1.0      0.0   \n",
       "\n",
       "        Greater than 80%  Less than 20%  Less than 20%_rate  20%-30%_rate  \\\n",
       "Year                                                                        \n",
       "2010.0               0.0            0.0             0.00000      0.000000   \n",
       "2011.0               0.0            0.0             0.00000      0.000000   \n",
       "2012.0               0.0            0.0             0.00000      0.000022   \n",
       "2013.0               0.0            0.0             0.00000      0.000022   \n",
       "2014.0               0.0            0.0             0.00000      0.000000   \n",
       "...                  ...            ...                 ...           ...   \n",
       "2016.0               0.0            0.0             0.00000      0.000000   \n",
       "2017.0               0.0            0.0             0.00000      0.000023   \n",
       "2018.0               0.0            0.0             0.00000      0.000000   \n",
       "2019.0               0.0            0.0             0.00000      0.000046   \n",
       "2020.0               0.0            2.0             0.00006      0.000023   \n",
       "\n",
       "        30%-40%_rate  40%-50%_rate  50%-60%_rate  60%-72%_rate  72%-80%_rate  \\\n",
       "Year                                                                           \n",
       "2010.0      0.000000      0.000084      0.000028      0.000017      0.000000   \n",
       "2011.0      0.000000      0.000014      0.000027      0.000022      0.000000   \n",
       "2012.0      0.000038      0.000040      0.000013      0.000042      0.000000   \n",
       "2013.0      0.000020      0.000026      0.000040      0.000012      0.000104   \n",
       "2014.0      0.000019      0.000013      0.000039      0.000018      0.000062   \n",
       "...              ...           ...           ...           ...           ...   \n",
       "2016.0      0.000000      0.000013      0.000040      0.000006      0.000000   \n",
       "2017.0      0.000000      0.000013      0.000013      0.000023      0.000000   \n",
       "2018.0      0.000000      0.000000      0.000013      0.000017      0.000125   \n",
       "2019.0      0.000000      0.000000      0.000013      0.000011      0.000064   \n",
       "2020.0      0.000039      0.000013      0.000039      0.000006      0.000000   \n",
       "\n",
       "        Greater than 80%_rate  \n",
       "Year                           \n",
       "2010.0                    0.0  \n",
       "2011.0                    0.0  \n",
       "2012.0                    0.0  \n",
       "2013.0                    0.0  \n",
       "2014.0                    0.0  \n",
       "...                       ...  \n",
       "2016.0                    0.0  \n",
       "2017.0                    0.0  \n",
       "2018.0                    0.0  \n",
       "2019.0                    0.0  \n",
       "2020.0                    0.0  \n",
       "\n",
       "[11 rows x 16 columns]"
      ]
     },
     "execution_count": 326,
     "metadata": {},
     "output_type": "execute_result"
    }
   ],
   "source": [
    "incident_smys_corr_mat = incident_smys_corr_mat.set_index('Year')\n",
    "incident_smys_corr_mat"
   ]
  },
  {
   "cell_type": "code",
   "execution_count": 254,
   "metadata": {},
   "outputs": [],
   "source": [
    "incident_smys['Less than 20%_rate'] = incident_smys['Less than 20%']/mileage_df['PARTK20LESSTOT']\n",
    "incident_smys['20%-30%_rate'] = incident_smys['20%-30%']/mileage_df['PARTK2029TOT']\n",
    "incident_smys['30%-40%_rate'] = incident_smys['30%-40%']/mileage_df['PARTK3040TOT']\n",
    "incident_smys['40%-50%_rate'] = incident_smys['40%-50%']/mileage_df['PARTK4150TOT']\n",
    "incident_smys['50%-60%_rate'] = incident_smys['50%-60%']/mileage_df['PARTK5160TOT']\n",
    "incident_smys['60%-72%_rate'] = incident_smys['60%-72%']/mileage_df['PARTK6172TOT']\n",
    "incident_smys['72%-80%_rate'] = incident_smys['72%-80%']/mileage_df['PARTK7380TOT']\n",
    "incident_smys['Greater than 80%_rate'] = incident_smys['Greater than 80%']/mileage_df['PARTK80MORETOT']"
   ]
  },
  {
   "cell_type": "code",
   "execution_count": 327,
   "metadata": {},
   "outputs": [],
   "source": [
    "incident_smys_corr_mat['Less than 20%_rate'] = incident_smys_corr_mat['Less than 20%']/mileage_df['PARTK20LESSTOT']\n",
    "incident_smys_corr_mat['20%-30%_rate'] = incident_smys_corr_mat['20%-30%']/mileage_df['PARTK2029TOT']\n",
    "incident_smys_corr_mat['30%-40%_rate'] = incident_smys_corr_mat['30%-40%']/mileage_df['PARTK3040TOT']\n",
    "incident_smys_corr_mat['40%-50%_rate'] = incident_smys_corr_mat['40%-50%']/mileage_df['PARTK4150TOT']\n",
    "incident_smys_corr_mat['50%-60%_rate'] = incident_smys_corr_mat['50%-60%']/mileage_df['PARTK5160TOT']\n",
    "incident_smys_corr_mat['60%-72%_rate'] = incident_smys_corr_mat['60%-72%']/mileage_df['PARTK6172TOT']\n",
    "incident_smys_corr_mat['72%-80%_rate'] = incident_smys_corr_mat['72%-80%']/mileage_df['PARTK7380TOT']\n",
    "incident_smys_corr_mat['Greater than 80%_rate'] = incident_smys_corr_mat['Greater than 80%']/mileage_df['PARTK80MORETOT']"
   ]
  },
  {
   "cell_type": "code",
   "execution_count": 255,
   "metadata": {},
   "outputs": [],
   "source": [
    "incident_smys_average = incident_smys.mean(0)"
   ]
  },
  {
   "cell_type": "code",
   "execution_count": 333,
   "metadata": {},
   "outputs": [],
   "source": [
    "incident_smys_corr_mat_average = incident_smys_corr_mat.mean(0)"
   ]
  },
  {
   "cell_type": "code",
   "execution_count": 332,
   "metadata": {},
   "outputs": [
    {
     "data": {
      "text/plain": [
       "20%-30%                  1.090909\n",
       "30%-40%                  0.818182\n",
       "40%-50%                  2.090909\n",
       "50%-60%                  2.636364\n",
       "60%-72%                  4.000000\n",
       "                           ...   \n",
       "40%-50%_rate             0.000028\n",
       "50%-60%_rate             0.000035\n",
       "60%-72%_rate             0.000023\n",
       "72%-80%_rate             0.000043\n",
       "Greater than 80%_rate    0.000000\n",
       "Length: 16, dtype: float64"
      ]
     },
     "execution_count": 332,
     "metadata": {},
     "output_type": "execute_result"
    }
   ],
   "source": [
    "incident_smys_average"
   ]
  },
  {
   "cell_type": "code",
   "execution_count": 334,
   "metadata": {},
   "outputs": [
    {
     "data": {
      "text/plain": [
       "20%-30%                  0.545455\n",
       "30%-40%                  0.545455\n",
       "40%-50%                  1.454545\n",
       "50%-60%                  2.090909\n",
       "60%-72%                  3.090909\n",
       "                           ...   \n",
       "40%-50%_rate             0.000020\n",
       "50%-60%_rate             0.000028\n",
       "60%-72%_rate             0.000018\n",
       "72%-80%_rate             0.000038\n",
       "Greater than 80%_rate    0.000000\n",
       "Length: 16, dtype: float64"
      ]
     },
     "execution_count": 334,
     "metadata": {},
     "output_type": "execute_result"
    }
   ],
   "source": [
    "incident_smys_corr_mat_average"
   ]
  },
  {
   "cell_type": "code",
   "execution_count": 395,
   "metadata": {},
   "outputs": [
    {
     "data": {
      "text/plain": [
       "Less than 20%_rate       0.000023\n",
       "20%-30%_rate             0.000025\n",
       "30%-40%_rate             0.000016\n",
       "40%-50%_rate             0.000028\n",
       "50%-60%_rate             0.000035\n",
       "60%-72%_rate             0.000023\n",
       "72%-80%_rate             0.000043\n",
       "Greater than 80%_rate    0.000000\n",
       "dtype: float64"
      ]
     },
     "execution_count": 395,
     "metadata": {},
     "output_type": "execute_result"
    }
   ],
   "source": [
    "incident_smys_average[['Less than 20%_rate',\n",
    "       '20%-30%_rate', '30%-40%_rate', '40%-50%_rate', '50%-60%_rate',\n",
    "       '60%-72%_rate', '72%-80%_rate', 'Greater than 80%_rate']]"
   ]
  },
  {
   "cell_type": "code",
   "execution_count": 415,
   "metadata": {},
   "outputs": [
    {
     "data": {
      "image/png": "[encoded data removed]",
      "text/plain": [
       "<Figure size 432x288 with 1 Axes>"
      ]
     },
     "metadata": {
      "needs_background": "light"
     },
     "output_type": "display_data"
    }
   ],
   "source": [
    "#Stacked bar graph\n",
    "\n",
    "n = len(['Less than 20%_rate',\n",
    "       '20%-30%_rate', '30%-40%_rate', '40%-50%_rate', '50%-60%_rate',\n",
    "       '60%-72%_rate', '72%-80%_rate', 'Greater than 80%_rate'])\n",
    "x = np.arange(n)  # the label locations\n",
    "width = 0.35\n",
    "\n",
    "fig, ax = plt.subplots()\n",
    "\n",
    "labels = ['Less than 20%',\n",
    "       '20%-30%', '30%-40%', '40%-50%', '50%-60%',\n",
    "       '60%-72%', '72%-80%', 'Greater than 80%']\n",
    "\n",
    "values = incident_smys_average[['Less than 20%_rate',\n",
    "       '20%-30%_rate', '30%-40%_rate', '40%-50%_rate', '50%-60%_rate',\n",
    "       '60%-72%_rate', '72%-80%_rate', 'Greater than 80%_rate']]\n",
    "\n",
    "values_corr_mat = incident_smys_corr_mat_average[['Less than 20%_rate',\n",
    "       '20%-30%_rate', '30%-40%_rate', '40%-50%_rate', '50%-60%_rate',\n",
    "       '60%-72%_rate', '72%-80%_rate', 'Greater than 80%_rate']]\n",
    "\n",
    "a = ax.bar(x, values.values , width) \n",
    "b = ax.axhline(y=incident_total_average['Total_rate'] , color='b', linestyle='--')\n",
    "c = ax.bar(x + width, values_corr_mat.values , width) \n",
    "\n",
    "b.set_label('Overall Rupture Rate\\n')\n",
    "a.set_label('Rupture Rate base \\non Operating Stress\\n')\n",
    "c.set_label('Rupture Rate for Corrosion\\n& Material Failures Only')\n",
    "\n",
    "#xticks \n",
    "#plt.xticks(rotation=90) \n",
    "plt.xticks(x + width/2, labels, rotation=90) \n",
    "\n",
    "#x-axis labels \n",
    "plt.xlabel('Operating Stress') \n",
    "\n",
    "\n",
    "#y-axis labels \n",
    "plt.ylabel('Rupture Rates') \n",
    "plt.ylim(bottom = 0.0000001, top=0.00005)\n",
    "plt.ticklabel_format(axis= 'y', style = 'sci', scilimits=(0,0))\n",
    "\n",
    "\n",
    "#plot title \n",
    "#plt.title('Ditribution of Incidents by Installation Year') \n",
    "\n",
    "#Legend\n",
    "plt.legend(bbox_to_anchor=(1.05, 1), loc='upper left')\n",
    "\n",
    "#adding Percentage values on the graph\n",
    "#plt.xticks(rotation=90)  \n",
    "#for n in a:\n",
    "   #height = n.get_height()\n",
    "   #plt.text(x=n.get_x() + n.get_width() / 2, y=height+.70, s=\"{}%\".format(height), ha='center')\n",
    "\n",
    "#save plot \n",
    "plot_path = os.getcwd() + '\\\\GT Rates Plots\\\\smys_rates'\n",
    "plt.savefig(plot_path, dpi=300,bbox_inches='tight')         \n",
    "        \n",
    "#display \n",
    "plt.show();"
   ]
  },
  {
   "cell_type": "code",
   "execution_count": 275,
   "metadata": {},
   "outputs": [],
   "source": [
    "#calculating rupture rates based on commodity\n",
    "incident_commodity = pd.DataFrame()\n",
    "\n",
    "#Total incidents\n",
    "for n in range(0, 11):\n",
    "    incident_commodity= incident_commodity.append({'Year': 2010+n, \n",
    "                                                   'Natural Gas': len(incident_df.loc[(incident_df['COMMODITY_RELEASED_TYPE'] == 'NATURAL GAS') & (incident_df['IYEAR'] == 2010+n)]), \n",
    "                                            'Other Gas': len(incident_df.loc[(incident_df['COMMODITY_RELEASED_TYPE'] == 'OTHER GAS') & (incident_df['IYEAR'] == 2010+n)]), \n",
    "                                                  'Unknown': len(incident_df.loc[(incident_df['COMMODITY_RELEASED_TYPE'] == 'Unknown') & (incident_df['IYEAR'] == 2010+n)])}, ignore_index=True) \n"
   ]
  },
  {
   "cell_type": "code",
   "execution_count": 276,
   "metadata": {},
   "outputs": [
    {
     "data": {
      "text/html": [
       "<div>\n",
       "<style scoped>\n",
       "    .dataframe tbody tr th:only-of-type {\n",
       "        vertical-align: middle;\n",
       "    }\n",
       "\n",
       "    .dataframe tbody tr th {\n",
       "        vertical-align: top;\n",
       "    }\n",
       "\n",
       "    .dataframe thead th {\n",
       "        text-align: right;\n",
       "    }\n",
       "</style>\n",
       "<table border=\"1\" class=\"dataframe\">\n",
       "  <thead>\n",
       "    <tr style=\"text-align: right;\">\n",
       "      <th></th>\n",
       "      <th>Natural Gas</th>\n",
       "      <th>Other Gas</th>\n",
       "      <th>Unknown</th>\n",
       "    </tr>\n",
       "    <tr>\n",
       "      <th>Year</th>\n",
       "      <th></th>\n",
       "      <th></th>\n",
       "      <th></th>\n",
       "    </tr>\n",
       "  </thead>\n",
       "  <tbody>\n",
       "    <tr>\n",
       "      <th>2010.0</th>\n",
       "      <td>13.0</td>\n",
       "      <td>0.0</td>\n",
       "      <td>0.0</td>\n",
       "    </tr>\n",
       "    <tr>\n",
       "      <th>2011.0</th>\n",
       "      <td>13.0</td>\n",
       "      <td>0.0</td>\n",
       "      <td>0.0</td>\n",
       "    </tr>\n",
       "    <tr>\n",
       "      <th>2012.0</th>\n",
       "      <td>16.0</td>\n",
       "      <td>0.0</td>\n",
       "      <td>1.0</td>\n",
       "    </tr>\n",
       "    <tr>\n",
       "      <th>2013.0</th>\n",
       "      <td>15.0</td>\n",
       "      <td>0.0</td>\n",
       "      <td>0.0</td>\n",
       "    </tr>\n",
       "    <tr>\n",
       "      <th>2014.0</th>\n",
       "      <td>13.0</td>\n",
       "      <td>0.0</td>\n",
       "      <td>0.0</td>\n",
       "    </tr>\n",
       "    <tr>\n",
       "      <th>...</th>\n",
       "      <td>...</td>\n",
       "      <td>...</td>\n",
       "      <td>...</td>\n",
       "    </tr>\n",
       "    <tr>\n",
       "      <th>2016.0</th>\n",
       "      <td>9.0</td>\n",
       "      <td>0.0</td>\n",
       "      <td>0.0</td>\n",
       "    </tr>\n",
       "    <tr>\n",
       "      <th>2017.0</th>\n",
       "      <td>7.0</td>\n",
       "      <td>0.0</td>\n",
       "      <td>0.0</td>\n",
       "    </tr>\n",
       "    <tr>\n",
       "      <th>2018.0</th>\n",
       "      <td>11.0</td>\n",
       "      <td>0.0</td>\n",
       "      <td>0.0</td>\n",
       "    </tr>\n",
       "    <tr>\n",
       "      <th>2019.0</th>\n",
       "      <td>8.0</td>\n",
       "      <td>0.0</td>\n",
       "      <td>0.0</td>\n",
       "    </tr>\n",
       "    <tr>\n",
       "      <th>2020.0</th>\n",
       "      <td>14.0</td>\n",
       "      <td>1.0</td>\n",
       "      <td>0.0</td>\n",
       "    </tr>\n",
       "  </tbody>\n",
       "</table>\n",
       "<p>11 rows × 3 columns</p>\n",
       "</div>"
      ],
      "text/plain": [
       "        Natural Gas  Other Gas  Unknown\n",
       "Year                                   \n",
       "2010.0         13.0        0.0      0.0\n",
       "2011.0         13.0        0.0      0.0\n",
       "2012.0         16.0        0.0      1.0\n",
       "2013.0         15.0        0.0      0.0\n",
       "2014.0         13.0        0.0      0.0\n",
       "...             ...        ...      ...\n",
       "2016.0          9.0        0.0      0.0\n",
       "2017.0          7.0        0.0      0.0\n",
       "2018.0         11.0        0.0      0.0\n",
       "2019.0          8.0        0.0      0.0\n",
       "2020.0         14.0        1.0      0.0\n",
       "\n",
       "[11 rows x 3 columns]"
      ]
     },
     "execution_count": 276,
     "metadata": {},
     "output_type": "execute_result"
    }
   ],
   "source": [
    "# only other gas incident is in 2020 which is not included\n",
    "incident_commodity = incident_commodity.set_index('Year')\n",
    "incident_commodity "
   ]
  },
  {
   "cell_type": "code",
   "execution_count": 277,
   "metadata": {},
   "outputs": [],
   "source": [
    "incident_commodity['Natural Gas_rate'] = incident_commodity['Natural Gas']/mileage_df['Natural Gas']\n",
    "incident_commodity['Other Gas_rate'] = (incident_commodity['Other Gas']+incident_commodity['Unknown'])/(mileage_df['Propane Gas']+mileage_df['Synthetic Gas']+mileage_df['Landfill Gas']+mileage_df['Hydrogen Gas']+mileage_df['Other'])"
   ]
  },
  {
   "cell_type": "code",
   "execution_count": 278,
   "metadata": {},
   "outputs": [
    {
     "data": {
      "text/plain": [
       "Natural Gas         12.181818\n",
       "Other Gas            0.090909\n",
       "Unknown              0.090909\n",
       "Natural Gas_rate     0.000026\n",
       "Other Gas_rate       0.000057\n",
       "dtype: float64"
      ]
     },
     "execution_count": 278,
     "metadata": {},
     "output_type": "execute_result"
    }
   ],
   "source": [
    "incident_commodity_average = incident_commodity.mean(0)\n",
    "incident_commodity_average"
   ]
  },
  {
   "cell_type": "code",
   "execution_count": 338,
   "metadata": {},
   "outputs": [
    {
     "data": {
      "text/plain": [
       "3182.3636363636365"
      ]
     },
     "execution_count": 338,
     "metadata": {},
     "output_type": "execute_result"
    }
   ],
   "source": [
    "(mileage_df['Propane Gas']+mileage_df['Synthetic Gas']+mileage_df['Landfill Gas']+mileage_df['Hydrogen Gas']+mileage_df['Other']).mean(0)"
   ]
  },
  {
   "cell_type": "code",
   "execution_count": null,
   "metadata": {},
   "outputs": [],
   "source": []
  },
  {
   "cell_type": "code",
   "execution_count": 340,
   "metadata": {},
   "outputs": [
    {
     "data": {
      "text/plain": [
       "0.9897645319599614"
      ]
     },
     "execution_count": 340,
     "metadata": {},
     "output_type": "execute_result"
    }
   ],
   "source": [
    "mileage_df['Natural Gas'].mean(0)/478239"
   ]
  },
  {
   "cell_type": "code",
   "execution_count": 279,
   "metadata": {},
   "outputs": [
    {
     "data": {
      "text/plain": [
       "Index(['Natural Gas', 'Other Gas', 'Unknown', 'Natural Gas_rate',\n",
       "       'Other Gas_rate'],\n",
       "      dtype='object')"
      ]
     },
     "execution_count": 279,
     "metadata": {},
     "output_type": "execute_result"
    }
   ],
   "source": [
    "incident_commodity_average.index"
   ]
  },
  {
   "cell_type": "code",
   "execution_count": 410,
   "metadata": {},
   "outputs": [
    {
     "data": {
      "image/png": "[encoded data removed]",
      "text/plain": [
       "<Figure size 432x288 with 1 Axes>"
      ]
     },
     "metadata": {
      "needs_background": "light"
     },
     "output_type": "display_data"
    }
   ],
   "source": [
    "#Stacked bar graph\n",
    "\n",
    "windth = 10\n",
    "fig, ax = plt.subplots()\n",
    "\n",
    "labels = ['Natural Gas', 'Other Gas']\n",
    "\n",
    "values = incident_commodity_average[['Natural Gas_rate', 'Other Gas_rate']]\n",
    "\n",
    "a = ax.bar(labels, values.values , align = 'center' ) \n",
    "b = ax.axhline(y=incident_total_average['Total_rate'] , color='b', linestyle='--')\n",
    "\n",
    "b.set_label('Overall Rupture Rate')\n",
    "\n",
    "#xticks \n",
    "plt.xticks(rotation=90) \n",
    "\n",
    "#x-axis labels \n",
    "plt.xlabel('Commodity') \n",
    "\n",
    "\n",
    "#y-axis labels \n",
    "plt.ylabel('Rupture Rates') \n",
    "plt.ylim(bottom = 0.0000001, top=0.0001)\n",
    "plt.ticklabel_format(axis= 'y', style = 'sci', scilimits=(0,0))\n",
    "\n",
    "\n",
    "#plot title \n",
    "#plt.title('Ditribution of Incidents by Installation Year') \n",
    "\n",
    "#Legend\n",
    "plt.legend(bbox_to_anchor=(1.05, 1), loc='upper left')\n",
    "\n",
    "#adding Percentage values on the graph\n",
    "#plt.xticks(rotation=90)  \n",
    "#for n in a:\n",
    "   #height = n.get_height()\n",
    "   #plt.text(x=n.get_x() + n.get_width() / 2, y=height+.70, s=\"{}%\".format(height), ha='center')\n",
    "\n",
    "#save plot \n",
    "plot_path = os.getcwd() + '\\\\GT Rates Plots\\\\commodity_rates'\n",
    "plt.savefig(plot_path, dpi=300,bbox_inches='tight')         \n",
    "        \n",
    "#display \n",
    "plt.show();"
   ]
  },
  {
   "cell_type": "code",
   "execution_count": 396,
   "metadata": {},
   "outputs": [
    {
     "data": {
      "text/plain": [
       "Natural Gas_rate    0.000026\n",
       "Other Gas_rate      0.000057\n",
       "dtype: float64"
      ]
     },
     "execution_count": 396,
     "metadata": {},
     "output_type": "execute_result"
    }
   ],
   "source": [
    "incident_commodity_average[['Natural Gas_rate', 'Other Gas_rate']]"
   ]
  },
  {
   "cell_type": "code",
   "execution_count": null,
   "metadata": {},
   "outputs": [],
   "source": []
  }
 ],
 "metadata": {
  "kernelspec": {
   "display_name": "Python 3",
   "language": "python",
   "name": "python3"
  },
  "language_info": {
   "codemirror_mode": {
    "name": "ipython",
    "version": 3
   },
   "file_extension": ".py",
   "mimetype": "text/x-python",
   "name": "python",
   "nbconvert_exporter": "python",
   "pygments_lexer": "ipython3",
   "version": "3.8.5"
  }
 },
 "nbformat": 4,
 "nbformat_minor": 4
}
