{
 "cells": [
  {
   "cell_type": "code",
   "execution_count": 1,
   "metadata": {},
   "outputs": [],
   "source": [
    "import math\n",
    "import collections\n",
    "import os\n",
    "\n",
    "import numpy as np\n",
    "import pandas as pd\n",
    "import matplotlib.pyplot as plt\n",
    "\n",
    "%matplotlib inline"
   ]
  },
  {
   "cell_type": "code",
   "execution_count": 2,
   "metadata": {},
   "outputs": [],
   "source": [
    "pd.options.display.max_rows = 10"
   ]
  },
  {
   "cell_type": "code",
   "execution_count": 7,
   "metadata": {},
   "outputs": [
    {
     "data": {
      "text/plain": [
       "'C:\\\\Users\\\\Nasim\\\\Documents\\\\Heriot Watt Uni\\\\Dissertation\\\\Analysis'"
      ]
     },
     "execution_count": 7,
     "metadata": {},
     "output_type": "execute_result"
    }
   ],
   "source": [
    "path = os.getcwd()\n",
    "path"
   ]
  },
  {
   "cell_type": "code",
   "execution_count": 738,
   "metadata": {},
   "outputs": [],
   "source": [
    "incident_df_all = pd.read_excel('Incident Flagged Data\\\\gtggungs2010toPresent.xlsx', sheet_name='gtggungs2010toPresent')"
   ]
  },
  {
   "cell_type": "code",
   "execution_count": 739,
   "metadata": {},
   "outputs": [],
   "source": [
    "item_involved = ['PIPE']"
   ]
  },
  {
   "cell_type": "code",
   "execution_count": 740,
   "metadata": {},
   "outputs": [],
   "source": [
    "incident_df = incident_df_all.loc[(incident_df_all['SYSTEM_TYPE'] == 'GT (Gas Transmission)') & (incident_df_all['IYEAR'] != 2021) & (incident_df_all['ON_OFF_SHORE'] == 'ONSHORE') & (incident_df_all['SYSTEM_PART_INVOLVED'] == 'ONSHORE PIPELINE, INCLUDING VALVE SITES') & (incident_df_all['ITEM_INVOLVED'].isin(item_involved))]"
   ]
  },
  {
   "cell_type": "code",
   "execution_count": 741,
   "metadata": {},
   "outputs": [],
   "source": [
    "incident_df = incident_df.set_index('IYEAR')"
   ]
  },
  {
   "cell_type": "code",
   "execution_count": 655,
   "metadata": {},
   "outputs": [
    {
     "data": {
      "text/plain": [
       "EXCAVATION DAMAGE              146\n",
       "CORROSION                      105\n",
       "MATERIAL/WELD/EQUIP FAILURE     97\n",
       "NATURAL FORCE DAMAGE            30\n",
       "OTHER OUTSIDE FORCE DAMAGE      22\n",
       "ALL OTHER CAUSES                18\n",
       "INCORRECT OPERATION              8\n",
       "Name: MAP_CAUSE, dtype: int64"
      ]
     },
     "execution_count": 655,
     "metadata": {},
     "output_type": "execute_result"
    }
   ],
   "source": [
    "incident_df['MAP_CAUSE'].value_counts(ascending=False)"
   ]
  },
  {
   "cell_type": "code",
   "execution_count": 656,
   "metadata": {},
   "outputs": [
    {
     "data": {
      "text/plain": [
       "count                   426\n",
       "unique                    7\n",
       "top       EXCAVATION DAMAGE\n",
       "freq                    146\n",
       "Name: MAP_CAUSE, dtype: object"
      ]
     },
     "execution_count": 656,
     "metadata": {},
     "output_type": "execute_result"
    }
   ],
   "source": [
    "incident_df['MAP_CAUSE'].describe()"
   ]
  },
  {
   "cell_type": "code",
   "execution_count": 99,
   "metadata": {},
   "outputs": [],
   "source": [
    "cause_percent = pd.DataFrame()"
   ]
  },
  {
   "cell_type": "code",
   "execution_count": 657,
   "metadata": {},
   "outputs": [],
   "source": [
    "cause_percent = incident_df['MAP_CAUSE'].value_counts(normalize=True)[:]*100"
   ]
  },
  {
   "cell_type": "code",
   "execution_count": 658,
   "metadata": {},
   "outputs": [
    {
     "data": {
      "text/plain": [
       "EXCAVATION DAMAGE              34.272300\n",
       "CORROSION                      24.647887\n",
       "MATERIAL/WELD/EQUIP FAILURE    22.769953\n",
       "NATURAL FORCE DAMAGE            7.042254\n",
       "OTHER OUTSIDE FORCE DAMAGE      5.164319\n",
       "ALL OTHER CAUSES                4.225352\n",
       "INCORRECT OPERATION             1.877934\n",
       "Name: MAP_CAUSE, dtype: float64"
      ]
     },
     "execution_count": 658,
     "metadata": {},
     "output_type": "execute_result"
    }
   ],
   "source": [
    "cause_percent"
   ]
  },
  {
   "cell_type": "code",
   "execution_count": 659,
   "metadata": {},
   "outputs": [
    {
     "data": {
      "text/plain": [
       "THIRD PARTY EXCAVATION DAMAGE                        26.995305\n",
       "EXTERNAL                                             17.840376\n",
       "CONSTRUCTION, INSTALLATION OR FABRICATION-RELATED     8.685446\n",
       "MANUFACTURING-RELATED                                 7.276995\n",
       "INTERNAL                                              6.807512\n",
       "                                                       ...    \n",
       "TEMPERATURE                                           0.234742\n",
       "PREVIOUS MECHANICAL DAMAGE                            0.234742\n",
       "ELECTRICAL ARCING FROM OTHER EQUIPMENT/FACILITY       0.234742\n",
       "PIPELINE/EQUIPMENT OVERPRESSURED                      0.234742\n",
       "MALFUNCTION OF CONTROL/RELIEF EQUIPMENT               0.234742\n",
       "Name: MAP_SUBCAUSE, Length: 28, dtype: float64"
      ]
     },
     "execution_count": 659,
     "metadata": {},
     "output_type": "execute_result"
    }
   ],
   "source": [
    "incident_df['MAP_SUBCAUSE'].value_counts(normalize=True)[:]*100"
   ]
  },
  {
   "cell_type": "code",
   "execution_count": 660,
   "metadata": {},
   "outputs": [
    {
     "data": {
      "text/plain": [
       "EXTERNAL    72.380952\n",
       "INTERNAL    27.619048\n",
       "Name: MAP_SUBCAUSE, dtype: float64"
      ]
     },
     "execution_count": 660,
     "metadata": {},
     "output_type": "execute_result"
    }
   ],
   "source": [
    "corrosion_int_ext = incident_df.loc[incident_df['MAP_CAUSE'] == 'CORROSION']['MAP_SUBCAUSE'].value_counts(normalize=True)[:]*100\n",
    "corrosion_int_ext"
   ]
  },
  {
   "cell_type": "code",
   "execution_count": 661,
   "metadata": {},
   "outputs": [
    {
     "data": {
      "text/plain": [
       "THIRD PARTY EXCAVATION DAMAGE            0.787671\n",
       "OPERATOR/CONTRACTOR EXCAVATION DAMAGE    0.109589\n",
       "PREVIOUS DAMAGE DUE TO EXCAVATION        0.102740\n",
       "Name: MAP_SUBCAUSE, dtype: float64"
      ]
     },
     "execution_count": 661,
     "metadata": {},
     "output_type": "execute_result"
    }
   ],
   "source": [
    "incident_df.loc[incident_df['MAP_CAUSE'] == 'EXCAVATION DAMAGE']['MAP_SUBCAUSE'].value_counts(normalize=True)"
   ]
  },
  {
   "cell_type": "code",
   "execution_count": 662,
   "metadata": {},
   "outputs": [
    {
     "data": {
      "text/plain": [
       "CONSTRUCTION, INSTALLATION OR FABRICATION-RELATED    0.381443\n",
       "MANUFACTURING-RELATED                                0.319588\n",
       "ENVIRONMENTAL CRACKING-RELATED                       0.268041\n",
       "OTHER EQUIPMENT FAILURE                              0.020619\n",
       "MALFUNCTION OF CONTROL/RELIEF EQUIPMENT              0.010309\n",
       "Name: MAP_SUBCAUSE, dtype: float64"
      ]
     },
     "execution_count": 662,
     "metadata": {},
     "output_type": "execute_result"
    }
   ],
   "source": [
    "incident_df.loc[incident_df['MAP_CAUSE'] == 'MATERIAL/WELD/EQUIP FAILURE']['MAP_SUBCAUSE'].value_counts(normalize=True)"
   ]
  },
  {
   "cell_type": "code",
   "execution_count": 811,
   "metadata": {},
   "outputs": [],
   "source": [
    "cause_percent = cause_percent[['EXCAVATION DAMAGE', 'CORROSION', 'MATERIAL/WELD/EQUIP FAILURE',\n",
    "       'NATURAL FORCE DAMAGE', 'OTHER OUTSIDE FORCE DAMAGE', 'INCORRECT OPERATION', 'ALL OTHER CAUSES']]"
   ]
  },
  {
   "cell_type": "code",
   "execution_count": 816,
   "metadata": {},
   "outputs": [
    {
     "data": {
      "image/png": "[encoded data removed]",
      "text/plain": [
       "<Figure size 432x288 with 1 Axes>"
      ]
     },
     "metadata": {
      "needs_background": "light"
     },
     "output_type": "display_data"
    }
   ],
   "source": [
    "#Stacked bar graph\n",
    "#cause_percent.plot(kind = 'bar', stacked = True, mark_right = True)\n",
    "\n",
    "n = len(cause_percent.index)\n",
    "x = np.arange(n)\n",
    "\n",
    "labels = ['EXCAVATION DAMAGE', 'CORROSION', 'MATERIAL FAILURE',\n",
    "       'NATURAL FORCE', 'OTHER OUTSIDE FORCE', 'INCORRECT OPERATION', 'ALL OTHER CAUSES']\n",
    "windth = 10\n",
    "fig, ax = plt.subplots()\n",
    "\n",
    "a = ax.bar(x, cause_percent.values , align = 'center' ) \n",
    "\n",
    "#xticks \n",
    "plt.xticks(x, labels , rotation=70) \n",
    "\n",
    "#x-axis labels \n",
    "plt.xlabel('Failure Cause') \n",
    "\n",
    "\n",
    "#y-axis labels \n",
    "plt.ylabel('Percentage of Total Incidents') \n",
    "plt.ylim(top=100)\n",
    "\n",
    "#plot title \n",
    "#plt.title('Ditribution of Incidents by Cause') \n",
    "\n",
    "#Legend\n",
    "#plt.legend(['Cause'],bbox_to_anchor=(1.05, 1), loc='upper left')\n",
    "\n",
    "#adding Percentage values on the graph\n",
    "plt.xticks(rotation=90)  \n",
    "for n in a:\n",
    "   height = round(n.get_height())\n",
    "   plt.text(x=n.get_x() + n.get_width() / 2, y=height+.70, s=\"{}%\".format(height), ha='center')\n",
    "\n",
    "#save plot \n",
    "plot_path = os.getcwd() + '\\\\GT Incidents Plots\\\\Cause_percent'\n",
    "plt.savefig(plot_path, dpi=300,bbox_inches='tight')         \n",
    "        \n",
    "#display \n",
    "plt.show();"
   ]
  },
  {
   "cell_type": "code",
   "execution_count": 664,
   "metadata": {},
   "outputs": [
    {
     "data": {
      "image/png": "[encoded data removed]",
      "text/plain": [
       "<Figure size 432x288 with 1 Axes>"
      ]
     },
     "metadata": {
      "needs_background": "light"
     },
     "output_type": "display_data"
    }
   ],
   "source": [
    "#Stacked bar graph\n",
    "#corrosion_int_ext.plot(kind = 'bar', stacked = True, mark_right = True)\n",
    "\n",
    "windth = 10\n",
    "fig, ax = plt.subplots()\n",
    "\n",
    "a = ax.bar(corrosion_int_ext.index,corrosion_int_ext.values , align = 'center' ) \n",
    "\n",
    "#xticks \n",
    "plt.xticks(rotation=90) \n",
    "\n",
    "#x-axis labels \n",
    "plt.xlabel('Failure Cause') \n",
    "\n",
    "\n",
    "#y-axis labels \n",
    "plt.ylabel('Percentage of Total Incidents Due to Corrosion') \n",
    "plt.ylim(top=100)\n",
    "\n",
    "#plot title \n",
    "#plt.title('Ditribution of Incidents Due to Corrosion by Sub-Cause') \n",
    "\n",
    "#Legend\n",
    "#plt.legend(bbox_to_anchor=(1.05, 1), loc='upper left')\n",
    "\n",
    "#adding Percentage values on the graph\n",
    "plt.xticks(rotation=90)  \n",
    "for n in a:\n",
    "   height = round(n.get_height())\n",
    "   plt.text(x=n.get_x() + n.get_width() / 2, y=height+.70, s=\"{}%\".format(height), ha='center')\n",
    "\n",
    "#save plot \n",
    "plot_path = os.getcwd() + '\\\\GT Incidents Plots\\\\Corrosion_percent'\n",
    "plt.savefig(plot_path, dpi=300,bbox_inches='tight')         \n",
    "        \n",
    "#display \n",
    "plt.show();"
   ]
  },
  {
   "cell_type": "code",
   "execution_count": 665,
   "metadata": {},
   "outputs": [
    {
     "data": {
      "text/plain": [
       "CARBON STEEL                                   425\n",
       "MATERIAL OTHER THAN CARBON STEEL OR PLASTIC      1\n",
       "Name: MATERIAL_INVOLVED, dtype: int64"
      ]
     },
     "execution_count": 665,
     "metadata": {},
     "output_type": "execute_result"
    }
   ],
   "source": [
    "incident_df['MATERIAL_INVOLVED'].value_counts()"
   ]
  },
  {
   "cell_type": "code",
   "execution_count": 666,
   "metadata": {},
   "outputs": [
    {
     "data": {
      "text/plain": [
       "CLASS 1 LOCATION    327\n",
       "CLASS 3 LOCATION     66\n",
       "CLASS 2 LOCATION     31\n",
       "CLASS 4 LOCATION      2\n",
       "Name: CLASS_LOCATION_TYPE, dtype: int64"
      ]
     },
     "execution_count": 666,
     "metadata": {},
     "output_type": "execute_result"
    }
   ],
   "source": [
    "incident_df['CLASS_LOCATION_TYPE'].value_counts()"
   ]
  },
  {
   "cell_type": "code",
   "execution_count": 667,
   "metadata": {},
   "outputs": [
    {
     "data": {
      "text/plain": [
       "CLASS 1 LOCATION    76.760563\n",
       "CLASS 2 LOCATION     7.276995\n",
       "CLASS 3 LOCATION    15.492958\n",
       "CLASS 4 LOCATION     0.469484\n",
       "Name: CLASS_LOCATION_TYPE, dtype: float64"
      ]
     },
     "execution_count": 667,
     "metadata": {},
     "output_type": "execute_result"
    }
   ],
   "source": [
    "class_percent = incident_df['CLASS_LOCATION_TYPE'].value_counts(normalize=True)[:]*100\n",
    "class_percent = class_percent[['CLASS 1 LOCATION', 'CLASS 2 LOCATION', 'CLASS 3 LOCATION', 'CLASS 4 LOCATION']]\n",
    "class_percent"
   ]
  },
  {
   "cell_type": "code",
   "execution_count": 817,
   "metadata": {},
   "outputs": [
    {
     "data": {
      "image/png": "[encoded data removed]",
      "text/plain": [
       "<Figure size 432x288 with 1 Axes>"
      ]
     },
     "metadata": {
      "needs_background": "light"
     },
     "output_type": "display_data"
    }
   ],
   "source": [
    "#Stacked bar graph\n",
    "#class_percent.plot(kind = 'bar', stacked = True, mark_right = True)\n",
    "\n",
    "n = len(class_percent.index)\n",
    "\n",
    "x = np.arange(n)\n",
    "\n",
    "labels = ['Class 1', 'Class 2', 'Class 3', 'Class 4']\n",
    "\n",
    "windth = 10\n",
    "fig, ax = plt.subplots()\n",
    "\n",
    "a = ax.bar(x,class_percent.values , align = 'center' ) \n",
    "\n",
    "#xticks \n",
    "plt.xticks(x, labels, rotation=90) \n",
    "\n",
    "#x-axis labels \n",
    "plt.xlabel('Class Location') \n",
    "\n",
    "\n",
    "#y-axis labels \n",
    "plt.ylabel('Percentage of Total Incidents') \n",
    "plt.ylim(top=100)\n",
    "\n",
    "#plot title \n",
    "#plt.title('Ditribution of Incidents by Class Location') \n",
    "\n",
    "#Legend\n",
    "#plt.legend(['Class Location'],bbox_to_anchor=(1.05, 1), loc='upper left')\n",
    "\n",
    "#adding Percentage values on the graph\n",
    "plt.xticks(rotation=90)  \n",
    "for n in a:\n",
    "   height = round(n.get_height())\n",
    "   plt.text(x=n.get_x() + n.get_width() / 2, y=height+.70, s=\"{}%\".format(height), ha='center')\n",
    "\n",
    "#save plot \n",
    "plot_path = os.getcwd() + '\\\\GT Incidents Plots\\\\Class_percent'\n",
    "plt.savefig(plot_path, dpi=300,bbox_inches='tight')         \n",
    "        \n",
    "#display \n",
    "plt.show();"
   ]
  },
  {
   "cell_type": "code",
   "execution_count": 669,
   "metadata": {},
   "outputs": [
    {
     "data": {
      "text/plain": [
       "count    426.000000\n",
       "mean      15.587148\n",
       "std        9.180770\n",
       "min        0.500000\n",
       "25%        8.000000\n",
       "50%       12.750000\n",
       "75%       22.000000\n",
       "max       42.000000\n",
       "Name: PIPE_DIAMETER, dtype: float64"
      ]
     },
     "execution_count": 669,
     "metadata": {},
     "output_type": "execute_result"
    }
   ],
   "source": [
    "incident_df['PIPE_DIAMETER'].describe()"
   ]
  },
  {
   "cell_type": "code",
   "execution_count": 742,
   "metadata": {},
   "outputs": [],
   "source": [
    "incident_df['Installation_Decade'] = 'Unknown'\n",
    "incident_df['Diameter_Range'] = None\n",
    "incident_df['SMYS_Range'] = None\n",
    "\n",
    "#setting diameter categories\n",
    "incident_df.loc[incident_df['PIPE_DIAMETER'] <= 4, 'Diameter_Range'] = 'd<=4'\n",
    "incident_df.loc[(incident_df['PIPE_DIAMETER'] > 4) & (incident_df['PIPE_DIAMETER'] <=10), 'Diameter_Range'] = '4<d<=10'\n",
    "incident_df.loc[(incident_df['PIPE_DIAMETER'] > 10) & (incident_df['PIPE_DIAMETER'] <=20), 'Diameter_Range'] = '10<d<=20'\n",
    "incident_df.loc[(incident_df['PIPE_DIAMETER'] > 20) & (incident_df['PIPE_DIAMETER'] <=28), 'Diameter_Range'] = '20<d<=28'\n",
    "incident_df.loc[incident_df['PIPE_DIAMETER'] > 28, 'Diameter_Range'] = '28<d'\n",
    "\n",
    "#change installation year to float\n",
    "incident_df.loc[incident_df['INSTALLATION_YEAR'] == 'UNKNOWN', 'INSTALLATION_YEAR'] = None\n",
    "pd.to_numeric(incident_df['INSTALLATION_YEAR'])\n",
    "\n",
    "#setting Installation Decade\n",
    "incident_df.loc[incident_df['INSTALLATION_YEAR'] < 1940, 'Installation_Decade'] = 'Pre 1940'\n",
    "incident_df.loc[(incident_df['INSTALLATION_YEAR'] >= 1940) & (incident_df['INSTALLATION_YEAR'] <1950), 'Installation_Decade'] = '1940s'\n",
    "incident_df.loc[(incident_df['INSTALLATION_YEAR'] >= 1950) & (incident_df['INSTALLATION_YEAR'] <1960), 'Installation_Decade'] = '1950s'\n",
    "incident_df.loc[(incident_df['INSTALLATION_YEAR'] >= 1960) & (incident_df['INSTALLATION_YEAR'] <1970), 'Installation_Decade'] = '1960s'\n",
    "incident_df.loc[(incident_df['INSTALLATION_YEAR'] >= 1970) & (incident_df['INSTALLATION_YEAR'] <1980), 'Installation_Decade'] = '1970s'\n",
    "incident_df.loc[(incident_df['INSTALLATION_YEAR'] >= 1980) & (incident_df['INSTALLATION_YEAR'] <1990), 'Installation_Decade'] = '1980s'\n",
    "incident_df.loc[(incident_df['INSTALLATION_YEAR'] >= 1990) & (incident_df['INSTALLATION_YEAR'] <2000), 'Installation_Decade'] = '1990s'\n",
    "incident_df.loc[(incident_df['INSTALLATION_YEAR'] >= 2000) & (incident_df['INSTALLATION_YEAR'] <2010), 'Installation_Decade'] = '2000s'\n",
    "incident_df.loc[(incident_df['INSTALLATION_YEAR'] >= 2010) & (incident_df['INSTALLATION_YEAR'] <2020), 'Installation_Decade'] = '2010s'\n",
    "incident_df.loc[(incident_df['INSTALLATION_YEAR'] >= 2020) , 'Installation_Decade'] = '2020s'"
   ]
  },
  {
   "cell_type": "code",
   "execution_count": 743,
   "metadata": {},
   "outputs": [
    {
     "data": {
      "text/plain": [
       "count       426\n",
       "unique       10\n",
       "top       1960s\n",
       "freq        115\n",
       "Name: Installation_Decade, dtype: object"
      ]
     },
     "execution_count": 743,
     "metadata": {},
     "output_type": "execute_result"
    }
   ],
   "source": [
    "incident_df['Installation_Decade'].describe()"
   ]
  },
  {
   "cell_type": "code",
   "execution_count": 744,
   "metadata": {},
   "outputs": [
    {
     "data": {
      "text/plain": [
       "Pre 1940     6.572770\n",
       "1940s       12.910798\n",
       "1950s       26.760563\n",
       "1960s       26.995305\n",
       "1970s       10.563380\n",
       "              ...    \n",
       "1990s        3.990610\n",
       "2000s        1.408451\n",
       "2010s        2.582160\n",
       "2020s        0.000000\n",
       "Unknown      2.112676\n",
       "Name: Installation_Decade, Length: 11, dtype: float64"
      ]
     },
     "execution_count": 744,
     "metadata": {},
     "output_type": "execute_result"
    }
   ],
   "source": [
    "# Calculating percentages and Rearrangin columns for a better looking graph\n",
    "installation_percent = incident_df['Installation_Decade'].value_counts(normalize=True)[:]*100\n",
    "installation_percent['2020s'] = 0\n",
    "installation_percent = installation_percent[['Pre 1940', '1940s', '1950s', '1960s', '1970s', '1980s', '1990s', '2000s', '2010s','2020s' ,'Unknown']]\n",
    "installation_percent"
   ]
  },
  {
   "cell_type": "code",
   "execution_count": 745,
   "metadata": {},
   "outputs": [
    {
     "data": {
      "text/plain": [
       "d<=4        10.093897\n",
       "4<d<=10     25.352113\n",
       "10<d<=20    38.262911\n",
       "20<d<=28    13.145540\n",
       "28<d        13.145540\n",
       "Name: Diameter_Range, dtype: float64"
      ]
     },
     "execution_count": 745,
     "metadata": {},
     "output_type": "execute_result"
    }
   ],
   "source": [
    "# Calculating percentages and Rearrangin columns for a better looking graph\n",
    "diameter_percent = incident_df['Diameter_Range'].value_counts(normalize=True)[:]*100\n",
    "diameter_percent = diameter_percent[['d<=4', '4<d<=10', '10<d<=20','20<d<=28', '28<d']]\n",
    "diameter_percent"
   ]
  },
  {
   "cell_type": "code",
   "execution_count": 746,
   "metadata": {},
   "outputs": [
    {
     "data": {
      "image/png": "[encoded data removed]",
      "text/plain": [
       "<Figure size 432x288 with 1 Axes>"
      ]
     },
     "metadata": {
      "needs_background": "light"
     },
     "output_type": "display_data"
    }
   ],
   "source": [
    "#Stacked bar graph\n",
    "#installation_percent.plot(kind = 'bar', stacked = True, mark_right = True)\n",
    "\n",
    "windth = 10\n",
    "fig, ax = plt.subplots()\n",
    "\n",
    "a = ax.bar(installation_percent.index,installation_percent.values , align = 'center' ) \n",
    "\n",
    "\n",
    "#xticks \n",
    "plt.xticks(rotation=90) \n",
    "\n",
    "#x-axis labels \n",
    "plt.xlabel('Installation Decade') \n",
    "\n",
    "\n",
    "#y-axis labels \n",
    "plt.ylabel('Percentage of Total Incidents') \n",
    "plt.ylim(top=100)\n",
    "\n",
    "\n",
    "#plot title \n",
    "#plt.title('Ditribution of Incidents by Installation Year') \n",
    "\n",
    "#Legend\n",
    "#plt.legend(['Installation Decade'],bbox_to_anchor=(1.05, 1), loc='upper left')\n",
    "\n",
    "#adding Percentage values on the graph\n",
    "plt.xticks(rotation=90)  \n",
    "for n in a:\n",
    "   height = round(n.get_height())\n",
    "   plt.text(x=n.get_x() + n.get_width() / 2, y=height+.70, s=\"{}%\".format(height), ha='center')\n",
    "\n",
    "#save plot \n",
    "plot_path = os.getcwd() + '\\\\GT Incidents Plots\\\\Installation_percent'\n",
    "plt.savefig(plot_path, dpi=300,bbox_inches='tight')         \n",
    "        \n",
    "#display \n",
    "plt.show();"
   ]
  },
  {
   "cell_type": "code",
   "execution_count": 675,
   "metadata": {},
   "outputs": [
    {
     "data": {
      "image/png": "[encoded data removed]",
      "text/plain": [
       "<Figure size 432x288 with 1 Axes>"
      ]
     },
     "metadata": {
      "needs_background": "light"
     },
     "output_type": "display_data"
    }
   ],
   "source": [
    "#Stacked bar graph\n",
    "#diameter_percent.plot(kind = 'bar', stacked = True, mark_right = True)\n",
    "\n",
    "windth = 10\n",
    "fig, ax = plt.subplots()\n",
    "\n",
    "a = ax.bar(diameter_percent.index,diameter_percent.values , align = 'center' ) \n",
    "\n",
    "#xticks \n",
    "plt.xticks(rotation=90) \n",
    "\n",
    "#x-axis labels \n",
    "plt.xlabel('Pipe Diameter') \n",
    "\n",
    "\n",
    "#y-axis labels \n",
    "plt.ylabel('Percentage of Total Incidents') \n",
    "plt.ylim(top=100)\n",
    "\n",
    "\n",
    "#plot title \n",
    "#plt.title('Ditribution of Incidents by Pipe Diameter') \n",
    "\n",
    "#Legend\n",
    "#plt.legend(['Pipe Diameter'],bbox_to_anchor=(1.05, 1), loc='upper left')\n",
    "\n",
    "#adding Percentage values on the graph\n",
    "plt.xticks(rotation=90)  \n",
    "for n in a:\n",
    "   height = round(n.get_height())\n",
    "   plt.text(x=n.get_x() + n.get_width() / 2, y=height+.70, s=\"{}%\".format(height), ha='center')\n",
    "\n",
    "#save plot \n",
    "plot_path = os.getcwd() + '\\\\GT Incidents Plots\\\\Diameter_percent'\n",
    "plt.savefig(plot_path, dpi=300,bbox_inches='tight')         \n",
    "        \n",
    "#display \n",
    "plt.show();"
   ]
  },
  {
   "cell_type": "code",
   "execution_count": 747,
   "metadata": {},
   "outputs": [
    {
     "data": {
      "text/plain": [
       "IYEAR\n",
       "2012    Unknown\n",
       "2012    Unknown\n",
       "2012    Unknown\n",
       "2014    Unknown\n",
       "2015    Unknown\n",
       "2018    Unknown\n",
       "Name: COMMODITY_RELEASED_TYPE, dtype: object"
      ]
     },
     "execution_count": 747,
     "metadata": {},
     "output_type": "execute_result"
    }
   ],
   "source": [
    "#assigning unknown to blank cells for commodity\n",
    "incident_df.loc[incident_df['COMMODITY_RELEASED_TYPE'].isnull(),'COMMODITY_RELEASED_TYPE'] = 'Unknown'\n",
    "incident_df.loc[incident_df['COMMODITY_RELEASED_TYPE'] == 'Unknown']['COMMODITY_RELEASED_TYPE']"
   ]
  },
  {
   "cell_type": "code",
   "execution_count": 748,
   "metadata": {},
   "outputs": [
    {
     "data": {
      "text/plain": [
       "NATURAL GAS     97.183099\n",
       "HYDROGEN GAS     0.469484\n",
       "OTHER GAS        0.938967\n",
       "Unknown          1.408451\n",
       "Name: COMMODITY_RELEASED_TYPE, dtype: float64"
      ]
     },
     "execution_count": 748,
     "metadata": {},
     "output_type": "execute_result"
    }
   ],
   "source": [
    "commodity_percent = incident_df['COMMODITY_RELEASED_TYPE'].value_counts(normalize=True)[:]*100\n",
    "commodity_percent = commodity_percent[['NATURAL GAS', 'HYDROGEN GAS', 'OTHER GAS', 'Unknown']]\n",
    "commodity_percent"
   ]
  },
  {
   "cell_type": "code",
   "execution_count": 749,
   "metadata": {},
   "outputs": [
    {
     "data": {
      "image/png": "[encoded data removed]",
      "text/plain": [
       "<Figure size 432x288 with 1 Axes>"
      ]
     },
     "metadata": {
      "needs_background": "light"
     },
     "output_type": "display_data"
    }
   ],
   "source": [
    "#Stacked bar graph\n",
    "#commodity_percent.plot(kind = 'bar', stacked = True, mark_right = True)\n",
    "\n",
    "windth = 10\n",
    "fig, ax = plt.subplots()\n",
    "\n",
    "a = ax.bar(commodity_percent.index,commodity_percent.values , align = 'center' ) \n",
    "\n",
    "#xticks \n",
    "plt.xticks(rotation=90) \n",
    "\n",
    "#x-axis labels \n",
    "plt.xlabel('Commodity') \n",
    "\n",
    "\n",
    "#y-axis labels \n",
    "plt.ylabel('Percentage of Total Incidents') \n",
    "plt.ylim(top=100)\n",
    "\n",
    "\n",
    "#plot title \n",
    "#plt.title('Ditribution of Incidents by Commodity') \n",
    "\n",
    "#Legend\n",
    "#plt.legend(bbox_to_anchor=(1.05, 1), loc='upper left')\n",
    "\n",
    "#adding Percentage values on the graph\n",
    "plt.xticks(rotation=90)  \n",
    "for n in a:\n",
    "   height = round(n.get_height())\n",
    "   plt.text(x=n.get_x() + n.get_width() / 2, y=height+.70, s=\"{}%\".format(height), ha='center')\n",
    "\n",
    "#save plot \n",
    "plot_path = os.getcwd() + '\\\\GT Incidents Plots\\\\Commodity_percent'\n",
    "plt.savefig(plot_path, dpi=300,bbox_inches='tight')         \n",
    "        \n",
    "#display \n",
    "plt.show();"
   ]
  },
  {
   "cell_type": "code",
   "execution_count": 750,
   "metadata": {},
   "outputs": [],
   "source": [
    "#calculating SMYS\n",
    "incident_df['Hoop_Stress'] = None\n",
    "incident_df['SMYS%'] = None\n",
    "incident_df['Hoop_Stress'] = (incident_df['MOP_PSIG']*incident_df['PIPE_DIAMETER'])/(2*incident_df['PIPE_WALL_THICKNESS'])\n",
    "incident_df['SMYS%'] = (incident_df['Hoop_Stress']/incident_df['PIPE_SMYS'])"
   ]
  },
  {
   "cell_type": "code",
   "execution_count": 751,
   "metadata": {},
   "outputs": [],
   "source": [
    "#Creating SMYS ranges\n",
    "incident_df['SMYS_Cat'] = None\n",
    "\n",
    "incident_df.loc[incident_df['SMYS%'] <= 0.2, 'SMYS_Cat'] = 'Less than 20%'\n",
    "incident_df.loc[(incident_df['SMYS%'] > 0.2) & (incident_df['SMYS%'] <=0.3), 'SMYS_Cat'] = '20%-30%'\n",
    "incident_df.loc[(incident_df['SMYS%'] > 0.3) & (incident_df['SMYS%'] <=0.4), 'SMYS_Cat'] = '30%-40%'\n",
    "incident_df.loc[(incident_df['SMYS%'] > 0.4) & (incident_df['SMYS%'] <=0.5), 'SMYS_Cat'] = '40%-50%'\n",
    "incident_df.loc[(incident_df['SMYS%'] > 0.5) & (incident_df['SMYS%'] <=0.6), 'SMYS_Cat'] = '50%-60%'\n",
    "incident_df.loc[(incident_df['SMYS%'] > 0.6) & (incident_df['SMYS%'] <=0.72), 'SMYS_Cat'] = '60%-72%'\n",
    "incident_df.loc[(incident_df['SMYS%'] > 0.72) & (incident_df['SMYS%'] <=0.8), 'SMYS_Cat'] = '72%-80%'\n",
    "incident_df.loc[(incident_df['SMYS%'] > 0.8) & (incident_df['SMYS%'] <=1), 'SMYS_Cat'] = 'Greater than 80%'\n",
    "incident_df.loc[incident_df['SMYS%'].isnull(), 'SMYS_Cat'] = 'Unknown'\n",
    "incident_df.loc[(incident_df['SMYS%'] > 1), 'SMYS_Cat'] = 'Unknown'"
   ]
  },
  {
   "cell_type": "code",
   "execution_count": 752,
   "metadata": {},
   "outputs": [
    {
     "data": {
      "text/plain": [
       "Less than 20%       12.676056\n",
       "20%-30%             15.258216\n",
       "30%-40%             11.502347\n",
       "40%-50%             14.788732\n",
       "50%-60%             13.615023\n",
       "60%-72%             24.413146\n",
       "72%-80%              4.225352\n",
       "Greater than 80%     0.000000\n",
       "Unknown              3.521127\n",
       "Name: SMYS_Cat, dtype: float64"
      ]
     },
     "execution_count": 752,
     "metadata": {},
     "output_type": "execute_result"
    }
   ],
   "source": [
    "#Calculating SMYS percentages for plotting\n",
    "smys_percent = incident_df['SMYS_Cat'].value_counts(normalize=True)[:]*100\n",
    "smys_percent['Greater than 80%'] = 0\n",
    "smys_percent = smys_percent[['Less than 20%', '20%-30%', '30%-40%', '40%-50%', '50%-60%', '60%-72%', '72%-80%', 'Greater than 80%', 'Unknown']]\n",
    "smys_percent"
   ]
  },
  {
   "cell_type": "code",
   "execution_count": 753,
   "metadata": {},
   "outputs": [
    {
     "data": {
      "image/png": "[encoded data removed]",
      "text/plain": [
       "<Figure size 432x288 with 1 Axes>"
      ]
     },
     "metadata": {
      "needs_background": "light"
     },
     "output_type": "display_data"
    }
   ],
   "source": [
    "#Stacked bar graph\n",
    "#smys_percent.plot(kind = 'bar', stacked = True, mark_right = True)\n",
    "\n",
    "windth = 10\n",
    "fig, ax = plt.subplots()\n",
    "\n",
    "a = ax.bar(smys_percent.index,smys_percent.values , align = 'center' ) \n",
    "\n",
    "#xticks \n",
    "plt.xticks(rotation=90) \n",
    "\n",
    "#x-axis labels \n",
    "plt.xlabel('Hoop Stress') \n",
    "\n",
    "\n",
    "#y-axis labels \n",
    "plt.ylabel('Percentage of Total Incidents') \n",
    "plt.ylim(top=100)\n",
    "\n",
    "\n",
    "#plot title \n",
    "#plt.title('Ditribution of Incidents by Estimated Hoop Stress') \n",
    "\n",
    "#Legend\n",
    "#plt.legend(['Hoop Stress'],bbox_to_anchor=(1.05, 1), loc='upper left')\n",
    "\n",
    "#adding Percentage values on the graph\n",
    "plt.xticks(rotation=90)  \n",
    "for n in a:\n",
    "   height = round(n.get_height())\n",
    "   plt.text(x=n.get_x() + n.get_width() / 2, y=height+.70, s=\"{}%\".format(height), ha='center')\n",
    "\n",
    "#save plot \n",
    "plot_path = os.getcwd() + '\\\\GT Incidents Plots\\\\SMYS_percent'\n",
    "plt.savefig(plot_path, dpi=300,bbox_inches='tight')         \n",
    "        \n",
    "#display \n",
    "plt.show();"
   ]
  },
  {
   "cell_type": "code",
   "execution_count": 754,
   "metadata": {},
   "outputs": [],
   "source": [
    "#coating, adding a cp type column to integrate both coating and cp. This does not consider incidents where info is not provided\n",
    "incident_df['CP_Types'] = None\n",
    "incident_df.loc[(incident_df['PIPE_COATING_TYPE']== 'NONE')& (incident_df['UNDER_CATHODIC_PROTECTION_IND'] == 'YES'),'CP_Types'] = 'CPB'\n",
    "incident_df.loc[(incident_df['PIPE_COATING_TYPE']== 'NONE')& (incident_df['UNDER_CATHODIC_PROTECTION_IND'] == 'NO'), 'CP_Types'] = 'CUB'\n",
    "incident_df.loc[(incident_df['PIPE_COATING_TYPE'] != 'NONE')& (incident_df['UNDER_CATHODIC_PROTECTION_IND'] == 'YES'), 'CP_Types'] = 'CPC'\n",
    "incident_df.loc[(incident_df['PIPE_COATING_TYPE'] != 'NONE')& (incident_df['UNDER_CATHODIC_PROTECTION_IND'] == 'NO'), 'CP_Types'] = 'CUC'"
   ]
  },
  {
   "cell_type": "code",
   "execution_count": 755,
   "metadata": {},
   "outputs": [
    {
     "data": {
      "text/plain": [
       "CPC    86.956522\n",
       "CPB     5.797101\n",
       "CUB     4.347826\n",
       "CUC     2.898551\n",
       "Name: CP_Types, dtype: float64"
      ]
     },
     "execution_count": 755,
     "metadata": {},
     "output_type": "execute_result"
    }
   ],
   "source": [
    "cp_percent = incident_df['CP_Types'].value_counts(normalize=True)[:]*100\n",
    "cp_percent"
   ]
  },
  {
   "cell_type": "code",
   "execution_count": 756,
   "metadata": {},
   "outputs": [
    {
     "data": {
      "image/png": "[encoded data removed]",
      "text/plain": [
       "<Figure size 432x288 with 1 Axes>"
      ]
     },
     "metadata": {
      "needs_background": "light"
     },
     "output_type": "display_data"
    }
   ],
   "source": [
    "#Stacked bar graph\n",
    "#cp_percent.plot(kind = 'bar', stacked = True, mark_right = True)\n",
    "\n",
    "windth = 10\n",
    "fig, ax = plt.subplots()\n",
    "\n",
    "a = ax.bar(cp_percent.index,cp_percent.values , align = 'center' ) \n",
    "\n",
    "#xticks \n",
    "plt.xticks(rotation=90) \n",
    "\n",
    "#x-axis labels \n",
    "plt.xlabel('Corrosion Prevention Measures') \n",
    "\n",
    "\n",
    "#y-axis labels \n",
    "plt.ylabel('Percentage of Incidents') \n",
    "plt.ylim(top=100)\n",
    "\n",
    "\n",
    "#plot title \n",
    "#plt.title('Ditribution of Incidents by Corrosion Prevention Measures') \n",
    "\n",
    "#Legend\n",
    "#plt.legend(['Hoop Stress'],bbox_to_anchor=(1.05, 1), loc='upper left')\n",
    "\n",
    "#adding Percentage values on the graph\n",
    "plt.xticks(rotation=90)  \n",
    "for n in a:\n",
    "   height = round(n.get_height())\n",
    "   plt.text(x=n.get_x() + n.get_width() / 2, y=height+.70, s=\"{}%\".format(height), ha='center')\n",
    "\n",
    "#save plot \n",
    "plot_path = os.getcwd() + '\\\\GT Incidents Plots\\\\cp_percent'\n",
    "plt.savefig(plot_path, dpi=300,bbox_inches='tight')         \n",
    "        \n",
    "#display \n",
    "plt.show();"
   ]
  },
  {
   "cell_type": "code",
   "execution_count": 757,
   "metadata": {},
   "outputs": [
    {
     "data": {
      "text/plain": [
       "CPC    86.764706\n",
       "CPB     5.882353\n",
       "CUB     4.411765\n",
       "CUC     2.941176\n",
       "Name: CP_Types, dtype: float64"
      ]
     },
     "execution_count": 757,
     "metadata": {},
     "output_type": "execute_result"
    }
   ],
   "source": [
    "cp_corrosion_ext_percent = incident_df.loc[(incident_df['MAP_CAUSE']=='CORROSION') & (incident_df['MAP_SUBCAUSE']=='EXTERNAL')]['CP_Types'].value_counts(normalize = True)[:]*100\n",
    "cp_corrosion_ext_percent"
   ]
  },
  {
   "cell_type": "code",
   "execution_count": 758,
   "metadata": {},
   "outputs": [
    {
     "data": {
      "image/png": "[encoded data removed]",
      "text/plain": [
       "<Figure size 432x288 with 1 Axes>"
      ]
     },
     "metadata": {
      "needs_background": "light"
     },
     "output_type": "display_data"
    }
   ],
   "source": [
    "#Stacked bar graph\n",
    "#cp_corrosion_ext_percent.plot(kind = 'bar', stacked = True, mark_right = True)\n",
    "\n",
    "windth = 10\n",
    "fig, ax = plt.subplots()\n",
    "\n",
    "a = ax.bar(cp_corrosion_ext_percent.index, cp_corrosion_ext_percent.values , align = 'center' ) \n",
    "\n",
    "#xticks \n",
    "plt.xticks(rotation=90) \n",
    "\n",
    "#x-axis labels \n",
    "plt.xlabel('Corrosion Prevention Measures') \n",
    "\n",
    "\n",
    "#y-axis labels \n",
    "plt.ylabel('Percentage of External Corrosion Failures') \n",
    "plt.ylim(top=100)\n",
    "\n",
    "\n",
    "#plot title \n",
    "#plt.title('Ditribution of Incidents by Corrosion Prevention Measures') \n",
    "\n",
    "#Legend\n",
    "#plt.legend(['Hoop Stress'],bbox_to_anchor=(1.05, 1), loc='upper left')\n",
    "\n",
    "#adding Percentage values on the graph\n",
    "plt.xticks(rotation=90)  \n",
    "for n in a:\n",
    "   height = round(n.get_height())\n",
    "   plt.text(x=n.get_x() + n.get_width() / 2, y=height+.70, s=\"{}%\".format(height), ha='center')\n",
    "\n",
    "#save plot \n",
    "plot_path = os.getcwd() + '\\\\GT Incidents Plots\\\\cp_corrosion_ext_percent'\n",
    "plt.savefig(plot_path, dpi=300,bbox_inches='tight')         \n",
    "        \n",
    "#display \n",
    "plt.show();"
   ]
  },
  {
   "cell_type": "code",
   "execution_count": null,
   "metadata": {},
   "outputs": [],
   "source": []
  },
  {
   "cell_type": "code",
   "execution_count": 759,
   "metadata": {},
   "outputs": [],
   "source": [
    "excavation_d_percent = incident_df.loc[incident_df['MAP_CAUSE']=='EXCAVATION DAMAGE']['Diameter_Range'].value_counts(normalize=True)[:]*100\n",
    "corrosion_d_percent = incident_df.loc[incident_df['MAP_CAUSE']=='CORROSION']['Diameter_Range'].value_counts(normalize=True)[:]*100\n",
    "material_d_percent = incident_df.loc[incident_df['MAP_CAUSE']=='MATERIAL/WELD/EQUIP FAILURE']['Diameter_Range'].value_counts(normalize=True)[:]*100\n",
    "#natural_d_percent = incident_df.loc[incident_df['MAP_CAUSE']=='NATURAL FORCE DAMAGE']['Diameter_Range'].value_counts(normalize=True)[:]*100\n",
    "#outside_d_percent = incident_df.loc[incident_df['MAP_CAUSE']=='OTHER OUTSIDE FORCE DAMAGE']['Diameter_Range'].value_counts(normalize=True)[:]*100\n",
    "#other_d_percent = incident_df.loc[incident_df['MAP_CAUSE']=='ALL OTHER CAUSES']['Diameter_Range'].value_counts(normalize=True)[:]*100\n",
    "#incorrect_d_percent = incident_df.loc[incident_df['MAP_CAUSE']=='INCORRECT OPERATION']['Diameter_Range'].value_counts(normalize=True)[:]*100"
   ]
  },
  {
   "cell_type": "code",
   "execution_count": 760,
   "metadata": {},
   "outputs": [],
   "source": [
    "#ordering the columns so all data are in the same order\n",
    "excavation_d_percent = excavation_d_percent[['d<=4', '4<d<=10', '10<d<=20', '20<d<=28', '28<d']]\n",
    "corrosion_d_percent = corrosion_d_percent[['d<=4', '4<d<=10', '10<d<=20', '20<d<=28', '28<d']]\n",
    "material_d_percent = material_d_percent[['d<=4', '4<d<=10', '10<d<=20', '20<d<=28', '28<d']]"
   ]
  },
  {
   "cell_type": "code",
   "execution_count": 761,
   "metadata": {},
   "outputs": [
    {
     "data": {
      "text/plain": [
       "d<=4        15.753425\n",
       "4<d<=10     33.561644\n",
       "10<d<=20    36.986301\n",
       "20<d<=28     8.904110\n",
       "28<d         4.794521\n",
       "Name: Diameter_Range, dtype: float64"
      ]
     },
     "execution_count": 761,
     "metadata": {},
     "output_type": "execute_result"
    }
   ],
   "source": [
    "excavation_d_percent"
   ]
  },
  {
   "cell_type": "code",
   "execution_count": 762,
   "metadata": {},
   "outputs": [
    {
     "data": {
      "image/png": "[encoded data removed]",
      "text/plain": [
       "<Figure size 432x288 with 1 Axes>"
      ]
     },
     "metadata": {
      "needs_background": "light"
     },
     "output_type": "display_data"
    }
   ],
   "source": [
    "n = len(list(excavation_d_percent.index))\n",
    "x = np.arange(n)  # the label locations\n",
    "width = 0.25  # the width of the bars\n",
    "\n",
    "x_axis = list(excavation_d_percent.index)\n",
    "\n",
    "fig, ax = plt.subplots()\n",
    "plt.bar(x , list(excavation_d_percent.values), width, color = 'r', label='Excavation Damage')\n",
    "plt.bar(x + width, list(corrosion_d_percent.values), width, color = 'g', label='Corrosion Damage')\n",
    "plt.bar(x + width*2, list(material_d_percent.values), width, color = 'b', label='Material Damage')\n",
    "\n",
    "# Add some text for labels, title and custom x-axis tick labels, etc.\n",
    "ax.set_ylabel('Percentage of Incidents')\n",
    "ax.set_ylim(top=100)\n",
    "#ax.set_title('')\n",
    "plt.xticks(x + width, x_axis, rotation = 90)\n",
    "plt.legend(bbox_to_anchor=(1.05, 1), loc='upper left')\n",
    "\n",
    "#save plot \n",
    "plot_path = os.getcwd() + '\\\\GT Incidents Plots\\\\cause_diameter_percent'\n",
    "plt.savefig(plot_path, dpi=300,bbox_inches='tight')  \n",
    "\n",
    "plt.show()"
   ]
  },
  {
   "cell_type": "code",
   "execution_count": null,
   "metadata": {},
   "outputs": [],
   "source": []
  },
  {
   "cell_type": "code",
   "execution_count": 763,
   "metadata": {},
   "outputs": [],
   "source": [
    "excavation_class_percent = incident_df.loc[incident_df['MAP_CAUSE']=='EXCAVATION DAMAGE']['CLASS_LOCATION_TYPE'].value_counts(normalize=True)[:]*100\n",
    "corrosion_class_percent = incident_df.loc[incident_df['MAP_CAUSE']=='CORROSION']['CLASS_LOCATION_TYPE'].value_counts(normalize=True)[:]*100\n",
    "material_class_percent = incident_df.loc[incident_df['MAP_CAUSE']=='MATERIAL/WELD/EQUIP FAILURE']['CLASS_LOCATION_TYPE'].value_counts(normalize=True)[:]*100\n",
    "natural_class_percent = incident_df.loc[incident_df['MAP_CAUSE']=='NATURAL FORCE DAMAGE']['CLASS_LOCATION_TYPE'].value_counts(normalize=True)[:]*100\n",
    "outside_class_percent = incident_df.loc[incident_df['MAP_CAUSE']=='OTHER OUTSIDE FORCE DAMAGE']['CLASS_LOCATION_TYPE'].value_counts(normalize=True)[:]*100\n",
    "other_class_percent = incident_df.loc[incident_df['MAP_CAUSE']=='ALL OTHER CAUSES']['CLASS_LOCATION_TYPE'].value_counts(normalize=True)[:]*100\n",
    "incorrect_class_percent = incident_df.loc[incident_df['MAP_CAUSE']=='INCORRECT OPERATION']['CLASS_LOCATION_TYPE'].value_counts(normalize=True)[:]*100"
   ]
  },
  {
   "cell_type": "code",
   "execution_count": null,
   "metadata": {},
   "outputs": [],
   "source": []
  },
  {
   "cell_type": "code",
   "execution_count": 764,
   "metadata": {},
   "outputs": [],
   "source": [
    "#adding class 4 location and ordering columns for plotting\n",
    "excavation_class_percent['CLASS 4 LOCATION'] = 0\n",
    "corrosion_class_percent['CLASS 4 LOCATION'] = 0\n",
    "material_class_percent['CLASS 4 LOCATION'] = 0\n",
    "\n",
    "excavation_class_percent = excavation_class_percent[['CLASS 1 LOCATION', 'CLASS 2 LOCATION', 'CLASS 3 LOCATION', 'CLASS 4 LOCATION']]\n",
    "corrosion_class_percent =corrosion_class_percent[['CLASS 1 LOCATION', 'CLASS 2 LOCATION', 'CLASS 3 LOCATION', 'CLASS 4 LOCATION']]\n",
    "material_class_percent= material_class_percent[['CLASS 1 LOCATION', 'CLASS 2 LOCATION', 'CLASS 3 LOCATION', 'CLASS 4 LOCATION']]"
   ]
  },
  {
   "cell_type": "code",
   "execution_count": 694,
   "metadata": {},
   "outputs": [
    {
     "data": {
      "text/plain": [
       "CLASS 1 LOCATION    73.239437\n",
       "CLASS 2 LOCATION     5.633803\n",
       "CLASS 3 LOCATION    21.126761\n",
       "CLASS 4 LOCATION     0.000000\n",
       "Name: CLASS_LOCATION_TYPE, dtype: float64"
      ]
     },
     "execution_count": 694,
     "metadata": {},
     "output_type": "execute_result"
    }
   ],
   "source": [
    "excavation_class_percent"
   ]
  },
  {
   "cell_type": "code",
   "execution_count": 818,
   "metadata": {},
   "outputs": [
    {
     "data": {
      "image/png": "[encoded data removed]",
      "text/plain": [
       "<Figure size 432x288 with 1 Axes>"
      ]
     },
     "metadata": {
      "needs_background": "light"
     },
     "output_type": "display_data"
    }
   ],
   "source": [
    "n = len(list(excavation_class_percent.index))\n",
    "x = np.arange(n)  # the label locations\n",
    "width = 0.25  # the width of the bars\n",
    "\n",
    "x_axis = ['Class 1', 'Class 2', 'Class 3', 'Class4']\n",
    "\n",
    "fig, ax = plt.subplots()\n",
    "plt.bar(x , list(excavation_class_percent.values), width, color = 'r', label='Excavation Damage')\n",
    "plt.bar(x + width, list(corrosion_class_percent.values), width, color = 'g', label='Corrosion Damage')\n",
    "plt.bar(x + width*2, list(material_class_percent.values), width, color = 'b', label='Material Damage')\n",
    "\n",
    "# Add some text for labels, title and custom x-axis tick labels, etc.\n",
    "ax.set_ylabel('Percentage of Incidents')\n",
    "ax.set_ylim(top=100)\n",
    "#ax.set_title('')\n",
    "plt.xticks(x + width, x_axis, rotation = 90)\n",
    "plt.legend(bbox_to_anchor=(1.05, 1), loc='upper left')\n",
    "\n",
    "#save plot \n",
    "plot_path = os.getcwd() + '\\\\GT Incidents Plots\\\\cause_class_percent'\n",
    "plt.savefig(plot_path, dpi=300,bbox_inches='tight')  \n",
    "\n",
    "plt.show()"
   ]
  },
  {
   "cell_type": "code",
   "execution_count": 766,
   "metadata": {},
   "outputs": [],
   "source": [
    "excavation_inst_percent = incident_df.loc[incident_df['MAP_CAUSE']=='EXCAVATION DAMAGE']['Installation_Decade'].value_counts(normalize=True)[:]*100\n",
    "corrosion_inst_percent = incident_df.loc[incident_df['MAP_CAUSE']=='CORROSION']['Installation_Decade'].value_counts(normalize=True)[:]*100\n",
    "material_inst_percent = incident_df.loc[incident_df['MAP_CAUSE']=='MATERIAL/WELD/EQUIP FAILURE']['Installation_Decade'].value_counts(normalize=True)[:]*100\n"
   ]
  },
  {
   "cell_type": "code",
   "execution_count": null,
   "metadata": {},
   "outputs": [],
   "source": []
  },
  {
   "cell_type": "code",
   "execution_count": 767,
   "metadata": {},
   "outputs": [],
   "source": [
    "#adding the missing decades, there should be a better way to do this\n",
    "excavation_inst_percent['2020s']=0\n",
    "corrosion_inst_percent['2000s'],corrosion_inst_percent['2010s'], corrosion_inst_percent['2020s']=[0,0,0]\n",
    "material_inst_percent['2000s'], material_inst_percent['Unknown'], material_inst_percent['2020s']=[0,0,0]\n",
    "\n",
    "#correcting the order\n",
    "excavation_inst_percent = excavation_inst_percent[['Pre 1940', '1940s', '1950s', '1960s', '1970s', '1980s', '1990s', '2000s', '2010s','2020s' ,'Unknown']]\n",
    "corrosion_inst_percent = corrosion_inst_percent[['Pre 1940', '1940s', '1950s', '1960s', '1970s', '1980s', '1990s', '2000s', '2010s','2020s' ,'Unknown']]\n",
    "material_inst_percent = material_inst_percent[['Pre 1940', '1940s', '1950s', '1960s', '1970s', '1980s', '1990s', '2000s', '2010s','2020s' ,'Unknown']]"
   ]
  },
  {
   "cell_type": "code",
   "execution_count": 768,
   "metadata": {},
   "outputs": [
    {
     "data": {
      "text/plain": [
       "Pre 1940     6.164384\n",
       "1940s       10.273973\n",
       "1950s       24.657534\n",
       "1960s       30.821918\n",
       "1970s       13.013699\n",
       "              ...    \n",
       "1990s        4.109589\n",
       "2000s        2.054795\n",
       "2010s        1.369863\n",
       "2020s        0.000000\n",
       "Unknown      3.424658\n",
       "Name: Installation_Decade, Length: 11, dtype: float64"
      ]
     },
     "execution_count": 768,
     "metadata": {},
     "output_type": "execute_result"
    }
   ],
   "source": [
    "excavation_inst_percent"
   ]
  },
  {
   "cell_type": "code",
   "execution_count": 769,
   "metadata": {},
   "outputs": [
    {
     "data": {
      "text/plain": [
       "Pre 1940    13.333333\n",
       "1940s       11.428571\n",
       "1950s       25.714286\n",
       "1960s       27.619048\n",
       "1970s        7.619048\n",
       "              ...    \n",
       "1990s        2.857143\n",
       "2000s        0.000000\n",
       "2010s        0.000000\n",
       "2020s        0.000000\n",
       "Unknown      1.904762\n",
       "Name: Installation_Decade, Length: 11, dtype: float64"
      ]
     },
     "execution_count": 769,
     "metadata": {},
     "output_type": "execute_result"
    }
   ],
   "source": [
    "corrosion_inst_percent"
   ]
  },
  {
   "cell_type": "code",
   "execution_count": 770,
   "metadata": {},
   "outputs": [
    {
     "data": {
      "text/plain": [
       "Pre 1940     4.123711\n",
       "1940s       22.680412\n",
       "1950s       30.927835\n",
       "1960s       23.711340\n",
       "1970s        9.278351\n",
       "              ...    \n",
       "1990s        2.061856\n",
       "2000s        0.000000\n",
       "2010s        4.123711\n",
       "2020s        0.000000\n",
       "Unknown      0.000000\n",
       "Name: Installation_Decade, Length: 11, dtype: float64"
      ]
     },
     "execution_count": 770,
     "metadata": {},
     "output_type": "execute_result"
    }
   ],
   "source": [
    "material_inst_percent"
   ]
  },
  {
   "cell_type": "code",
   "execution_count": 771,
   "metadata": {},
   "outputs": [
    {
     "data": {
      "image/png": "[encoded data removed]",
      "text/plain": [
       "<Figure size 432x288 with 1 Axes>"
      ]
     },
     "metadata": {
      "needs_background": "light"
     },
     "output_type": "display_data"
    }
   ],
   "source": [
    "n = len(list(installation_percent.index))\n",
    "x = np.arange(n)  # the label locations\n",
    "width = 0.25  # the width of the bars\n",
    "\n",
    "x_axis = list(installation_percent.index)\n",
    "\n",
    "fig, ax = plt.subplots()\n",
    "plt.bar(x , list(excavation_inst_percent.values), width, color = 'r', label='Excavation Damage')\n",
    "plt.bar(x + width, list(corrosion_inst_percent.values), width, color = 'g', label='Corrosion Damage')\n",
    "plt.bar(x + width*2, list(material_inst_percent.values), width, color = 'b', label='Material Damage')\n",
    "\n",
    "# Add some text for labels, title and custom x-axis tick labels, etc.\n",
    "ax.set_ylabel('Percentage of Incidents')\n",
    "ax.set_ylim(top=100)\n",
    "#ax.set_title('')\n",
    "plt.xticks(x + width, x_axis, rotation = 90)\n",
    "plt.legend(bbox_to_anchor=(1.05, 1), loc='upper left')\n",
    "\n",
    "#save plot \n",
    "plot_path = os.getcwd() + '\\\\GT Incidents Plots\\\\cause_installation_percent'\n",
    "plt.savefig(plot_path, dpi=300,bbox_inches='tight')  \n",
    "\n",
    "plt.show()"
   ]
  },
  {
   "cell_type": "code",
   "execution_count": 772,
   "metadata": {},
   "outputs": [],
   "source": [
    "excavation_commodity_percent = incident_df.loc[incident_df['MAP_CAUSE']=='EXCAVATION DAMAGE']['COMMODITY_RELEASED_TYPE'].value_counts(normalize=True)[:]*100\n",
    "corrosion_commodity_percent = incident_df.loc[incident_df['MAP_CAUSE']=='CORROSION']['COMMODITY_RELEASED_TYPE'].value_counts(normalize=True)[:]*100\n",
    "material_commodity_percent = incident_df.loc[incident_df['MAP_CAUSE']=='MATERIAL/WELD/EQUIP FAILURE']['COMMODITY_RELEASED_TYPE'].value_counts(normalize=True)[:]*100\n",
    "\n",
    "corrosion_commodity_percent['Unknown'] = 0\n",
    "excavation_commodity_percent['HYDROGEN GAS'], excavation_commodity_percent['OTHER GAS']=[0,0]\n",
    "material_commodity_percent['HYDROGEN GAS'] = 0\n",
    "\n",
    "excavation_commodity_percent = excavation_commodity_percent[['NATURAL GAS', 'HYDROGEN GAS', 'OTHER GAS', 'Unknown']]\n",
    "corrosion_commodity_percent = corrosion_commodity_percent[['NATURAL GAS', 'HYDROGEN GAS', 'OTHER GAS', 'Unknown']]\n",
    "material_commodity_percent = material_commodity_percent[['NATURAL GAS', 'HYDROGEN GAS', 'OTHER GAS', 'Unknown']]"
   ]
  },
  {
   "cell_type": "code",
   "execution_count": null,
   "metadata": {},
   "outputs": [],
   "source": []
  },
  {
   "cell_type": "code",
   "execution_count": 773,
   "metadata": {},
   "outputs": [
    {
     "data": {
      "image/png": "[encoded data removed]",
      "text/plain": [
       "<Figure size 432x288 with 1 Axes>"
      ]
     },
     "metadata": {
      "needs_background": "light"
     },
     "output_type": "display_data"
    }
   ],
   "source": [
    "#probably not useful\n",
    "n = len(list(excavation_commodity_percent.index))\n",
    "x = np.arange(n)  # the label locations\n",
    "width = 0.25  # the width of the bars\n",
    "\n",
    "x_axis = list(excavation_commodity_percent.index)\n",
    "\n",
    "fig, ax = plt.subplots()\n",
    "plt.bar(x , list(excavation_commodity_percent.values), width, color = 'r', label='Excavation Damage')\n",
    "plt.bar(x + width, list(corrosion_commodity_percent.values), width, color = 'g', label='Corrosion Damage')\n",
    "plt.bar(x + width*2, list(material_commodity_percent.values), width, color = 'b', label='Material Damage')\n",
    "\n",
    "# Add some text for labels, title and custom x-axis tick labels, etc.\n",
    "ax.set_ylabel('Percentage of Incidents')\n",
    "ax.set_ylim(top=100)\n",
    "#ax.set_title('')\n",
    "plt.xticks(x + width, x_axis, rotation = 90)\n",
    "plt.legend(bbox_to_anchor=(1.05, 1), loc='upper left')\n",
    "\n",
    "#save plot \n",
    "plot_path = os.getcwd() + '\\\\GT Incidents Plots\\\\cause_commodity_percent'\n",
    "plt.savefig(plot_path, dpi=300,bbox_inches='tight')  \n",
    "\n",
    "plt.show()"
   ]
  },
  {
   "cell_type": "code",
   "execution_count": 774,
   "metadata": {},
   "outputs": [],
   "source": [
    "corrosion_int_commodity_percent = incident_df.loc[(incident_df['MAP_CAUSE']=='CORROSION') & (incident_df['MAP_SUBCAUSE']=='INTERNAL')]['COMMODITY_RELEASED_TYPE'].value_counts(normalize=True)[:]*100\n",
    "corrosion_ext_commodity_percent = incident_df.loc[(incident_df['MAP_CAUSE']=='CORROSION') & (incident_df['MAP_SUBCAUSE']=='EXTERNAL')]['COMMODITY_RELEASED_TYPE'].value_counts(normalize=True)[:]*100"
   ]
  },
  {
   "cell_type": "code",
   "execution_count": 775,
   "metadata": {},
   "outputs": [],
   "source": [
    "corrosion_int_commodity_percent['Unknown'] = 0\n",
    "corrosion_ext_commodity_percent['Unknown'], corrosion_ext_commodity_percent['HYDROGEN GAS'] = [0,0]\n",
    "\n",
    "corrosion_int_commodity_percent = corrosion_int_commodity_percent[['NATURAL GAS', 'HYDROGEN GAS', 'OTHER GAS', 'Unknown']]\n",
    "corrosion_ext_commodity_percent = corrosion_ext_commodity_percent[['NATURAL GAS', 'HYDROGEN GAS', 'OTHER GAS', 'Unknown']]"
   ]
  },
  {
   "cell_type": "code",
   "execution_count": 776,
   "metadata": {},
   "outputs": [
    {
     "data": {
      "text/plain": [
       "NATURAL GAS     93.103448\n",
       "HYDROGEN GAS     3.448276\n",
       "OTHER GAS        3.448276\n",
       "Unknown          0.000000\n",
       "Name: COMMODITY_RELEASED_TYPE, dtype: float64"
      ]
     },
     "execution_count": 776,
     "metadata": {},
     "output_type": "execute_result"
    }
   ],
   "source": [
    "corrosion_int_commodity_percent"
   ]
  },
  {
   "cell_type": "code",
   "execution_count": 777,
   "metadata": {},
   "outputs": [
    {
     "data": {
      "text/plain": [
       "NATURAL GAS     98.684211\n",
       "HYDROGEN GAS     0.000000\n",
       "OTHER GAS        1.315789\n",
       "Unknown          0.000000\n",
       "Name: COMMODITY_RELEASED_TYPE, dtype: float64"
      ]
     },
     "execution_count": 777,
     "metadata": {},
     "output_type": "execute_result"
    }
   ],
   "source": [
    "corrosion_ext_commodity_percent"
   ]
  },
  {
   "cell_type": "code",
   "execution_count": 778,
   "metadata": {},
   "outputs": [
    {
     "data": {
      "image/png": "[encoded data removed]",
      "text/plain": [
       "<Figure size 432x288 with 1 Axes>"
      ]
     },
     "metadata": {
      "needs_background": "light"
     },
     "output_type": "display_data"
    }
   ],
   "source": [
    "#probably not useful\n",
    "n = len(list(corrosion_int_commodity_percent.index))\n",
    "x = np.arange(n)  # the label locations\n",
    "width = 0.25  # the width of the bars\n",
    "\n",
    "x_axis = list(corrosion_int_commodity_percent.index)\n",
    "\n",
    "fig, ax = plt.subplots()\n",
    "plt.bar(x , list(corrosion_int_commodity_percent.values), width, color = 'r', label='Internal Corrosion')\n",
    "plt.bar(x + width, list(corrosion_ext_commodity_percent.values), width, color = 'g', label='External Corrosion')\n",
    "\n",
    "# Add some text for labels, title and custom x-axis tick labels, etc.\n",
    "ax.set_ylabel('Percentage of Incidents Due to Corrosion')\n",
    "ax.set_ylim(top=100)\n",
    "ax.set_title('')\n",
    "plt.xticks(x + width, x_axis, rotation = 90)\n",
    "plt.legend(bbox_to_anchor=(1.05, 1), loc='upper left')\n",
    "\n",
    "#save plot \n",
    "plot_path = os.getcwd() + '\\\\GT Incidents Plots\\\\cause_commodity_corrosion_percent'\n",
    "plt.savefig(plot_path, dpi=300,bbox_inches='tight')  \n",
    "\n",
    "plt.show()"
   ]
  },
  {
   "cell_type": "code",
   "execution_count": 779,
   "metadata": {},
   "outputs": [],
   "source": [
    "#smys\n",
    "excavation_smys_percent = incident_df.loc[incident_df['MAP_CAUSE']=='EXCAVATION DAMAGE']['SMYS_Cat'].value_counts(normalize=True)[:]*100\n",
    "corrosion_smys_percent = incident_df.loc[incident_df['MAP_CAUSE']=='CORROSION']['SMYS_Cat'].value_counts(normalize=True)[:]*100\n",
    "material_smys_percent = incident_df.loc[incident_df['MAP_CAUSE']=='MATERIAL/WELD/EQUIP FAILURE']['SMYS_Cat'].value_counts(normalize=True)[:]*100"
   ]
  },
  {
   "cell_type": "code",
   "execution_count": 780,
   "metadata": {},
   "outputs": [],
   "source": [
    "material_smys_percent['Greater than 80%'] = 0\n",
    "corrosion_smys_percent['Greater than 80%'] = 0\n",
    "excavation_smys_percent['Greater than 80%'] = 0\n",
    "\n",
    "excavation_smys_percent= excavation_smys_percent[['Less than 20%', '20%-30%', '30%-40%', '40%-50%', '50%-60%', '60%-72%', '72%-80%', 'Greater than 80%', 'Unknown']]\n",
    "corrosion_smys_percent = corrosion_smys_percent[['Less than 20%', '20%-30%', '30%-40%', '40%-50%', '50%-60%', '60%-72%', '72%-80%', 'Greater than 80%', 'Unknown']]\n",
    "material_smys_percent = material_smys_percent[['Less than 20%', '20%-30%', '30%-40%', '40%-50%', '50%-60%', '60%-72%', '72%-80%', 'Greater than 80%', 'Unknown']]"
   ]
  },
  {
   "cell_type": "code",
   "execution_count": 781,
   "metadata": {},
   "outputs": [
    {
     "data": {
      "text/plain": [
       "Less than 20%       15.753425\n",
       "20%-30%             26.027397\n",
       "30%-40%             13.013699\n",
       "40%-50%             15.068493\n",
       "50%-60%              8.904110\n",
       "60%-72%             15.068493\n",
       "72%-80%              1.369863\n",
       "Greater than 80%     0.000000\n",
       "Unknown              4.794521\n",
       "Name: SMYS_Cat, dtype: float64"
      ]
     },
     "execution_count": 781,
     "metadata": {},
     "output_type": "execute_result"
    }
   ],
   "source": [
    "excavation_smys_percent"
   ]
  },
  {
   "cell_type": "code",
   "execution_count": 782,
   "metadata": {},
   "outputs": [
    {
     "data": {
      "image/png": "[encoded data removed]",
      "text/plain": [
       "<Figure size 432x288 with 1 Axes>"
      ]
     },
     "metadata": {
      "needs_background": "light"
     },
     "output_type": "display_data"
    }
   ],
   "source": [
    "n = len(list(excavation_smys_percent.index))\n",
    "x = np.arange(n)  # the label locations\n",
    "width = 0.25  # the width of the bars\n",
    "\n",
    "x_axis = list(excavation_smys_percent.index)\n",
    "\n",
    "fig, ax = plt.subplots()\n",
    "plt.bar(x , list(excavation_smys_percent.values), width, color = 'r', label='Excavation Damage')\n",
    "plt.bar(x + width, list(corrosion_smys_percent.values), width, color = 'g', label='Corrosion Damage')\n",
    "plt.bar(x + width*2, list(material_smys_percent.values), width, color = 'b', label='Material Damage')\n",
    "\n",
    "# Add some text for labels, title and custom x-axis tick labels, etc.\n",
    "ax.set_ylabel('Percentage of Incidents')\n",
    "ax.set_ylim(top=100)\n",
    "ax.set_title('')\n",
    "plt.xticks(x + width, x_axis, rotation = 90)\n",
    "plt.legend(bbox_to_anchor=(1.05, 1), loc='upper left')\n",
    "\n",
    "#save plot \n",
    "plot_path = os.getcwd() + '\\\\GT Incidents Plots\\\\cause_smys_percent'\n",
    "plt.savefig(plot_path, dpi=300,bbox_inches='tight')  \n",
    "\n",
    "plt.show()"
   ]
  },
  {
   "cell_type": "code",
   "execution_count": 783,
   "metadata": {},
   "outputs": [],
   "source": [
    "#smys_class_1\n",
    "excavation_smys_class_1_percent = incident_df.loc[(incident_df['MAP_CAUSE']=='EXCAVATION DAMAGE') & (incident_df['CLASS_LOCATION_TYPE']=='CLASS 1 LOCATION')]['SMYS_Cat'].value_counts(normalize=True)[:]*100\n",
    "corrosion_smys_class_1_percent = incident_df.loc[(incident_df['MAP_CAUSE']=='CORROSION') & (incident_df['CLASS_LOCATION_TYPE']=='CLASS 1 LOCATION')]['SMYS_Cat'].value_counts(normalize=True)[:]*100\n",
    "material_smys_class_1_percent = incident_df.loc[(incident_df['MAP_CAUSE']=='MATERIAL/WELD/EQUIP FAILURE') & (incident_df['CLASS_LOCATION_TYPE']=='CLASS 1 LOCATION')]['SMYS_Cat'].value_counts(normalize=True)[:]*100"
   ]
  },
  {
   "cell_type": "code",
   "execution_count": 784,
   "metadata": {},
   "outputs": [],
   "source": [
    "material_smys_class_1_percent['Greater than 80%'] = 0\n",
    "corrosion_smys_class_1_percent['Greater than 80%'] = 0\n",
    "excavation_smys_class_1_percent['Greater than 80%'] = 0\n",
    "\n",
    "excavation_smys_class_1_percent= excavation_smys_class_1_percent[['Less than 20%', '20%-30%', '30%-40%', '40%-50%', '50%-60%', '60%-72%', '72%-80%', 'Greater than 80%', 'Unknown']]\n",
    "corrosion_smys_class_1_percent = corrosion_smys_class_1_percent[['Less than 20%', '20%-30%', '30%-40%', '40%-50%', '50%-60%', '60%-72%', '72%-80%', 'Greater than 80%', 'Unknown']]\n",
    "material_smys_class_1_percent = material_smys_class_1_percent[['Less than 20%', '20%-30%', '30%-40%', '40%-50%', '50%-60%', '60%-72%', '72%-80%', 'Greater than 80%', 'Unknown']]"
   ]
  },
  {
   "cell_type": "code",
   "execution_count": 785,
   "metadata": {},
   "outputs": [
    {
     "data": {
      "image/png": "[encoded data removed]",
      "text/plain": [
       "<Figure size 432x288 with 1 Axes>"
      ]
     },
     "metadata": {
      "needs_background": "light"
     },
     "output_type": "display_data"
    }
   ],
   "source": [
    "n = len(list(excavation_smys_class_1_percent.index))\n",
    "x = np.arange(n)  # the label locations\n",
    "width = 0.25  # the width of the bars\n",
    "\n",
    "x_axis = list(excavation_smys_class_1_percent.index)\n",
    "\n",
    "fig, ax = plt.subplots()\n",
    "plt.bar(x , list(excavation_smys_class_1_percent.values), width, color = 'r', label='Excavation Damage')\n",
    "plt.bar(x + width, list(corrosion_smys_class_1_percent.values), width, color = 'g', label='Corrosion Damage')\n",
    "plt.bar(x + width*2, list(material_smys_class_1_percent.values), width, color = 'b', label='Material Damage')\n",
    "\n",
    "# Add some text for labels, title and custom x-axis tick labels, etc.\n",
    "ax.set_ylabel('Percentage of Incidents')\n",
    "ax.set_ylim(top=100)\n",
    "ax.set_title('')\n",
    "plt.xticks(x + width, x_axis, rotation = 90)\n",
    "plt.legend(bbox_to_anchor=(1.05, 1), loc='upper left')\n",
    "\n",
    "#save plot \n",
    "plot_path = os.getcwd() + '\\\\GT Incidents Plots\\\\cause_smys_class_1_percent'\n",
    "plt.savefig(plot_path, dpi=300,bbox_inches='tight')  \n",
    "\n",
    "plt.show()"
   ]
  },
  {
   "cell_type": "code",
   "execution_count": 786,
   "metadata": {},
   "outputs": [],
   "source": [
    "#smys_class_2\n",
    "excavation_smys_class_2_percent = incident_df.loc[(incident_df['MAP_CAUSE']=='EXCAVATION DAMAGE') & (incident_df['CLASS_LOCATION_TYPE']=='CLASS 2 LOCATION')]['SMYS_Cat'].value_counts(normalize=True)[:]*100\n",
    "corrosion_smys_class_2_percent = incident_df.loc[(incident_df['MAP_CAUSE']=='CORROSION') & (incident_df['CLASS_LOCATION_TYPE']=='CLASS 2 LOCATION')]['SMYS_Cat'].value_counts(normalize=True)[:]*100\n",
    "material_smys_class_2_percent = incident_df.loc[(incident_df['MAP_CAUSE']=='MATERIAL/WELD/EQUIP FAILURE') & (incident_df['CLASS_LOCATION_TYPE']=='CLASS 2 LOCATION')]['SMYS_Cat'].value_counts(normalize=True)[:]*100"
   ]
  },
  {
   "cell_type": "code",
   "execution_count": 787,
   "metadata": {},
   "outputs": [
    {
     "data": {
      "text/plain": [
       "40%-50%          33.333333\n",
       "20%-30%          22.222222\n",
       "30%-40%          22.222222\n",
       "Less than 20%    11.111111\n",
       "60%-72%          11.111111\n",
       "Name: SMYS_Cat, dtype: float64"
      ]
     },
     "execution_count": 787,
     "metadata": {},
     "output_type": "execute_result"
    }
   ],
   "source": [
    "excavation_smys_class_2_percent"
   ]
  },
  {
   "cell_type": "code",
   "execution_count": 490,
   "metadata": {},
   "outputs": [],
   "source": [
    "#NO PLOTS FOR DIFFERENT CLASSES. NOT USEFUL. NEEDS TO BE Fixed\n",
    "\n",
    "# excavation_smys_class_2_percent['50%-60%'], excavation_smys_class_2_percent['72%-80%'], excavation_smys_class_2_percent['Greater than 80%'], excavation_smys_class_2_percent['Unknown'] = [0,0,0,0]\n",
    "# #corrosion_smys_class_2_percent['Greater than 80%'] = 0\n",
    "# #material_smys_class_2_percent['Greater than 80%'] = 0\n",
    "\n",
    "# excavation_smys_class_2_percent= excavation_smys_class_2_percent[['Less than 20%', '20%-30%', '30%-40%', '40%-50%', '50%-60%', '60%-72%', '72%-80%', 'Greater than 80%', 'Unknown']]\n",
    "# #corrosion_smys_class_2_percent = corrosion_smys_class_2_percent[['Less than 20%', '20%-30%', '30%-40%', '40%-50%', '50%-60%', '60%-72%', '72%-80%', 'Greater than 80%', 'Unknown']]\n",
    "# #material_smys_class_2_percent = material_smys_class_2_percent[['Less than 20%', '20%-30%', '30%-40%', '40%-50%', '50%-60%', '60%-72%', '72%-80%', 'Greater than 80%', 'Unknown']]"
   ]
  },
  {
   "cell_type": "code",
   "execution_count": 500,
   "metadata": {},
   "outputs": [],
   "source": [
    "# n = len(list(excavation_smys_class_2_percent.index))\n",
    "# x = np.arange(n)  # the label locations\n",
    "# width = 0.25  # the width of the bars\n",
    "\n",
    "# x_axis = list(excavation_smys_class_2_percent.index)\n",
    "\n",
    "# fig, ax = plt.subplots()\n",
    "# plt.bar(x , list(excavation_smys_class_2_percent.values), width, color = 'r', label='Excavation Damage')\n",
    "# #plt.bar(x + width, list(corrosion_smys_class_2_percent.values), width, color = 'g', label='Corrosion Damage')\n",
    "# #plt.bar(x + width*2, list(material_smys_class_2_percent.values), width, color = 'b', label='Material Damage')\n",
    "\n",
    "# # Add some text for labels, title and custom x-axis tick labels, etc.\n",
    "# ax.set_ylabel('Percentage of Incidents')\n",
    "# ax.set_ylim(top=100)\n",
    "# ax.set_title('')\n",
    "# plt.xticks(x + width, x_axis, rotation = 90)\n",
    "# plt.legend(bbox_to_anchor=(1.05, 1), loc='upper left')\n",
    "\n",
    "# #save plot \n",
    "# plot_path = os.getcwd() + '\\\\GT Incidents Plots\\\\cause_smys_class_2_percent'\n",
    "# plt.savefig(plot_path, dpi=300,bbox_inches='tight')  \n",
    "\n",
    "# plt.show()"
   ]
  },
  {
   "cell_type": "code",
   "execution_count": 788,
   "metadata": {},
   "outputs": [],
   "source": [
    "#smys_class_3\n",
    "excavation_smys_class_3_percent = incident_df.loc[(incident_df['MAP_CAUSE']=='EXCAVATION DAMAGE') & (incident_df['CLASS_LOCATION_TYPE']=='CLASS 3 LOCATION')]['SMYS_Cat'].value_counts(normalize=True)[:]*100\n",
    "corrosion_smys_class_3_percent = incident_df.loc[(incident_df['MAP_CAUSE']=='CORROSION') & (incident_df['CLASS_LOCATION_TYPE']=='CLASS 3 LOCATION')]['SMYS_Cat'].value_counts(normalize=True)[:]*100\n",
    "material_smys_class_3_percent = incident_df.loc[(incident_df['MAP_CAUSE']=='MATERIAL/WELD/EQUIP FAILURE') & (incident_df['CLASS_LOCATION_TYPE']=='CLASS 3 LOCATION')]['SMYS_Cat'].value_counts(normalize=True)[:]*100"
   ]
  },
  {
   "cell_type": "code",
   "execution_count": 443,
   "metadata": {},
   "outputs": [],
   "source": [
    "# material_smys_class_3_percent['Greater than 80%'] = 0\n",
    "# corrosion_smys_class_3_percent['Greater than 80%'] = 0\n",
    "# excavation_smys_class_3_percent['Greater than 80%'] = 0\n",
    "\n",
    "# excavation_smys_class_3_percent= excavation_smys_class_3_percent[['Less than 20%', '20%-30%', '30%-40%', '40%-50%', '50%-60%', '60%-72%', '72%-80%', 'Greater than 80%', 'Unknown']]\n",
    "# corrosion_smys_class_3_percent = corrosion_smys_class_3_percent[['Less than 20%', '20%-30%', '30%-40%', '40%-50%', '50%-60%', '60%-72%', '72%-80%', 'Greater than 80%', 'Unknown']]\n",
    "# material_smys_class_3_percent = material_smys_class_3_percent[['Less than 20%', '20%-30%', '30%-40%', '40%-50%', '50%-60%', '60%-72%', '72%-80%', 'Greater than 80%', 'Unknown']]"
   ]
  },
  {
   "cell_type": "code",
   "execution_count": 498,
   "metadata": {},
   "outputs": [],
   "source": [
    "# n = len(list(excavation_smys_class_3_percent.index))\n",
    "# x = np.arange(n)  # the label locations\n",
    "# width = 0.25  # the width of the bars\n",
    "\n",
    "# x_axis = list(excavation_smys_class_3_percent.index)\n",
    "\n",
    "# fig, ax = plt.subplots()\n",
    "# plt.bar(x , list(excavation_smys_class_3_percent.values), width, color = 'r', label='Excavation Damage')\n",
    "# plt.bar(x + width, list(corrosion_smys_class_3_percent.values), width, color = 'g', label='Corrosion Damage')\n",
    "# plt.bar(x + width*2, list(material_smys_class_3_percent.values), width, color = 'b', label='Material Damage')\n",
    "\n",
    "# # Add some text for labels, title and custom x-axis tick labels, etc.\n",
    "# ax.set_ylabel('Percentage of Incidents')\n",
    "# ax.set_ylim(top=100)\n",
    "# ax.set_title('')\n",
    "# plt.xticks(x + width, x_axis, rotation = 90)\n",
    "# plt.legend(bbox_to_anchor=(1.05, 1), loc='upper left')\n",
    "\n",
    "# #save plot \n",
    "# plot_path = os.getcwd() + '\\\\GT Incidents Plots\\\\cause_smys_class_3_percent'\n",
    "# plt.savefig(plot_path, dpi=300,bbox_inches='tight')  \n",
    "\n",
    "# plt.show()"
   ]
  },
  {
   "cell_type": "code",
   "execution_count": 789,
   "metadata": {},
   "outputs": [],
   "source": [
    "#smys_class_4\n",
    "excavation_smys_class_4_percent = incident_df.loc[(incident_df['MAP_CAUSE']=='EXCAVATION DAMAGE') & (incident_df['CLASS_LOCATION_TYPE']=='CLASS 4 LOCATION')]['SMYS_Cat'].value_counts(normalize=True)[:]*100\n",
    "corrosion_smys_class_4_percent = incident_df.loc[(incident_df['MAP_CAUSE']=='CORROSION') & (incident_df['CLASS_LOCATION_TYPE']=='CLASS 4 LOCATION')]['SMYS_Cat'].value_counts(normalize=True)[:]*100\n",
    "material_smys_class_4_percent = incident_df.loc[(incident_df['MAP_CAUSE']=='MATERIAL/WELD/EQUIP FAILURE') & (incident_df['CLASS_LOCATION_TYPE']=='CLASS 4 LOCATION')]['SMYS_Cat'].value_counts(normalize=True)[:]*100"
   ]
  },
  {
   "cell_type": "code",
   "execution_count": 496,
   "metadata": {},
   "outputs": [],
   "source": [
    "# material_smys_class_4_percent['Greater than 80%'] = 0\n",
    "# corrosion_smys_class_4_percent['Greater than 80%'] = 0\n",
    "# excavation_smys_class_4_percent['Greater than 80%'] = 0\n",
    "\n",
    "# excavation_smys_class_4_percent= excavation_smys_class_4_percent[['Less than 20%', '20%-30%', '30%-40%', '40%-50%', '50%-60%', '60%-72%', '72%-80%', 'Greater than 80%', 'Unknown']]\n",
    "# corrosion_smys_class_4_percent = corrosion_smys_class_4_percent[['Less than 20%', '20%-30%', '30%-40%', '40%-50%', '50%-60%', '60%-72%', '72%-80%', 'Greater than 80%', 'Unknown']]\n",
    "# material_smys_class_4_percent = material_smys_class_4_percent[['Less than 20%', '20%-30%', '30%-40%', '40%-50%', '50%-60%', '60%-72%', '72%-80%', 'Greater than 80%', 'Unknown']]"
   ]
  },
  {
   "cell_type": "code",
   "execution_count": 499,
   "metadata": {},
   "outputs": [],
   "source": [
    "# n = len(list(excavation_smys_class_4_percent.index))\n",
    "# x = np.arange(n)  # the label locations\n",
    "# width = 0.25  # the width of the bars\n",
    "\n",
    "# x_axis = list(excavation_smys_class_4_percent.index)\n",
    "\n",
    "# fig, ax = plt.subplots()\n",
    "# plt.bar(x , list(excavation_smys_class_4_percent.values), width, color = 'r', label='Excavation Damage')\n",
    "# plt.bar(x + width, list(corrosion_smys_class_4_percent.values), width, color = 'g', label='Corrosion Damage')\n",
    "# plt.bar(x + width*2, list(material_smys_class_4_percent.values), width, color = 'b', label='Material Damage')\n",
    "\n",
    "# # Add some text for labels, title and custom x-axis tick labels, etc.\n",
    "# ax.set_ylabel('Percentage of Incidents')\n",
    "# ax.set_ylim(top=100)\n",
    "# ax.set_title('')\n",
    "# plt.xticks(x + width, x_axis, rotation = 90)\n",
    "# plt.legend(bbox_to_anchor=(1.05, 1), loc='upper left')\n",
    "\n",
    "# #save plot \n",
    "# plot_path = os.getcwd() + '\\\\GT Incidents Plots\\\\cause_smys_class_4_percent'\n",
    "# plt.savefig(plot_path, dpi=300,bbox_inches='tight')  \n",
    "\n",
    "# plt.show()"
   ]
  },
  {
   "cell_type": "code",
   "execution_count": 790,
   "metadata": {},
   "outputs": [
    {
     "data": {
      "text/plain": [
       "LEAK                   146\n",
       "RUPTURE                136\n",
       "MECHANICAL PUNCTURE    121\n",
       "OTHER                   23\n",
       "Name: RELEASE_TYPE, dtype: int64"
      ]
     },
     "execution_count": 790,
     "metadata": {},
     "output_type": "execute_result"
    }
   ],
   "source": [
    "#Consequences\n",
    "release_type = incident_df['RELEASE_TYPE'].value_counts()\n",
    "release_type"
   ]
  },
  {
   "cell_type": "code",
   "execution_count": 791,
   "metadata": {},
   "outputs": [
    {
     "data": {
      "text/plain": [
       "LEAK                   34.272300\n",
       "RUPTURE                31.924883\n",
       "MECHANICAL PUNCTURE    28.403756\n",
       "OTHER                   5.399061\n",
       "Name: RELEASE_TYPE, dtype: float64"
      ]
     },
     "execution_count": 791,
     "metadata": {},
     "output_type": "execute_result"
    }
   ],
   "source": [
    "#Consequences\n",
    "release_type_percent = incident_df['RELEASE_TYPE'].value_counts(normalize=True)[:]*100\n",
    "release_type_percent"
   ]
  },
  {
   "cell_type": "code",
   "execution_count": 819,
   "metadata": {},
   "outputs": [
    {
     "data": {
      "image/png": "[encoded data removed]",
      "text/plain": [
       "<Figure size 432x288 with 1 Axes>"
      ]
     },
     "metadata": {
      "needs_background": "light"
     },
     "output_type": "display_data"
    }
   ],
   "source": [
    "#Stacked bar graph\n",
    "#release_type.plot(kind = 'bar', stacked = True, mark_right = True)\n",
    "\n",
    "windth = 10\n",
    "fig, ax = plt.subplots()\n",
    "\n",
    "a = ax.bar(release_type.index,release_type.values , align = 'center' ) \n",
    "\n",
    "#xticks \n",
    "plt.xticks(rotation=90) \n",
    "\n",
    "#x-axis labels \n",
    "plt.xlabel('Failure Type') \n",
    "\n",
    "\n",
    "#y-axis labels \n",
    "plt.ylabel('Number of Incidents') \n",
    "#plt.ylim(top=100)\n",
    "\n",
    "\n",
    "#plot title \n",
    "#plt.title('Number of Incidents by Release Type') \n",
    "\n",
    "#Legend\n",
    "#plt.legend(['Release Type'],bbox_to_anchor=(1.05, 1), loc='upper left')\n",
    "\n",
    "#adding Percentage values on the graph\n",
    "plt.xticks(rotation=90)  \n",
    "for n in a:\n",
    "   height = round(n.get_height())\n",
    "   plt.text(x=n.get_x() + n.get_width() / 2, y=height+.70, s=\"{}\".format(height), ha='center')\n",
    "\n",
    "#save plot \n",
    "plot_path = os.getcwd() + '\\\\GT Incidents Plots\\\\Release_type'\n",
    "plt.savefig(plot_path, dpi=300,bbox_inches='tight')         \n",
    "        \n",
    "#display \n",
    "plt.show();"
   ]
  },
  {
   "cell_type": "code",
   "execution_count": 823,
   "metadata": {},
   "outputs": [
    {
     "data": {
      "text/plain": [
       "['LEAK', 'RUPTURE', 'MECHANICAL PUNCTURE', 'OTHER']"
      ]
     },
     "execution_count": 823,
     "metadata": {},
     "output_type": "execute_result"
    }
   ],
   "source": [
    "list(release_type_percent.index)"
   ]
  },
  {
   "cell_type": "code",
   "execution_count": 828,
   "metadata": {},
   "outputs": [
    {
     "data": {
      "image/png": "[encoded data removed]",
      "text/plain": [
       "<Figure size 432x288 with 1 Axes>"
      ]
     },
     "metadata": {
      "needs_background": "light"
     },
     "output_type": "display_data"
    }
   ],
   "source": [
    "#Stacked bar graph\n",
    "#release_type.plot(kind = 'bar', stacked = True, mark_right = True)\n",
    "\n",
    "n=len(release_type_percent.index)\n",
    "x = np.arange(n)\n",
    "labels = ['LEAK', 'RUPTURE', 'PUNCTURE', 'OTHER']\n",
    "\n",
    "windth = 10\n",
    "fig, ax = plt.subplots()\n",
    "\n",
    "a = ax.bar(x, release_type_percent.values , align = 'center' ) \n",
    "\n",
    "#xticks \n",
    "plt.xticks(x, labels,rotation=90) \n",
    "\n",
    "#x-axis labels \n",
    "plt.xlabel('Failure Type') \n",
    "\n",
    "\n",
    "#y-axis labels \n",
    "plt.ylabel('Percentage of Incidents') \n",
    "#plt.ylim(top=100)\n",
    "\n",
    "\n",
    "#plot title \n",
    "#plt.title('Distribution of Incidents by Release Type') \n",
    "\n",
    "#Legend\n",
    "#plt.legend(['Release Type'],bbox_to_anchor=(1.05, 1), loc='upper left')\n",
    "\n",
    "#adding Percentage values on the graph\n",
    "#plt.xticks(rotation=90)  \n",
    "for n in a:\n",
    "   height = round(n.get_height())\n",
    "   plt.text(x=n.get_x() + n.get_width() / 2, y=height+.70, s=\"{}%\".format(height), ha='center')\n",
    "\n",
    "#save plot \n",
    "plot_path = os.getcwd() + '\\\\GT Incidents Plots\\\\Release_type_percent'\n",
    "plt.savefig(plot_path, dpi=300,bbox_inches='tight')         \n",
    "        \n",
    "#display \n",
    "plt.show();"
   ]
  },
  {
   "cell_type": "code",
   "execution_count": 829,
   "metadata": {},
   "outputs": [
    {
     "data": {
      "image/png": "[encoded data removed]",
      "text/plain": [
       "<Figure size 432x288 with 1 Axes>"
      ]
     },
     "metadata": {
      "needs_background": "light"
     },
     "output_type": "display_data"
    }
   ],
   "source": [
    "#Stacked bar graph\n",
    "#release_type_percent.plot(kind = 'bar', stacked = True, mark_right = True)\n",
    "\n",
    "n=len(release_type_percent.index)\n",
    "x = np.arange(n)\n",
    "labels = ['LEAK', 'RUPTURE', 'PUNCTURE', 'OTHER']\n",
    "\n",
    "windth = 10\n",
    "fig, ax = plt.subplots()\n",
    "\n",
    "a = ax.bar(x,release_type_percent.values , align = 'center' ) \n",
    "\n",
    "#xticks \n",
    "plt.xticks(x, labels, rotation=90) \n",
    "\n",
    "#x-axis labels \n",
    "plt.xlabel('Failure Type') \n",
    "\n",
    "\n",
    "#y-axis labels \n",
    "plt.ylabel('Percentage of Total Incidents') \n",
    "#plt.ylim(top=100)\n",
    "\n",
    "\n",
    "#plot title \n",
    "#plt.title('Ditribution of Incidents by Release Type') \n",
    "\n",
    "#Legend\n",
    "#plt.legend(['Release Type'],bbox_to_anchor=(1.05, 1), loc='upper left')\n",
    "\n",
    "#adding Percentage values on the graph\n",
    "plt.xticks(rotation=90)  \n",
    "for n in a:\n",
    "   height = round(n.get_height())\n",
    "   plt.text(x=n.get_x() + n.get_width() / 2, y=height+.70, s=\"{}%\".format(height), ha='center')\n",
    "\n",
    "#save plot \n",
    "plot_path = os.getcwd() + '\\\\GT Incidents Plots\\\\Release_type_percent'\n",
    "plt.savefig(plot_path, dpi=300,bbox_inches='tight')         \n",
    "        \n",
    "#display \n",
    "plt.show();"
   ]
  },
  {
   "cell_type": "code",
   "execution_count": null,
   "metadata": {},
   "outputs": [],
   "source": []
  },
  {
   "cell_type": "code",
   "execution_count": 834,
   "metadata": {},
   "outputs": [],
   "source": [
    "cause_release_type = pd.DataFrame()\n",
    "\n",
    "cause_release_type['NATURAL FORCE'] = incident_df.loc[incident_df['MAP_CAUSE'] == 'NATURAL FORCE DAMAGE']['RELEASE_TYPE'].value_counts(normalize=True)[:]*100\n",
    "\n",
    "cause_release_type['CORROSION'] = incident_df.loc[incident_df['MAP_CAUSE'] == 'CORROSION']['RELEASE_TYPE'].value_counts(normalize=True)[:]*100\n",
    "cause_release_type['MATERIAL FAILURE'] = incident_df.loc[incident_df['MAP_CAUSE'] == 'MATERIAL/WELD/EQUIP FAILURE']['RELEASE_TYPE'].value_counts(normalize=True)[:]*100\n",
    "cause_release_type['ALL OTHER CAUSES'] = incident_df.loc[incident_df['MAP_CAUSE'] == 'ALL OTHER CAUSES']['RELEASE_TYPE'].value_counts(normalize=True)[:]*100\n",
    "cause_release_type['OTHER OUTSIDE FORCE'] = incident_df.loc[incident_df['MAP_CAUSE'] == 'OTHER OUTSIDE FORCE DAMAGE']['RELEASE_TYPE'].value_counts(normalize=True)[:]*100\n",
    "cause_release_type['EXCAVATION DAMAGE'] = incident_df.loc[incident_df['MAP_CAUSE'] == 'EXCAVATION DAMAGE']['RELEASE_TYPE'].value_counts(normalize=True)[:]*100\n",
    "cause_release_type['INCORRECT OPERATION'] = incident_df.loc[incident_df['MAP_CAUSE'] == 'INCORRECT OPERATION']['RELEASE_TYPE'].value_counts(normalize=True)[:]*100"
   ]
  },
  {
   "cell_type": "code",
   "execution_count": null,
   "metadata": {},
   "outputs": [],
   "source": []
  },
  {
   "cell_type": "code",
   "execution_count": 836,
   "metadata": {},
   "outputs": [],
   "source": [
    "cause_release_type = cause_release_type[['EXCAVATION DAMAGE', 'CORROSION', 'MATERIAL FAILURE', 'NATURAL FORCE', 'OTHER OUTSIDE FORCE', 'INCORRECT OPERATION', 'ALL OTHER CAUSES']]"
   ]
  },
  {
   "cell_type": "code",
   "execution_count": 837,
   "metadata": {},
   "outputs": [
    {
     "data": {
      "text/html": [
       "<div>\n",
       "<style scoped>\n",
       "    .dataframe tbody tr th:only-of-type {\n",
       "        vertical-align: middle;\n",
       "    }\n",
       "\n",
       "    .dataframe tbody tr th {\n",
       "        vertical-align: top;\n",
       "    }\n",
       "\n",
       "    .dataframe thead th {\n",
       "        text-align: right;\n",
       "    }\n",
       "</style>\n",
       "<table border=\"1\" class=\"dataframe\">\n",
       "  <thead>\n",
       "    <tr style=\"text-align: right;\">\n",
       "      <th></th>\n",
       "      <th>RUPTURE</th>\n",
       "      <th>LEAK</th>\n",
       "      <th>OTHER</th>\n",
       "      <th>MECHANICAL PUNCTURE</th>\n",
       "    </tr>\n",
       "  </thead>\n",
       "  <tbody>\n",
       "    <tr>\n",
       "      <th>EXCAVATION DAMAGE</th>\n",
       "      <td>10.958904</td>\n",
       "      <td>4.794521</td>\n",
       "      <td>6.164384</td>\n",
       "      <td>78.082192</td>\n",
       "    </tr>\n",
       "    <tr>\n",
       "      <th>CORROSION</th>\n",
       "      <td>43.809524</td>\n",
       "      <td>56.190476</td>\n",
       "      <td>NaN</td>\n",
       "      <td>NaN</td>\n",
       "    </tr>\n",
       "    <tr>\n",
       "      <th>MATERIAL FAILURE</th>\n",
       "      <td>51.546392</td>\n",
       "      <td>45.360825</td>\n",
       "      <td>3.092784</td>\n",
       "      <td>NaN</td>\n",
       "    </tr>\n",
       "    <tr>\n",
       "      <th>NATURAL FORCE</th>\n",
       "      <td>43.333333</td>\n",
       "      <td>40.000000</td>\n",
       "      <td>10.000000</td>\n",
       "      <td>6.666667</td>\n",
       "    </tr>\n",
       "    <tr>\n",
       "      <th>OTHER OUTSIDE FORCE</th>\n",
       "      <td>31.818182</td>\n",
       "      <td>40.909091</td>\n",
       "      <td>13.636364</td>\n",
       "      <td>13.636364</td>\n",
       "    </tr>\n",
       "    <tr>\n",
       "      <th>INCORRECT OPERATION</th>\n",
       "      <td>12.500000</td>\n",
       "      <td>50.000000</td>\n",
       "      <td>25.000000</td>\n",
       "      <td>12.500000</td>\n",
       "    </tr>\n",
       "    <tr>\n",
       "      <th>ALL OTHER CAUSES</th>\n",
       "      <td>16.666667</td>\n",
       "      <td>61.111111</td>\n",
       "      <td>16.666667</td>\n",
       "      <td>5.555556</td>\n",
       "    </tr>\n",
       "  </tbody>\n",
       "</table>\n",
       "</div>"
      ],
      "text/plain": [
       "                       RUPTURE       LEAK      OTHER  MECHANICAL PUNCTURE\n",
       "EXCAVATION DAMAGE    10.958904   4.794521   6.164384            78.082192\n",
       "CORROSION            43.809524  56.190476        NaN                  NaN\n",
       "MATERIAL FAILURE     51.546392  45.360825   3.092784                  NaN\n",
       "NATURAL FORCE        43.333333  40.000000  10.000000             6.666667\n",
       "OTHER OUTSIDE FORCE  31.818182  40.909091  13.636364            13.636364\n",
       "INCORRECT OPERATION  12.500000  50.000000  25.000000            12.500000\n",
       "ALL OTHER CAUSES     16.666667  61.111111  16.666667             5.555556"
      ]
     },
     "execution_count": 837,
     "metadata": {},
     "output_type": "execute_result"
    }
   ],
   "source": [
    "cause_release_type.T"
   ]
  },
  {
   "cell_type": "code",
   "execution_count": 848,
   "metadata": {},
   "outputs": [
    {
     "data": {
      "image/png": "[encoded data removed]",
      "text/plain": [
       "<Figure size 432x288 with 1 Axes>"
      ]
     },
     "metadata": {
      "needs_background": "light"
     },
     "output_type": "display_data"
    }
   ],
   "source": [
    "#Stacked bar graph\n",
    "cause_release_type.T.plot(kind = 'bar', stacked = True, mark_right = True)\n",
    "\n",
    "#xticks \n",
    "plt.xticks(rotation=90) \n",
    "\n",
    "#x-axis labels \n",
    "plt.xlabel('Failure Cause') \n",
    "\n",
    "\n",
    "#y-axis labels \n",
    "plt.ylabel('Percentage of Total Failures') \n",
    "\n",
    "\n",
    "#plot title \n",
    "#plt.title('Ditribution of Incidents by Release Type') \n",
    "\n",
    "#Legend\n",
    "plt.legend(bbox_to_anchor=(1.05, 1), loc='upper left')\n",
    "\n",
    "#adding Percentage values on the graph\n",
    "#for n in df_diameter_short_percent:\n",
    "    #for i, (cs, ab, pc) in enumerate(zip(df_diameter_short_percent.cumsum(1)[n], df_diameter_short_percent[n], df_diameter_short_percent[n])):\n",
    "        #plt.text(i, cs - ab / 2, str(np.round(pc, 1)) + '%', \n",
    "                 #va = 'center', ha = 'center', rotation = 90, fontsize = 7)\n",
    "\n",
    "#save plot \n",
    "plot_path = os.getcwd() + '\\\\GT Incidents Plots\\\\cause_release_type_percent'\n",
    "plt.savefig(plot_path, dpi=300,bbox_inches='tight')         \n",
    "        \n",
    "#display \n",
    "plt.show();"
   ]
  },
  {
   "cell_type": "code",
   "execution_count": 797,
   "metadata": {},
   "outputs": [],
   "source": [
    "incident_df['ign_expl'] = None\n",
    "incident_df.loc[(incident_df['IGNITE_IND'] == 'YES') & (incident_df['EXPLODE_IND'] == 'NO'),'ign_expl'] = 'Ignited Only'\n",
    "incident_df.loc[(incident_df['IGNITE_IND'] == 'YES') & (incident_df['EXPLODE_IND'] == 'YES'),'ign_expl'] = 'Explosion'\n",
    "incident_df.loc[(incident_df['IGNITE_IND'] == 'NO'),'ign_expl'] = 'Not Ignited'\n"
   ]
  },
  {
   "cell_type": "code",
   "execution_count": 798,
   "metadata": {},
   "outputs": [
    {
     "data": {
      "text/plain": [
       "array([85.21126761,  8.68544601,  6.10328638])"
      ]
     },
     "execution_count": 798,
     "metadata": {},
     "output_type": "execute_result"
    }
   ],
   "source": [
    "ign_expl_percent = incident_df['ign_expl'].value_counts(normalize=True)[:]*100\n",
    "ign_expl_percent.values"
   ]
  },
  {
   "cell_type": "code",
   "execution_count": 799,
   "metadata": {},
   "outputs": [
    {
     "data": {
      "image/png": "[encoded data removed]",
      "text/plain": [
       "<Figure size 432x288 with 1 Axes>"
      ]
     },
     "metadata": {
      "needs_background": "light"
     },
     "output_type": "display_data"
    }
   ],
   "source": [
    "#Stacked bar graph\n",
    "#ign_expl_percent.plot(kind = 'bar', stacked = True, mark_right = True)\n",
    "\n",
    "windth = 10\n",
    "fig, ax = plt.subplots()\n",
    "\n",
    "a = ax.bar(ign_expl_percent.index,ign_expl_percent.values , align = 'center' ) \n",
    "\n",
    "#xticks \n",
    "plt.xticks(rotation=90) \n",
    "\n",
    "#x-axis labels \n",
    "plt.xlabel('Ignition Status') \n",
    "\n",
    "\n",
    "#y-axis labels \n",
    "plt.ylabel('Percentage of Total Releases') \n",
    "#plt.ylim(top=100)\n",
    "\n",
    "\n",
    "#plot title \n",
    "plt.title('') \n",
    "\n",
    "#Legend\n",
    "#plt.legend(bbox_to_anchor=(1.05, 1), loc='upper left')\n",
    "\n",
    "#adding Percentage values on the graph\n",
    "plt.xticks(rotation=90)  \n",
    "for n in a:\n",
    "   height = round(n.get_height())\n",
    "   plt.text(x=n.get_x() + n.get_width() / 2, y=height+.70, s=\"{}%\".format(height), ha='center')\n",
    "\n",
    "#save plot \n",
    "plot_path = os.getcwd() + '\\\\GT Incidents Plots\\\\ignition_explosion_percent'\n",
    "plt.savefig(plot_path, dpi=300,bbox_inches='tight')         \n",
    "        \n",
    "#display \n",
    "plt.show();"
   ]
  },
  {
   "cell_type": "code",
   "execution_count": 839,
   "metadata": {},
   "outputs": [],
   "source": [
    "release_type_ignition = pd.DataFrame()\n",
    "\n",
    "release_type_ignition['LEAK'] = None\n",
    "release_type_ignition['RUPTURE'] = None\n",
    "release_type_ignition['PUNCTURE'] = None\n",
    "release_type_ignition['OTHER'] = None\n",
    "\n",
    "#need to make sure the first one includes all types (ignition results/rows)\n",
    "release_type_ignition['RUPTURE'] = incident_df.loc[incident_df['RELEASE_TYPE'] == 'RUPTURE']['ign_expl'].value_counts(normalize=True)[:]*100\n",
    "\n",
    "release_type_ignition['LEAK'] = incident_df.loc[incident_df['RELEASE_TYPE'] == 'LEAK']['ign_expl'].value_counts(normalize=True)[:]*100\n",
    "release_type_ignition['PUNCTURE'] = incident_df.loc[incident_df['RELEASE_TYPE'] == 'MECHANICAL PUNCTURE']['ign_expl'].value_counts(normalize=True)[:]*100\n",
    "release_type_ignition['OTHER'] = incident_df.loc[incident_df['RELEASE_TYPE'] == 'OTHER']['ign_expl'].value_counts(normalize=True)[:]*100\n"
   ]
  },
  {
   "cell_type": "code",
   "execution_count": 840,
   "metadata": {},
   "outputs": [
    {
     "data": {
      "text/html": [
       "<div>\n",
       "<style scoped>\n",
       "    .dataframe tbody tr th:only-of-type {\n",
       "        vertical-align: middle;\n",
       "    }\n",
       "\n",
       "    .dataframe tbody tr th {\n",
       "        vertical-align: top;\n",
       "    }\n",
       "\n",
       "    .dataframe thead th {\n",
       "        text-align: right;\n",
       "    }\n",
       "</style>\n",
       "<table border=\"1\" class=\"dataframe\">\n",
       "  <thead>\n",
       "    <tr style=\"text-align: right;\">\n",
       "      <th></th>\n",
       "      <th>Not Ignited</th>\n",
       "      <th>Explosion</th>\n",
       "      <th>Ignited Only</th>\n",
       "    </tr>\n",
       "  </thead>\n",
       "  <tbody>\n",
       "    <tr>\n",
       "      <th>LEAK</th>\n",
       "      <td>96.575342</td>\n",
       "      <td>NaN</td>\n",
       "      <td>3.424658</td>\n",
       "    </tr>\n",
       "    <tr>\n",
       "      <th>RUPTURE</th>\n",
       "      <td>66.911765</td>\n",
       "      <td>22.058824</td>\n",
       "      <td>11.029412</td>\n",
       "    </tr>\n",
       "    <tr>\n",
       "      <th>PUNCTURE</th>\n",
       "      <td>91.735537</td>\n",
       "      <td>4.958678</td>\n",
       "      <td>3.305785</td>\n",
       "    </tr>\n",
       "    <tr>\n",
       "      <th>OTHER</th>\n",
       "      <td>86.956522</td>\n",
       "      <td>4.347826</td>\n",
       "      <td>8.695652</td>\n",
       "    </tr>\n",
       "  </tbody>\n",
       "</table>\n",
       "</div>"
      ],
      "text/plain": [
       "          Not Ignited  Explosion  Ignited Only\n",
       "LEAK        96.575342        NaN      3.424658\n",
       "RUPTURE     66.911765  22.058824     11.029412\n",
       "PUNCTURE    91.735537   4.958678      3.305785\n",
       "OTHER       86.956522   4.347826      8.695652"
      ]
     },
     "execution_count": 840,
     "metadata": {},
     "output_type": "execute_result"
    }
   ],
   "source": [
    "release_type_ignition.T"
   ]
  },
  {
   "cell_type": "code",
   "execution_count": 841,
   "metadata": {},
   "outputs": [
    {
     "data": {
      "image/png": "[encoded data removed]",
      "text/plain": [
       "<Figure size 432x288 with 1 Axes>"
      ]
     },
     "metadata": {
      "needs_background": "light"
     },
     "output_type": "display_data"
    }
   ],
   "source": [
    "#Stacked bar graph\n",
    "release_type_ignition.T.plot(kind = 'bar', stacked = True, mark_right = True)\n",
    "\n",
    "#xticks \n",
    "plt.xticks(rotation=90) \n",
    "\n",
    "#x-axis labels \n",
    "plt.xlabel('Failure Type') \n",
    "\n",
    "\n",
    "#y-axis labels \n",
    "plt.ylabel('Percentage of Total Releases') \n",
    "\n",
    "\n",
    "#plot title \n",
    "#plt.title('Ditribution of Releases by Ignition Status') \n",
    "\n",
    "#Legend\n",
    "plt.legend(bbox_to_anchor=(1.05, 1), loc='upper left')\n",
    "\n",
    "#adding Percentage values on the graph\n",
    "#for n in df_diameter_short_percent:\n",
    "    #for i, (cs, ab, pc) in enumerate(zip(df_diameter_short_percent.cumsum(1)[n], df_diameter_short_percent[n], df_diameter_short_percent[n])):\n",
    "        #plt.text(i, cs - ab / 2, str(np.round(pc, 1)) + '%', \n",
    "                 #va = 'center', ha = 'center', rotation = 90, fontsize = 7)\n",
    "\n",
    "#save plot \n",
    "plot_path = os.getcwd() + '\\\\GT Incidents Plots\\\\release_ignition_explosion_percent'\n",
    "plt.savefig(plot_path, dpi=300,bbox_inches='tight')         \n",
    "        \n",
    "#display \n",
    "plt.show();"
   ]
  },
  {
   "cell_type": "code",
   "execution_count": 842,
   "metadata": {},
   "outputs": [],
   "source": [
    "cause_ignition_status = pd.DataFrame()\n",
    "\n",
    "cause_ignition_status['NATURAL FORCE'] = incident_df.loc[incident_df['MAP_CAUSE'] == 'NATURAL FORCE DAMAGE']['ign_expl'].value_counts(normalize=True)[:]*100\n",
    "\n",
    "cause_ignition_status['CORROSION'] = incident_df.loc[incident_df['MAP_CAUSE'] == 'CORROSION']['ign_expl'].value_counts(normalize=True)[:]*100\n",
    "cause_ignition_status['MATERIAL FAILURE'] = incident_df.loc[incident_df['MAP_CAUSE'] == 'MATERIAL/WELD/EQUIP FAILURE']['ign_expl'].value_counts(normalize=True)[:]*100\n",
    "cause_ignition_status['ALL OTHER CAUSES'] = incident_df.loc[incident_df['MAP_CAUSE'] == 'ALL OTHER CAUSES']['ign_expl'].value_counts(normalize=True)[:]*100\n",
    "cause_ignition_status['OTHER OUTSIDE FORCE'] = incident_df.loc[incident_df['MAP_CAUSE'] == 'OTHER OUTSIDE FORCE DAMAGE']['ign_expl'].value_counts(normalize=True)[:]*100\n",
    "cause_ignition_status['EXCAVATION DAMAGE'] = incident_df.loc[incident_df['MAP_CAUSE'] == 'EXCAVATION DAMAGE']['ign_expl'].value_counts(normalize=True)[:]*100\n",
    "cause_ignition_status['INCORRECT OPERATION'] = incident_df.loc[incident_df['MAP_CAUSE'] == 'INCORRECT OPERATION']['ign_expl'].value_counts(normalize=True)[:]*100"
   ]
  },
  {
   "cell_type": "code",
   "execution_count": 846,
   "metadata": {},
   "outputs": [],
   "source": [
    "cause_ignition_status = cause_ignition_status[['EXCAVATION DAMAGE', 'CORROSION', 'MATERIAL FAILURE', 'NATURAL FORCE', 'OTHER OUTSIDE FORCE', 'INCORRECT OPERATION', 'ALL OTHER CAUSES']]"
   ]
  },
  {
   "cell_type": "code",
   "execution_count": 847,
   "metadata": {},
   "outputs": [
    {
     "data": {
      "image/png": "[encoded data removed]",
      "text/plain": [
       "<Figure size 432x288 with 1 Axes>"
      ]
     },
     "metadata": {
      "needs_background": "light"
     },
     "output_type": "display_data"
    }
   ],
   "source": [
    "#Stacked bar graph\n",
    "cause_ignition_status.T.plot(kind = 'bar', stacked = True, mark_right = True)\n",
    "\n",
    "#xticks \n",
    "plt.xticks(rotation=90) \n",
    "\n",
    "#x-axis labels \n",
    "plt.xlabel('Failure Cause') \n",
    "\n",
    "\n",
    "#y-axis labels \n",
    "plt.ylabel('Percentage of Total Failures') \n",
    "\n",
    "\n",
    "#plot title \n",
    "#plt.title('Ditribution of Incidents by Ignition Status') \n",
    "\n",
    "#Legend\n",
    "plt.legend(bbox_to_anchor=(1.05, 1), loc='upper left')\n",
    "\n",
    "#adding Percentage values on the graph\n",
    "#for n in df_diameter_short_percent:\n",
    "    #for i, (cs, ab, pc) in enumerate(zip(df_diameter_short_percent.cumsum(1)[n], df_diameter_short_percent[n], df_diameter_short_percent[n])):\n",
    "        #plt.text(i, cs - ab / 2, str(np.round(pc, 1)) + '%', \n",
    "                 #va = 'center', ha = 'center', rotation = 90, fontsize = 7)\n",
    "\n",
    "#save plot \n",
    "plot_path = os.getcwd() + '\\\\GT Incidents Plots\\\\cause_ignition_status_percent'\n",
    "plt.savefig(plot_path, dpi=300,bbox_inches='tight')         \n",
    "        \n",
    "#display \n",
    "plt.show();"
   ]
  },
  {
   "cell_type": "code",
   "execution_count": 807,
   "metadata": {},
   "outputs": [],
   "source": [
    "incident_df.to_csv('incident_df_gt.csv')"
   ]
  },
  {
   "cell_type": "code",
   "execution_count": 806,
   "metadata": {},
   "outputs": [
    {
     "data": {
      "text/html": [
       "<div>\n",
       "<style scoped>\n",
       "    .dataframe tbody tr th:only-of-type {\n",
       "        vertical-align: middle;\n",
       "    }\n",
       "\n",
       "    .dataframe tbody tr th {\n",
       "        vertical-align: top;\n",
       "    }\n",
       "\n",
       "    .dataframe thead th {\n",
       "        text-align: right;\n",
       "    }\n",
       "</style>\n",
       "<table border=\"1\" class=\"dataframe\">\n",
       "  <thead>\n",
       "    <tr style=\"text-align: right;\">\n",
       "      <th></th>\n",
       "      <th>DATAFILE_AS_OF</th>\n",
       "      <th>SIGNIFICANT</th>\n",
       "      <th>SERIOUS</th>\n",
       "      <th>SYSTEM_TYPE</th>\n",
       "      <th>REPORT_NUMBER</th>\n",
       "      <th>SUPPLEMENTAL_NUMBER</th>\n",
       "      <th>REPORT_RECEIVED_DATE</th>\n",
       "      <th>REPORT_TYPE</th>\n",
       "      <th>OPERATOR_ID</th>\n",
       "      <th>NAME</th>\n",
       "      <th>...</th>\n",
       "      <th>AUTHORIZER_EMAIL</th>\n",
       "      <th>NARRATIVE</th>\n",
       "      <th>Installation_Decade</th>\n",
       "      <th>Diameter_Range</th>\n",
       "      <th>SMYS_Range</th>\n",
       "      <th>Hoop_Stress</th>\n",
       "      <th>SMYS%</th>\n",
       "      <th>SMYS_Cat</th>\n",
       "      <th>CP_Types</th>\n",
       "      <th>ign_expl</th>\n",
       "    </tr>\n",
       "    <tr>\n",
       "      <th>IYEAR</th>\n",
       "      <th></th>\n",
       "      <th></th>\n",
       "      <th></th>\n",
       "      <th></th>\n",
       "      <th></th>\n",
       "      <th></th>\n",
       "      <th></th>\n",
       "      <th></th>\n",
       "      <th></th>\n",
       "      <th></th>\n",
       "      <th></th>\n",
       "      <th></th>\n",
       "      <th></th>\n",
       "      <th></th>\n",
       "      <th></th>\n",
       "      <th></th>\n",
       "      <th></th>\n",
       "      <th></th>\n",
       "      <th></th>\n",
       "      <th></th>\n",
       "      <th></th>\n",
       "    </tr>\n",
       "  </thead>\n",
       "  <tbody>\n",
       "    <tr>\n",
       "      <th>2010</th>\n",
       "      <td>2021-11-30 10:22:41</td>\n",
       "      <td>YES</td>\n",
       "      <td>NO</td>\n",
       "      <td>GT (Gas Transmission)</td>\n",
       "      <td>20100002</td>\n",
       "      <td>15077</td>\n",
       "      <td>2010-03-12 14:42:51</td>\n",
       "      <td>SUPPLEMENTAL FINAL</td>\n",
       "      <td>18516</td>\n",
       "      <td>SOUTHERN NATURAL GAS CO</td>\n",
       "      <td>...</td>\n",
       "      <td>ken.peters@elpaso.com</td>\n",
       "      <td>ON JANUARY 6 2010 SOUTHERN NATURAL GAS (SNG) C...</td>\n",
       "      <td>1950s</td>\n",
       "      <td>20&lt;d&lt;=28</td>\n",
       "      <td>None</td>\n",
       "      <td>36000.000000</td>\n",
       "      <td>0.692308</td>\n",
       "      <td>60%-72%</td>\n",
       "      <td>CPC</td>\n",
       "      <td>Not Ignited</td>\n",
       "    </tr>\n",
       "    <tr>\n",
       "      <th>2010</th>\n",
       "      <td>2021-11-30 10:22:41</td>\n",
       "      <td>YES</td>\n",
       "      <td>NO</td>\n",
       "      <td>GT (Gas Transmission)</td>\n",
       "      <td>20100008</td>\n",
       "      <td>15033</td>\n",
       "      <td>2010-03-31 13:10:18</td>\n",
       "      <td>SUPPLEMENTAL FINAL</td>\n",
       "      <td>4280</td>\n",
       "      <td>EL PASO NATURAL GAS CO</td>\n",
       "      <td>...</td>\n",
       "      <td>ken.peters@elpaso.com</td>\n",
       "      <td>AN ANOMALY INDICATION FROM AN ILI RUN WAS BEIN...</td>\n",
       "      <td>1960s</td>\n",
       "      <td>28&lt;d</td>\n",
       "      <td>None</td>\n",
       "      <td>28938.356164</td>\n",
       "      <td>0.556507</td>\n",
       "      <td>50%-60%</td>\n",
       "      <td>None</td>\n",
       "      <td>Not Ignited</td>\n",
       "    </tr>\n",
       "    <tr>\n",
       "      <th>2010</th>\n",
       "      <td>2021-11-30 10:22:41</td>\n",
       "      <td>NO</td>\n",
       "      <td>NO</td>\n",
       "      <td>GT (Gas Transmission)</td>\n",
       "      <td>20100012</td>\n",
       "      <td>15129</td>\n",
       "      <td>2010-04-07 11:27:09</td>\n",
       "      <td>SUPPLEMENTAL FINAL</td>\n",
       "      <td>1007</td>\n",
       "      <td>KM INTERSTATE GAS TRANSMISSION CO</td>\n",
       "      <td>...</td>\n",
       "      <td>bruce_hancock@kindermorgan.com</td>\n",
       "      <td>A METALLURGICAL ANALYSIS OF THE FAILURE WAS CO...</td>\n",
       "      <td>1940s</td>\n",
       "      <td>10&lt;d&lt;=20</td>\n",
       "      <td>None</td>\n",
       "      <td>23040.000000</td>\n",
       "      <td>0.658286</td>\n",
       "      <td>60%-72%</td>\n",
       "      <td>None</td>\n",
       "      <td>Not Ignited</td>\n",
       "    </tr>\n",
       "    <tr>\n",
       "      <th>2010</th>\n",
       "      <td>2021-11-30 10:22:41</td>\n",
       "      <td>YES</td>\n",
       "      <td>NO</td>\n",
       "      <td>GT (Gas Transmission)</td>\n",
       "      <td>20100013</td>\n",
       "      <td>15036</td>\n",
       "      <td>2010-04-08 11:26:14</td>\n",
       "      <td>SUPPLEMENTAL FINAL</td>\n",
       "      <td>12696</td>\n",
       "      <td>CYPRESS GAS PIPELINE COMPANY</td>\n",
       "      <td>...</td>\n",
       "      <td>ngray@eprod.com</td>\n",
       "      <td>ON MARCH 22, 2010, LOCAL OPERATING PERSONNEL W...</td>\n",
       "      <td>1950s</td>\n",
       "      <td>10&lt;d&lt;=20</td>\n",
       "      <td>None</td>\n",
       "      <td>21000.000000</td>\n",
       "      <td>0.500000</td>\n",
       "      <td>40%-50%</td>\n",
       "      <td>CPC</td>\n",
       "      <td>Not Ignited</td>\n",
       "    </tr>\n",
       "    <tr>\n",
       "      <th>2010</th>\n",
       "      <td>2021-11-30 10:22:41</td>\n",
       "      <td>YES</td>\n",
       "      <td>NO</td>\n",
       "      <td>GT (Gas Transmission)</td>\n",
       "      <td>20100014</td>\n",
       "      <td>17098</td>\n",
       "      <td>2010-04-09 17:54:38</td>\n",
       "      <td>SUPPLEMENTAL FINAL</td>\n",
       "      <td>31286</td>\n",
       "      <td>ONEOK GAS TRANSPORTATION, LLC</td>\n",
       "      <td>...</td>\n",
       "      <td>wesley.dunbar@oneok.com</td>\n",
       "      <td>ONEOK GAS TRANPORTATION A-26 26INCH PIPELINE R...</td>\n",
       "      <td>1950s</td>\n",
       "      <td>20&lt;d&lt;=28</td>\n",
       "      <td>None</td>\n",
       "      <td>31200.000000</td>\n",
       "      <td>0.600000</td>\n",
       "      <td>50%-60%</td>\n",
       "      <td>CPC</td>\n",
       "      <td>Ignited Only</td>\n",
       "    </tr>\n",
       "    <tr>\n",
       "      <th>...</th>\n",
       "      <td>...</td>\n",
       "      <td>...</td>\n",
       "      <td>...</td>\n",
       "      <td>...</td>\n",
       "      <td>...</td>\n",
       "      <td>...</td>\n",
       "      <td>...</td>\n",
       "      <td>...</td>\n",
       "      <td>...</td>\n",
       "      <td>...</td>\n",
       "      <td>...</td>\n",
       "      <td>...</td>\n",
       "      <td>...</td>\n",
       "      <td>...</td>\n",
       "      <td>...</td>\n",
       "      <td>...</td>\n",
       "      <td>...</td>\n",
       "      <td>...</td>\n",
       "      <td>...</td>\n",
       "      <td>...</td>\n",
       "      <td>...</td>\n",
       "    </tr>\n",
       "    <tr>\n",
       "      <th>2020</th>\n",
       "      <td>2021-11-30 10:22:41</td>\n",
       "      <td>YES</td>\n",
       "      <td>NO</td>\n",
       "      <td>GT (Gas Transmission)</td>\n",
       "      <td>20200128</td>\n",
       "      <td>35171</td>\n",
       "      <td>2020-11-24 12:22:19</td>\n",
       "      <td>SUPPLEMENTAL FINAL</td>\n",
       "      <td>31159</td>\n",
       "      <td>KANSAS GAS SERVICE COMPANY, A DIVISION OF ONE ...</td>\n",
       "      <td>...</td>\n",
       "      <td>randalrandy.spector@onegas.com</td>\n",
       "      <td>A 3RD PARTY CONTRACTOR MOVING DIRT WITH A SCRA...</td>\n",
       "      <td>1950s</td>\n",
       "      <td>4&lt;d&lt;=10</td>\n",
       "      <td>None</td>\n",
       "      <td>4357.594937</td>\n",
       "      <td>0.181566</td>\n",
       "      <td>Less than 20%</td>\n",
       "      <td>None</td>\n",
       "      <td>Not Ignited</td>\n",
       "    </tr>\n",
       "    <tr>\n",
       "      <th>2020</th>\n",
       "      <td>2021-11-30 10:22:41</td>\n",
       "      <td>YES</td>\n",
       "      <td>NO</td>\n",
       "      <td>GT (Gas Transmission)</td>\n",
       "      <td>20200134</td>\n",
       "      <td>35049</td>\n",
       "      <td>2020-12-28 21:30:34</td>\n",
       "      <td>SUPPLEMENTAL FINAL</td>\n",
       "      <td>4900</td>\n",
       "      <td>KINDER MORGAN TEJAS PIPELINE</td>\n",
       "      <td>...</td>\n",
       "      <td>jaime_hernandez@kindermorgan.com</td>\n",
       "      <td>ON DECEMBER 4, 2020 AT APPROXIMATELY 15:00 HRS...</td>\n",
       "      <td>1980s</td>\n",
       "      <td>10&lt;d&lt;=20</td>\n",
       "      <td>None</td>\n",
       "      <td>20884.500000</td>\n",
       "      <td>0.401625</td>\n",
       "      <td>40%-50%</td>\n",
       "      <td>CPC</td>\n",
       "      <td>Not Ignited</td>\n",
       "    </tr>\n",
       "    <tr>\n",
       "      <th>2020</th>\n",
       "      <td>2021-11-30 10:22:41</td>\n",
       "      <td>YES</td>\n",
       "      <td>NO</td>\n",
       "      <td>GT (Gas Transmission)</td>\n",
       "      <td>20210003</td>\n",
       "      <td>35195</td>\n",
       "      <td>2021-01-08 16:31:24</td>\n",
       "      <td>SUPPLEMENTAL FINAL</td>\n",
       "      <td>15518</td>\n",
       "      <td>PIEDMONT NATURAL GAS CO INC</td>\n",
       "      <td>...</td>\n",
       "      <td>farris.berry@duke-energy.com</td>\n",
       "      <td>A THIRD-PARTY CONTRACTOR WAS REPLACING A BRIDG...</td>\n",
       "      <td>2000s</td>\n",
       "      <td>4&lt;d&lt;=10</td>\n",
       "      <td>None</td>\n",
       "      <td>15625.000000</td>\n",
       "      <td>0.372024</td>\n",
       "      <td>30%-40%</td>\n",
       "      <td>None</td>\n",
       "      <td>Not Ignited</td>\n",
       "    </tr>\n",
       "    <tr>\n",
       "      <th>2020</th>\n",
       "      <td>2021-11-30 10:22:41</td>\n",
       "      <td>YES</td>\n",
       "      <td>NO</td>\n",
       "      <td>GT (Gas Transmission)</td>\n",
       "      <td>20210006</td>\n",
       "      <td>34995</td>\n",
       "      <td>2021-01-14 07:59:35</td>\n",
       "      <td>SUPPLEMENTAL FINAL</td>\n",
       "      <td>602</td>\n",
       "      <td>ENABLE GAS TRANSMISSION, LLC</td>\n",
       "      <td>...</td>\n",
       "      <td>casey.roberts@enablemidstream.com</td>\n",
       "      <td>ON DECEMBER 18TH, 2020 AT 15:22 ENABLE GAS TRA...</td>\n",
       "      <td>1940s</td>\n",
       "      <td>10&lt;d&lt;=20</td>\n",
       "      <td>None</td>\n",
       "      <td>7692.307692</td>\n",
       "      <td>0.167224</td>\n",
       "      <td>Less than 20%</td>\n",
       "      <td>None</td>\n",
       "      <td>Not Ignited</td>\n",
       "    </tr>\n",
       "    <tr>\n",
       "      <th>2020</th>\n",
       "      <td>2021-11-30 10:22:41</td>\n",
       "      <td>YES</td>\n",
       "      <td>NO</td>\n",
       "      <td>GT (Gas Transmission)</td>\n",
       "      <td>20210008</td>\n",
       "      <td>34864</td>\n",
       "      <td>2021-01-21 09:37:20</td>\n",
       "      <td>SUPPLEMENTAL FINAL</td>\n",
       "      <td>13750</td>\n",
       "      <td>NORTHERN NATURAL GAS CO</td>\n",
       "      <td>...</td>\n",
       "      <td>thomas.correll@nngco.com</td>\n",
       "      <td>AT 15:19 ON DECEMBER 24, 2020, NORTHERN NATURA...</td>\n",
       "      <td>1960s</td>\n",
       "      <td>20&lt;d&lt;=28</td>\n",
       "      <td>None</td>\n",
       "      <td>30769.230769</td>\n",
       "      <td>0.591716</td>\n",
       "      <td>50%-60%</td>\n",
       "      <td>None</td>\n",
       "      <td>Explosion</td>\n",
       "    </tr>\n",
       "  </tbody>\n",
       "</table>\n",
       "<p>426 rows × 646 columns</p>\n",
       "</div>"
      ],
      "text/plain": [
       "           DATAFILE_AS_OF SIGNIFICANT SERIOUS            SYSTEM_TYPE  \\\n",
       "IYEAR                                                                  \n",
       "2010  2021-11-30 10:22:41         YES      NO  GT (Gas Transmission)   \n",
       "2010  2021-11-30 10:22:41         YES      NO  GT (Gas Transmission)   \n",
       "2010  2021-11-30 10:22:41          NO      NO  GT (Gas Transmission)   \n",
       "2010  2021-11-30 10:22:41         YES      NO  GT (Gas Transmission)   \n",
       "2010  2021-11-30 10:22:41         YES      NO  GT (Gas Transmission)   \n",
       "...                   ...         ...     ...                    ...   \n",
       "2020  2021-11-30 10:22:41         YES      NO  GT (Gas Transmission)   \n",
       "2020  2021-11-30 10:22:41         YES      NO  GT (Gas Transmission)   \n",
       "2020  2021-11-30 10:22:41         YES      NO  GT (Gas Transmission)   \n",
       "2020  2021-11-30 10:22:41         YES      NO  GT (Gas Transmission)   \n",
       "2020  2021-11-30 10:22:41         YES      NO  GT (Gas Transmission)   \n",
       "\n",
       "       REPORT_NUMBER  SUPPLEMENTAL_NUMBER REPORT_RECEIVED_DATE  \\\n",
       "IYEAR                                                            \n",
       "2010        20100002                15077  2010-03-12 14:42:51   \n",
       "2010        20100008                15033  2010-03-31 13:10:18   \n",
       "2010        20100012                15129  2010-04-07 11:27:09   \n",
       "2010        20100013                15036  2010-04-08 11:26:14   \n",
       "2010        20100014                17098  2010-04-09 17:54:38   \n",
       "...              ...                  ...                  ...   \n",
       "2020        20200128                35171  2020-11-24 12:22:19   \n",
       "2020        20200134                35049  2020-12-28 21:30:34   \n",
       "2020        20210003                35195  2021-01-08 16:31:24   \n",
       "2020        20210006                34995  2021-01-14 07:59:35   \n",
       "2020        20210008                34864  2021-01-21 09:37:20   \n",
       "\n",
       "              REPORT_TYPE  OPERATOR_ID  \\\n",
       "IYEAR                                    \n",
       "2010   SUPPLEMENTAL FINAL        18516   \n",
       "2010   SUPPLEMENTAL FINAL         4280   \n",
       "2010   SUPPLEMENTAL FINAL         1007   \n",
       "2010   SUPPLEMENTAL FINAL        12696   \n",
       "2010   SUPPLEMENTAL FINAL        31286   \n",
       "...                   ...          ...   \n",
       "2020   SUPPLEMENTAL FINAL        31159   \n",
       "2020   SUPPLEMENTAL FINAL         4900   \n",
       "2020   SUPPLEMENTAL FINAL        15518   \n",
       "2020   SUPPLEMENTAL FINAL          602   \n",
       "2020   SUPPLEMENTAL FINAL        13750   \n",
       "\n",
       "                                                    NAME  ...  \\\n",
       "IYEAR                                                     ...   \n",
       "2010                             SOUTHERN NATURAL GAS CO  ...   \n",
       "2010                              EL PASO NATURAL GAS CO  ...   \n",
       "2010                   KM INTERSTATE GAS TRANSMISSION CO  ...   \n",
       "2010                        CYPRESS GAS PIPELINE COMPANY  ...   \n",
       "2010                       ONEOK GAS TRANSPORTATION, LLC  ...   \n",
       "...                                                  ...  ...   \n",
       "2020   KANSAS GAS SERVICE COMPANY, A DIVISION OF ONE ...  ...   \n",
       "2020                        KINDER MORGAN TEJAS PIPELINE  ...   \n",
       "2020                         PIEDMONT NATURAL GAS CO INC  ...   \n",
       "2020                        ENABLE GAS TRANSMISSION, LLC  ...   \n",
       "2020                             NORTHERN NATURAL GAS CO  ...   \n",
       "\n",
       "                        AUTHORIZER_EMAIL  \\\n",
       "IYEAR                                      \n",
       "2010               ken.peters@elpaso.com   \n",
       "2010               ken.peters@elpaso.com   \n",
       "2010      bruce_hancock@kindermorgan.com   \n",
       "2010                     ngray@eprod.com   \n",
       "2010             wesley.dunbar@oneok.com   \n",
       "...                                  ...   \n",
       "2020      randalrandy.spector@onegas.com   \n",
       "2020    jaime_hernandez@kindermorgan.com   \n",
       "2020        farris.berry@duke-energy.com   \n",
       "2020   casey.roberts@enablemidstream.com   \n",
       "2020            thomas.correll@nngco.com   \n",
       "\n",
       "                                               NARRATIVE Installation_Decade  \\\n",
       "IYEAR                                                                          \n",
       "2010   ON JANUARY 6 2010 SOUTHERN NATURAL GAS (SNG) C...               1950s   \n",
       "2010   AN ANOMALY INDICATION FROM AN ILI RUN WAS BEIN...               1960s   \n",
       "2010   A METALLURGICAL ANALYSIS OF THE FAILURE WAS CO...               1940s   \n",
       "2010   ON MARCH 22, 2010, LOCAL OPERATING PERSONNEL W...               1950s   \n",
       "2010   ONEOK GAS TRANPORTATION A-26 26INCH PIPELINE R...               1950s   \n",
       "...                                                  ...                 ...   \n",
       "2020   A 3RD PARTY CONTRACTOR MOVING DIRT WITH A SCRA...               1950s   \n",
       "2020   ON DECEMBER 4, 2020 AT APPROXIMATELY 15:00 HRS...               1980s   \n",
       "2020   A THIRD-PARTY CONTRACTOR WAS REPLACING A BRIDG...               2000s   \n",
       "2020   ON DECEMBER 18TH, 2020 AT 15:22 ENABLE GAS TRA...               1940s   \n",
       "2020   AT 15:19 ON DECEMBER 24, 2020, NORTHERN NATURA...               1960s   \n",
       "\n",
       "      Diameter_Range SMYS_Range   Hoop_Stress     SMYS%       SMYS_Cat  \\\n",
       "IYEAR                                                                    \n",
       "2010        20<d<=28       None  36000.000000  0.692308        60%-72%   \n",
       "2010            28<d       None  28938.356164  0.556507        50%-60%   \n",
       "2010        10<d<=20       None  23040.000000  0.658286        60%-72%   \n",
       "2010        10<d<=20       None  21000.000000  0.500000        40%-50%   \n",
       "2010        20<d<=28       None  31200.000000  0.600000        50%-60%   \n",
       "...              ...        ...           ...       ...            ...   \n",
       "2020         4<d<=10       None   4357.594937  0.181566  Less than 20%   \n",
       "2020        10<d<=20       None  20884.500000  0.401625        40%-50%   \n",
       "2020         4<d<=10       None  15625.000000  0.372024        30%-40%   \n",
       "2020        10<d<=20       None   7692.307692  0.167224  Less than 20%   \n",
       "2020        20<d<=28       None  30769.230769  0.591716        50%-60%   \n",
       "\n",
       "       CP_Types      ign_expl  \n",
       "IYEAR                          \n",
       "2010        CPC   Not Ignited  \n",
       "2010       None   Not Ignited  \n",
       "2010       None   Not Ignited  \n",
       "2010        CPC   Not Ignited  \n",
       "2010        CPC  Ignited Only  \n",
       "...         ...           ...  \n",
       "2020       None   Not Ignited  \n",
       "2020        CPC   Not Ignited  \n",
       "2020       None   Not Ignited  \n",
       "2020       None   Not Ignited  \n",
       "2020       None     Explosion  \n",
       "\n",
       "[426 rows x 646 columns]"
      ]
     },
     "execution_count": 806,
     "metadata": {},
     "output_type": "execute_result"
    }
   ],
   "source": [
    "incident_df"
   ]
  },
  {
   "cell_type": "code",
   "execution_count": null,
   "metadata": {},
   "outputs": [],
   "source": []
  }
 ],
 "metadata": {
  "kernelspec": {
   "display_name": "Python 3",
   "language": "python",
   "name": "python3"
  },
  "language_info": {
   "codemirror_mode": {
    "name": "ipython",
    "version": 3
   },
   "file_extension": ".py",
   "mimetype": "text/x-python",
   "name": "python",
   "nbconvert_exporter": "python",
   "pygments_lexer": "ipython3",
   "version": "3.8.5"
  }
 },
 "nbformat": 4,
 "nbformat_minor": 4
}
